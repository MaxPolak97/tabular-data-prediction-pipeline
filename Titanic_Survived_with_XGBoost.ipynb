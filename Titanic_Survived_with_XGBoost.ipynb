{
  "cells": [
    {
      "cell_type": "markdown",
      "metadata": {
        "id": "rtamZsh_4Vbg"
      },
      "source": [
        "<a href=\"https://colab.research.google.com/github/wandb/examples/blob/master/colabs/boosting/Credit_Scorecards_with_XGBoost_and_W&B.ipynb\" target=\"_parent\"><img src=\"https://colab.research.google.com/assets/colab-badge.svg\" alt=\"Open In Colab\"/></a>\n",
        "<!--- @wandbcode{xgboost_vehicle_loan_default} -->"
      ]
    },
    {
      "cell_type": "markdown",
      "metadata": {
        "id": "5GJVDKsB4Vbp"
      },
      "source": [
        "<img src=\"http://wandb.me/logo-im-png\" width=\"400\" alt=\"Weights & Biases\" /><br>\n",
        "\n",
        "<!--- @wandbcode{xgboost_vehicle_loan_default} -->\n",
        "\n",
        "<img src=\"http://wandb.me/mini-diagram\" width=\"600\" alt=\"Weights & Biases\" />"
      ]
    },
    {
      "cell_type": "markdown",
      "metadata": {
        "id": "nwNjUHAU4Vbs"
      },
      "source": [
        "# In this notebook\n",
        "\n",
        "In this colab we'll cover how Weights and Biases enables regulated entities to\n",
        "- **Track and version** their data ETL pipelines (locally or in cloud services such as S3 and GCS)\n",
        "- **Track experiment results** and store trained models\n",
        "- **Visually inspect** multiple evaluation metrics\n",
        "- **Optimize performance** with hyperparameter sweeps"
      ]
    },
    {
      "cell_type": "markdown",
      "metadata": {
        "id": "IGPzYCCI4VeA"
      },
      "source": [
        "# Setup"
      ]
    },
    {
      "cell_type": "code",
      "execution_count": 1,
      "metadata": {
        "id": "J7XgY8mG4VeD"
      },
      "outputs": [],
      "source": [
        "import wandb\n",
        "from pathlib import Path\n",
        "import numpy as np\n",
        "import sys\n",
        "import os\n",
        "import pandas as pd\n",
        "from sklearn import model_selection\n",
        "import xgboost as xgb\n"
      ]
    },
    {
      "cell_type": "markdown",
      "metadata": {
        "id": "Q_BsezdX4VeF"
      },
      "source": [
        "## Login to W&B\n",
        "Login to Weights and Biases"
      ]
    },
    {
      "cell_type": "code",
      "execution_count": 2,
      "metadata": {
        "id": "KhBffvE44VeG"
      },
      "outputs": [],
      "source": [
        "import wandb\n",
        "\n",
        "WANDB_PROJECT ='titanic_survived'\n",
        "os.environ['WANDB_NOTEBOOK_NAME'] = 'Titanic_Survived_with_XGBoost.ipynb'"
      ]
    },
    {
      "cell_type": "code",
      "execution_count": 3,
      "metadata": {
        "id": "Lr3P9EzA4VeG"
      },
      "outputs": [
        {
          "name": "stderr",
          "output_type": "stream",
          "text": [
            "\u001b[34m\u001b[1mwandb\u001b[0m: Currently logged in as: \u001b[33mmax-deep\u001b[0m. Use \u001b[1m`wandb login --relogin`\u001b[0m to force relogin\n"
          ]
        },
        {
          "data": {
            "text/plain": [
              "True"
            ]
          },
          "execution_count": 3,
          "metadata": {},
          "output_type": "execute_result"
        }
      ],
      "source": [
        "wandb.login()"
      ]
    },
    {
      "cell_type": "markdown",
      "metadata": {
        "id": "1pfN77Zt4VeH"
      },
      "source": [
        "#### Upload Data with W&B Artifacts"
      ]
    },
    {
      "cell_type": "code",
      "execution_count": 6,
      "metadata": {
        "id": "2NHdhY0I4VeH"
      },
      "outputs": [
        {
          "data": {
            "text/html": [
              "Changes to your `wandb` environment variables will be ignored because your `wandb` session has already started. For more information on how to modify your settings with `wandb.init()` arguments, please refer to <a href='https://wandb.me/wandb-init' target=\"_blank\">the W&B docs</a>."
            ],
            "text/plain": [
              "<IPython.core.display.HTML object>"
            ]
          },
          "metadata": {},
          "output_type": "display_data"
        },
        {
          "data": {
            "text/html": [
              "wandb version 0.15.12 is available!  To upgrade, please run:\n",
              " $ pip install wandb --upgrade"
            ],
            "text/plain": [
              "<IPython.core.display.HTML object>"
            ]
          },
          "metadata": {},
          "output_type": "display_data"
        },
        {
          "data": {
            "text/html": [
              "Tracking run with wandb version 0.15.11"
            ],
            "text/plain": [
              "<IPython.core.display.HTML object>"
            ]
          },
          "metadata": {},
          "output_type": "display_data"
        },
        {
          "data": {
            "text/html": [
              "Run data is saved locally in <code>c:\\Users\\Maxpo\\Documents\\GitHub\\tabular-data-prediction-pipeline\\wandb\\run-20231005_082209-eboi5vey</code>"
            ],
            "text/plain": [
              "<IPython.core.display.HTML object>"
            ]
          },
          "metadata": {},
          "output_type": "display_data"
        },
        {
          "data": {
            "text/html": [
              "Syncing run <strong><a href='https://wandb.ai/max-deep/titanic_survived/runs/eboi5vey' target=\"_blank\">clear-frog-1</a></strong> to <a href='https://wandb.ai/max-deep/titanic_survived' target=\"_blank\">Weights & Biases</a> (<a href='https://wandb.me/run' target=\"_blank\">docs</a>)<br/>"
            ],
            "text/plain": [
              "<IPython.core.display.HTML object>"
            ]
          },
          "metadata": {},
          "output_type": "display_data"
        },
        {
          "data": {
            "text/html": [
              " View project at <a href='https://wandb.ai/max-deep/titanic_survived' target=\"_blank\">https://wandb.ai/max-deep/titanic_survived</a>"
            ],
            "text/plain": [
              "<IPython.core.display.HTML object>"
            ]
          },
          "metadata": {},
          "output_type": "display_data"
        },
        {
          "data": {
            "text/html": [
              " View run at <a href='https://wandb.ai/max-deep/titanic_survived/runs/eboi5vey' target=\"_blank\">https://wandb.ai/max-deep/titanic_survived/runs/eboi5vey</a>"
            ],
            "text/plain": [
              "<IPython.core.display.HTML object>"
            ]
          },
          "metadata": {},
          "output_type": "display_data"
        }
      ],
      "source": [
        "run = wandb.init(project=WANDB_PROJECT, job_type='add-dataset')"
      ]
    },
    {
      "cell_type": "markdown",
      "metadata": {
        "id": "Z5e7glLC4VeI"
      },
      "source": [
        "Download the subset of the vehicle loan default data from W&B, this contains `train.csv` and `val.csv` files as well as some utils files."
      ]
    },
    {
      "cell_type": "code",
      "execution_count": 7,
      "metadata": {
        "id": "b0ypa0hK4VeI"
      },
      "outputs": [
        {
          "name": "stderr",
          "output_type": "stream",
          "text": [
            "\u001b[34m\u001b[1mwandb\u001b[0m: Adding directory to artifact (.\\titanic)... Done. 0.1s\n"
          ]
        },
        {
          "data": {
            "text/plain": [
              "<Artifact titanic-dataset>"
            ]
          },
          "execution_count": 7,
          "metadata": {},
          "output_type": "execute_result"
        }
      ],
      "source": [
        "artifact = wandb.Artifact(name=\"titanic-dataset\", type=\"dataset\")\n",
        "artifact.add_dir(local_path=\"./titanic\")  # Add dataset directory to artifact\n",
        "run.log_artifact(artifact)"
      ]
    },
    {
      "cell_type": "code",
      "execution_count": 8,
      "metadata": {},
      "outputs": [
        {
          "data": {
            "text/html": [
              "Waiting for W&B process to finish... <strong style=\"color:green\">(success).</strong>"
            ],
            "text/plain": [
              "<IPython.core.display.HTML object>"
            ]
          },
          "metadata": {},
          "output_type": "display_data"
        },
        {
          "data": {
            "text/html": [
              " View run <strong style=\"color:#cdcd00\">clear-frog-1</strong> at: <a href='https://wandb.ai/max-deep/titanic_survived/runs/eboi5vey' target=\"_blank\">https://wandb.ai/max-deep/titanic_survived/runs/eboi5vey</a><br/>Synced 5 W&B file(s), 0 media file(s), 3 artifact file(s) and 0 other file(s)"
            ],
            "text/plain": [
              "<IPython.core.display.HTML object>"
            ]
          },
          "metadata": {},
          "output_type": "display_data"
        },
        {
          "data": {
            "text/html": [
              "Find logs at: <code>.\\wandb\\run-20231005_082209-eboi5vey\\logs</code>"
            ],
            "text/plain": [
              "<IPython.core.display.HTML object>"
            ]
          },
          "metadata": {},
          "output_type": "display_data"
        }
      ],
      "source": [
        "run.finish()"
      ]
    },
    {
      "cell_type": "markdown",
      "metadata": {
        "id": "0wOSDiaW4VeK"
      },
      "source": [
        "## Get Train/Validation Split\n",
        "\n",
        "Here we show an alternative pattern for how to create a wandb run object. In the cell below, the code to split the dataset is wrapped with a call to `wandb.init() as run`.\n",
        "\n",
        "Here we will:\n",
        "\n",
        "- Start a wandb run\n",
        "- Download our one-hot-encoded dataset from Artifacts\n",
        "- Do the Train/Val split and log the params used in the split\n",
        "- Log the new `trndat` and `valdat` datasets to Artifacts\n",
        "- Finish the wandb run automatically"
      ]
    },
    {
      "cell_type": "code",
      "execution_count": 12,
      "metadata": {},
      "outputs": [],
      "source": [
        "target = 'Survived'"
      ]
    },
    {
      "cell_type": "code",
      "execution_count": 14,
      "metadata": {
        "id": "ck2FpJT44VeK"
      },
      "outputs": [
        {
          "data": {
            "text/html": [
              "Changes to your `wandb` environment variables will be ignored because your `wandb` session has already started. For more information on how to modify your settings with `wandb.init()` arguments, please refer to <a href='https://wandb.me/wandb-init' target=\"_blank\">the W&B docs</a>."
            ],
            "text/plain": [
              "<IPython.core.display.HTML object>"
            ]
          },
          "metadata": {},
          "output_type": "display_data"
        },
        {
          "data": {
            "text/html": [
              "wandb version 0.15.12 is available!  To upgrade, please run:\n",
              " $ pip install wandb --upgrade"
            ],
            "text/plain": [
              "<IPython.core.display.HTML object>"
            ]
          },
          "metadata": {},
          "output_type": "display_data"
        },
        {
          "data": {
            "text/html": [
              "Tracking run with wandb version 0.15.11"
            ],
            "text/plain": [
              "<IPython.core.display.HTML object>"
            ]
          },
          "metadata": {},
          "output_type": "display_data"
        },
        {
          "data": {
            "text/html": [
              "Run data is saved locally in <code>c:\\Users\\Maxpo\\Documents\\GitHub\\tabular-data-prediction-pipeline\\wandb\\run-20231005_083957-vj73slf8</code>"
            ],
            "text/plain": [
              "<IPython.core.display.HTML object>"
            ]
          },
          "metadata": {},
          "output_type": "display_data"
        },
        {
          "data": {
            "text/html": [
              "Syncing run <strong><a href='https://wandb.ai/max-deep/titanic_survived/runs/vj73slf8' target=\"_blank\">cosmic-pine-3</a></strong> to <a href='https://wandb.ai/max-deep/titanic_survived' target=\"_blank\">Weights & Biases</a> (<a href='https://wandb.me/run' target=\"_blank\">docs</a>)<br/>"
            ],
            "text/plain": [
              "<IPython.core.display.HTML object>"
            ]
          },
          "metadata": {},
          "output_type": "display_data"
        },
        {
          "data": {
            "text/html": [
              " View project at <a href='https://wandb.ai/max-deep/titanic_survived' target=\"_blank\">https://wandb.ai/max-deep/titanic_survived</a>"
            ],
            "text/plain": [
              "<IPython.core.display.HTML object>"
            ]
          },
          "metadata": {},
          "output_type": "display_data"
        },
        {
          "data": {
            "text/html": [
              " View run at <a href='https://wandb.ai/max-deep/titanic_survived/runs/vj73slf8' target=\"_blank\">https://wandb.ai/max-deep/titanic_survived/runs/vj73slf8</a>"
            ],
            "text/plain": [
              "<IPython.core.display.HTML object>"
            ]
          },
          "metadata": {},
          "output_type": "display_data"
        },
        {
          "name": "stderr",
          "output_type": "stream",
          "text": [
            "\u001b[34m\u001b[1mwandb\u001b[0m:   3 of 3 files downloaded.  \n"
          ]
        },
        {
          "name": "stdout",
          "output_type": "stream",
          "text": [
            "Train dataset size: Survived\n",
            "0    439\n",
            "1    273\n",
            "Name: count, dtype: int64 \n",
            "\n",
            "Validation dataset sizeL Survived\n",
            "0    110\n",
            "1     69\n",
            "Name: count, dtype: int64\n"
          ]
        },
        {
          "data": {
            "text/html": [
              "Waiting for W&B process to finish... <strong style=\"color:green\">(success).</strong>"
            ],
            "text/plain": [
              "<IPython.core.display.HTML object>"
            ]
          },
          "metadata": {},
          "output_type": "display_data"
        },
        {
          "data": {
            "text/html": [
              " View run <strong style=\"color:#cdcd00\">cosmic-pine-3</strong> at: <a href='https://wandb.ai/max-deep/titanic_survived/runs/vj73slf8' target=\"_blank\">https://wandb.ai/max-deep/titanic_survived/runs/vj73slf8</a><br/>Synced 5 W&B file(s), 0 media file(s), 2 artifact file(s) and 0 other file(s)"
            ],
            "text/plain": [
              "<IPython.core.display.HTML object>"
            ]
          },
          "metadata": {},
          "output_type": "display_data"
        },
        {
          "data": {
            "text/html": [
              "Find logs at: <code>.\\wandb\\run-20231005_083957-vj73slf8\\logs</code>"
            ],
            "text/plain": [
              "<IPython.core.display.HTML object>"
            ]
          },
          "metadata": {},
          "output_type": "display_data"
        }
      ],
      "source": [
        "with wandb.init(project=WANDB_PROJECT, job_type='train-val-split') as run:     # config is optional here\n",
        "\n",
        "    # Download the subset of the vehicle loan default data from W&B\n",
        "    dataset_art = run.use_artifact('max-deep/titanic_survived/titanic-dataset:v0', type='dataset')\n",
        "    root_dir = Path(sys.path[0])  # get this notebook path\n",
        "    data_dir = root_dir / 'dataset'\n",
        "    data_dir.mkdir(exist_ok=True)\n",
        "    \n",
        "    dataset_dir = dataset_art.download(data_dir)\n",
        "    dataset = pd.read_csv(f'{data_dir}/train.csv')\n",
        "\n",
        "    # Set Split Params\n",
        "    test_size = 0.20\n",
        "    random_state = 42\n",
        "\n",
        "    # Log the splilt params\n",
        "    run.config.update({'test_size':test_size, 'random_state': random_state})\n",
        "\n",
        "    # Do the Train/Val Split\n",
        "    trndat, valdat = model_selection.train_test_split(dataset, test_size=test_size,\n",
        "                                                      random_state=random_state, stratify=dataset[[target]])\n",
        "\n",
        "    print(f'Train dataset size: {trndat[target].value_counts()} \\n')\n",
        "    print(f'Validation dataset sizeL {valdat[target].value_counts()}')\n",
        "\n",
        "    # Save split datasets\n",
        "    data_split_dir = root_dir / 'split-dataset'\n",
        "    data_split_dir.mkdir(exist_ok=True)\n",
        "    train_path = data_split_dir/'train.csv'\n",
        "    val_path = data_split_dir/'val.csv'\n",
        "    trndat.to_csv(train_path, index=False)\n",
        "    valdat.to_csv(val_path, index=False)\n",
        "\n",
        "    # Create a new artifact for the processed data, including the function that created it, to Artifacts\n",
        "    split_ds_art = wandb.Artifact(name='titanic-dataset-split',\n",
        "                                        type='train-val-dataset',\n",
        "                                        description='Processed dataset split into training and validation sets',\n",
        "                                        metadata={'test_size': test_size, 'random_state': random_state}\n",
        "                                     )\n",
        "\n",
        "    # Attach our processed data to the Artifact\n",
        "    split_ds_art.add_file(train_path)\n",
        "    split_ds_art.add_file(val_path)\n",
        "\n",
        "    # Log the Artifact\n",
        "    run.log_artifact(split_ds_art)"
      ]
    },
    {
      "cell_type": "markdown",
      "metadata": {
        "id": "cizAAVFS4VeL"
      },
      "source": [
        "#### Inspect Training Dataset\n",
        "Get an overview of the training dataset"
      ]
    },
    {
      "cell_type": "code",
      "execution_count": 3,
      "metadata": {
        "id": "ScQHqw_Q4VeL"
      },
      "outputs": [
        {
          "data": {
            "text/html": [
              "<div>\n",
              "<style scoped>\n",
              "    .dataframe tbody tr th:only-of-type {\n",
              "        vertical-align: middle;\n",
              "    }\n",
              "\n",
              "    .dataframe tbody tr th {\n",
              "        vertical-align: top;\n",
              "    }\n",
              "\n",
              "    .dataframe thead th {\n",
              "        text-align: right;\n",
              "    }\n",
              "</style>\n",
              "<table border=\"1\" class=\"dataframe\">\n",
              "  <thead>\n",
              "    <tr style=\"text-align: right;\">\n",
              "      <th></th>\n",
              "      <th>PassengerId</th>\n",
              "      <th>Survived</th>\n",
              "      <th>Pclass</th>\n",
              "      <th>Name</th>\n",
              "      <th>Sex</th>\n",
              "      <th>Age</th>\n",
              "      <th>SibSp</th>\n",
              "      <th>Parch</th>\n",
              "      <th>Ticket</th>\n",
              "      <th>Fare</th>\n",
              "      <th>Cabin</th>\n",
              "      <th>Embarked</th>\n",
              "    </tr>\n",
              "  </thead>\n",
              "  <tbody>\n",
              "    <tr>\n",
              "      <th>0</th>\n",
              "      <td>1</td>\n",
              "      <td>0</td>\n",
              "      <td>3</td>\n",
              "      <td>Braund, Mr. Owen Harris</td>\n",
              "      <td>male</td>\n",
              "      <td>22.0</td>\n",
              "      <td>1</td>\n",
              "      <td>0</td>\n",
              "      <td>A/5 21171</td>\n",
              "      <td>7.2500</td>\n",
              "      <td>NaN</td>\n",
              "      <td>S</td>\n",
              "    </tr>\n",
              "    <tr>\n",
              "      <th>1</th>\n",
              "      <td>2</td>\n",
              "      <td>1</td>\n",
              "      <td>1</td>\n",
              "      <td>Cumings, Mrs. John Bradley (Florence Briggs Th...</td>\n",
              "      <td>female</td>\n",
              "      <td>38.0</td>\n",
              "      <td>1</td>\n",
              "      <td>0</td>\n",
              "      <td>PC 17599</td>\n",
              "      <td>71.2833</td>\n",
              "      <td>C85</td>\n",
              "      <td>C</td>\n",
              "    </tr>\n",
              "    <tr>\n",
              "      <th>2</th>\n",
              "      <td>3</td>\n",
              "      <td>1</td>\n",
              "      <td>3</td>\n",
              "      <td>Heikkinen, Miss. Laina</td>\n",
              "      <td>female</td>\n",
              "      <td>26.0</td>\n",
              "      <td>0</td>\n",
              "      <td>0</td>\n",
              "      <td>STON/O2. 3101282</td>\n",
              "      <td>7.9250</td>\n",
              "      <td>NaN</td>\n",
              "      <td>S</td>\n",
              "    </tr>\n",
              "    <tr>\n",
              "      <th>3</th>\n",
              "      <td>4</td>\n",
              "      <td>1</td>\n",
              "      <td>1</td>\n",
              "      <td>Futrelle, Mrs. Jacques Heath (Lily May Peel)</td>\n",
              "      <td>female</td>\n",
              "      <td>35.0</td>\n",
              "      <td>1</td>\n",
              "      <td>0</td>\n",
              "      <td>113803</td>\n",
              "      <td>53.1000</td>\n",
              "      <td>C123</td>\n",
              "      <td>S</td>\n",
              "    </tr>\n",
              "    <tr>\n",
              "      <th>4</th>\n",
              "      <td>5</td>\n",
              "      <td>0</td>\n",
              "      <td>3</td>\n",
              "      <td>Allen, Mr. William Henry</td>\n",
              "      <td>male</td>\n",
              "      <td>35.0</td>\n",
              "      <td>0</td>\n",
              "      <td>0</td>\n",
              "      <td>373450</td>\n",
              "      <td>8.0500</td>\n",
              "      <td>NaN</td>\n",
              "      <td>S</td>\n",
              "    </tr>\n",
              "  </tbody>\n",
              "</table>\n",
              "</div>"
            ],
            "text/plain": [
              "   PassengerId  Survived  Pclass  \\\n",
              "0            1         0       3   \n",
              "1            2         1       1   \n",
              "2            3         1       3   \n",
              "3            4         1       1   \n",
              "4            5         0       3   \n",
              "\n",
              "                                                Name     Sex   Age  SibSp  \\\n",
              "0                            Braund, Mr. Owen Harris    male  22.0      1   \n",
              "1  Cumings, Mrs. John Bradley (Florence Briggs Th...  female  38.0      1   \n",
              "2                             Heikkinen, Miss. Laina  female  26.0      0   \n",
              "3       Futrelle, Mrs. Jacques Heath (Lily May Peel)  female  35.0      1   \n",
              "4                           Allen, Mr. William Henry    male  35.0      0   \n",
              "\n",
              "   Parch            Ticket     Fare Cabin Embarked  \n",
              "0      0         A/5 21171   7.2500   NaN        S  \n",
              "1      0          PC 17599  71.2833   C85        C  \n",
              "2      0  STON/O2. 3101282   7.9250   NaN        S  \n",
              "3      0            113803  53.1000  C123        S  \n",
              "4      0            373450   8.0500   NaN        S  "
            ]
          },
          "execution_count": 3,
          "metadata": {},
          "output_type": "execute_result"
        }
      ],
      "source": [
        "# Read our CSV into a new DataFrame\n",
        "train_df = pd.read_csv(\"dataset/train.csv\")\n",
        "train_df.head()"
      ]
    },
    {
      "cell_type": "code",
      "execution_count": 4,
      "metadata": {},
      "outputs": [
        {
          "data": {
            "text/html": [
              "<div>\n",
              "<style scoped>\n",
              "    .dataframe tbody tr th:only-of-type {\n",
              "        vertical-align: middle;\n",
              "    }\n",
              "\n",
              "    .dataframe tbody tr th {\n",
              "        vertical-align: top;\n",
              "    }\n",
              "\n",
              "    .dataframe thead th {\n",
              "        text-align: right;\n",
              "    }\n",
              "</style>\n",
              "<table border=\"1\" class=\"dataframe\">\n",
              "  <thead>\n",
              "    <tr style=\"text-align: right;\">\n",
              "      <th></th>\n",
              "      <th>PassengerId</th>\n",
              "      <th>Survived</th>\n",
              "      <th>Pclass</th>\n",
              "      <th>Age</th>\n",
              "      <th>SibSp</th>\n",
              "      <th>Parch</th>\n",
              "      <th>Fare</th>\n",
              "    </tr>\n",
              "  </thead>\n",
              "  <tbody>\n",
              "    <tr>\n",
              "      <th>count</th>\n",
              "      <td>891.000000</td>\n",
              "      <td>891.000000</td>\n",
              "      <td>891.000000</td>\n",
              "      <td>714.000000</td>\n",
              "      <td>891.000000</td>\n",
              "      <td>891.000000</td>\n",
              "      <td>891.000000</td>\n",
              "    </tr>\n",
              "    <tr>\n",
              "      <th>mean</th>\n",
              "      <td>446.000000</td>\n",
              "      <td>0.383838</td>\n",
              "      <td>2.308642</td>\n",
              "      <td>29.699118</td>\n",
              "      <td>0.523008</td>\n",
              "      <td>0.381594</td>\n",
              "      <td>32.204208</td>\n",
              "    </tr>\n",
              "    <tr>\n",
              "      <th>std</th>\n",
              "      <td>257.353842</td>\n",
              "      <td>0.486592</td>\n",
              "      <td>0.836071</td>\n",
              "      <td>14.526497</td>\n",
              "      <td>1.102743</td>\n",
              "      <td>0.806057</td>\n",
              "      <td>49.693429</td>\n",
              "    </tr>\n",
              "    <tr>\n",
              "      <th>min</th>\n",
              "      <td>1.000000</td>\n",
              "      <td>0.000000</td>\n",
              "      <td>1.000000</td>\n",
              "      <td>0.420000</td>\n",
              "      <td>0.000000</td>\n",
              "      <td>0.000000</td>\n",
              "      <td>0.000000</td>\n",
              "    </tr>\n",
              "    <tr>\n",
              "      <th>25%</th>\n",
              "      <td>223.500000</td>\n",
              "      <td>0.000000</td>\n",
              "      <td>2.000000</td>\n",
              "      <td>20.125000</td>\n",
              "      <td>0.000000</td>\n",
              "      <td>0.000000</td>\n",
              "      <td>7.910400</td>\n",
              "    </tr>\n",
              "    <tr>\n",
              "      <th>50%</th>\n",
              "      <td>446.000000</td>\n",
              "      <td>0.000000</td>\n",
              "      <td>3.000000</td>\n",
              "      <td>28.000000</td>\n",
              "      <td>0.000000</td>\n",
              "      <td>0.000000</td>\n",
              "      <td>14.454200</td>\n",
              "    </tr>\n",
              "    <tr>\n",
              "      <th>75%</th>\n",
              "      <td>668.500000</td>\n",
              "      <td>1.000000</td>\n",
              "      <td>3.000000</td>\n",
              "      <td>38.000000</td>\n",
              "      <td>1.000000</td>\n",
              "      <td>0.000000</td>\n",
              "      <td>31.000000</td>\n",
              "    </tr>\n",
              "    <tr>\n",
              "      <th>max</th>\n",
              "      <td>891.000000</td>\n",
              "      <td>1.000000</td>\n",
              "      <td>3.000000</td>\n",
              "      <td>80.000000</td>\n",
              "      <td>8.000000</td>\n",
              "      <td>6.000000</td>\n",
              "      <td>512.329200</td>\n",
              "    </tr>\n",
              "  </tbody>\n",
              "</table>\n",
              "</div>"
            ],
            "text/plain": [
              "       PassengerId    Survived      Pclass         Age       SibSp  \\\n",
              "count   891.000000  891.000000  891.000000  714.000000  891.000000   \n",
              "mean    446.000000    0.383838    2.308642   29.699118    0.523008   \n",
              "std     257.353842    0.486592    0.836071   14.526497    1.102743   \n",
              "min       1.000000    0.000000    1.000000    0.420000    0.000000   \n",
              "25%     223.500000    0.000000    2.000000   20.125000    0.000000   \n",
              "50%     446.000000    0.000000    3.000000   28.000000    0.000000   \n",
              "75%     668.500000    1.000000    3.000000   38.000000    1.000000   \n",
              "max     891.000000    1.000000    3.000000   80.000000    8.000000   \n",
              "\n",
              "            Parch        Fare  \n",
              "count  891.000000  891.000000  \n",
              "mean     0.381594   32.204208  \n",
              "std      0.806057   49.693429  \n",
              "min      0.000000    0.000000  \n",
              "25%      0.000000    7.910400  \n",
              "50%      0.000000   14.454200  \n",
              "75%      0.000000   31.000000  \n",
              "max      6.000000  512.329200  "
            ]
          },
          "execution_count": 4,
          "metadata": {},
          "output_type": "execute_result"
        }
      ],
      "source": [
        "train_df.describe()"
      ]
    },
    {
      "cell_type": "code",
      "execution_count": 5,
      "metadata": {},
      "outputs": [
        {
          "data": {
            "text/plain": [
              "PassengerId      0\n",
              "Survived         0\n",
              "Pclass           0\n",
              "Name             0\n",
              "Sex              0\n",
              "Age            177\n",
              "SibSp            0\n",
              "Parch            0\n",
              "Ticket           0\n",
              "Fare             0\n",
              "Cabin          687\n",
              "Embarked         2\n",
              "dtype: int64"
            ]
          },
          "execution_count": 5,
          "metadata": {},
          "output_type": "execute_result"
        }
      ],
      "source": [
        "# Counting NaN values in all columns\n",
        "train_df.isna().sum()"
      ]
    },
    {
      "cell_type": "code",
      "execution_count": 6,
      "metadata": {},
      "outputs": [
        {
          "data": {
            "text/plain": [
              "Survived\n",
              "0    549\n",
              "1    342\n",
              "Name: count, dtype: int64"
            ]
          },
          "execution_count": 6,
          "metadata": {},
          "output_type": "execute_result"
        }
      ],
      "source": [
        "train_df['Survived'].value_counts()"
      ]
    },
    {
      "cell_type": "markdown",
      "metadata": {
        "id": "LRpA_KUA4VeL"
      },
      "source": [
        "### Log Dataset with W&B Tables\n",
        "\n",
        "With W&B Tables you can log, query, and analyze tabular data that contains rich media such as images, video, audio and more. With it you can understand your datasets, visualize model predictions, and share insights, for more see more in our [W&B Tables Guide](https://docs.wandb.ai/guides/data-vis)"
      ]
    },
    {
      "cell_type": "code",
      "execution_count": 10,
      "metadata": {
        "id": "nA9gt51f4VeL"
      },
      "outputs": [
        {
          "data": {
            "text/html": [
              "wandb version 0.15.12 is available!  To upgrade, please run:\n",
              " $ pip install wandb --upgrade"
            ],
            "text/plain": [
              "<IPython.core.display.HTML object>"
            ]
          },
          "metadata": {},
          "output_type": "display_data"
        },
        {
          "data": {
            "text/html": [
              "Tracking run with wandb version 0.15.11"
            ],
            "text/plain": [
              "<IPython.core.display.HTML object>"
            ]
          },
          "metadata": {},
          "output_type": "display_data"
        },
        {
          "data": {
            "text/html": [
              "Run data is saved locally in <code>c:\\Users\\Maxpo\\Documents\\GitHub\\tabular-data-prediction-pipeline\\wandb\\run-20231005_091128-lwpgncaf</code>"
            ],
            "text/plain": [
              "<IPython.core.display.HTML object>"
            ]
          },
          "metadata": {},
          "output_type": "display_data"
        },
        {
          "data": {
            "text/html": [
              "Syncing run <strong><a href='https://wandb.ai/max-deep/titanic_survived/runs/lwpgncaf' target=\"_blank\">winter-mountain-5</a></strong> to <a href='https://wandb.ai/max-deep/titanic_survived' target=\"_blank\">Weights & Biases</a> (<a href='https://wandb.me/run' target=\"_blank\">docs</a>)<br/>"
            ],
            "text/plain": [
              "<IPython.core.display.HTML object>"
            ]
          },
          "metadata": {},
          "output_type": "display_data"
        },
        {
          "data": {
            "text/html": [
              " View project at <a href='https://wandb.ai/max-deep/titanic_survived' target=\"_blank\">https://wandb.ai/max-deep/titanic_survived</a>"
            ],
            "text/plain": [
              "<IPython.core.display.HTML object>"
            ]
          },
          "metadata": {},
          "output_type": "display_data"
        },
        {
          "data": {
            "text/html": [
              " View run at <a href='https://wandb.ai/max-deep/titanic_survived/runs/lwpgncaf' target=\"_blank\">https://wandb.ai/max-deep/titanic_survived/runs/lwpgncaf</a>"
            ],
            "text/plain": [
              "<IPython.core.display.HTML object>"
            ]
          },
          "metadata": {},
          "output_type": "display_data"
        },
        {
          "data": {
            "text/html": [
              "Waiting for W&B process to finish... <strong style=\"color:green\">(success).</strong>"
            ],
            "text/plain": [
              "<IPython.core.display.HTML object>"
            ]
          },
          "metadata": {},
          "output_type": "display_data"
        },
        {
          "data": {
            "text/html": [
              " View run <strong style=\"color:#cdcd00\">winter-mountain-5</strong> at: <a href='https://wandb.ai/max-deep/titanic_survived/runs/lwpgncaf' target=\"_blank\">https://wandb.ai/max-deep/titanic_survived/runs/lwpgncaf</a><br/> View job at <a href='https://wandb.ai/max-deep/titanic_survived/jobs/QXJ0aWZhY3RDb2xsZWN0aW9uOjEwNDM2NDk3MA==/version_details/v0' target=\"_blank\">https://wandb.ai/max-deep/titanic_survived/jobs/QXJ0aWZhY3RDb2xsZWN0aW9uOjEwNDM2NDk3MA==/version_details/v0</a><br/>Synced 4 W&B file(s), 1 media file(s), 3 artifact file(s) and 0 other file(s)"
            ],
            "text/plain": [
              "<IPython.core.display.HTML object>"
            ]
          },
          "metadata": {},
          "output_type": "display_data"
        },
        {
          "data": {
            "text/html": [
              "Find logs at: <code>.\\wandb\\run-20231005_091128-lwpgncaf\\logs</code>"
            ],
            "text/plain": [
              "<IPython.core.display.HTML object>"
            ]
          },
          "metadata": {},
          "output_type": "display_data"
        }
      ],
      "source": [
        "# Create a wandb run, with an optional \"log-dataset\" job type to keep things tidy\n",
        "run = wandb.init(project=WANDB_PROJECT, job_type='log-dataset')  # config is optional here\n",
        "\n",
        "# Create a W&B Table and log 1000 random rows of the dataset to explore\n",
        "table = wandb.Table(dataframe=train_df.sample(100))\n",
        "\n",
        "# Log the Table to your W&B workspace\n",
        "wandb.log({'sample-dataset': table})\n",
        "\n",
        "# Close the wandb run\n",
        "wandb.finish()"
      ]
    },
    {
      "cell_type": "markdown",
      "metadata": {
        "id": "VmKDrF-z4VeM"
      },
      "source": [
        "# Modelling"
      ]
    },
    {
      "cell_type": "markdown",
      "metadata": {
        "id": "7W5JsRJs4VeT"
      },
      "source": [
        "## Fit the XGBoost Model\n",
        "\n",
        "We will now fit an XGBoost model to classify whether a vehicle loan application will result in a default or not\n",
        "\n",
        "### Training on GPU\n",
        "If you'd like to train your XGBoost model on your GPU, simply change set the following in the parameters you pass to XGBoost:\n",
        "\n",
        "```\n",
        "'tree_method': 'gpu_hist'\n",
        "```"
      ]
    },
    {
      "cell_type": "markdown",
      "metadata": {
        "id": "d9hHcNj64VeT"
      },
      "source": [
        "#### 1) Initialise a W&B Run"
      ]
    },
    {
      "cell_type": "code",
      "execution_count": 4,
      "metadata": {
        "id": "3kDuqWZA4VeT"
      },
      "outputs": [
        {
          "data": {
            "text/html": [
              "wandb version 0.15.12 is available!  To upgrade, please run:\n",
              " $ pip install wandb --upgrade"
            ],
            "text/plain": [
              "<IPython.core.display.HTML object>"
            ]
          },
          "metadata": {},
          "output_type": "display_data"
        },
        {
          "data": {
            "text/html": [
              "Tracking run with wandb version 0.15.11"
            ],
            "text/plain": [
              "<IPython.core.display.HTML object>"
            ]
          },
          "metadata": {},
          "output_type": "display_data"
        },
        {
          "data": {
            "text/html": [
              "Run data is saved locally in <code>c:\\Users\\Maxpo\\Documents\\GitHub\\tabular-data-prediction-pipeline\\wandb\\run-20231005_121150-kcrfni1g</code>"
            ],
            "text/plain": [
              "<IPython.core.display.HTML object>"
            ]
          },
          "metadata": {},
          "output_type": "display_data"
        },
        {
          "data": {
            "text/html": [
              "Syncing run <strong><a href='https://wandb.ai/max-deep/titanic_survived/runs/kcrfni1g' target=\"_blank\">cool-tree-11</a></strong> to <a href='https://wandb.ai/max-deep/titanic_survived' target=\"_blank\">Weights & Biases</a> (<a href='https://wandb.me/run' target=\"_blank\">docs</a>)<br/>"
            ],
            "text/plain": [
              "<IPython.core.display.HTML object>"
            ]
          },
          "metadata": {},
          "output_type": "display_data"
        },
        {
          "data": {
            "text/html": [
              " View project at <a href='https://wandb.ai/max-deep/titanic_survived' target=\"_blank\">https://wandb.ai/max-deep/titanic_survived</a>"
            ],
            "text/plain": [
              "<IPython.core.display.HTML object>"
            ]
          },
          "metadata": {},
          "output_type": "display_data"
        },
        {
          "data": {
            "text/html": [
              " View run at <a href='https://wandb.ai/max-deep/titanic_survived/runs/kcrfni1g' target=\"_blank\">https://wandb.ai/max-deep/titanic_survived/runs/kcrfni1g</a>"
            ],
            "text/plain": [
              "<IPython.core.display.HTML object>"
            ]
          },
          "metadata": {},
          "output_type": "display_data"
        }
      ],
      "source": [
        "run = wandb.init(project=WANDB_PROJECT, job_type='train-model')"
      ]
    },
    {
      "cell_type": "markdown",
      "metadata": {
        "id": "cv5I19nX4VeT"
      },
      "source": [
        "#### 2) Setup and Log the Model Parameters"
      ]
    },
    {
      "cell_type": "code",
      "execution_count": 5,
      "metadata": {
        "id": "-EEeM0Wi4VeU"
      },
      "outputs": [],
      "source": [
        "params = {'max_depth': 6 ## default: 6\n",
        "  , 'min_child_weight': 1  ## default: 1\n",
        "  , 'subsample': 1 ## default: 1\n",
        "  , 'colsample_bytree': 1 ## default: 1\n",
        "  , 'n_estimators': 100 ## default: 100\n",
        "  , 'learning_rate': 0.3 ## default: 0.3\n",
        "  , 'early_stopping_rounds': None ## optional\n",
        "  , 'random_state': 42\n",
        "  , 'tree_method': 'hist'\n",
        "  , 'device': 'cuda' \n",
        "    }"
      ]
    },
    {
      "cell_type": "markdown",
      "metadata": {
        "id": "ADf2syom4VeU"
      },
      "source": [
        "Log the xgboost training parameters to the W&B run config"
      ]
    },
    {
      "cell_type": "markdown",
      "metadata": {
        "id": "vyOBXEtc4VeV"
      },
      "source": [
        "#### 3) Load the Training Data from W&B Artifacts"
      ]
    },
    {
      "cell_type": "code",
      "execution_count": 6,
      "metadata": {},
      "outputs": [],
      "source": [
        "def load_training_data(run, data_dir, artifact_name:str, train_file='train.csv', val_file='val.csv'):\n",
        "    data_art = run.use_artifact(artifact_name)\n",
        "    dataset_dir = data_art.download(data_dir)\n",
        "    df_train = pd.read_csv(dataset_dir + train_file)\n",
        "    df_val = pd.read_csv(dataset_dir + val_file)\n",
        "    return df_train, df_val"
      ]
    },
    {
      "cell_type": "code",
      "execution_count": 7,
      "metadata": {
        "id": "qF8GT7Hv4VeV"
      },
      "outputs": [
        {
          "name": "stderr",
          "output_type": "stream",
          "text": [
            "\u001b[34m\u001b[1mwandb\u001b[0m:   2 of 2 files downloaded.  \n"
          ]
        }
      ],
      "source": [
        "# Load our training data from Artifacts\n",
        "df_train, df_val= load_training_data(run=run, data_dir='split-dataset/',\n",
        "                                    artifact_name='titanic-dataset-split:latest')"
      ]
    },
    {
      "cell_type": "code",
      "execution_count": 8,
      "metadata": {},
      "outputs": [],
      "source": [
        "# Feature selection to drop irrelevant columns\n",
        "drop_list = ['Survived', 'PassengerId', 'Name', 'Ticket', 'Cabin', 'Embarked'] \n",
        "\n",
        "# Split data into target and feature variables\n",
        "\n",
        "# Train\n",
        "y_train = df_train['Survived']\n",
        "X_train = df_train.drop(columns=drop_list)\n",
        "\n",
        "# Val\n",
        "y_val = df_val['Survived']\n",
        "X_val = df_val.drop(columns=drop_list)"
      ]
    },
    {
      "cell_type": "markdown",
      "metadata": {
        "id": "gVHNfX6b4VeV"
      },
      "source": [
        "#### 4) Fit the model, log results to W&B and save model to W&B Artifacts\n",
        "\n",
        "To log all our xgboost model parameters we used the `WandbCallback`. This will . See the [W&B docs](https://docs.wandb.ai/guides/integrations), including documentation for other libraries that have integrated W&B including LightGBM and more."
      ]
    },
    {
      "cell_type": "code",
      "execution_count": 9,
      "metadata": {},
      "outputs": [],
      "source": [
        "from wandb.xgboost import WandbCallback\n",
        "from sklearn.compose import ColumnTransformer\n",
        "from sklearn.compose import make_column_selector as selector\n",
        "from sklearn.preprocessing import OneHotEncoder\n",
        "from sklearn.pipeline import Pipeline\n",
        "from sklearn import metrics"
      ]
    },
    {
      "cell_type": "code",
      "execution_count": 10,
      "metadata": {},
      "outputs": [
        {
          "data": {
            "text/html": [
              "<style>#sk-container-id-1 {color: black;}#sk-container-id-1 pre{padding: 0;}#sk-container-id-1 div.sk-toggleable {background-color: white;}#sk-container-id-1 label.sk-toggleable__label {cursor: pointer;display: block;width: 100%;margin-bottom: 0;padding: 0.3em;box-sizing: border-box;text-align: center;}#sk-container-id-1 label.sk-toggleable__label-arrow:before {content: \"▸\";float: left;margin-right: 0.25em;color: #696969;}#sk-container-id-1 label.sk-toggleable__label-arrow:hover:before {color: black;}#sk-container-id-1 div.sk-estimator:hover label.sk-toggleable__label-arrow:before {color: black;}#sk-container-id-1 div.sk-toggleable__content {max-height: 0;max-width: 0;overflow: hidden;text-align: left;background-color: #f0f8ff;}#sk-container-id-1 div.sk-toggleable__content pre {margin: 0.2em;color: black;border-radius: 0.25em;background-color: #f0f8ff;}#sk-container-id-1 input.sk-toggleable__control:checked~div.sk-toggleable__content {max-height: 200px;max-width: 100%;overflow: auto;}#sk-container-id-1 input.sk-toggleable__control:checked~label.sk-toggleable__label-arrow:before {content: \"▾\";}#sk-container-id-1 div.sk-estimator input.sk-toggleable__control:checked~label.sk-toggleable__label {background-color: #d4ebff;}#sk-container-id-1 div.sk-label input.sk-toggleable__control:checked~label.sk-toggleable__label {background-color: #d4ebff;}#sk-container-id-1 input.sk-hidden--visually {border: 0;clip: rect(1px 1px 1px 1px);clip: rect(1px, 1px, 1px, 1px);height: 1px;margin: -1px;overflow: hidden;padding: 0;position: absolute;width: 1px;}#sk-container-id-1 div.sk-estimator {font-family: monospace;background-color: #f0f8ff;border: 1px dotted black;border-radius: 0.25em;box-sizing: border-box;margin-bottom: 0.5em;}#sk-container-id-1 div.sk-estimator:hover {background-color: #d4ebff;}#sk-container-id-1 div.sk-parallel-item::after {content: \"\";width: 100%;border-bottom: 1px solid gray;flex-grow: 1;}#sk-container-id-1 div.sk-label:hover label.sk-toggleable__label {background-color: #d4ebff;}#sk-container-id-1 div.sk-serial::before {content: \"\";position: absolute;border-left: 1px solid gray;box-sizing: border-box;top: 0;bottom: 0;left: 50%;z-index: 0;}#sk-container-id-1 div.sk-serial {display: flex;flex-direction: column;align-items: center;background-color: white;padding-right: 0.2em;padding-left: 0.2em;position: relative;}#sk-container-id-1 div.sk-item {position: relative;z-index: 1;}#sk-container-id-1 div.sk-parallel {display: flex;align-items: stretch;justify-content: center;background-color: white;position: relative;}#sk-container-id-1 div.sk-item::before, #sk-container-id-1 div.sk-parallel-item::before {content: \"\";position: absolute;border-left: 1px solid gray;box-sizing: border-box;top: 0;bottom: 0;left: 50%;z-index: -1;}#sk-container-id-1 div.sk-parallel-item {display: flex;flex-direction: column;z-index: 1;position: relative;background-color: white;}#sk-container-id-1 div.sk-parallel-item:first-child::after {align-self: flex-end;width: 50%;}#sk-container-id-1 div.sk-parallel-item:last-child::after {align-self: flex-start;width: 50%;}#sk-container-id-1 div.sk-parallel-item:only-child::after {width: 0;}#sk-container-id-1 div.sk-dashed-wrapped {border: 1px dashed gray;margin: 0 0.4em 0.5em 0.4em;box-sizing: border-box;padding-bottom: 0.4em;background-color: white;}#sk-container-id-1 div.sk-label label {font-family: monospace;font-weight: bold;display: inline-block;line-height: 1.2em;}#sk-container-id-1 div.sk-label-container {text-align: center;}#sk-container-id-1 div.sk-container {/* jupyter's `normalize.less` sets `[hidden] { display: none; }` but bootstrap.min.css set `[hidden] { display: none !important; }` so we also need the `!important` here to be able to override the default hidden behavior on the sphinx rendered scikit-learn.org. See: https://github.com/scikit-learn/scikit-learn/issues/21755 */display: inline-block !important;position: relative;}#sk-container-id-1 div.sk-text-repr-fallback {display: none;}</style><div id=\"sk-container-id-1\" class=\"sk-top-container\"><div class=\"sk-text-repr-fallback\"><pre>Pipeline(steps=[(&#x27;preprocessor&#x27;,\n",
              "                 ColumnTransformer(remainder=&#x27;passthrough&#x27;,\n",
              "                                   transformers=[(&#x27;one_hot&#x27;, OneHotEncoder(),\n",
              "                                                  &lt;sklearn.compose._column_transformer.make_column_selector object at 0x000001B53FCC6080&gt;)])),\n",
              "                (&#x27;classifier&#x27;,\n",
              "                 XGBClassifier(base_score=None, booster=None,\n",
              "                               callbacks=[&lt;wandb.integration.xgboost.xgboost.WandbCallback object at 0x000001B51E346D40&gt;],\n",
              "                               c...\n",
              "                               feature_types=None, gamma=None, grow_policy=None,\n",
              "                               importance_type=None,\n",
              "                               interaction_constraints=None, learning_rate=0.3,\n",
              "                               max_bin=None, max_cat_threshold=None,\n",
              "                               max_cat_to_onehot=None, max_delta_step=None,\n",
              "                               max_depth=6, max_leaves=None, min_child_weight=1,\n",
              "                               missing=nan, monotone_constraints=None,\n",
              "                               multi_strategy=None, n_estimators=100,\n",
              "                               n_jobs=None, num_parallel_tree=None,\n",
              "                               random_state=42, ...))])</pre><b>In a Jupyter environment, please rerun this cell to show the HTML representation or trust the notebook. <br />On GitHub, the HTML representation is unable to render, please try loading this page with nbviewer.org.</b></div><div class=\"sk-container\" hidden><div class=\"sk-item sk-dashed-wrapped\"><div class=\"sk-label-container\"><div class=\"sk-label sk-toggleable\"><input class=\"sk-toggleable__control sk-hidden--visually\" id=\"sk-estimator-id-1\" type=\"checkbox\" ><label for=\"sk-estimator-id-1\" class=\"sk-toggleable__label sk-toggleable__label-arrow\">Pipeline</label><div class=\"sk-toggleable__content\"><pre>Pipeline(steps=[(&#x27;preprocessor&#x27;,\n",
              "                 ColumnTransformer(remainder=&#x27;passthrough&#x27;,\n",
              "                                   transformers=[(&#x27;one_hot&#x27;, OneHotEncoder(),\n",
              "                                                  &lt;sklearn.compose._column_transformer.make_column_selector object at 0x000001B53FCC6080&gt;)])),\n",
              "                (&#x27;classifier&#x27;,\n",
              "                 XGBClassifier(base_score=None, booster=None,\n",
              "                               callbacks=[&lt;wandb.integration.xgboost.xgboost.WandbCallback object at 0x000001B51E346D40&gt;],\n",
              "                               c...\n",
              "                               feature_types=None, gamma=None, grow_policy=None,\n",
              "                               importance_type=None,\n",
              "                               interaction_constraints=None, learning_rate=0.3,\n",
              "                               max_bin=None, max_cat_threshold=None,\n",
              "                               max_cat_to_onehot=None, max_delta_step=None,\n",
              "                               max_depth=6, max_leaves=None, min_child_weight=1,\n",
              "                               missing=nan, monotone_constraints=None,\n",
              "                               multi_strategy=None, n_estimators=100,\n",
              "                               n_jobs=None, num_parallel_tree=None,\n",
              "                               random_state=42, ...))])</pre></div></div></div><div class=\"sk-serial\"><div class=\"sk-item sk-dashed-wrapped\"><div class=\"sk-label-container\"><div class=\"sk-label sk-toggleable\"><input class=\"sk-toggleable__control sk-hidden--visually\" id=\"sk-estimator-id-2\" type=\"checkbox\" ><label for=\"sk-estimator-id-2\" class=\"sk-toggleable__label sk-toggleable__label-arrow\">preprocessor: ColumnTransformer</label><div class=\"sk-toggleable__content\"><pre>ColumnTransformer(remainder=&#x27;passthrough&#x27;,\n",
              "                  transformers=[(&#x27;one_hot&#x27;, OneHotEncoder(),\n",
              "                                 &lt;sklearn.compose._column_transformer.make_column_selector object at 0x000001B53FCC6080&gt;)])</pre></div></div></div><div class=\"sk-parallel\"><div class=\"sk-parallel-item\"><div class=\"sk-item\"><div class=\"sk-label-container\"><div class=\"sk-label sk-toggleable\"><input class=\"sk-toggleable__control sk-hidden--visually\" id=\"sk-estimator-id-3\" type=\"checkbox\" ><label for=\"sk-estimator-id-3\" class=\"sk-toggleable__label sk-toggleable__label-arrow\">one_hot</label><div class=\"sk-toggleable__content\"><pre>&lt;sklearn.compose._column_transformer.make_column_selector object at 0x000001B53FCC6080&gt;</pre></div></div></div><div class=\"sk-serial\"><div class=\"sk-item\"><div class=\"sk-estimator sk-toggleable\"><input class=\"sk-toggleable__control sk-hidden--visually\" id=\"sk-estimator-id-4\" type=\"checkbox\" ><label for=\"sk-estimator-id-4\" class=\"sk-toggleable__label sk-toggleable__label-arrow\">OneHotEncoder</label><div class=\"sk-toggleable__content\"><pre>OneHotEncoder()</pre></div></div></div></div></div></div><div class=\"sk-parallel-item\"><div class=\"sk-item\"><div class=\"sk-label-container\"><div class=\"sk-label sk-toggleable\"><input class=\"sk-toggleable__control sk-hidden--visually\" id=\"sk-estimator-id-5\" type=\"checkbox\" ><label for=\"sk-estimator-id-5\" class=\"sk-toggleable__label sk-toggleable__label-arrow\">remainder</label><div class=\"sk-toggleable__content\"><pre></pre></div></div></div><div class=\"sk-serial\"><div class=\"sk-item\"><div class=\"sk-estimator sk-toggleable\"><input class=\"sk-toggleable__control sk-hidden--visually\" id=\"sk-estimator-id-6\" type=\"checkbox\" ><label for=\"sk-estimator-id-6\" class=\"sk-toggleable__label sk-toggleable__label-arrow\">passthrough</label><div class=\"sk-toggleable__content\"><pre>passthrough</pre></div></div></div></div></div></div></div></div><div class=\"sk-item\"><div class=\"sk-estimator sk-toggleable\"><input class=\"sk-toggleable__control sk-hidden--visually\" id=\"sk-estimator-id-7\" type=\"checkbox\" ><label for=\"sk-estimator-id-7\" class=\"sk-toggleable__label sk-toggleable__label-arrow\">XGBClassifier</label><div class=\"sk-toggleable__content\"><pre>XGBClassifier(base_score=None, booster=None,\n",
              "              callbacks=[&lt;wandb.integration.xgboost.xgboost.WandbCallback object at 0x000001B51E346D40&gt;],\n",
              "              colsample_bylevel=None, colsample_bynode=None, colsample_bytree=1,\n",
              "              device=&#x27;cuda&#x27;, early_stopping_rounds=None,\n",
              "              enable_categorical=False, eval_metric=None, feature_types=None,\n",
              "              gamma=None, grow_policy=None, importance_type=None,\n",
              "              interaction_constraints=None, learning_rate=0.3, max_bin=None,\n",
              "              max_cat_threshold=None, max_cat_to_onehot=None,\n",
              "              max_delta_step=None, max_depth=6, max_leaves=None,\n",
              "              min_child_weight=1, missing=nan, monotone_constraints=None,\n",
              "              multi_strategy=None, n_estimators=100, n_jobs=None,\n",
              "              num_parallel_tree=None, random_state=42, ...)</pre></div></div></div></div></div></div></div>"
            ],
            "text/plain": [
              "Pipeline(steps=[('preprocessor',\n",
              "                 ColumnTransformer(remainder='passthrough',\n",
              "                                   transformers=[('one_hot', OneHotEncoder(),\n",
              "                                                  <sklearn.compose._column_transformer.make_column_selector object at 0x000001B53FCC6080>)])),\n",
              "                ('classifier',\n",
              "                 XGBClassifier(base_score=None, booster=None,\n",
              "                               callbacks=[<wandb.integration.xgboost.xgboost.WandbCallback object at 0x000001B51E346D40>],\n",
              "                               c...\n",
              "                               feature_types=None, gamma=None, grow_policy=None,\n",
              "                               importance_type=None,\n",
              "                               interaction_constraints=None, learning_rate=0.3,\n",
              "                               max_bin=None, max_cat_threshold=None,\n",
              "                               max_cat_to_onehot=None, max_delta_step=None,\n",
              "                               max_depth=6, max_leaves=None, min_child_weight=1,\n",
              "                               missing=nan, monotone_constraints=None,\n",
              "                               multi_strategy=None, n_estimators=100,\n",
              "                               n_jobs=None, num_parallel_tree=None,\n",
              "                               random_state=42, ...))])"
            ]
          },
          "execution_count": 10,
          "metadata": {},
          "output_type": "execute_result"
        }
      ],
      "source": [
        "# Create preprocessor\n",
        "preprocessor = ColumnTransformer(\n",
        "    transformers=[(\"one_hot\", OneHotEncoder(), selector(dtype_include=\"object\"))], # One Hot Encoding\n",
        "    remainder=\"passthrough\",  # Leave numerical variables unchanged\n",
        ")\n",
        "\n",
        "# Create pipeline\n",
        "pipeline = Pipeline([(\"preprocessor\", preprocessor), # Preprocessing\n",
        "                     (\"classifier\", xgb.XGBClassifier(**params,\n",
        "                             callbacks=[WandbCallback(log_model=True)])) # XGBoost classifier\n",
        "                     ])\n",
        "\n",
        "pipeline"
      ]
    },
    {
      "cell_type": "code",
      "execution_count": 11,
      "metadata": {
        "id": "muMa5zCf4VeW"
      },
      "outputs": [
        {
          "name": "stderr",
          "output_type": "stream",
          "text": [
            "c:\\Users\\Maxpo\\Documents\\GitHub\\tabular-data-prediction-pipeline\\.venv\\lib\\site-packages\\xgboost\\data.py:520: FutureWarning: is_sparse is deprecated and will be removed in a future version. Check `isinstance(dtype, pd.SparseDtype)` instead.\n",
            "  if is_sparse(data):\n",
            "c:\\Users\\Maxpo\\Documents\\GitHub\\tabular-data-prediction-pipeline\\.venv\\lib\\site-packages\\xgboost\\core.py:160: UserWarning: [12:12:02] WARNING: C:\\buildkite-agent\\builds\\buildkite-windows-cpu-autoscaling-group-i-0cec3277c4d9d0165-1\\xgboost\\xgboost-ci-windows\\src\\common\\error_msg.cc:58: Falling back to prediction using DMatrix due to mismatched devices. This might lead to higher memory usage and slower performance. XGBoost is running on: cuda:0, while the input data is on: cpu.\n",
            "Potential solutions:\n",
            "- Use a data structure that matches the device ordinal in the booster.\n",
            "- Set the device for booster before call to inplace_predict.\n",
            "\n",
            "This warning will only be shown once.\n",
            "\n",
            "  warnings.warn(smsg, UserWarning)\n",
            "c:\\Users\\Maxpo\\Documents\\GitHub\\tabular-data-prediction-pipeline\\.venv\\lib\\site-packages\\xgboost\\data.py:520: FutureWarning: is_sparse is deprecated and will be removed in a future version. Check `isinstance(dtype, pd.SparseDtype)` instead.\n",
            "  if is_sparse(data):\n",
            "c:\\Users\\Maxpo\\Documents\\GitHub\\tabular-data-prediction-pipeline\\.venv\\lib\\site-packages\\xgboost\\data.py:520: FutureWarning: is_sparse is deprecated and will be removed in a future version. Check `isinstance(dtype, pd.SparseDtype)` instead.\n",
            "  if is_sparse(data):\n",
            "c:\\Users\\Maxpo\\Documents\\GitHub\\tabular-data-prediction-pipeline\\.venv\\lib\\site-packages\\xgboost\\data.py:520: FutureWarning: is_sparse is deprecated and will be removed in a future version. Check `isinstance(dtype, pd.SparseDtype)` instead.\n",
            "  if is_sparse(data):\n",
            "c:\\Users\\Maxpo\\Documents\\GitHub\\tabular-data-prediction-pipeline\\.venv\\lib\\site-packages\\xgboost\\data.py:520: FutureWarning: is_sparse is deprecated and will be removed in a future version. Check `isinstance(dtype, pd.SparseDtype)` instead.\n",
            "  if is_sparse(data):\n",
            "c:\\Users\\Maxpo\\Documents\\GitHub\\tabular-data-prediction-pipeline\\.venv\\lib\\site-packages\\xgboost\\data.py:520: FutureWarning: is_sparse is deprecated and will be removed in a future version. Check `isinstance(dtype, pd.SparseDtype)` instead.\n",
            "  if is_sparse(data):\n"
          ]
        },
        {
          "data": {
            "text/html": [
              "<style>#sk-container-id-2 {color: black;}#sk-container-id-2 pre{padding: 0;}#sk-container-id-2 div.sk-toggleable {background-color: white;}#sk-container-id-2 label.sk-toggleable__label {cursor: pointer;display: block;width: 100%;margin-bottom: 0;padding: 0.3em;box-sizing: border-box;text-align: center;}#sk-container-id-2 label.sk-toggleable__label-arrow:before {content: \"▸\";float: left;margin-right: 0.25em;color: #696969;}#sk-container-id-2 label.sk-toggleable__label-arrow:hover:before {color: black;}#sk-container-id-2 div.sk-estimator:hover label.sk-toggleable__label-arrow:before {color: black;}#sk-container-id-2 div.sk-toggleable__content {max-height: 0;max-width: 0;overflow: hidden;text-align: left;background-color: #f0f8ff;}#sk-container-id-2 div.sk-toggleable__content pre {margin: 0.2em;color: black;border-radius: 0.25em;background-color: #f0f8ff;}#sk-container-id-2 input.sk-toggleable__control:checked~div.sk-toggleable__content {max-height: 200px;max-width: 100%;overflow: auto;}#sk-container-id-2 input.sk-toggleable__control:checked~label.sk-toggleable__label-arrow:before {content: \"▾\";}#sk-container-id-2 div.sk-estimator input.sk-toggleable__control:checked~label.sk-toggleable__label {background-color: #d4ebff;}#sk-container-id-2 div.sk-label input.sk-toggleable__control:checked~label.sk-toggleable__label {background-color: #d4ebff;}#sk-container-id-2 input.sk-hidden--visually {border: 0;clip: rect(1px 1px 1px 1px);clip: rect(1px, 1px, 1px, 1px);height: 1px;margin: -1px;overflow: hidden;padding: 0;position: absolute;width: 1px;}#sk-container-id-2 div.sk-estimator {font-family: monospace;background-color: #f0f8ff;border: 1px dotted black;border-radius: 0.25em;box-sizing: border-box;margin-bottom: 0.5em;}#sk-container-id-2 div.sk-estimator:hover {background-color: #d4ebff;}#sk-container-id-2 div.sk-parallel-item::after {content: \"\";width: 100%;border-bottom: 1px solid gray;flex-grow: 1;}#sk-container-id-2 div.sk-label:hover label.sk-toggleable__label {background-color: #d4ebff;}#sk-container-id-2 div.sk-serial::before {content: \"\";position: absolute;border-left: 1px solid gray;box-sizing: border-box;top: 0;bottom: 0;left: 50%;z-index: 0;}#sk-container-id-2 div.sk-serial {display: flex;flex-direction: column;align-items: center;background-color: white;padding-right: 0.2em;padding-left: 0.2em;position: relative;}#sk-container-id-2 div.sk-item {position: relative;z-index: 1;}#sk-container-id-2 div.sk-parallel {display: flex;align-items: stretch;justify-content: center;background-color: white;position: relative;}#sk-container-id-2 div.sk-item::before, #sk-container-id-2 div.sk-parallel-item::before {content: \"\";position: absolute;border-left: 1px solid gray;box-sizing: border-box;top: 0;bottom: 0;left: 50%;z-index: -1;}#sk-container-id-2 div.sk-parallel-item {display: flex;flex-direction: column;z-index: 1;position: relative;background-color: white;}#sk-container-id-2 div.sk-parallel-item:first-child::after {align-self: flex-end;width: 50%;}#sk-container-id-2 div.sk-parallel-item:last-child::after {align-self: flex-start;width: 50%;}#sk-container-id-2 div.sk-parallel-item:only-child::after {width: 0;}#sk-container-id-2 div.sk-dashed-wrapped {border: 1px dashed gray;margin: 0 0.4em 0.5em 0.4em;box-sizing: border-box;padding-bottom: 0.4em;background-color: white;}#sk-container-id-2 div.sk-label label {font-family: monospace;font-weight: bold;display: inline-block;line-height: 1.2em;}#sk-container-id-2 div.sk-label-container {text-align: center;}#sk-container-id-2 div.sk-container {/* jupyter's `normalize.less` sets `[hidden] { display: none; }` but bootstrap.min.css set `[hidden] { display: none !important; }` so we also need the `!important` here to be able to override the default hidden behavior on the sphinx rendered scikit-learn.org. See: https://github.com/scikit-learn/scikit-learn/issues/21755 */display: inline-block !important;position: relative;}#sk-container-id-2 div.sk-text-repr-fallback {display: none;}</style><div id=\"sk-container-id-2\" class=\"sk-top-container\"><div class=\"sk-text-repr-fallback\"><pre>Pipeline(steps=[(&#x27;preprocessor&#x27;,\n",
              "                 ColumnTransformer(remainder=&#x27;passthrough&#x27;,\n",
              "                                   transformers=[(&#x27;one_hot&#x27;, OneHotEncoder(),\n",
              "                                                  &lt;sklearn.compose._column_transformer.make_column_selector object at 0x000001B53FCC6080&gt;)])),\n",
              "                (&#x27;classifier&#x27;,\n",
              "                 XGBClassifier(base_score=None, booster=None,\n",
              "                               callbacks=[&lt;wandb.integration.xgboost.xgboost.WandbCallback object at 0x000001B51E346D40&gt;],\n",
              "                               c...\n",
              "                               feature_types=None, gamma=None, grow_policy=None,\n",
              "                               importance_type=None,\n",
              "                               interaction_constraints=None, learning_rate=0.3,\n",
              "                               max_bin=None, max_cat_threshold=None,\n",
              "                               max_cat_to_onehot=None, max_delta_step=None,\n",
              "                               max_depth=6, max_leaves=None, min_child_weight=1,\n",
              "                               missing=nan, monotone_constraints=None,\n",
              "                               multi_strategy=None, n_estimators=100,\n",
              "                               n_jobs=None, num_parallel_tree=None,\n",
              "                               random_state=42, ...))])</pre><b>In a Jupyter environment, please rerun this cell to show the HTML representation or trust the notebook. <br />On GitHub, the HTML representation is unable to render, please try loading this page with nbviewer.org.</b></div><div class=\"sk-container\" hidden><div class=\"sk-item sk-dashed-wrapped\"><div class=\"sk-label-container\"><div class=\"sk-label sk-toggleable\"><input class=\"sk-toggleable__control sk-hidden--visually\" id=\"sk-estimator-id-8\" type=\"checkbox\" ><label for=\"sk-estimator-id-8\" class=\"sk-toggleable__label sk-toggleable__label-arrow\">Pipeline</label><div class=\"sk-toggleable__content\"><pre>Pipeline(steps=[(&#x27;preprocessor&#x27;,\n",
              "                 ColumnTransformer(remainder=&#x27;passthrough&#x27;,\n",
              "                                   transformers=[(&#x27;one_hot&#x27;, OneHotEncoder(),\n",
              "                                                  &lt;sklearn.compose._column_transformer.make_column_selector object at 0x000001B53FCC6080&gt;)])),\n",
              "                (&#x27;classifier&#x27;,\n",
              "                 XGBClassifier(base_score=None, booster=None,\n",
              "                               callbacks=[&lt;wandb.integration.xgboost.xgboost.WandbCallback object at 0x000001B51E346D40&gt;],\n",
              "                               c...\n",
              "                               feature_types=None, gamma=None, grow_policy=None,\n",
              "                               importance_type=None,\n",
              "                               interaction_constraints=None, learning_rate=0.3,\n",
              "                               max_bin=None, max_cat_threshold=None,\n",
              "                               max_cat_to_onehot=None, max_delta_step=None,\n",
              "                               max_depth=6, max_leaves=None, min_child_weight=1,\n",
              "                               missing=nan, monotone_constraints=None,\n",
              "                               multi_strategy=None, n_estimators=100,\n",
              "                               n_jobs=None, num_parallel_tree=None,\n",
              "                               random_state=42, ...))])</pre></div></div></div><div class=\"sk-serial\"><div class=\"sk-item sk-dashed-wrapped\"><div class=\"sk-label-container\"><div class=\"sk-label sk-toggleable\"><input class=\"sk-toggleable__control sk-hidden--visually\" id=\"sk-estimator-id-9\" type=\"checkbox\" ><label for=\"sk-estimator-id-9\" class=\"sk-toggleable__label sk-toggleable__label-arrow\">preprocessor: ColumnTransformer</label><div class=\"sk-toggleable__content\"><pre>ColumnTransformer(remainder=&#x27;passthrough&#x27;,\n",
              "                  transformers=[(&#x27;one_hot&#x27;, OneHotEncoder(),\n",
              "                                 &lt;sklearn.compose._column_transformer.make_column_selector object at 0x000001B53FCC6080&gt;)])</pre></div></div></div><div class=\"sk-parallel\"><div class=\"sk-parallel-item\"><div class=\"sk-item\"><div class=\"sk-label-container\"><div class=\"sk-label sk-toggleable\"><input class=\"sk-toggleable__control sk-hidden--visually\" id=\"sk-estimator-id-10\" type=\"checkbox\" ><label for=\"sk-estimator-id-10\" class=\"sk-toggleable__label sk-toggleable__label-arrow\">one_hot</label><div class=\"sk-toggleable__content\"><pre>&lt;sklearn.compose._column_transformer.make_column_selector object at 0x000001B53FCC6080&gt;</pre></div></div></div><div class=\"sk-serial\"><div class=\"sk-item\"><div class=\"sk-estimator sk-toggleable\"><input class=\"sk-toggleable__control sk-hidden--visually\" id=\"sk-estimator-id-11\" type=\"checkbox\" ><label for=\"sk-estimator-id-11\" class=\"sk-toggleable__label sk-toggleable__label-arrow\">OneHotEncoder</label><div class=\"sk-toggleable__content\"><pre>OneHotEncoder()</pre></div></div></div></div></div></div><div class=\"sk-parallel-item\"><div class=\"sk-item\"><div class=\"sk-label-container\"><div class=\"sk-label sk-toggleable\"><input class=\"sk-toggleable__control sk-hidden--visually\" id=\"sk-estimator-id-12\" type=\"checkbox\" ><label for=\"sk-estimator-id-12\" class=\"sk-toggleable__label sk-toggleable__label-arrow\">remainder</label><div class=\"sk-toggleable__content\"><pre>[&#x27;Pclass&#x27;, &#x27;Age&#x27;, &#x27;SibSp&#x27;, &#x27;Parch&#x27;, &#x27;Fare&#x27;]</pre></div></div></div><div class=\"sk-serial\"><div class=\"sk-item\"><div class=\"sk-estimator sk-toggleable\"><input class=\"sk-toggleable__control sk-hidden--visually\" id=\"sk-estimator-id-13\" type=\"checkbox\" ><label for=\"sk-estimator-id-13\" class=\"sk-toggleable__label sk-toggleable__label-arrow\">passthrough</label><div class=\"sk-toggleable__content\"><pre>passthrough</pre></div></div></div></div></div></div></div></div><div class=\"sk-item\"><div class=\"sk-estimator sk-toggleable\"><input class=\"sk-toggleable__control sk-hidden--visually\" id=\"sk-estimator-id-14\" type=\"checkbox\" ><label for=\"sk-estimator-id-14\" class=\"sk-toggleable__label sk-toggleable__label-arrow\">XGBClassifier</label><div class=\"sk-toggleable__content\"><pre>XGBClassifier(base_score=None, booster=None,\n",
              "              callbacks=[&lt;wandb.integration.xgboost.xgboost.WandbCallback object at 0x000001B51E346D40&gt;],\n",
              "              colsample_bylevel=None, colsample_bynode=None, colsample_bytree=1,\n",
              "              device=&#x27;cuda&#x27;, early_stopping_rounds=None,\n",
              "              enable_categorical=False, eval_metric=None, feature_types=None,\n",
              "              gamma=None, grow_policy=None, importance_type=None,\n",
              "              interaction_constraints=None, learning_rate=0.3, max_bin=None,\n",
              "              max_cat_threshold=None, max_cat_to_onehot=None,\n",
              "              max_delta_step=None, max_depth=6, max_leaves=None,\n",
              "              min_child_weight=1, missing=nan, monotone_constraints=None,\n",
              "              multi_strategy=None, n_estimators=100, n_jobs=None,\n",
              "              num_parallel_tree=None, random_state=42, ...)</pre></div></div></div></div></div></div></div>"
            ],
            "text/plain": [
              "Pipeline(steps=[('preprocessor',\n",
              "                 ColumnTransformer(remainder='passthrough',\n",
              "                                   transformers=[('one_hot', OneHotEncoder(),\n",
              "                                                  <sklearn.compose._column_transformer.make_column_selector object at 0x000001B53FCC6080>)])),\n",
              "                ('classifier',\n",
              "                 XGBClassifier(base_score=None, booster=None,\n",
              "                               callbacks=[<wandb.integration.xgboost.xgboost.WandbCallback object at 0x000001B51E346D40>],\n",
              "                               c...\n",
              "                               feature_types=None, gamma=None, grow_policy=None,\n",
              "                               importance_type=None,\n",
              "                               interaction_constraints=None, learning_rate=0.3,\n",
              "                               max_bin=None, max_cat_threshold=None,\n",
              "                               max_cat_to_onehot=None, max_delta_step=None,\n",
              "                               max_depth=6, max_leaves=None, min_child_weight=1,\n",
              "                               missing=nan, monotone_constraints=None,\n",
              "                               multi_strategy=None, n_estimators=100,\n",
              "                               n_jobs=None, num_parallel_tree=None,\n",
              "                               random_state=42, ...))])"
            ]
          },
          "execution_count": 11,
          "metadata": {},
          "output_type": "execute_result"
        }
      ],
      "source": [
        "# Perform cross-validation\n",
        "cv_scores = model_selection.cross_val_score(pipeline, X_train, y_train, cv=5, scoring='accuracy')\n",
        "\n",
        "# Fit the pipeline on the training data\n",
        "pipeline.fit(X_train, y_train)"
      ]
    },
    {
      "cell_type": "markdown",
      "metadata": {
        "id": "zby8lvaf4VeW"
      },
      "source": [
        "#### 5) Log Additional Train and Evaluation Metrics to W&B"
      ]
    },
    {
      "cell_type": "code",
      "execution_count": 12,
      "metadata": {},
      "outputs": [],
      "source": [
        "from scipy.stats import ks_2samp"
      ]
    },
    {
      "cell_type": "code",
      "execution_count": 13,
      "metadata": {
        "id": "Y_vg3f8I4VeW"
      },
      "outputs": [],
      "source": [
        "bstr = pipeline.named_steps['classifier'].get_booster()\n",
        "\n",
        "# Get train and validation predictions\n",
        "y_train_preds = pipeline.predict_proba(X_train)[:,1]\n",
        "y_val_preds = pipeline.predict_proba(X_val)[:,1]\n",
        "\n",
        "# Log additional Train metrics\n",
        "false_positive_rate, true_positive_rate, thresholds = metrics.roc_curve(y_train, y_train_preds)\n",
        "run.summary['train_ks_stat'] = max(true_positive_rate - false_positive_rate)\n",
        "run.summary['train_auc'] = metrics.auc(false_positive_rate, true_positive_rate)\n",
        "run.summary['train_log_loss'] = -(y_train * np.log(y_train_preds) + (1-y_train) * np.log(1-y_train_preds)).sum() / len(y_train)\n",
        "run.summary['mean_cv_accuracy'] =  np.mean(cv_scores)\n",
        "\n",
        "# Log additional Validation metrics\n",
        "fpr, tpr, thresholds = metrics.roc_curve(y_val, y_val_preds)\n",
        "optimal_idx = np.argmax(tpr - fpr)\n",
        "optimal_threshold = thresholds[optimal_idx]\n",
        "\n",
        "y_val_preds_binary = np.where(y_val_preds >= optimal_threshold, 1, 0)\n",
        "\n",
        "ks_stat, ks_pval = ks_2samp(y_val_preds[y_val==1], y_val_preds[y_val==0])\n",
        "run.summary[\"val_ks_2samp\"] = ks_stat\n",
        "run.summary[\"val_ks_pval\"] = ks_pval\n",
        "run.summary[\"val_auc\"] = metrics.roc_auc_score(y_val, y_val_preds)\n",
        "run.summary[\"val_acc_0.5\"] = metrics.accuracy_score(y_val, np.where(y_val_preds >= 0.5, 1, 0))\n",
        "run.summary[f\"val_acc_best_trh\"] = metrics.accuracy_score(y_val, y_val_preds_binary)\n",
        "run.summary[\"val_log_loss\"] = -(y_val * np.log(y_val_preds)\n",
        "                                     + (1-y_val) * np.log(1-y_val_preds)).sum() / len(y_val)\n"
      ]
    },
    {
      "cell_type": "markdown",
      "metadata": {
        "id": "N-vWLRRH4VeW"
      },
      "source": [
        "#### 6) Log the ROC Curve To W&B"
      ]
    },
    {
      "cell_type": "code",
      "execution_count": 14,
      "metadata": {
        "id": "TS9crXW44VeX"
      },
      "outputs": [],
      "source": [
        "# Log the ROC curve to W&B\n",
        "valYpreds_2d = np.array([1-y_val_preds, y_val_preds])  # W&B expects a 2d array\n",
        "y_val_arr = y_val.values\n",
        "d = 0\n",
        "while len(valYpreds_2d.T) > 10000:\n",
        "    d +=1\n",
        "    valYpreds_2d = valYpreds_2d[::1, ::d]\n",
        "    y_val_arr = y_val_arr[::d]\n",
        "\n",
        "run.log({\"ROC_Curve\" : wandb.plot.roc_curve(y_val_arr, valYpreds_2d.T,\n",
        "                                           labels=['Dead','Survived'],\n",
        "                                           )})"
      ]
    },
    {
      "cell_type": "code",
      "execution_count": 15,
      "metadata": {},
      "outputs": [],
      "source": [
        "wandb.log({\"Confusion_Matrix\" :wandb.sklearn.plot_confusion_matrix(y_val, \n",
        "                                                                   y_val_preds_binary, ['Dead','Survived'])})\n"
      ]
    },
    {
      "cell_type": "markdown",
      "metadata": {
        "id": "IVaaT9HP4VeX"
      },
      "source": [
        "#### Finish the W&B Run"
      ]
    },
    {
      "cell_type": "code",
      "execution_count": 16,
      "metadata": {
        "id": "F23wT9gT4VeX"
      },
      "outputs": [
        {
          "data": {
            "text/html": [
              "Waiting for W&B process to finish... <strong style=\"color:green\">(success).</strong>"
            ],
            "text/plain": [
              "<IPython.core.display.HTML object>"
            ]
          },
          "metadata": {},
          "output_type": "display_data"
        },
        {
          "data": {
            "text/html": [
              "<style>\n",
              "    table.wandb td:nth-child(1) { padding: 0 10px; text-align: left ; width: auto;} td:nth-child(2) {text-align: left ; width: 100%}\n",
              "    .wandb-row { display: flex; flex-direction: row; flex-wrap: wrap; justify-content: flex-start; width: 100% }\n",
              "    .wandb-col { display: flex; flex-direction: column; flex-basis: 100%; flex: 1; padding: 10px; }\n",
              "    </style>\n",
              "<div class=\"wandb-row\"><div class=\"wandb-col\"><h3>Run history:</h3><br/><table class=\"wandb\"><tr><td>epoch</td><td>▁▂▃▄▅▇█▂▃▄▅▆▇█▂▃▄▅▇█▁▂▃▅▆▇█▂▃▄▅▆▇▁▂▃▅▆▇█</td></tr></table><br/></div><div class=\"wandb-col\"><h3>Run summary:</h3><br/><table class=\"wandb\"><tr><td>epoch</td><td>99</td></tr><tr><td>mean_cv_accuracy</td><td>0.80066</td></tr><tr><td>train_auc</td><td>0.99705</td></tr><tr><td>train_ks_stat</td><td>0.95435</td></tr><tr><td>train_log_loss</td><td>0.10546</td></tr><tr><td>val_acc_0.5</td><td>0.81006</td></tr><tr><td>val_acc_best_trh</td><td>0.82123</td></tr><tr><td>val_auc</td><td>0.82543</td></tr><tr><td>val_ks_2samp</td><td>0.60646</td></tr><tr><td>val_ks_pval</td><td>0.0</td></tr><tr><td>val_log_loss</td><td>0.56997</td></tr></table><br/></div></div>"
            ],
            "text/plain": [
              "<IPython.core.display.HTML object>"
            ]
          },
          "metadata": {},
          "output_type": "display_data"
        },
        {
          "data": {
            "text/html": [
              " View run <strong style=\"color:#cdcd00\">cool-tree-11</strong> at: <a href='https://wandb.ai/max-deep/titanic_survived/runs/kcrfni1g' target=\"_blank\">https://wandb.ai/max-deep/titanic_survived/runs/kcrfni1g</a><br/> View job at <a href='https://wandb.ai/max-deep/titanic_survived/jobs/QXJ0aWZhY3RDb2xsZWN0aW9uOjEwNDM2NDk3MA==/version_details/v6' target=\"_blank\">https://wandb.ai/max-deep/titanic_survived/jobs/QXJ0aWZhY3RDb2xsZWN0aW9uOjEwNDM2NDk3MA==/version_details/v6</a><br/>Synced 5 W&B file(s), 8 media file(s), 14 artifact file(s) and 1 other file(s)"
            ],
            "text/plain": [
              "<IPython.core.display.HTML object>"
            ]
          },
          "metadata": {},
          "output_type": "display_data"
        },
        {
          "data": {
            "text/html": [
              "Find logs at: <code>.\\wandb\\run-20231005_121150-kcrfni1g\\logs</code>"
            ],
            "text/plain": [
              "<IPython.core.display.HTML object>"
            ]
          },
          "metadata": {},
          "output_type": "display_data"
        }
      ],
      "source": [
        "run.finish()"
      ]
    },
    {
      "cell_type": "code",
      "execution_count": 17,
      "metadata": {},
      "outputs": [],
      "source": [
        "df_test = pd.read_csv('dataset/test.csv')"
      ]
    },
    {
      "cell_type": "markdown",
      "metadata": {
        "id": "hYnZMvBR4VeY"
      },
      "source": [
        "Now that we've trained a single model, lets try and optimize its performance by running a Hyperparameter Sweep.\n",
        "\n",
        "# HyperParameter Sweep\n",
        "\n",
        "Weights and Biases also enables you to do hyperparameter sweeps, either with our own [Sweeps functionality](https://docs.wandb.ai/guides/sweeps/python-api) or with our [Ray Tune integration](https://docs.wandb.ai/guides/sweeps/advanced-sweeps/ray-tune). See [our docs](https://docs.wandb.ai/guides/sweeps/python-api) for a full guide of how to use more advanced hyperparameter sweeps options."
      ]
    },
    {
      "cell_type": "markdown",
      "metadata": {
        "id": "Mex8iJ4w4Vfb"
      },
      "source": [
        "#### Define the Sweep Config\n",
        "First we define the hyperparameters to sweep over as well as the type of sweep to use, we'll do a bayes search over the most common hyperparameters!"
      ]
    },
    {
      "cell_type": "code",
      "execution_count": 18,
      "metadata": {
        "id": "_mZfEA_E4Vfb"
      },
      "outputs": [
        {
          "name": "stdout",
          "output_type": "stream",
          "text": [
            "Create sweep with ID: 6zycoh6c\n",
            "Sweep URL: https://wandb.ai/max-deep/titanic_survived/sweeps/6zycoh6c\n"
          ]
        }
      ],
      "source": [
        "sweep_configuration = {\n",
        "  'method': 'bayes',\n",
        "  'name': 'sweep',\n",
        "  'metric': {\n",
        "        'goal': 'maximize', \n",
        "        'name': 'val_acc_best_trh'\n",
        "        },\n",
        "  \"parameters\" : {\n",
        "    \"max_depth\" :{\n",
        "      \"min\": 3,\n",
        "      \"max\": 10\n",
        "    },\n",
        "    \"min_child_weight\" :{\n",
        "      \"min\": 1,\n",
        "      \"max\": 10\n",
        "    },\n",
        "    \"subsample\" :{\n",
        "      \"min\": 0.5,\n",
        "      \"max\": 1.0\n",
        "    },\n",
        "    \"colsample_bytree\" :{\n",
        "      \"min\": 0.5,\n",
        "      \"max\": 1.0\n",
        "    },\n",
        "    \"n_estimators\":{\n",
        "      'values': [30, 60, 90, 120, 150, 180, 210]\n",
        "    },\n",
        "    \"learning_rate\" :{\n",
        "      \"min\": 0.001,\n",
        "      \"max\": 1.0\n",
        "    },\n",
        "  }\n",
        "}\n",
        "\n",
        "sweep_id = wandb.sweep(sweep_configuration, project=WANDB_PROJECT)"
      ]
    },
    {
      "cell_type": "markdown",
      "metadata": {
        "id": "h_lJlUM54Vfc"
      },
      "source": [
        "#### Define the Training Function"
      ]
    },
    {
      "cell_type": "markdown",
      "metadata": {
        "id": "UNSPlCla4Vfc"
      },
      "source": [
        "Then we define the function that will train our model using these hyperparameters. Note that `job_type='sweep'` when initialising the run, so that we can easily filter out these runs from our main workspace if we need to"
      ]
    },
    {
      "cell_type": "code",
      "execution_count": 19,
      "metadata": {
        "id": "nwFTNEUl4Vfc"
      },
      "outputs": [],
      "source": [
        "def train():\n",
        "    with wandb.init(job_type=\"sweep\") as run:\n",
        "\n",
        "        params = {'max_depth': run.config['max_depth'] ## default: 6\n",
        "            , 'min_child_weight': run.config['min_child_weight']  ## default: 1\n",
        "            , 'subsample': run.config['subsample'] ## default: 1\n",
        "            , 'colsample_bytree': run.config['colsample_bytree'] ## default: 1\n",
        "            , 'n_estimators': run.config['n_estimators'] ## default: 100\n",
        "            , 'learning_rate': run.config['learning_rate'] ## default: 0.3\n",
        "            , 'early_stopping_rounds': None ## optional\n",
        "            , 'random_state': 42\n",
        "            , 'tree_method': 'hist'\n",
        "            , 'device': 'cuda' \n",
        "        }\n",
        "        \n",
        "        # Create pipeline\n",
        "        pipeline = Pipeline([(\"preprocessor\", preprocessor), # Preprocessing\n",
        "                            (\"classifier\", xgb.XGBClassifier(**params,\n",
        "                                    callbacks=[WandbCallback(log_model=True)])) # XGBoost classifier\n",
        "                            ])\n",
        "        \n",
        "        # Perform cross-validation\n",
        "        cv_scores = model_selection.cross_val_score(pipeline, X_train, y_train, cv=5, scoring='accuracy')\n",
        "\n",
        "        # Fit the pipeline on the training data\n",
        "        pipeline.fit(X_train, y_train)\n",
        "\n",
        "        bstr = pipeline.named_steps['classifier'].get_booster()\n",
        "\n",
        "        # Get train and validation predictions\n",
        "        y_train_preds = pipeline.predict_proba(X_train)[:,1]\n",
        "        y_val_preds = pipeline.predict_proba(X_val)[:,1]\n",
        "\n",
        "        # Log additional Train metrics\n",
        "        false_positive_rate, true_positive_rate, thresholds = metrics.roc_curve(y_train, y_train_preds)\n",
        "        run.summary['train_ks_stat'] = max(true_positive_rate - false_positive_rate)\n",
        "        run.summary['train_auc'] = metrics.auc(false_positive_rate, true_positive_rate)\n",
        "        run.summary['train_log_loss'] = -(y_train * np.log(y_train_preds) + (1-y_train) * np.log(1-y_train_preds)).sum() / len(y_train)\n",
        "        run.summary['mean_cv_accuracy'] =  np.mean(cv_scores)\n",
        "\n",
        "        # Log additional Validation metrics\n",
        "        fpr, tpr, thresholds = metrics.roc_curve(y_val, y_val_preds)\n",
        "        optimal_idx = np.argmax(tpr - fpr)\n",
        "        optimal_threshold = thresholds[optimal_idx]\n",
        "\n",
        "        y_val_preds_binary = np.where(y_val_preds >= optimal_threshold, 1, 0)\n",
        "\n",
        "        ks_stat, ks_pval = ks_2samp(y_val_preds[y_val==1], y_val_preds[y_val==0])\n",
        "        run.summary[\"val_ks_2samp\"] = ks_stat\n",
        "        run.summary[\"val_ks_pval\"] = ks_pval\n",
        "        run.summary[\"val_auc\"] = metrics.roc_auc_score(y_val, y_val_preds)\n",
        "        run.summary[\"val_acc_0.5\"] = metrics.accuracy_score(y_val, np.where(y_val_preds >= 0.5, 1, 0))\n",
        "        run.summary[f\"val_acc_best_trh\"] = metrics.accuracy_score(y_val, y_val_preds_binary)\n",
        "        run.summary[\"val_log_loss\"] = -(y_val * np.log(y_val_preds)\n",
        "                                            + (1-y_val) * np.log(1-y_val_preds)).sum() / len(y_val)\n",
        "\n",
        "        \n"
      ]
    },
    {
      "cell_type": "markdown",
      "metadata": {
        "id": "gDlMudDj4Vfd"
      },
      "source": [
        "#### Run the Sweeps Agent"
      ]
    },
    {
      "cell_type": "code",
      "execution_count": 20,
      "metadata": {
        "id": "ed07jHxc4Vfe"
      },
      "outputs": [
        {
          "name": "stderr",
          "output_type": "stream",
          "text": [
            "\u001b[34m\u001b[1mwandb\u001b[0m: Agent Starting Run: vb8bglsu with config:\n",
            "\u001b[34m\u001b[1mwandb\u001b[0m: \tcolsample_bytree: 0.6273986472917432\n",
            "\u001b[34m\u001b[1mwandb\u001b[0m: \tlearning_rate: 0.04005619921185925\n",
            "\u001b[34m\u001b[1mwandb\u001b[0m: \tmax_depth: 3\n",
            "\u001b[34m\u001b[1mwandb\u001b[0m: \tmin_child_weight: 4\n",
            "\u001b[34m\u001b[1mwandb\u001b[0m: \tn_estimators: 150\n",
            "\u001b[34m\u001b[1mwandb\u001b[0m: \tsubsample: 0.8983677642301183\n"
          ]
        },
        {
          "data": {
            "text/html": [
              "wandb version 0.15.12 is available!  To upgrade, please run:\n",
              " $ pip install wandb --upgrade"
            ],
            "text/plain": [
              "<IPython.core.display.HTML object>"
            ]
          },
          "metadata": {},
          "output_type": "display_data"
        },
        {
          "data": {
            "text/html": [
              "Tracking run with wandb version 0.15.11"
            ],
            "text/plain": [
              "<IPython.core.display.HTML object>"
            ]
          },
          "metadata": {},
          "output_type": "display_data"
        },
        {
          "data": {
            "text/html": [
              "Run data is saved locally in <code>c:\\Users\\Maxpo\\Documents\\GitHub\\tabular-data-prediction-pipeline\\wandb\\run-20231005_121303-vb8bglsu</code>"
            ],
            "text/plain": [
              "<IPython.core.display.HTML object>"
            ]
          },
          "metadata": {},
          "output_type": "display_data"
        },
        {
          "data": {
            "text/html": [
              "Syncing run <strong><a href='https://wandb.ai/max-deep/titanic_survived/runs/vb8bglsu' target=\"_blank\">feasible-sweep-1</a></strong> to <a href='https://wandb.ai/max-deep/titanic_survived' target=\"_blank\">Weights & Biases</a> (<a href='https://wandb.me/run' target=\"_blank\">docs</a>)<br/>Sweep page: <a href='https://wandb.ai/max-deep/titanic_survived/sweeps/6zycoh6c' target=\"_blank\">https://wandb.ai/max-deep/titanic_survived/sweeps/6zycoh6c</a>"
            ],
            "text/plain": [
              "<IPython.core.display.HTML object>"
            ]
          },
          "metadata": {},
          "output_type": "display_data"
        },
        {
          "data": {
            "text/html": [
              " View project at <a href='https://wandb.ai/max-deep/titanic_survived' target=\"_blank\">https://wandb.ai/max-deep/titanic_survived</a>"
            ],
            "text/plain": [
              "<IPython.core.display.HTML object>"
            ]
          },
          "metadata": {},
          "output_type": "display_data"
        },
        {
          "data": {
            "text/html": [
              " View sweep at <a href='https://wandb.ai/max-deep/titanic_survived/sweeps/6zycoh6c' target=\"_blank\">https://wandb.ai/max-deep/titanic_survived/sweeps/6zycoh6c</a>"
            ],
            "text/plain": [
              "<IPython.core.display.HTML object>"
            ]
          },
          "metadata": {},
          "output_type": "display_data"
        },
        {
          "data": {
            "text/html": [
              " View run at <a href='https://wandb.ai/max-deep/titanic_survived/runs/vb8bglsu' target=\"_blank\">https://wandb.ai/max-deep/titanic_survived/runs/vb8bglsu</a>"
            ],
            "text/plain": [
              "<IPython.core.display.HTML object>"
            ]
          },
          "metadata": {},
          "output_type": "display_data"
        },
        {
          "data": {
            "text/html": [
              "Waiting for W&B process to finish... <strong style=\"color:green\">(success).</strong>"
            ],
            "text/plain": [
              "<IPython.core.display.HTML object>"
            ]
          },
          "metadata": {},
          "output_type": "display_data"
        },
        {
          "data": {
            "text/html": [
              "<style>\n",
              "    table.wandb td:nth-child(1) { padding: 0 10px; text-align: left ; width: auto;} td:nth-child(2) {text-align: left ; width: 100%}\n",
              "    .wandb-row { display: flex; flex-direction: row; flex-wrap: wrap; justify-content: flex-start; width: 100% }\n",
              "    .wandb-col { display: flex; flex-direction: column; flex-basis: 100%; flex: 1; padding: 10px; }\n",
              "    </style>\n",
              "<div class=\"wandb-row\"><div class=\"wandb-col\"><h3>Run history:</h3><br/><table class=\"wandb\"><tr><td>epoch</td><td>▁▂▃▄▅▇█▁▃▄▅▆▇▁▂▃▄▅▆█▁▂▃▅▆▇█▂▃▄▅▆▇▁▂▃▄▆▇█</td></tr></table><br/></div><div class=\"wandb-col\"><h3>Run summary:</h3><br/><table class=\"wandb\"><tr><td>epoch</td><td>149</td></tr><tr><td>mean_cv_accuracy</td><td>0.81471</td></tr><tr><td>train_auc</td><td>0.9109</td></tr><tr><td>train_ks_stat</td><td>0.69652</td></tr><tr><td>train_log_loss</td><td>0.36107</td></tr><tr><td>val_acc_0.5</td><td>0.77095</td></tr><tr><td>val_acc_best_trh</td><td>0.81564</td></tr><tr><td>val_auc</td><td>0.83735</td></tr><tr><td>val_ks_2samp</td><td>0.62978</td></tr><tr><td>val_ks_pval</td><td>0.0</td></tr><tr><td>val_log_loss</td><td>0.45447</td></tr></table><br/></div></div>"
            ],
            "text/plain": [
              "<IPython.core.display.HTML object>"
            ]
          },
          "metadata": {},
          "output_type": "display_data"
        },
        {
          "data": {
            "text/html": [
              " View run <strong style=\"color:#cdcd00\">feasible-sweep-1</strong> at: <a href='https://wandb.ai/max-deep/titanic_survived/runs/vb8bglsu' target=\"_blank\">https://wandb.ai/max-deep/titanic_survived/runs/vb8bglsu</a><br/>Synced 4 W&B file(s), 6 media file(s), 12 artifact file(s) and 1 other file(s)"
            ],
            "text/plain": [
              "<IPython.core.display.HTML object>"
            ]
          },
          "metadata": {},
          "output_type": "display_data"
        },
        {
          "data": {
            "text/html": [
              "Find logs at: <code>.\\wandb\\run-20231005_121303-vb8bglsu\\logs</code>"
            ],
            "text/plain": [
              "<IPython.core.display.HTML object>"
            ]
          },
          "metadata": {},
          "output_type": "display_data"
        },
        {
          "name": "stderr",
          "output_type": "stream",
          "text": [
            "\u001b[34m\u001b[1mwandb\u001b[0m: Agent Starting Run: 5ls3etez with config:\n",
            "\u001b[34m\u001b[1mwandb\u001b[0m: \tcolsample_bytree: 0.7093466138800043\n",
            "\u001b[34m\u001b[1mwandb\u001b[0m: \tlearning_rate: 0.5726972199509932\n",
            "\u001b[34m\u001b[1mwandb\u001b[0m: \tmax_depth: 7\n",
            "\u001b[34m\u001b[1mwandb\u001b[0m: \tmin_child_weight: 8\n",
            "\u001b[34m\u001b[1mwandb\u001b[0m: \tn_estimators: 90\n",
            "\u001b[34m\u001b[1mwandb\u001b[0m: \tsubsample: 0.9630017883356852\n"
          ]
        },
        {
          "data": {
            "text/html": [
              "wandb version 0.15.12 is available!  To upgrade, please run:\n",
              " $ pip install wandb --upgrade"
            ],
            "text/plain": [
              "<IPython.core.display.HTML object>"
            ]
          },
          "metadata": {},
          "output_type": "display_data"
        },
        {
          "data": {
            "text/html": [
              "Tracking run with wandb version 0.15.11"
            ],
            "text/plain": [
              "<IPython.core.display.HTML object>"
            ]
          },
          "metadata": {},
          "output_type": "display_data"
        },
        {
          "data": {
            "text/html": [
              "Run data is saved locally in <code>c:\\Users\\Maxpo\\Documents\\GitHub\\tabular-data-prediction-pipeline\\wandb\\run-20231005_121338-5ls3etez</code>"
            ],
            "text/plain": [
              "<IPython.core.display.HTML object>"
            ]
          },
          "metadata": {},
          "output_type": "display_data"
        },
        {
          "data": {
            "text/html": [
              "Syncing run <strong><a href='https://wandb.ai/max-deep/titanic_survived/runs/5ls3etez' target=\"_blank\">visionary-sweep-2</a></strong> to <a href='https://wandb.ai/max-deep/titanic_survived' target=\"_blank\">Weights & Biases</a> (<a href='https://wandb.me/run' target=\"_blank\">docs</a>)<br/>Sweep page: <a href='https://wandb.ai/max-deep/titanic_survived/sweeps/6zycoh6c' target=\"_blank\">https://wandb.ai/max-deep/titanic_survived/sweeps/6zycoh6c</a>"
            ],
            "text/plain": [
              "<IPython.core.display.HTML object>"
            ]
          },
          "metadata": {},
          "output_type": "display_data"
        },
        {
          "data": {
            "text/html": [
              " View project at <a href='https://wandb.ai/max-deep/titanic_survived' target=\"_blank\">https://wandb.ai/max-deep/titanic_survived</a>"
            ],
            "text/plain": [
              "<IPython.core.display.HTML object>"
            ]
          },
          "metadata": {},
          "output_type": "display_data"
        },
        {
          "data": {
            "text/html": [
              " View sweep at <a href='https://wandb.ai/max-deep/titanic_survived/sweeps/6zycoh6c' target=\"_blank\">https://wandb.ai/max-deep/titanic_survived/sweeps/6zycoh6c</a>"
            ],
            "text/plain": [
              "<IPython.core.display.HTML object>"
            ]
          },
          "metadata": {},
          "output_type": "display_data"
        },
        {
          "data": {
            "text/html": [
              " View run at <a href='https://wandb.ai/max-deep/titanic_survived/runs/5ls3etez' target=\"_blank\">https://wandb.ai/max-deep/titanic_survived/runs/5ls3etez</a>"
            ],
            "text/plain": [
              "<IPython.core.display.HTML object>"
            ]
          },
          "metadata": {},
          "output_type": "display_data"
        },
        {
          "data": {
            "text/html": [
              "Waiting for W&B process to finish... <strong style=\"color:green\">(success).</strong>"
            ],
            "text/plain": [
              "<IPython.core.display.HTML object>"
            ]
          },
          "metadata": {},
          "output_type": "display_data"
        },
        {
          "data": {
            "text/html": [
              "<style>\n",
              "    table.wandb td:nth-child(1) { padding: 0 10px; text-align: left ; width: auto;} td:nth-child(2) {text-align: left ; width: 100%}\n",
              "    .wandb-row { display: flex; flex-direction: row; flex-wrap: wrap; justify-content: flex-start; width: 100% }\n",
              "    .wandb-col { display: flex; flex-direction: column; flex-basis: 100%; flex: 1; padding: 10px; }\n",
              "    </style>\n",
              "<div class=\"wandb-row\"><div class=\"wandb-col\"><h3>Run history:</h3><br/><table class=\"wandb\"><tr><td>epoch</td><td>▁▂▃▅▅▇█▁▃▄▅▆▇▁▂▃▄▅▆█▁▂▄▄▅▇█▁▃▄▅▆▇█▂▃▄▅▆█</td></tr></table><br/></div><div class=\"wandb-col\"><h3>Run summary:</h3><br/><table class=\"wandb\"><tr><td>epoch</td><td>89</td></tr><tr><td>mean_cv_accuracy</td><td>0.82592</td></tr><tr><td>train_auc</td><td>0.94986</td></tr><tr><td>train_ks_stat</td><td>0.77742</td></tr><tr><td>train_log_loss</td><td>0.28161</td></tr><tr><td>val_acc_0.5</td><td>0.82123</td></tr><tr><td>val_acc_best_trh</td><td>0.8324</td></tr><tr><td>val_auc</td><td>0.84177</td></tr><tr><td>val_ks_2samp</td><td>0.61383</td></tr><tr><td>val_ks_pval</td><td>0.0</td></tr><tr><td>val_log_loss</td><td>0.46704</td></tr></table><br/></div></div>"
            ],
            "text/plain": [
              "<IPython.core.display.HTML object>"
            ]
          },
          "metadata": {},
          "output_type": "display_data"
        },
        {
          "data": {
            "text/html": [
              " View run <strong style=\"color:#cdcd00\">visionary-sweep-2</strong> at: <a href='https://wandb.ai/max-deep/titanic_survived/runs/5ls3etez' target=\"_blank\">https://wandb.ai/max-deep/titanic_survived/runs/5ls3etez</a><br/>Synced 4 W&B file(s), 6 media file(s), 12 artifact file(s) and 1 other file(s)"
            ],
            "text/plain": [
              "<IPython.core.display.HTML object>"
            ]
          },
          "metadata": {},
          "output_type": "display_data"
        },
        {
          "data": {
            "text/html": [
              "Find logs at: <code>.\\wandb\\run-20231005_121338-5ls3etez\\logs</code>"
            ],
            "text/plain": [
              "<IPython.core.display.HTML object>"
            ]
          },
          "metadata": {},
          "output_type": "display_data"
        },
        {
          "name": "stderr",
          "output_type": "stream",
          "text": [
            "\u001b[34m\u001b[1mwandb\u001b[0m: Agent Starting Run: 094s90cm with config:\n",
            "\u001b[34m\u001b[1mwandb\u001b[0m: \tcolsample_bytree: 0.5475462743343226\n",
            "\u001b[34m\u001b[1mwandb\u001b[0m: \tlearning_rate: 0.29043571667125223\n",
            "\u001b[34m\u001b[1mwandb\u001b[0m: \tmax_depth: 3\n",
            "\u001b[34m\u001b[1mwandb\u001b[0m: \tmin_child_weight: 8\n",
            "\u001b[34m\u001b[1mwandb\u001b[0m: \tn_estimators: 210\n",
            "\u001b[34m\u001b[1mwandb\u001b[0m: \tsubsample: 0.9844999263411224\n"
          ]
        },
        {
          "data": {
            "text/html": [
              "wandb version 0.15.12 is available!  To upgrade, please run:\n",
              " $ pip install wandb --upgrade"
            ],
            "text/plain": [
              "<IPython.core.display.HTML object>"
            ]
          },
          "metadata": {},
          "output_type": "display_data"
        },
        {
          "data": {
            "text/html": [
              "Tracking run with wandb version 0.15.11"
            ],
            "text/plain": [
              "<IPython.core.display.HTML object>"
            ]
          },
          "metadata": {},
          "output_type": "display_data"
        },
        {
          "data": {
            "text/html": [
              "Run data is saved locally in <code>c:\\Users\\Maxpo\\Documents\\GitHub\\tabular-data-prediction-pipeline\\wandb\\run-20231005_121415-094s90cm</code>"
            ],
            "text/plain": [
              "<IPython.core.display.HTML object>"
            ]
          },
          "metadata": {},
          "output_type": "display_data"
        },
        {
          "data": {
            "text/html": [
              "Syncing run <strong><a href='https://wandb.ai/max-deep/titanic_survived/runs/094s90cm' target=\"_blank\">denim-sweep-3</a></strong> to <a href='https://wandb.ai/max-deep/titanic_survived' target=\"_blank\">Weights & Biases</a> (<a href='https://wandb.me/run' target=\"_blank\">docs</a>)<br/>Sweep page: <a href='https://wandb.ai/max-deep/titanic_survived/sweeps/6zycoh6c' target=\"_blank\">https://wandb.ai/max-deep/titanic_survived/sweeps/6zycoh6c</a>"
            ],
            "text/plain": [
              "<IPython.core.display.HTML object>"
            ]
          },
          "metadata": {},
          "output_type": "display_data"
        },
        {
          "data": {
            "text/html": [
              " View project at <a href='https://wandb.ai/max-deep/titanic_survived' target=\"_blank\">https://wandb.ai/max-deep/titanic_survived</a>"
            ],
            "text/plain": [
              "<IPython.core.display.HTML object>"
            ]
          },
          "metadata": {},
          "output_type": "display_data"
        },
        {
          "data": {
            "text/html": [
              " View sweep at <a href='https://wandb.ai/max-deep/titanic_survived/sweeps/6zycoh6c' target=\"_blank\">https://wandb.ai/max-deep/titanic_survived/sweeps/6zycoh6c</a>"
            ],
            "text/plain": [
              "<IPython.core.display.HTML object>"
            ]
          },
          "metadata": {},
          "output_type": "display_data"
        },
        {
          "data": {
            "text/html": [
              " View run at <a href='https://wandb.ai/max-deep/titanic_survived/runs/094s90cm' target=\"_blank\">https://wandb.ai/max-deep/titanic_survived/runs/094s90cm</a>"
            ],
            "text/plain": [
              "<IPython.core.display.HTML object>"
            ]
          },
          "metadata": {},
          "output_type": "display_data"
        },
        {
          "data": {
            "text/html": [
              "Waiting for W&B process to finish... <strong style=\"color:green\">(success).</strong>"
            ],
            "text/plain": [
              "<IPython.core.display.HTML object>"
            ]
          },
          "metadata": {},
          "output_type": "display_data"
        },
        {
          "data": {
            "text/html": [
              "<style>\n",
              "    table.wandb td:nth-child(1) { padding: 0 10px; text-align: left ; width: auto;} td:nth-child(2) {text-align: left ; width: 100%}\n",
              "    .wandb-row { display: flex; flex-direction: row; flex-wrap: wrap; justify-content: flex-start; width: 100% }\n",
              "    .wandb-col { display: flex; flex-direction: column; flex-basis: 100%; flex: 1; padding: 10px; }\n",
              "    </style>\n",
              "<div class=\"wandb-row\"><div class=\"wandb-col\"><h3>Run history:</h3><br/><table class=\"wandb\"><tr><td>epoch</td><td>▁▂▃▄▅▆█▁▂▄▅▆▇█▂▃▄▅▆▇▁▂▃▅▆▇█▂▃▄▅▆▇▁▂▃▄▅▇█</td></tr></table><br/></div><div class=\"wandb-col\"><h3>Run summary:</h3><br/><table class=\"wandb\"><tr><td>epoch</td><td>209</td></tr><tr><td>mean_cv_accuracy</td><td>0.82451</td></tr><tr><td>train_auc</td><td>0.94105</td></tr><tr><td>train_ks_stat</td><td>0.77425</td></tr><tr><td>train_log_loss</td><td>0.30234</td></tr><tr><td>val_acc_0.5</td><td>0.79888</td></tr><tr><td>val_acc_best_trh</td><td>0.81564</td></tr><tr><td>val_auc</td><td>0.84802</td></tr><tr><td>val_ks_2samp</td><td>0.58116</td></tr><tr><td>val_ks_pval</td><td>0.0</td></tr><tr><td>val_log_loss</td><td>0.4627</td></tr></table><br/></div></div>"
            ],
            "text/plain": [
              "<IPython.core.display.HTML object>"
            ]
          },
          "metadata": {},
          "output_type": "display_data"
        },
        {
          "data": {
            "text/html": [
              " View run <strong style=\"color:#cdcd00\">denim-sweep-3</strong> at: <a href='https://wandb.ai/max-deep/titanic_survived/runs/094s90cm' target=\"_blank\">https://wandb.ai/max-deep/titanic_survived/runs/094s90cm</a><br/>Synced 4 W&B file(s), 6 media file(s), 12 artifact file(s) and 1 other file(s)"
            ],
            "text/plain": [
              "<IPython.core.display.HTML object>"
            ]
          },
          "metadata": {},
          "output_type": "display_data"
        },
        {
          "data": {
            "text/html": [
              "Find logs at: <code>.\\wandb\\run-20231005_121415-094s90cm\\logs</code>"
            ],
            "text/plain": [
              "<IPython.core.display.HTML object>"
            ]
          },
          "metadata": {},
          "output_type": "display_data"
        },
        {
          "name": "stderr",
          "output_type": "stream",
          "text": [
            "\u001b[34m\u001b[1mwandb\u001b[0m: Agent Starting Run: t4itswv9 with config:\n",
            "\u001b[34m\u001b[1mwandb\u001b[0m: \tcolsample_bytree: 0.7122405099547133\n",
            "\u001b[34m\u001b[1mwandb\u001b[0m: \tlearning_rate: 0.44955744835508754\n",
            "\u001b[34m\u001b[1mwandb\u001b[0m: \tmax_depth: 7\n",
            "\u001b[34m\u001b[1mwandb\u001b[0m: \tmin_child_weight: 8\n",
            "\u001b[34m\u001b[1mwandb\u001b[0m: \tn_estimators: 90\n",
            "\u001b[34m\u001b[1mwandb\u001b[0m: \tsubsample: 0.90846703453741\n"
          ]
        },
        {
          "data": {
            "text/html": [
              "wandb version 0.15.12 is available!  To upgrade, please run:\n",
              " $ pip install wandb --upgrade"
            ],
            "text/plain": [
              "<IPython.core.display.HTML object>"
            ]
          },
          "metadata": {},
          "output_type": "display_data"
        },
        {
          "data": {
            "text/html": [
              "Tracking run with wandb version 0.15.11"
            ],
            "text/plain": [
              "<IPython.core.display.HTML object>"
            ]
          },
          "metadata": {},
          "output_type": "display_data"
        },
        {
          "data": {
            "text/html": [
              "Run data is saved locally in <code>c:\\Users\\Maxpo\\Documents\\GitHub\\tabular-data-prediction-pipeline\\wandb\\run-20231005_121452-t4itswv9</code>"
            ],
            "text/plain": [
              "<IPython.core.display.HTML object>"
            ]
          },
          "metadata": {},
          "output_type": "display_data"
        },
        {
          "data": {
            "text/html": [
              "Syncing run <strong><a href='https://wandb.ai/max-deep/titanic_survived/runs/t4itswv9' target=\"_blank\">stoic-sweep-4</a></strong> to <a href='https://wandb.ai/max-deep/titanic_survived' target=\"_blank\">Weights & Biases</a> (<a href='https://wandb.me/run' target=\"_blank\">docs</a>)<br/>Sweep page: <a href='https://wandb.ai/max-deep/titanic_survived/sweeps/6zycoh6c' target=\"_blank\">https://wandb.ai/max-deep/titanic_survived/sweeps/6zycoh6c</a>"
            ],
            "text/plain": [
              "<IPython.core.display.HTML object>"
            ]
          },
          "metadata": {},
          "output_type": "display_data"
        },
        {
          "data": {
            "text/html": [
              " View project at <a href='https://wandb.ai/max-deep/titanic_survived' target=\"_blank\">https://wandb.ai/max-deep/titanic_survived</a>"
            ],
            "text/plain": [
              "<IPython.core.display.HTML object>"
            ]
          },
          "metadata": {},
          "output_type": "display_data"
        },
        {
          "data": {
            "text/html": [
              " View sweep at <a href='https://wandb.ai/max-deep/titanic_survived/sweeps/6zycoh6c' target=\"_blank\">https://wandb.ai/max-deep/titanic_survived/sweeps/6zycoh6c</a>"
            ],
            "text/plain": [
              "<IPython.core.display.HTML object>"
            ]
          },
          "metadata": {},
          "output_type": "display_data"
        },
        {
          "data": {
            "text/html": [
              " View run at <a href='https://wandb.ai/max-deep/titanic_survived/runs/t4itswv9' target=\"_blank\">https://wandb.ai/max-deep/titanic_survived/runs/t4itswv9</a>"
            ],
            "text/plain": [
              "<IPython.core.display.HTML object>"
            ]
          },
          "metadata": {},
          "output_type": "display_data"
        },
        {
          "data": {
            "text/html": [
              "Waiting for W&B process to finish... <strong style=\"color:green\">(success).</strong>"
            ],
            "text/plain": [
              "<IPython.core.display.HTML object>"
            ]
          },
          "metadata": {},
          "output_type": "display_data"
        },
        {
          "data": {
            "text/html": [
              "<style>\n",
              "    table.wandb td:nth-child(1) { padding: 0 10px; text-align: left ; width: auto;} td:nth-child(2) {text-align: left ; width: 100%}\n",
              "    .wandb-row { display: flex; flex-direction: row; flex-wrap: wrap; justify-content: flex-start; width: 100% }\n",
              "    .wandb-col { display: flex; flex-direction: column; flex-basis: 100%; flex: 1; padding: 10px; }\n",
              "    </style>\n",
              "<div class=\"wandb-row\"><div class=\"wandb-col\"><h3>Run history:</h3><br/><table class=\"wandb\"><tr><td>epoch</td><td>▁▂▃▅▅▇█▁▃▄▅▆▇▁▂▃▄▅▆█▁▂▄▄▅▇█▁▃▄▅▆▇█▂▃▄▅▆█</td></tr></table><br/></div><div class=\"wandb-col\"><h3>Run summary:</h3><br/><table class=\"wandb\"><tr><td>epoch</td><td>89</td></tr><tr><td>mean_cv_accuracy</td><td>0.82596</td></tr><tr><td>train_auc</td><td>0.9461</td></tr><tr><td>train_ks_stat</td><td>0.78474</td></tr><tr><td>train_log_loss</td><td>0.29336</td></tr><tr><td>val_acc_0.5</td><td>0.8324</td></tr><tr><td>val_acc_best_trh</td><td>0.83799</td></tr><tr><td>val_auc</td><td>0.83333</td></tr><tr><td>val_ks_2samp</td><td>0.63373</td></tr><tr><td>val_ks_pval</td><td>0.0</td></tr><tr><td>val_log_loss</td><td>0.46985</td></tr></table><br/></div></div>"
            ],
            "text/plain": [
              "<IPython.core.display.HTML object>"
            ]
          },
          "metadata": {},
          "output_type": "display_data"
        },
        {
          "data": {
            "text/html": [
              " View run <strong style=\"color:#cdcd00\">stoic-sweep-4</strong> at: <a href='https://wandb.ai/max-deep/titanic_survived/runs/t4itswv9' target=\"_blank\">https://wandb.ai/max-deep/titanic_survived/runs/t4itswv9</a><br/>Synced 4 W&B file(s), 6 media file(s), 12 artifact file(s) and 1 other file(s)"
            ],
            "text/plain": [
              "<IPython.core.display.HTML object>"
            ]
          },
          "metadata": {},
          "output_type": "display_data"
        },
        {
          "data": {
            "text/html": [
              "Find logs at: <code>.\\wandb\\run-20231005_121452-t4itswv9\\logs</code>"
            ],
            "text/plain": [
              "<IPython.core.display.HTML object>"
            ]
          },
          "metadata": {},
          "output_type": "display_data"
        },
        {
          "name": "stderr",
          "output_type": "stream",
          "text": [
            "\u001b[34m\u001b[1mwandb\u001b[0m: Agent Starting Run: v63xfoo5 with config:\n",
            "\u001b[34m\u001b[1mwandb\u001b[0m: \tcolsample_bytree: 0.7572559412913555\n",
            "\u001b[34m\u001b[1mwandb\u001b[0m: \tlearning_rate: 0.4359763321722376\n",
            "\u001b[34m\u001b[1mwandb\u001b[0m: \tmax_depth: 9\n",
            "\u001b[34m\u001b[1mwandb\u001b[0m: \tmin_child_weight: 10\n",
            "\u001b[34m\u001b[1mwandb\u001b[0m: \tn_estimators: 90\n",
            "\u001b[34m\u001b[1mwandb\u001b[0m: \tsubsample: 0.8166914687967608\n"
          ]
        },
        {
          "data": {
            "text/html": [
              "wandb version 0.15.12 is available!  To upgrade, please run:\n",
              " $ pip install wandb --upgrade"
            ],
            "text/plain": [
              "<IPython.core.display.HTML object>"
            ]
          },
          "metadata": {},
          "output_type": "display_data"
        },
        {
          "data": {
            "text/html": [
              "Tracking run with wandb version 0.15.11"
            ],
            "text/plain": [
              "<IPython.core.display.HTML object>"
            ]
          },
          "metadata": {},
          "output_type": "display_data"
        },
        {
          "data": {
            "text/html": [
              "Run data is saved locally in <code>c:\\Users\\Maxpo\\Documents\\GitHub\\tabular-data-prediction-pipeline\\wandb\\run-20231005_121528-v63xfoo5</code>"
            ],
            "text/plain": [
              "<IPython.core.display.HTML object>"
            ]
          },
          "metadata": {},
          "output_type": "display_data"
        },
        {
          "data": {
            "text/html": [
              "Syncing run <strong><a href='https://wandb.ai/max-deep/titanic_survived/runs/v63xfoo5' target=\"_blank\">true-sweep-5</a></strong> to <a href='https://wandb.ai/max-deep/titanic_survived' target=\"_blank\">Weights & Biases</a> (<a href='https://wandb.me/run' target=\"_blank\">docs</a>)<br/>Sweep page: <a href='https://wandb.ai/max-deep/titanic_survived/sweeps/6zycoh6c' target=\"_blank\">https://wandb.ai/max-deep/titanic_survived/sweeps/6zycoh6c</a>"
            ],
            "text/plain": [
              "<IPython.core.display.HTML object>"
            ]
          },
          "metadata": {},
          "output_type": "display_data"
        },
        {
          "data": {
            "text/html": [
              " View project at <a href='https://wandb.ai/max-deep/titanic_survived' target=\"_blank\">https://wandb.ai/max-deep/titanic_survived</a>"
            ],
            "text/plain": [
              "<IPython.core.display.HTML object>"
            ]
          },
          "metadata": {},
          "output_type": "display_data"
        },
        {
          "data": {
            "text/html": [
              " View sweep at <a href='https://wandb.ai/max-deep/titanic_survived/sweeps/6zycoh6c' target=\"_blank\">https://wandb.ai/max-deep/titanic_survived/sweeps/6zycoh6c</a>"
            ],
            "text/plain": [
              "<IPython.core.display.HTML object>"
            ]
          },
          "metadata": {},
          "output_type": "display_data"
        },
        {
          "data": {
            "text/html": [
              " View run at <a href='https://wandb.ai/max-deep/titanic_survived/runs/v63xfoo5' target=\"_blank\">https://wandb.ai/max-deep/titanic_survived/runs/v63xfoo5</a>"
            ],
            "text/plain": [
              "<IPython.core.display.HTML object>"
            ]
          },
          "metadata": {},
          "output_type": "display_data"
        },
        {
          "data": {
            "text/html": [
              "Waiting for W&B process to finish... <strong style=\"color:green\">(success).</strong>"
            ],
            "text/plain": [
              "<IPython.core.display.HTML object>"
            ]
          },
          "metadata": {},
          "output_type": "display_data"
        },
        {
          "data": {
            "text/html": [
              "<style>\n",
              "    table.wandb td:nth-child(1) { padding: 0 10px; text-align: left ; width: auto;} td:nth-child(2) {text-align: left ; width: 100%}\n",
              "    .wandb-row { display: flex; flex-direction: row; flex-wrap: wrap; justify-content: flex-start; width: 100% }\n",
              "    .wandb-col { display: flex; flex-direction: column; flex-basis: 100%; flex: 1; padding: 10px; }\n",
              "    </style>\n",
              "<div class=\"wandb-row\"><div class=\"wandb-col\"><h3>Run history:</h3><br/><table class=\"wandb\"><tr><td>epoch</td><td>▁▂▃▅▅▇█▁▃▄▅▆▇▁▂▃▄▅▆█▁▂▄▄▅▇█▁▃▄▅▆▇█▂▃▄▅▆█</td></tr></table><br/></div><div class=\"wandb-col\"><h3>Run summary:</h3><br/><table class=\"wandb\"><tr><td>epoch</td><td>89</td></tr><tr><td>mean_cv_accuracy</td><td>0.8133</td></tr><tr><td>train_auc</td><td>0.93558</td></tr><tr><td>train_ks_stat</td><td>0.73494</td></tr><tr><td>train_log_loss</td><td>0.31515</td></tr><tr><td>val_acc_0.5</td><td>0.81564</td></tr><tr><td>val_acc_best_trh</td><td>0.84358</td></tr><tr><td>val_auc</td><td>0.85586</td></tr><tr><td>val_ks_2samp</td><td>0.62661</td></tr><tr><td>val_ks_pval</td><td>0.0</td></tr><tr><td>val_log_loss</td><td>0.44395</td></tr></table><br/></div></div>"
            ],
            "text/plain": [
              "<IPython.core.display.HTML object>"
            ]
          },
          "metadata": {},
          "output_type": "display_data"
        },
        {
          "data": {
            "text/html": [
              " View run <strong style=\"color:#cdcd00\">true-sweep-5</strong> at: <a href='https://wandb.ai/max-deep/titanic_survived/runs/v63xfoo5' target=\"_blank\">https://wandb.ai/max-deep/titanic_survived/runs/v63xfoo5</a><br/>Synced 4 W&B file(s), 6 media file(s), 12 artifact file(s) and 1 other file(s)"
            ],
            "text/plain": [
              "<IPython.core.display.HTML object>"
            ]
          },
          "metadata": {},
          "output_type": "display_data"
        },
        {
          "data": {
            "text/html": [
              "Find logs at: <code>.\\wandb\\run-20231005_121528-v63xfoo5\\logs</code>"
            ],
            "text/plain": [
              "<IPython.core.display.HTML object>"
            ]
          },
          "metadata": {},
          "output_type": "display_data"
        },
        {
          "name": "stderr",
          "output_type": "stream",
          "text": [
            "\u001b[34m\u001b[1mwandb\u001b[0m: Sweep Agent: Waiting for job.\n",
            "\u001b[34m\u001b[1mwandb\u001b[0m: Job received.\n",
            "\u001b[34m\u001b[1mwandb\u001b[0m: Agent Starting Run: 26wb6rx2 with config:\n",
            "\u001b[34m\u001b[1mwandb\u001b[0m: \tcolsample_bytree: 0.7459434364979892\n",
            "\u001b[34m\u001b[1mwandb\u001b[0m: \tlearning_rate: 0.2646231435390241\n",
            "\u001b[34m\u001b[1mwandb\u001b[0m: \tmax_depth: 9\n",
            "\u001b[34m\u001b[1mwandb\u001b[0m: \tmin_child_weight: 9\n",
            "\u001b[34m\u001b[1mwandb\u001b[0m: \tn_estimators: 30\n",
            "\u001b[34m\u001b[1mwandb\u001b[0m: \tsubsample: 0.7647649110345458\n"
          ]
        },
        {
          "data": {
            "text/html": [
              "wandb version 0.15.12 is available!  To upgrade, please run:\n",
              " $ pip install wandb --upgrade"
            ],
            "text/plain": [
              "<IPython.core.display.HTML object>"
            ]
          },
          "metadata": {},
          "output_type": "display_data"
        },
        {
          "data": {
            "text/html": [
              "Tracking run with wandb version 0.15.11"
            ],
            "text/plain": [
              "<IPython.core.display.HTML object>"
            ]
          },
          "metadata": {},
          "output_type": "display_data"
        },
        {
          "data": {
            "text/html": [
              "Run data is saved locally in <code>c:\\Users\\Maxpo\\Documents\\GitHub\\tabular-data-prediction-pipeline\\wandb\\run-20231005_121608-26wb6rx2</code>"
            ],
            "text/plain": [
              "<IPython.core.display.HTML object>"
            ]
          },
          "metadata": {},
          "output_type": "display_data"
        },
        {
          "data": {
            "text/html": [
              "Syncing run <strong><a href='https://wandb.ai/max-deep/titanic_survived/runs/26wb6rx2' target=\"_blank\">polished-sweep-6</a></strong> to <a href='https://wandb.ai/max-deep/titanic_survived' target=\"_blank\">Weights & Biases</a> (<a href='https://wandb.me/run' target=\"_blank\">docs</a>)<br/>Sweep page: <a href='https://wandb.ai/max-deep/titanic_survived/sweeps/6zycoh6c' target=\"_blank\">https://wandb.ai/max-deep/titanic_survived/sweeps/6zycoh6c</a>"
            ],
            "text/plain": [
              "<IPython.core.display.HTML object>"
            ]
          },
          "metadata": {},
          "output_type": "display_data"
        },
        {
          "data": {
            "text/html": [
              " View project at <a href='https://wandb.ai/max-deep/titanic_survived' target=\"_blank\">https://wandb.ai/max-deep/titanic_survived</a>"
            ],
            "text/plain": [
              "<IPython.core.display.HTML object>"
            ]
          },
          "metadata": {},
          "output_type": "display_data"
        },
        {
          "data": {
            "text/html": [
              " View sweep at <a href='https://wandb.ai/max-deep/titanic_survived/sweeps/6zycoh6c' target=\"_blank\">https://wandb.ai/max-deep/titanic_survived/sweeps/6zycoh6c</a>"
            ],
            "text/plain": [
              "<IPython.core.display.HTML object>"
            ]
          },
          "metadata": {},
          "output_type": "display_data"
        },
        {
          "data": {
            "text/html": [
              " View run at <a href='https://wandb.ai/max-deep/titanic_survived/runs/26wb6rx2' target=\"_blank\">https://wandb.ai/max-deep/titanic_survived/runs/26wb6rx2</a>"
            ],
            "text/plain": [
              "<IPython.core.display.HTML object>"
            ]
          },
          "metadata": {},
          "output_type": "display_data"
        },
        {
          "data": {
            "text/html": [
              "Waiting for W&B process to finish... <strong style=\"color:green\">(success).</strong>"
            ],
            "text/plain": [
              "<IPython.core.display.HTML object>"
            ]
          },
          "metadata": {},
          "output_type": "display_data"
        },
        {
          "data": {
            "text/html": [
              "<style>\n",
              "    table.wandb td:nth-child(1) { padding: 0 10px; text-align: left ; width: auto;} td:nth-child(2) {text-align: left ; width: 100%}\n",
              "    .wandb-row { display: flex; flex-direction: row; flex-wrap: wrap; justify-content: flex-start; width: 100% }\n",
              "    .wandb-col { display: flex; flex-direction: column; flex-basis: 100%; flex: 1; padding: 10px; }\n",
              "    </style>\n",
              "<div class=\"wandb-row\"><div class=\"wandb-col\"><h3>Run history:</h3><br/><table class=\"wandb\"><tr><td>epoch</td><td>▁▂▃▄▅▇▇▁▃▃▅▆▇█▁▃▄▅▇▇▁▂▃▅▅▇█▁▃▄▅▆▇▁▂▃▅▅▇█</td></tr></table><br/></div><div class=\"wandb-col\"><h3>Run summary:</h3><br/><table class=\"wandb\"><tr><td>epoch</td><td>29</td></tr><tr><td>mean_cv_accuracy</td><td>0.81048</td></tr><tr><td>train_auc</td><td>0.90231</td></tr><tr><td>train_ks_stat</td><td>0.66839</td></tr><tr><td>train_log_loss</td><td>0.37487</td></tr><tr><td>val_acc_0.5</td><td>0.82123</td></tr><tr><td>val_acc_best_trh</td><td>0.82682</td></tr><tr><td>val_auc</td><td>0.8471</td></tr><tr><td>val_ks_2samp</td><td>0.59934</td></tr><tr><td>val_ks_pval</td><td>0.0</td></tr><tr><td>val_log_loss</td><td>0.4535</td></tr></table><br/></div></div>"
            ],
            "text/plain": [
              "<IPython.core.display.HTML object>"
            ]
          },
          "metadata": {},
          "output_type": "display_data"
        },
        {
          "data": {
            "text/html": [
              " View run <strong style=\"color:#cdcd00\">polished-sweep-6</strong> at: <a href='https://wandb.ai/max-deep/titanic_survived/runs/26wb6rx2' target=\"_blank\">https://wandb.ai/max-deep/titanic_survived/runs/26wb6rx2</a><br/>Synced 4 W&B file(s), 6 media file(s), 12 artifact file(s) and 1 other file(s)"
            ],
            "text/plain": [
              "<IPython.core.display.HTML object>"
            ]
          },
          "metadata": {},
          "output_type": "display_data"
        },
        {
          "data": {
            "text/html": [
              "Find logs at: <code>.\\wandb\\run-20231005_121608-26wb6rx2\\logs</code>"
            ],
            "text/plain": [
              "<IPython.core.display.HTML object>"
            ]
          },
          "metadata": {},
          "output_type": "display_data"
        },
        {
          "name": "stderr",
          "output_type": "stream",
          "text": [
            "\u001b[34m\u001b[1mwandb\u001b[0m: Agent Starting Run: ybpzsb28 with config:\n",
            "\u001b[34m\u001b[1mwandb\u001b[0m: \tcolsample_bytree: 0.694294483348657\n",
            "\u001b[34m\u001b[1mwandb\u001b[0m: \tlearning_rate: 0.5926409556650635\n",
            "\u001b[34m\u001b[1mwandb\u001b[0m: \tmax_depth: 10\n",
            "\u001b[34m\u001b[1mwandb\u001b[0m: \tmin_child_weight: 10\n",
            "\u001b[34m\u001b[1mwandb\u001b[0m: \tn_estimators: 90\n",
            "\u001b[34m\u001b[1mwandb\u001b[0m: \tsubsample: 0.7810732256262582\n"
          ]
        },
        {
          "data": {
            "text/html": [
              "wandb version 0.15.12 is available!  To upgrade, please run:\n",
              " $ pip install wandb --upgrade"
            ],
            "text/plain": [
              "<IPython.core.display.HTML object>"
            ]
          },
          "metadata": {},
          "output_type": "display_data"
        },
        {
          "data": {
            "text/html": [
              "Tracking run with wandb version 0.15.11"
            ],
            "text/plain": [
              "<IPython.core.display.HTML object>"
            ]
          },
          "metadata": {},
          "output_type": "display_data"
        },
        {
          "data": {
            "text/html": [
              "Run data is saved locally in <code>c:\\Users\\Maxpo\\Documents\\GitHub\\tabular-data-prediction-pipeline\\wandb\\run-20231005_121642-ybpzsb28</code>"
            ],
            "text/plain": [
              "<IPython.core.display.HTML object>"
            ]
          },
          "metadata": {},
          "output_type": "display_data"
        },
        {
          "data": {
            "text/html": [
              "Syncing run <strong><a href='https://wandb.ai/max-deep/titanic_survived/runs/ybpzsb28' target=\"_blank\">generous-sweep-7</a></strong> to <a href='https://wandb.ai/max-deep/titanic_survived' target=\"_blank\">Weights & Biases</a> (<a href='https://wandb.me/run' target=\"_blank\">docs</a>)<br/>Sweep page: <a href='https://wandb.ai/max-deep/titanic_survived/sweeps/6zycoh6c' target=\"_blank\">https://wandb.ai/max-deep/titanic_survived/sweeps/6zycoh6c</a>"
            ],
            "text/plain": [
              "<IPython.core.display.HTML object>"
            ]
          },
          "metadata": {},
          "output_type": "display_data"
        },
        {
          "data": {
            "text/html": [
              " View project at <a href='https://wandb.ai/max-deep/titanic_survived' target=\"_blank\">https://wandb.ai/max-deep/titanic_survived</a>"
            ],
            "text/plain": [
              "<IPython.core.display.HTML object>"
            ]
          },
          "metadata": {},
          "output_type": "display_data"
        },
        {
          "data": {
            "text/html": [
              " View sweep at <a href='https://wandb.ai/max-deep/titanic_survived/sweeps/6zycoh6c' target=\"_blank\">https://wandb.ai/max-deep/titanic_survived/sweeps/6zycoh6c</a>"
            ],
            "text/plain": [
              "<IPython.core.display.HTML object>"
            ]
          },
          "metadata": {},
          "output_type": "display_data"
        },
        {
          "data": {
            "text/html": [
              " View run at <a href='https://wandb.ai/max-deep/titanic_survived/runs/ybpzsb28' target=\"_blank\">https://wandb.ai/max-deep/titanic_survived/runs/ybpzsb28</a>"
            ],
            "text/plain": [
              "<IPython.core.display.HTML object>"
            ]
          },
          "metadata": {},
          "output_type": "display_data"
        },
        {
          "data": {
            "text/html": [
              "Waiting for W&B process to finish... <strong style=\"color:green\">(success).</strong>"
            ],
            "text/plain": [
              "<IPython.core.display.HTML object>"
            ]
          },
          "metadata": {},
          "output_type": "display_data"
        },
        {
          "data": {
            "text/html": [
              "<style>\n",
              "    table.wandb td:nth-child(1) { padding: 0 10px; text-align: left ; width: auto;} td:nth-child(2) {text-align: left ; width: 100%}\n",
              "    .wandb-row { display: flex; flex-direction: row; flex-wrap: wrap; justify-content: flex-start; width: 100% }\n",
              "    .wandb-col { display: flex; flex-direction: column; flex-basis: 100%; flex: 1; padding: 10px; }\n",
              "    </style>\n",
              "<div class=\"wandb-row\"><div class=\"wandb-col\"><h3>Run history:</h3><br/><table class=\"wandb\"><tr><td>epoch</td><td>▁▂▃▅▅▇█▁▃▄▅▆▇▁▂▃▄▅▆█▁▂▄▄▅▇█▁▃▄▅▆▇█▂▃▄▅▆█</td></tr></table><br/></div><div class=\"wandb-col\"><h3>Run summary:</h3><br/><table class=\"wandb\"><tr><td>epoch</td><td>89</td></tr><tr><td>mean_cv_accuracy</td><td>0.81187</td></tr><tr><td>train_auc</td><td>0.93828</td></tr><tr><td>train_ks_stat</td><td>0.74673</td></tr><tr><td>train_log_loss</td><td>0.30665</td></tr><tr><td>val_acc_0.5</td><td>0.81564</td></tr><tr><td>val_acc_best_trh</td><td>0.84358</td></tr><tr><td>val_auc</td><td>0.84809</td></tr><tr><td>val_ks_2samp</td><td>0.61581</td></tr><tr><td>val_ks_pval</td><td>0.0</td></tr><tr><td>val_log_loss</td><td>0.45234</td></tr></table><br/></div></div>"
            ],
            "text/plain": [
              "<IPython.core.display.HTML object>"
            ]
          },
          "metadata": {},
          "output_type": "display_data"
        },
        {
          "data": {
            "text/html": [
              " View run <strong style=\"color:#cdcd00\">generous-sweep-7</strong> at: <a href='https://wandb.ai/max-deep/titanic_survived/runs/ybpzsb28' target=\"_blank\">https://wandb.ai/max-deep/titanic_survived/runs/ybpzsb28</a><br/>Synced 4 W&B file(s), 6 media file(s), 12 artifact file(s) and 1 other file(s)"
            ],
            "text/plain": [
              "<IPython.core.display.HTML object>"
            ]
          },
          "metadata": {},
          "output_type": "display_data"
        },
        {
          "data": {
            "text/html": [
              "Find logs at: <code>.\\wandb\\run-20231005_121642-ybpzsb28\\logs</code>"
            ],
            "text/plain": [
              "<IPython.core.display.HTML object>"
            ]
          },
          "metadata": {},
          "output_type": "display_data"
        },
        {
          "name": "stderr",
          "output_type": "stream",
          "text": [
            "\u001b[34m\u001b[1mwandb\u001b[0m: Agent Starting Run: 1db1euev with config:\n",
            "\u001b[34m\u001b[1mwandb\u001b[0m: \tcolsample_bytree: 0.707979421632688\n",
            "\u001b[34m\u001b[1mwandb\u001b[0m: \tlearning_rate: 0.4057154512830223\n",
            "\u001b[34m\u001b[1mwandb\u001b[0m: \tmax_depth: 9\n",
            "\u001b[34m\u001b[1mwandb\u001b[0m: \tmin_child_weight: 10\n",
            "\u001b[34m\u001b[1mwandb\u001b[0m: \tn_estimators: 150\n",
            "\u001b[34m\u001b[1mwandb\u001b[0m: \tsubsample: 0.7936390645595006\n"
          ]
        },
        {
          "data": {
            "text/html": [
              "wandb version 0.15.12 is available!  To upgrade, please run:\n",
              " $ pip install wandb --upgrade"
            ],
            "text/plain": [
              "<IPython.core.display.HTML object>"
            ]
          },
          "metadata": {},
          "output_type": "display_data"
        },
        {
          "data": {
            "text/html": [
              "Tracking run with wandb version 0.15.11"
            ],
            "text/plain": [
              "<IPython.core.display.HTML object>"
            ]
          },
          "metadata": {},
          "output_type": "display_data"
        },
        {
          "data": {
            "text/html": [
              "Run data is saved locally in <code>c:\\Users\\Maxpo\\Documents\\GitHub\\tabular-data-prediction-pipeline\\wandb\\run-20231005_121718-1db1euev</code>"
            ],
            "text/plain": [
              "<IPython.core.display.HTML object>"
            ]
          },
          "metadata": {},
          "output_type": "display_data"
        },
        {
          "data": {
            "text/html": [
              "Syncing run <strong><a href='https://wandb.ai/max-deep/titanic_survived/runs/1db1euev' target=\"_blank\">honest-sweep-8</a></strong> to <a href='https://wandb.ai/max-deep/titanic_survived' target=\"_blank\">Weights & Biases</a> (<a href='https://wandb.me/run' target=\"_blank\">docs</a>)<br/>Sweep page: <a href='https://wandb.ai/max-deep/titanic_survived/sweeps/6zycoh6c' target=\"_blank\">https://wandb.ai/max-deep/titanic_survived/sweeps/6zycoh6c</a>"
            ],
            "text/plain": [
              "<IPython.core.display.HTML object>"
            ]
          },
          "metadata": {},
          "output_type": "display_data"
        },
        {
          "data": {
            "text/html": [
              " View project at <a href='https://wandb.ai/max-deep/titanic_survived' target=\"_blank\">https://wandb.ai/max-deep/titanic_survived</a>"
            ],
            "text/plain": [
              "<IPython.core.display.HTML object>"
            ]
          },
          "metadata": {},
          "output_type": "display_data"
        },
        {
          "data": {
            "text/html": [
              " View sweep at <a href='https://wandb.ai/max-deep/titanic_survived/sweeps/6zycoh6c' target=\"_blank\">https://wandb.ai/max-deep/titanic_survived/sweeps/6zycoh6c</a>"
            ],
            "text/plain": [
              "<IPython.core.display.HTML object>"
            ]
          },
          "metadata": {},
          "output_type": "display_data"
        },
        {
          "data": {
            "text/html": [
              " View run at <a href='https://wandb.ai/max-deep/titanic_survived/runs/1db1euev' target=\"_blank\">https://wandb.ai/max-deep/titanic_survived/runs/1db1euev</a>"
            ],
            "text/plain": [
              "<IPython.core.display.HTML object>"
            ]
          },
          "metadata": {},
          "output_type": "display_data"
        },
        {
          "data": {
            "text/html": [
              "Waiting for W&B process to finish... <strong style=\"color:green\">(success).</strong>"
            ],
            "text/plain": [
              "<IPython.core.display.HTML object>"
            ]
          },
          "metadata": {},
          "output_type": "display_data"
        },
        {
          "data": {
            "text/html": [
              "<style>\n",
              "    table.wandb td:nth-child(1) { padding: 0 10px; text-align: left ; width: auto;} td:nth-child(2) {text-align: left ; width: 100%}\n",
              "    .wandb-row { display: flex; flex-direction: row; flex-wrap: wrap; justify-content: flex-start; width: 100% }\n",
              "    .wandb-col { display: flex; flex-direction: column; flex-basis: 100%; flex: 1; padding: 10px; }\n",
              "    </style>\n",
              "<div class=\"wandb-row\"><div class=\"wandb-col\"><h3>Run history:</h3><br/><table class=\"wandb\"><tr><td>epoch</td><td>▁▂▃▄▅▇█▁▃▄▅▆▇▁▂▃▄▅▆█▁▂▃▅▆▇█▂▃▄▅▆▇▁▂▃▄▆▇█</td></tr></table><br/></div><div class=\"wandb-col\"><h3>Run summary:</h3><br/><table class=\"wandb\"><tr><td>epoch</td><td>149</td></tr><tr><td>mean_cv_accuracy</td><td>0.82454</td></tr><tr><td>train_auc</td><td>0.94573</td></tr><tr><td>train_ks_stat</td><td>0.76504</td></tr><tr><td>train_log_loss</td><td>0.29832</td></tr><tr><td>val_acc_0.5</td><td>0.80447</td></tr><tr><td>val_acc_best_trh</td><td>0.82123</td></tr><tr><td>val_auc</td><td>0.84677</td></tr><tr><td>val_ks_2samp</td><td>0.62266</td></tr><tr><td>val_ks_pval</td><td>0.0</td></tr><tr><td>val_log_loss</td><td>0.45342</td></tr></table><br/></div></div>"
            ],
            "text/plain": [
              "<IPython.core.display.HTML object>"
            ]
          },
          "metadata": {},
          "output_type": "display_data"
        },
        {
          "data": {
            "text/html": [
              " View run <strong style=\"color:#cdcd00\">honest-sweep-8</strong> at: <a href='https://wandb.ai/max-deep/titanic_survived/runs/1db1euev' target=\"_blank\">https://wandb.ai/max-deep/titanic_survived/runs/1db1euev</a><br/>Synced 4 W&B file(s), 6 media file(s), 12 artifact file(s) and 1 other file(s)"
            ],
            "text/plain": [
              "<IPython.core.display.HTML object>"
            ]
          },
          "metadata": {},
          "output_type": "display_data"
        },
        {
          "data": {
            "text/html": [
              "Find logs at: <code>.\\wandb\\run-20231005_121718-1db1euev\\logs</code>"
            ],
            "text/plain": [
              "<IPython.core.display.HTML object>"
            ]
          },
          "metadata": {},
          "output_type": "display_data"
        },
        {
          "name": "stderr",
          "output_type": "stream",
          "text": [
            "\u001b[34m\u001b[1mwandb\u001b[0m: Agent Starting Run: satyhp4u with config:\n",
            "\u001b[34m\u001b[1mwandb\u001b[0m: \tcolsample_bytree: 0.6287120107197551\n",
            "\u001b[34m\u001b[1mwandb\u001b[0m: \tlearning_rate: 0.4788696821411351\n",
            "\u001b[34m\u001b[1mwandb\u001b[0m: \tmax_depth: 10\n",
            "\u001b[34m\u001b[1mwandb\u001b[0m: \tmin_child_weight: 9\n",
            "\u001b[34m\u001b[1mwandb\u001b[0m: \tn_estimators: 90\n",
            "\u001b[34m\u001b[1mwandb\u001b[0m: \tsubsample: 0.8675450697615557\n"
          ]
        },
        {
          "data": {
            "text/html": [
              "wandb version 0.15.12 is available!  To upgrade, please run:\n",
              " $ pip install wandb --upgrade"
            ],
            "text/plain": [
              "<IPython.core.display.HTML object>"
            ]
          },
          "metadata": {},
          "output_type": "display_data"
        },
        {
          "data": {
            "text/html": [
              "Tracking run with wandb version 0.15.11"
            ],
            "text/plain": [
              "<IPython.core.display.HTML object>"
            ]
          },
          "metadata": {},
          "output_type": "display_data"
        },
        {
          "data": {
            "text/html": [
              "Run data is saved locally in <code>c:\\Users\\Maxpo\\Documents\\GitHub\\tabular-data-prediction-pipeline\\wandb\\run-20231005_121754-satyhp4u</code>"
            ],
            "text/plain": [
              "<IPython.core.display.HTML object>"
            ]
          },
          "metadata": {},
          "output_type": "display_data"
        },
        {
          "data": {
            "text/html": [
              "Syncing run <strong><a href='https://wandb.ai/max-deep/titanic_survived/runs/satyhp4u' target=\"_blank\">desert-sweep-9</a></strong> to <a href='https://wandb.ai/max-deep/titanic_survived' target=\"_blank\">Weights & Biases</a> (<a href='https://wandb.me/run' target=\"_blank\">docs</a>)<br/>Sweep page: <a href='https://wandb.ai/max-deep/titanic_survived/sweeps/6zycoh6c' target=\"_blank\">https://wandb.ai/max-deep/titanic_survived/sweeps/6zycoh6c</a>"
            ],
            "text/plain": [
              "<IPython.core.display.HTML object>"
            ]
          },
          "metadata": {},
          "output_type": "display_data"
        },
        {
          "data": {
            "text/html": [
              " View project at <a href='https://wandb.ai/max-deep/titanic_survived' target=\"_blank\">https://wandb.ai/max-deep/titanic_survived</a>"
            ],
            "text/plain": [
              "<IPython.core.display.HTML object>"
            ]
          },
          "metadata": {},
          "output_type": "display_data"
        },
        {
          "data": {
            "text/html": [
              " View sweep at <a href='https://wandb.ai/max-deep/titanic_survived/sweeps/6zycoh6c' target=\"_blank\">https://wandb.ai/max-deep/titanic_survived/sweeps/6zycoh6c</a>"
            ],
            "text/plain": [
              "<IPython.core.display.HTML object>"
            ]
          },
          "metadata": {},
          "output_type": "display_data"
        },
        {
          "data": {
            "text/html": [
              " View run at <a href='https://wandb.ai/max-deep/titanic_survived/runs/satyhp4u' target=\"_blank\">https://wandb.ai/max-deep/titanic_survived/runs/satyhp4u</a>"
            ],
            "text/plain": [
              "<IPython.core.display.HTML object>"
            ]
          },
          "metadata": {},
          "output_type": "display_data"
        },
        {
          "data": {
            "text/html": [
              "Waiting for W&B process to finish... <strong style=\"color:green\">(success).</strong>"
            ],
            "text/plain": [
              "<IPython.core.display.HTML object>"
            ]
          },
          "metadata": {},
          "output_type": "display_data"
        },
        {
          "data": {
            "text/html": [
              "<style>\n",
              "    table.wandb td:nth-child(1) { padding: 0 10px; text-align: left ; width: auto;} td:nth-child(2) {text-align: left ; width: 100%}\n",
              "    .wandb-row { display: flex; flex-direction: row; flex-wrap: wrap; justify-content: flex-start; width: 100% }\n",
              "    .wandb-col { display: flex; flex-direction: column; flex-basis: 100%; flex: 1; padding: 10px; }\n",
              "    </style>\n",
              "<div class=\"wandb-row\"><div class=\"wandb-col\"><h3>Run history:</h3><br/><table class=\"wandb\"><tr><td>epoch</td><td>▁▂▃▅▅▇█▁▃▄▅▆▇▁▂▃▄▅▆█▁▂▄▄▅▇█▁▃▄▅▆▇█▂▃▄▅▆█</td></tr></table><br/></div><div class=\"wandb-col\"><h3>Run summary:</h3><br/><table class=\"wandb\"><tr><td>epoch</td><td>89</td></tr><tr><td>mean_cv_accuracy</td><td>0.82027</td></tr><tr><td>train_auc</td><td>0.94274</td></tr><tr><td>train_ks_stat</td><td>0.76326</td></tr><tr><td>train_log_loss</td><td>0.29851</td></tr><tr><td>val_acc_0.5</td><td>0.81006</td></tr><tr><td>val_acc_best_trh</td><td>0.82682</td></tr><tr><td>val_auc</td><td>0.84572</td></tr><tr><td>val_ks_2samp</td><td>0.60474</td></tr><tr><td>val_ks_pval</td><td>0.0</td></tr><tr><td>val_log_loss</td><td>0.46081</td></tr></table><br/></div></div>"
            ],
            "text/plain": [
              "<IPython.core.display.HTML object>"
            ]
          },
          "metadata": {},
          "output_type": "display_data"
        },
        {
          "data": {
            "text/html": [
              " View run <strong style=\"color:#cdcd00\">desert-sweep-9</strong> at: <a href='https://wandb.ai/max-deep/titanic_survived/runs/satyhp4u' target=\"_blank\">https://wandb.ai/max-deep/titanic_survived/runs/satyhp4u</a><br/>Synced 4 W&B file(s), 6 media file(s), 12 artifact file(s) and 1 other file(s)"
            ],
            "text/plain": [
              "<IPython.core.display.HTML object>"
            ]
          },
          "metadata": {},
          "output_type": "display_data"
        },
        {
          "data": {
            "text/html": [
              "Find logs at: <code>.\\wandb\\run-20231005_121754-satyhp4u\\logs</code>"
            ],
            "text/plain": [
              "<IPython.core.display.HTML object>"
            ]
          },
          "metadata": {},
          "output_type": "display_data"
        },
        {
          "name": "stderr",
          "output_type": "stream",
          "text": [
            "\u001b[34m\u001b[1mwandb\u001b[0m: Sweep Agent: Waiting for job.\n",
            "\u001b[34m\u001b[1mwandb\u001b[0m: Job received.\n",
            "\u001b[34m\u001b[1mwandb\u001b[0m: Agent Starting Run: o6o3ulj6 with config:\n",
            "\u001b[34m\u001b[1mwandb\u001b[0m: \tcolsample_bytree: 0.8042200293134832\n",
            "\u001b[34m\u001b[1mwandb\u001b[0m: \tlearning_rate: 0.3935445131402817\n",
            "\u001b[34m\u001b[1mwandb\u001b[0m: \tmax_depth: 10\n",
            "\u001b[34m\u001b[1mwandb\u001b[0m: \tmin_child_weight: 9\n",
            "\u001b[34m\u001b[1mwandb\u001b[0m: \tn_estimators: 90\n",
            "\u001b[34m\u001b[1mwandb\u001b[0m: \tsubsample: 0.8280702148122264\n"
          ]
        },
        {
          "data": {
            "text/html": [
              "wandb version 0.15.12 is available!  To upgrade, please run:\n",
              " $ pip install wandb --upgrade"
            ],
            "text/plain": [
              "<IPython.core.display.HTML object>"
            ]
          },
          "metadata": {},
          "output_type": "display_data"
        },
        {
          "data": {
            "text/html": [
              "Tracking run with wandb version 0.15.11"
            ],
            "text/plain": [
              "<IPython.core.display.HTML object>"
            ]
          },
          "metadata": {},
          "output_type": "display_data"
        },
        {
          "data": {
            "text/html": [
              "Run data is saved locally in <code>c:\\Users\\Maxpo\\Documents\\GitHub\\tabular-data-prediction-pipeline\\wandb\\run-20231005_121835-o6o3ulj6</code>"
            ],
            "text/plain": [
              "<IPython.core.display.HTML object>"
            ]
          },
          "metadata": {},
          "output_type": "display_data"
        },
        {
          "data": {
            "text/html": [
              "Syncing run <strong><a href='https://wandb.ai/max-deep/titanic_survived/runs/o6o3ulj6' target=\"_blank\">warm-sweep-10</a></strong> to <a href='https://wandb.ai/max-deep/titanic_survived' target=\"_blank\">Weights & Biases</a> (<a href='https://wandb.me/run' target=\"_blank\">docs</a>)<br/>Sweep page: <a href='https://wandb.ai/max-deep/titanic_survived/sweeps/6zycoh6c' target=\"_blank\">https://wandb.ai/max-deep/titanic_survived/sweeps/6zycoh6c</a>"
            ],
            "text/plain": [
              "<IPython.core.display.HTML object>"
            ]
          },
          "metadata": {},
          "output_type": "display_data"
        },
        {
          "data": {
            "text/html": [
              " View project at <a href='https://wandb.ai/max-deep/titanic_survived' target=\"_blank\">https://wandb.ai/max-deep/titanic_survived</a>"
            ],
            "text/plain": [
              "<IPython.core.display.HTML object>"
            ]
          },
          "metadata": {},
          "output_type": "display_data"
        },
        {
          "data": {
            "text/html": [
              " View sweep at <a href='https://wandb.ai/max-deep/titanic_survived/sweeps/6zycoh6c' target=\"_blank\">https://wandb.ai/max-deep/titanic_survived/sweeps/6zycoh6c</a>"
            ],
            "text/plain": [
              "<IPython.core.display.HTML object>"
            ]
          },
          "metadata": {},
          "output_type": "display_data"
        },
        {
          "data": {
            "text/html": [
              " View run at <a href='https://wandb.ai/max-deep/titanic_survived/runs/o6o3ulj6' target=\"_blank\">https://wandb.ai/max-deep/titanic_survived/runs/o6o3ulj6</a>"
            ],
            "text/plain": [
              "<IPython.core.display.HTML object>"
            ]
          },
          "metadata": {},
          "output_type": "display_data"
        },
        {
          "data": {
            "text/html": [
              "Waiting for W&B process to finish... <strong style=\"color:green\">(success).</strong>"
            ],
            "text/plain": [
              "<IPython.core.display.HTML object>"
            ]
          },
          "metadata": {},
          "output_type": "display_data"
        },
        {
          "data": {
            "text/html": [
              "<style>\n",
              "    table.wandb td:nth-child(1) { padding: 0 10px; text-align: left ; width: auto;} td:nth-child(2) {text-align: left ; width: 100%}\n",
              "    .wandb-row { display: flex; flex-direction: row; flex-wrap: wrap; justify-content: flex-start; width: 100% }\n",
              "    .wandb-col { display: flex; flex-direction: column; flex-basis: 100%; flex: 1; padding: 10px; }\n",
              "    </style>\n",
              "<div class=\"wandb-row\"><div class=\"wandb-col\"><h3>Run history:</h3><br/><table class=\"wandb\"><tr><td>epoch</td><td>▁▂▃▅▅▇█▁▃▄▅▆▇▁▂▃▄▅▆█▁▂▄▄▅▇█▁▃▄▅▆▇█▂▃▄▅▆█</td></tr></table><br/></div><div class=\"wandb-col\"><h3>Run summary:</h3><br/><table class=\"wandb\"><tr><td>epoch</td><td>89</td></tr><tr><td>mean_cv_accuracy</td><td>0.82594</td></tr><tr><td>train_auc</td><td>0.94692</td></tr><tr><td>train_ks_stat</td><td>0.78336</td></tr><tr><td>train_log_loss</td><td>0.29308</td></tr><tr><td>val_acc_0.5</td><td>0.8324</td></tr><tr><td>val_acc_best_trh</td><td>0.83799</td></tr><tr><td>val_auc</td><td>0.85797</td></tr><tr><td>val_ks_2samp</td><td>0.63913</td></tr><tr><td>val_ks_pval</td><td>0.0</td></tr><tr><td>val_log_loss</td><td>0.44248</td></tr></table><br/></div></div>"
            ],
            "text/plain": [
              "<IPython.core.display.HTML object>"
            ]
          },
          "metadata": {},
          "output_type": "display_data"
        },
        {
          "data": {
            "text/html": [
              " View run <strong style=\"color:#cdcd00\">warm-sweep-10</strong> at: <a href='https://wandb.ai/max-deep/titanic_survived/runs/o6o3ulj6' target=\"_blank\">https://wandb.ai/max-deep/titanic_survived/runs/o6o3ulj6</a><br/>Synced 4 W&B file(s), 6 media file(s), 12 artifact file(s) and 1 other file(s)"
            ],
            "text/plain": [
              "<IPython.core.display.HTML object>"
            ]
          },
          "metadata": {},
          "output_type": "display_data"
        },
        {
          "data": {
            "text/html": [
              "Find logs at: <code>.\\wandb\\run-20231005_121835-o6o3ulj6\\logs</code>"
            ],
            "text/plain": [
              "<IPython.core.display.HTML object>"
            ]
          },
          "metadata": {},
          "output_type": "display_data"
        },
        {
          "name": "stderr",
          "output_type": "stream",
          "text": [
            "\u001b[34m\u001b[1mwandb\u001b[0m: Agent Starting Run: m6ano457 with config:\n",
            "\u001b[34m\u001b[1mwandb\u001b[0m: \tcolsample_bytree: 0.7947102406107733\n",
            "\u001b[34m\u001b[1mwandb\u001b[0m: \tlearning_rate: 0.5496339389528659\n",
            "\u001b[34m\u001b[1mwandb\u001b[0m: \tmax_depth: 10\n",
            "\u001b[34m\u001b[1mwandb\u001b[0m: \tmin_child_weight: 9\n",
            "\u001b[34m\u001b[1mwandb\u001b[0m: \tn_estimators: 60\n",
            "\u001b[34m\u001b[1mwandb\u001b[0m: \tsubsample: 0.8753292824137144\n"
          ]
        },
        {
          "data": {
            "text/html": [
              "wandb version 0.15.12 is available!  To upgrade, please run:\n",
              " $ pip install wandb --upgrade"
            ],
            "text/plain": [
              "<IPython.core.display.HTML object>"
            ]
          },
          "metadata": {},
          "output_type": "display_data"
        },
        {
          "data": {
            "text/html": [
              "Tracking run with wandb version 0.15.11"
            ],
            "text/plain": [
              "<IPython.core.display.HTML object>"
            ]
          },
          "metadata": {},
          "output_type": "display_data"
        },
        {
          "data": {
            "text/html": [
              "Run data is saved locally in <code>c:\\Users\\Maxpo\\Documents\\GitHub\\tabular-data-prediction-pipeline\\wandb\\run-20231005_121907-m6ano457</code>"
            ],
            "text/plain": [
              "<IPython.core.display.HTML object>"
            ]
          },
          "metadata": {},
          "output_type": "display_data"
        },
        {
          "data": {
            "text/html": [
              "Syncing run <strong><a href='https://wandb.ai/max-deep/titanic_survived/runs/m6ano457' target=\"_blank\">icy-sweep-11</a></strong> to <a href='https://wandb.ai/max-deep/titanic_survived' target=\"_blank\">Weights & Biases</a> (<a href='https://wandb.me/run' target=\"_blank\">docs</a>)<br/>Sweep page: <a href='https://wandb.ai/max-deep/titanic_survived/sweeps/6zycoh6c' target=\"_blank\">https://wandb.ai/max-deep/titanic_survived/sweeps/6zycoh6c</a>"
            ],
            "text/plain": [
              "<IPython.core.display.HTML object>"
            ]
          },
          "metadata": {},
          "output_type": "display_data"
        },
        {
          "data": {
            "text/html": [
              " View project at <a href='https://wandb.ai/max-deep/titanic_survived' target=\"_blank\">https://wandb.ai/max-deep/titanic_survived</a>"
            ],
            "text/plain": [
              "<IPython.core.display.HTML object>"
            ]
          },
          "metadata": {},
          "output_type": "display_data"
        },
        {
          "data": {
            "text/html": [
              " View sweep at <a href='https://wandb.ai/max-deep/titanic_survived/sweeps/6zycoh6c' target=\"_blank\">https://wandb.ai/max-deep/titanic_survived/sweeps/6zycoh6c</a>"
            ],
            "text/plain": [
              "<IPython.core.display.HTML object>"
            ]
          },
          "metadata": {},
          "output_type": "display_data"
        },
        {
          "data": {
            "text/html": [
              " View run at <a href='https://wandb.ai/max-deep/titanic_survived/runs/m6ano457' target=\"_blank\">https://wandb.ai/max-deep/titanic_survived/runs/m6ano457</a>"
            ],
            "text/plain": [
              "<IPython.core.display.HTML object>"
            ]
          },
          "metadata": {},
          "output_type": "display_data"
        },
        {
          "data": {
            "text/html": [
              "Waiting for W&B process to finish... <strong style=\"color:green\">(success).</strong>"
            ],
            "text/plain": [
              "<IPython.core.display.HTML object>"
            ]
          },
          "metadata": {},
          "output_type": "display_data"
        },
        {
          "data": {
            "text/html": [
              "<style>\n",
              "    table.wandb td:nth-child(1) { padding: 0 10px; text-align: left ; width: auto;} td:nth-child(2) {text-align: left ; width: 100%}\n",
              "    .wandb-row { display: flex; flex-direction: row; flex-wrap: wrap; justify-content: flex-start; width: 100% }\n",
              "    .wandb-col { display: flex; flex-direction: column; flex-basis: 100%; flex: 1; padding: 10px; }\n",
              "    </style>\n",
              "<div class=\"wandb-row\"><div class=\"wandb-col\"><h3>Run history:</h3><br/><table class=\"wandb\"><tr><td>epoch</td><td>▁▂▃▄▅▇▇▁▃▃▅▆▇█▁▃▄▅▇▇▁▂▃▅▅▇█▁▃▄▅▆▇▁▂▃▅▅▇█</td></tr></table><br/></div><div class=\"wandb-col\"><h3>Run summary:</h3><br/><table class=\"wandb\"><tr><td>epoch</td><td>59</td></tr><tr><td>mean_cv_accuracy</td><td>0.81608</td></tr><tr><td>train_auc</td><td>0.94425</td></tr><tr><td>train_ks_stat</td><td>0.76732</td></tr><tr><td>train_log_loss</td><td>0.29663</td></tr><tr><td>val_acc_0.5</td><td>0.79888</td></tr><tr><td>val_acc_best_trh</td><td>0.82682</td></tr><tr><td>val_auc</td><td>0.82477</td></tr><tr><td>val_ks_2samp</td><td>0.58314</td></tr><tr><td>val_ks_pval</td><td>0.0</td></tr><tr><td>val_log_loss</td><td>0.48375</td></tr></table><br/></div></div>"
            ],
            "text/plain": [
              "<IPython.core.display.HTML object>"
            ]
          },
          "metadata": {},
          "output_type": "display_data"
        },
        {
          "data": {
            "text/html": [
              " View run <strong style=\"color:#cdcd00\">icy-sweep-11</strong> at: <a href='https://wandb.ai/max-deep/titanic_survived/runs/m6ano457' target=\"_blank\">https://wandb.ai/max-deep/titanic_survived/runs/m6ano457</a><br/>Synced 4 W&B file(s), 6 media file(s), 12 artifact file(s) and 1 other file(s)"
            ],
            "text/plain": [
              "<IPython.core.display.HTML object>"
            ]
          },
          "metadata": {},
          "output_type": "display_data"
        },
        {
          "data": {
            "text/html": [
              "Find logs at: <code>.\\wandb\\run-20231005_121907-m6ano457\\logs</code>"
            ],
            "text/plain": [
              "<IPython.core.display.HTML object>"
            ]
          },
          "metadata": {},
          "output_type": "display_data"
        },
        {
          "name": "stderr",
          "output_type": "stream",
          "text": [
            "\u001b[34m\u001b[1mwandb\u001b[0m: Sweep Agent: Waiting for job.\n",
            "\u001b[34m\u001b[1mwandb\u001b[0m: Job received.\n",
            "\u001b[34m\u001b[1mwandb\u001b[0m: Agent Starting Run: 1dqminjq with config:\n",
            "\u001b[34m\u001b[1mwandb\u001b[0m: \tcolsample_bytree: 0.7656595261511548\n",
            "\u001b[34m\u001b[1mwandb\u001b[0m: \tlearning_rate: 0.389806095133684\n",
            "\u001b[34m\u001b[1mwandb\u001b[0m: \tmax_depth: 7\n",
            "\u001b[34m\u001b[1mwandb\u001b[0m: \tmin_child_weight: 8\n",
            "\u001b[34m\u001b[1mwandb\u001b[0m: \tn_estimators: 120\n",
            "\u001b[34m\u001b[1mwandb\u001b[0m: \tsubsample: 0.8992086422954202\n"
          ]
        },
        {
          "data": {
            "text/html": [
              "wandb version 0.15.12 is available!  To upgrade, please run:\n",
              " $ pip install wandb --upgrade"
            ],
            "text/plain": [
              "<IPython.core.display.HTML object>"
            ]
          },
          "metadata": {},
          "output_type": "display_data"
        },
        {
          "data": {
            "text/html": [
              "Tracking run with wandb version 0.15.11"
            ],
            "text/plain": [
              "<IPython.core.display.HTML object>"
            ]
          },
          "metadata": {},
          "output_type": "display_data"
        },
        {
          "data": {
            "text/html": [
              "Run data is saved locally in <code>c:\\Users\\Maxpo\\Documents\\GitHub\\tabular-data-prediction-pipeline\\wandb\\run-20231005_121948-1dqminjq</code>"
            ],
            "text/plain": [
              "<IPython.core.display.HTML object>"
            ]
          },
          "metadata": {},
          "output_type": "display_data"
        },
        {
          "data": {
            "text/html": [
              "Syncing run <strong><a href='https://wandb.ai/max-deep/titanic_survived/runs/1dqminjq' target=\"_blank\">silver-sweep-12</a></strong> to <a href='https://wandb.ai/max-deep/titanic_survived' target=\"_blank\">Weights & Biases</a> (<a href='https://wandb.me/run' target=\"_blank\">docs</a>)<br/>Sweep page: <a href='https://wandb.ai/max-deep/titanic_survived/sweeps/6zycoh6c' target=\"_blank\">https://wandb.ai/max-deep/titanic_survived/sweeps/6zycoh6c</a>"
            ],
            "text/plain": [
              "<IPython.core.display.HTML object>"
            ]
          },
          "metadata": {},
          "output_type": "display_data"
        },
        {
          "data": {
            "text/html": [
              " View project at <a href='https://wandb.ai/max-deep/titanic_survived' target=\"_blank\">https://wandb.ai/max-deep/titanic_survived</a>"
            ],
            "text/plain": [
              "<IPython.core.display.HTML object>"
            ]
          },
          "metadata": {},
          "output_type": "display_data"
        },
        {
          "data": {
            "text/html": [
              " View sweep at <a href='https://wandb.ai/max-deep/titanic_survived/sweeps/6zycoh6c' target=\"_blank\">https://wandb.ai/max-deep/titanic_survived/sweeps/6zycoh6c</a>"
            ],
            "text/plain": [
              "<IPython.core.display.HTML object>"
            ]
          },
          "metadata": {},
          "output_type": "display_data"
        },
        {
          "data": {
            "text/html": [
              " View run at <a href='https://wandb.ai/max-deep/titanic_survived/runs/1dqminjq' target=\"_blank\">https://wandb.ai/max-deep/titanic_survived/runs/1dqminjq</a>"
            ],
            "text/plain": [
              "<IPython.core.display.HTML object>"
            ]
          },
          "metadata": {},
          "output_type": "display_data"
        },
        {
          "data": {
            "text/html": [
              "Waiting for W&B process to finish... <strong style=\"color:green\">(success).</strong>"
            ],
            "text/plain": [
              "<IPython.core.display.HTML object>"
            ]
          },
          "metadata": {},
          "output_type": "display_data"
        },
        {
          "data": {
            "text/html": [
              "<style>\n",
              "    table.wandb td:nth-child(1) { padding: 0 10px; text-align: left ; width: auto;} td:nth-child(2) {text-align: left ; width: 100%}\n",
              "    .wandb-row { display: flex; flex-direction: row; flex-wrap: wrap; justify-content: flex-start; width: 100% }\n",
              "    .wandb-col { display: flex; flex-direction: column; flex-basis: 100%; flex: 1; padding: 10px; }\n",
              "    </style>\n",
              "<div class=\"wandb-row\"><div class=\"wandb-col\"><h3>Run history:</h3><br/><table class=\"wandb\"><tr><td>epoch</td><td>▁▂▃▄▅▇▇▁▃▃▅▆▇█▁▃▄▅▇▇▁▂▃▅▅▇█▁▃▄▅▆▇▁▂▃▅▅▇█</td></tr></table><br/></div><div class=\"wandb-col\"><h3>Run summary:</h3><br/><table class=\"wandb\"><tr><td>epoch</td><td>119</td></tr><tr><td>mean_cv_accuracy</td><td>0.83155</td></tr><tr><td>train_auc</td><td>0.95876</td></tr><tr><td>train_ks_stat</td><td>0.80493</td></tr><tr><td>train_log_loss</td><td>0.25902</td></tr><tr><td>val_acc_0.5</td><td>0.81564</td></tr><tr><td>val_acc_best_trh</td><td>0.84358</td></tr><tr><td>val_auc</td><td>0.84493</td></tr><tr><td>val_ks_2samp</td><td>0.63202</td></tr><tr><td>val_ks_pval</td><td>0.0</td></tr><tr><td>val_log_loss</td><td>0.46633</td></tr></table><br/></div></div>"
            ],
            "text/plain": [
              "<IPython.core.display.HTML object>"
            ]
          },
          "metadata": {},
          "output_type": "display_data"
        },
        {
          "data": {
            "text/html": [
              " View run <strong style=\"color:#cdcd00\">silver-sweep-12</strong> at: <a href='https://wandb.ai/max-deep/titanic_survived/runs/1dqminjq' target=\"_blank\">https://wandb.ai/max-deep/titanic_survived/runs/1dqminjq</a><br/>Synced 4 W&B file(s), 6 media file(s), 12 artifact file(s) and 1 other file(s)"
            ],
            "text/plain": [
              "<IPython.core.display.HTML object>"
            ]
          },
          "metadata": {},
          "output_type": "display_data"
        },
        {
          "data": {
            "text/html": [
              "Find logs at: <code>.\\wandb\\run-20231005_121948-1dqminjq\\logs</code>"
            ],
            "text/plain": [
              "<IPython.core.display.HTML object>"
            ]
          },
          "metadata": {},
          "output_type": "display_data"
        },
        {
          "name": "stderr",
          "output_type": "stream",
          "text": [
            "\u001b[34m\u001b[1mwandb\u001b[0m: Agent Starting Run: puwreopo with config:\n",
            "\u001b[34m\u001b[1mwandb\u001b[0m: \tcolsample_bytree: 0.8119946018359699\n",
            "\u001b[34m\u001b[1mwandb\u001b[0m: \tlearning_rate: 0.24571131663636253\n",
            "\u001b[34m\u001b[1mwandb\u001b[0m: \tmax_depth: 7\n",
            "\u001b[34m\u001b[1mwandb\u001b[0m: \tmin_child_weight: 9\n",
            "\u001b[34m\u001b[1mwandb\u001b[0m: \tn_estimators: 150\n",
            "\u001b[34m\u001b[1mwandb\u001b[0m: \tsubsample: 0.8200064691558605\n"
          ]
        },
        {
          "data": {
            "text/html": [
              "wandb version 0.15.12 is available!  To upgrade, please run:\n",
              " $ pip install wandb --upgrade"
            ],
            "text/plain": [
              "<IPython.core.display.HTML object>"
            ]
          },
          "metadata": {},
          "output_type": "display_data"
        },
        {
          "data": {
            "text/html": [
              "Tracking run with wandb version 0.15.11"
            ],
            "text/plain": [
              "<IPython.core.display.HTML object>"
            ]
          },
          "metadata": {},
          "output_type": "display_data"
        },
        {
          "data": {
            "text/html": [
              "Run data is saved locally in <code>c:\\Users\\Maxpo\\Documents\\GitHub\\tabular-data-prediction-pipeline\\wandb\\run-20231005_122024-puwreopo</code>"
            ],
            "text/plain": [
              "<IPython.core.display.HTML object>"
            ]
          },
          "metadata": {},
          "output_type": "display_data"
        },
        {
          "data": {
            "text/html": [
              "Syncing run <strong><a href='https://wandb.ai/max-deep/titanic_survived/runs/puwreopo' target=\"_blank\">usual-sweep-13</a></strong> to <a href='https://wandb.ai/max-deep/titanic_survived' target=\"_blank\">Weights & Biases</a> (<a href='https://wandb.me/run' target=\"_blank\">docs</a>)<br/>Sweep page: <a href='https://wandb.ai/max-deep/titanic_survived/sweeps/6zycoh6c' target=\"_blank\">https://wandb.ai/max-deep/titanic_survived/sweeps/6zycoh6c</a>"
            ],
            "text/plain": [
              "<IPython.core.display.HTML object>"
            ]
          },
          "metadata": {},
          "output_type": "display_data"
        },
        {
          "data": {
            "text/html": [
              " View project at <a href='https://wandb.ai/max-deep/titanic_survived' target=\"_blank\">https://wandb.ai/max-deep/titanic_survived</a>"
            ],
            "text/plain": [
              "<IPython.core.display.HTML object>"
            ]
          },
          "metadata": {},
          "output_type": "display_data"
        },
        {
          "data": {
            "text/html": [
              " View sweep at <a href='https://wandb.ai/max-deep/titanic_survived/sweeps/6zycoh6c' target=\"_blank\">https://wandb.ai/max-deep/titanic_survived/sweeps/6zycoh6c</a>"
            ],
            "text/plain": [
              "<IPython.core.display.HTML object>"
            ]
          },
          "metadata": {},
          "output_type": "display_data"
        },
        {
          "data": {
            "text/html": [
              " View run at <a href='https://wandb.ai/max-deep/titanic_survived/runs/puwreopo' target=\"_blank\">https://wandb.ai/max-deep/titanic_survived/runs/puwreopo</a>"
            ],
            "text/plain": [
              "<IPython.core.display.HTML object>"
            ]
          },
          "metadata": {},
          "output_type": "display_data"
        },
        {
          "data": {
            "text/html": [
              "Waiting for W&B process to finish... <strong style=\"color:green\">(success).</strong>"
            ],
            "text/plain": [
              "<IPython.core.display.HTML object>"
            ]
          },
          "metadata": {},
          "output_type": "display_data"
        },
        {
          "data": {
            "text/html": [
              "<style>\n",
              "    table.wandb td:nth-child(1) { padding: 0 10px; text-align: left ; width: auto;} td:nth-child(2) {text-align: left ; width: 100%}\n",
              "    .wandb-row { display: flex; flex-direction: row; flex-wrap: wrap; justify-content: flex-start; width: 100% }\n",
              "    .wandb-col { display: flex; flex-direction: column; flex-basis: 100%; flex: 1; padding: 10px; }\n",
              "    </style>\n",
              "<div class=\"wandb-row\"><div class=\"wandb-col\"><h3>Run history:</h3><br/><table class=\"wandb\"><tr><td>epoch</td><td>▁▂▃▄▅▇█▁▃▄▅▆▇▁▂▃▄▅▆█▁▂▃▅▆▇█▂▃▄▅▆▇▁▂▃▄▆▇█</td></tr></table><br/></div><div class=\"wandb-col\"><h3>Run summary:</h3><br/><table class=\"wandb\"><tr><td>epoch</td><td>149</td></tr><tr><td>mean_cv_accuracy</td><td>0.82452</td></tr><tr><td>train_auc</td><td>0.94367</td></tr><tr><td>train_ks_stat</td><td>0.77049</td></tr><tr><td>train_log_loss</td><td>0.29778</td></tr><tr><td>val_acc_0.5</td><td>0.82682</td></tr><tr><td>val_acc_best_trh</td><td>0.82682</td></tr><tr><td>val_auc</td><td>0.84967</td></tr><tr><td>val_ks_2samp</td><td>0.63175</td></tr><tr><td>val_ks_pval</td><td>0.0</td></tr><tr><td>val_log_loss</td><td>0.44928</td></tr></table><br/></div></div>"
            ],
            "text/plain": [
              "<IPython.core.display.HTML object>"
            ]
          },
          "metadata": {},
          "output_type": "display_data"
        },
        {
          "data": {
            "text/html": [
              " View run <strong style=\"color:#cdcd00\">usual-sweep-13</strong> at: <a href='https://wandb.ai/max-deep/titanic_survived/runs/puwreopo' target=\"_blank\">https://wandb.ai/max-deep/titanic_survived/runs/puwreopo</a><br/>Synced 4 W&B file(s), 6 media file(s), 12 artifact file(s) and 1 other file(s)"
            ],
            "text/plain": [
              "<IPython.core.display.HTML object>"
            ]
          },
          "metadata": {},
          "output_type": "display_data"
        },
        {
          "data": {
            "text/html": [
              "Find logs at: <code>.\\wandb\\run-20231005_122024-puwreopo\\logs</code>"
            ],
            "text/plain": [
              "<IPython.core.display.HTML object>"
            ]
          },
          "metadata": {},
          "output_type": "display_data"
        },
        {
          "name": "stderr",
          "output_type": "stream",
          "text": [
            "\u001b[34m\u001b[1mwandb\u001b[0m: Agent Starting Run: ayq8bvnj with config:\n",
            "\u001b[34m\u001b[1mwandb\u001b[0m: \tcolsample_bytree: 0.7760052912194374\n",
            "\u001b[34m\u001b[1mwandb\u001b[0m: \tlearning_rate: 0.40128049751498623\n",
            "\u001b[34m\u001b[1mwandb\u001b[0m: \tmax_depth: 8\n",
            "\u001b[34m\u001b[1mwandb\u001b[0m: \tmin_child_weight: 10\n",
            "\u001b[34m\u001b[1mwandb\u001b[0m: \tn_estimators: 120\n",
            "\u001b[34m\u001b[1mwandb\u001b[0m: \tsubsample: 0.8454266224230134\n"
          ]
        },
        {
          "data": {
            "text/html": [
              "wandb version 0.15.12 is available!  To upgrade, please run:\n",
              " $ pip install wandb --upgrade"
            ],
            "text/plain": [
              "<IPython.core.display.HTML object>"
            ]
          },
          "metadata": {},
          "output_type": "display_data"
        },
        {
          "data": {
            "text/html": [
              "Tracking run with wandb version 0.15.11"
            ],
            "text/plain": [
              "<IPython.core.display.HTML object>"
            ]
          },
          "metadata": {},
          "output_type": "display_data"
        },
        {
          "data": {
            "text/html": [
              "Run data is saved locally in <code>c:\\Users\\Maxpo\\Documents\\GitHub\\tabular-data-prediction-pipeline\\wandb\\run-20231005_122101-ayq8bvnj</code>"
            ],
            "text/plain": [
              "<IPython.core.display.HTML object>"
            ]
          },
          "metadata": {},
          "output_type": "display_data"
        },
        {
          "data": {
            "text/html": [
              "Syncing run <strong><a href='https://wandb.ai/max-deep/titanic_survived/runs/ayq8bvnj' target=\"_blank\">chocolate-sweep-14</a></strong> to <a href='https://wandb.ai/max-deep/titanic_survived' target=\"_blank\">Weights & Biases</a> (<a href='https://wandb.me/run' target=\"_blank\">docs</a>)<br/>Sweep page: <a href='https://wandb.ai/max-deep/titanic_survived/sweeps/6zycoh6c' target=\"_blank\">https://wandb.ai/max-deep/titanic_survived/sweeps/6zycoh6c</a>"
            ],
            "text/plain": [
              "<IPython.core.display.HTML object>"
            ]
          },
          "metadata": {},
          "output_type": "display_data"
        },
        {
          "data": {
            "text/html": [
              " View project at <a href='https://wandb.ai/max-deep/titanic_survived' target=\"_blank\">https://wandb.ai/max-deep/titanic_survived</a>"
            ],
            "text/plain": [
              "<IPython.core.display.HTML object>"
            ]
          },
          "metadata": {},
          "output_type": "display_data"
        },
        {
          "data": {
            "text/html": [
              " View sweep at <a href='https://wandb.ai/max-deep/titanic_survived/sweeps/6zycoh6c' target=\"_blank\">https://wandb.ai/max-deep/titanic_survived/sweeps/6zycoh6c</a>"
            ],
            "text/plain": [
              "<IPython.core.display.HTML object>"
            ]
          },
          "metadata": {},
          "output_type": "display_data"
        },
        {
          "data": {
            "text/html": [
              " View run at <a href='https://wandb.ai/max-deep/titanic_survived/runs/ayq8bvnj' target=\"_blank\">https://wandb.ai/max-deep/titanic_survived/runs/ayq8bvnj</a>"
            ],
            "text/plain": [
              "<IPython.core.display.HTML object>"
            ]
          },
          "metadata": {},
          "output_type": "display_data"
        },
        {
          "data": {
            "text/html": [
              "Waiting for W&B process to finish... <strong style=\"color:green\">(success).</strong>"
            ],
            "text/plain": [
              "<IPython.core.display.HTML object>"
            ]
          },
          "metadata": {},
          "output_type": "display_data"
        },
        {
          "data": {
            "text/html": [
              "<style>\n",
              "    table.wandb td:nth-child(1) { padding: 0 10px; text-align: left ; width: auto;} td:nth-child(2) {text-align: left ; width: 100%}\n",
              "    .wandb-row { display: flex; flex-direction: row; flex-wrap: wrap; justify-content: flex-start; width: 100% }\n",
              "    .wandb-col { display: flex; flex-direction: column; flex-basis: 100%; flex: 1; padding: 10px; }\n",
              "    </style>\n",
              "<div class=\"wandb-row\"><div class=\"wandb-col\"><h3>Run history:</h3><br/><table class=\"wandb\"><tr><td>epoch</td><td>▁▂▃▄▅▇▇▁▃▃▅▆▇█▁▃▄▅▇▇▁▂▃▅▅▇█▁▃▄▅▆▇▁▂▃▅▅▇█</td></tr></table><br/></div><div class=\"wandb-col\"><h3>Run summary:</h3><br/><table class=\"wandb\"><tr><td>epoch</td><td>119</td></tr><tr><td>mean_cv_accuracy</td><td>0.82173</td></tr><tr><td>train_auc</td><td>0.94666</td></tr><tr><td>train_ks_stat</td><td>0.7696</td></tr><tr><td>train_log_loss</td><td>0.29206</td></tr><tr><td>val_acc_0.5</td><td>0.84916</td></tr><tr><td>val_acc_best_trh</td><td>0.84916</td></tr><tr><td>val_auc</td><td>0.8581</td></tr><tr><td>val_ks_2samp</td><td>0.66271</td></tr><tr><td>val_ks_pval</td><td>0.0</td></tr><tr><td>val_log_loss</td><td>0.44023</td></tr></table><br/></div></div>"
            ],
            "text/plain": [
              "<IPython.core.display.HTML object>"
            ]
          },
          "metadata": {},
          "output_type": "display_data"
        },
        {
          "data": {
            "text/html": [
              " View run <strong style=\"color:#cdcd00\">chocolate-sweep-14</strong> at: <a href='https://wandb.ai/max-deep/titanic_survived/runs/ayq8bvnj' target=\"_blank\">https://wandb.ai/max-deep/titanic_survived/runs/ayq8bvnj</a><br/>Synced 4 W&B file(s), 6 media file(s), 12 artifact file(s) and 1 other file(s)"
            ],
            "text/plain": [
              "<IPython.core.display.HTML object>"
            ]
          },
          "metadata": {},
          "output_type": "display_data"
        },
        {
          "data": {
            "text/html": [
              "Find logs at: <code>.\\wandb\\run-20231005_122101-ayq8bvnj\\logs</code>"
            ],
            "text/plain": [
              "<IPython.core.display.HTML object>"
            ]
          },
          "metadata": {},
          "output_type": "display_data"
        },
        {
          "name": "stderr",
          "output_type": "stream",
          "text": [
            "\u001b[34m\u001b[1mwandb\u001b[0m: Agent Starting Run: mwbks8me with config:\n",
            "\u001b[34m\u001b[1mwandb\u001b[0m: \tcolsample_bytree: 0.7307667973262901\n",
            "\u001b[34m\u001b[1mwandb\u001b[0m: \tlearning_rate: 0.28759001399543443\n",
            "\u001b[34m\u001b[1mwandb\u001b[0m: \tmax_depth: 8\n",
            "\u001b[34m\u001b[1mwandb\u001b[0m: \tmin_child_weight: 10\n",
            "\u001b[34m\u001b[1mwandb\u001b[0m: \tn_estimators: 120\n",
            "\u001b[34m\u001b[1mwandb\u001b[0m: \tsubsample: 0.878806377085001\n"
          ]
        },
        {
          "data": {
            "text/html": [
              "wandb version 0.15.12 is available!  To upgrade, please run:\n",
              " $ pip install wandb --upgrade"
            ],
            "text/plain": [
              "<IPython.core.display.HTML object>"
            ]
          },
          "metadata": {},
          "output_type": "display_data"
        },
        {
          "data": {
            "text/html": [
              "Tracking run with wandb version 0.15.11"
            ],
            "text/plain": [
              "<IPython.core.display.HTML object>"
            ]
          },
          "metadata": {},
          "output_type": "display_data"
        },
        {
          "data": {
            "text/html": [
              "Run data is saved locally in <code>c:\\Users\\Maxpo\\Documents\\GitHub\\tabular-data-prediction-pipeline\\wandb\\run-20231005_122138-mwbks8me</code>"
            ],
            "text/plain": [
              "<IPython.core.display.HTML object>"
            ]
          },
          "metadata": {},
          "output_type": "display_data"
        },
        {
          "data": {
            "text/html": [
              "Syncing run <strong><a href='https://wandb.ai/max-deep/titanic_survived/runs/mwbks8me' target=\"_blank\">expert-sweep-15</a></strong> to <a href='https://wandb.ai/max-deep/titanic_survived' target=\"_blank\">Weights & Biases</a> (<a href='https://wandb.me/run' target=\"_blank\">docs</a>)<br/>Sweep page: <a href='https://wandb.ai/max-deep/titanic_survived/sweeps/6zycoh6c' target=\"_blank\">https://wandb.ai/max-deep/titanic_survived/sweeps/6zycoh6c</a>"
            ],
            "text/plain": [
              "<IPython.core.display.HTML object>"
            ]
          },
          "metadata": {},
          "output_type": "display_data"
        },
        {
          "data": {
            "text/html": [
              " View project at <a href='https://wandb.ai/max-deep/titanic_survived' target=\"_blank\">https://wandb.ai/max-deep/titanic_survived</a>"
            ],
            "text/plain": [
              "<IPython.core.display.HTML object>"
            ]
          },
          "metadata": {},
          "output_type": "display_data"
        },
        {
          "data": {
            "text/html": [
              " View sweep at <a href='https://wandb.ai/max-deep/titanic_survived/sweeps/6zycoh6c' target=\"_blank\">https://wandb.ai/max-deep/titanic_survived/sweeps/6zycoh6c</a>"
            ],
            "text/plain": [
              "<IPython.core.display.HTML object>"
            ]
          },
          "metadata": {},
          "output_type": "display_data"
        },
        {
          "data": {
            "text/html": [
              " View run at <a href='https://wandb.ai/max-deep/titanic_survived/runs/mwbks8me' target=\"_blank\">https://wandb.ai/max-deep/titanic_survived/runs/mwbks8me</a>"
            ],
            "text/plain": [
              "<IPython.core.display.HTML object>"
            ]
          },
          "metadata": {},
          "output_type": "display_data"
        },
        {
          "data": {
            "text/html": [
              "Waiting for W&B process to finish... <strong style=\"color:green\">(success).</strong>"
            ],
            "text/plain": [
              "<IPython.core.display.HTML object>"
            ]
          },
          "metadata": {},
          "output_type": "display_data"
        },
        {
          "data": {
            "text/html": [
              "<style>\n",
              "    table.wandb td:nth-child(1) { padding: 0 10px; text-align: left ; width: auto;} td:nth-child(2) {text-align: left ; width: 100%}\n",
              "    .wandb-row { display: flex; flex-direction: row; flex-wrap: wrap; justify-content: flex-start; width: 100% }\n",
              "    .wandb-col { display: flex; flex-direction: column; flex-basis: 100%; flex: 1; padding: 10px; }\n",
              "    </style>\n",
              "<div class=\"wandb-row\"><div class=\"wandb-col\"><h3>Run history:</h3><br/><table class=\"wandb\"><tr><td>epoch</td><td>▁▂▃▄▅▇▇▁▃▃▅▆▇█▁▃▄▅▇▇▁▂▃▅▅▇█▁▃▄▅▆▇▁▂▃▅▅▇█</td></tr></table><br/></div><div class=\"wandb-col\"><h3>Run summary:</h3><br/><table class=\"wandb\"><tr><td>epoch</td><td>119</td></tr><tr><td>mean_cv_accuracy</td><td>0.82173</td></tr><tr><td>train_auc</td><td>0.9379</td></tr><tr><td>train_ks_stat</td><td>0.74396</td></tr><tr><td>train_log_loss</td><td>0.31147</td></tr><tr><td>val_acc_0.5</td><td>0.81564</td></tr><tr><td>val_acc_best_trh</td><td>0.82123</td></tr><tr><td>val_auc</td><td>0.83867</td></tr><tr><td>val_ks_2samp</td><td>0.61186</td></tr><tr><td>val_ks_pval</td><td>0.0</td></tr><tr><td>val_log_loss</td><td>0.45902</td></tr></table><br/></div></div>"
            ],
            "text/plain": [
              "<IPython.core.display.HTML object>"
            ]
          },
          "metadata": {},
          "output_type": "display_data"
        },
        {
          "data": {
            "text/html": [
              " View run <strong style=\"color:#cdcd00\">expert-sweep-15</strong> at: <a href='https://wandb.ai/max-deep/titanic_survived/runs/mwbks8me' target=\"_blank\">https://wandb.ai/max-deep/titanic_survived/runs/mwbks8me</a><br/>Synced 4 W&B file(s), 6 media file(s), 12 artifact file(s) and 1 other file(s)"
            ],
            "text/plain": [
              "<IPython.core.display.HTML object>"
            ]
          },
          "metadata": {},
          "output_type": "display_data"
        },
        {
          "data": {
            "text/html": [
              "Find logs at: <code>.\\wandb\\run-20231005_122138-mwbks8me\\logs</code>"
            ],
            "text/plain": [
              "<IPython.core.display.HTML object>"
            ]
          },
          "metadata": {},
          "output_type": "display_data"
        },
        {
          "name": "stderr",
          "output_type": "stream",
          "text": [
            "\u001b[34m\u001b[1mwandb\u001b[0m: Agent Starting Run: dc3iiqyp with config:\n",
            "\u001b[34m\u001b[1mwandb\u001b[0m: \tcolsample_bytree: 0.8529614158239565\n",
            "\u001b[34m\u001b[1mwandb\u001b[0m: \tlearning_rate: 0.002783100407446607\n",
            "\u001b[34m\u001b[1mwandb\u001b[0m: \tmax_depth: 5\n",
            "\u001b[34m\u001b[1mwandb\u001b[0m: \tmin_child_weight: 4\n",
            "\u001b[34m\u001b[1mwandb\u001b[0m: \tn_estimators: 120\n",
            "\u001b[34m\u001b[1mwandb\u001b[0m: \tsubsample: 0.7333095093837492\n"
          ]
        },
        {
          "data": {
            "text/html": [
              "wandb version 0.15.12 is available!  To upgrade, please run:\n",
              " $ pip install wandb --upgrade"
            ],
            "text/plain": [
              "<IPython.core.display.HTML object>"
            ]
          },
          "metadata": {},
          "output_type": "display_data"
        },
        {
          "data": {
            "text/html": [
              "Tracking run with wandb version 0.15.11"
            ],
            "text/plain": [
              "<IPython.core.display.HTML object>"
            ]
          },
          "metadata": {},
          "output_type": "display_data"
        },
        {
          "data": {
            "text/html": [
              "Run data is saved locally in <code>c:\\Users\\Maxpo\\Documents\\GitHub\\tabular-data-prediction-pipeline\\wandb\\run-20231005_122214-dc3iiqyp</code>"
            ],
            "text/plain": [
              "<IPython.core.display.HTML object>"
            ]
          },
          "metadata": {},
          "output_type": "display_data"
        },
        {
          "data": {
            "text/html": [
              "Syncing run <strong><a href='https://wandb.ai/max-deep/titanic_survived/runs/dc3iiqyp' target=\"_blank\">fiery-sweep-16</a></strong> to <a href='https://wandb.ai/max-deep/titanic_survived' target=\"_blank\">Weights & Biases</a> (<a href='https://wandb.me/run' target=\"_blank\">docs</a>)<br/>Sweep page: <a href='https://wandb.ai/max-deep/titanic_survived/sweeps/6zycoh6c' target=\"_blank\">https://wandb.ai/max-deep/titanic_survived/sweeps/6zycoh6c</a>"
            ],
            "text/plain": [
              "<IPython.core.display.HTML object>"
            ]
          },
          "metadata": {},
          "output_type": "display_data"
        },
        {
          "data": {
            "text/html": [
              " View project at <a href='https://wandb.ai/max-deep/titanic_survived' target=\"_blank\">https://wandb.ai/max-deep/titanic_survived</a>"
            ],
            "text/plain": [
              "<IPython.core.display.HTML object>"
            ]
          },
          "metadata": {},
          "output_type": "display_data"
        },
        {
          "data": {
            "text/html": [
              " View sweep at <a href='https://wandb.ai/max-deep/titanic_survived/sweeps/6zycoh6c' target=\"_blank\">https://wandb.ai/max-deep/titanic_survived/sweeps/6zycoh6c</a>"
            ],
            "text/plain": [
              "<IPython.core.display.HTML object>"
            ]
          },
          "metadata": {},
          "output_type": "display_data"
        },
        {
          "data": {
            "text/html": [
              " View run at <a href='https://wandb.ai/max-deep/titanic_survived/runs/dc3iiqyp' target=\"_blank\">https://wandb.ai/max-deep/titanic_survived/runs/dc3iiqyp</a>"
            ],
            "text/plain": [
              "<IPython.core.display.HTML object>"
            ]
          },
          "metadata": {},
          "output_type": "display_data"
        },
        {
          "data": {
            "text/html": [
              "Waiting for W&B process to finish... <strong style=\"color:green\">(success).</strong>"
            ],
            "text/plain": [
              "<IPython.core.display.HTML object>"
            ]
          },
          "metadata": {},
          "output_type": "display_data"
        },
        {
          "data": {
            "text/html": [
              "<style>\n",
              "    table.wandb td:nth-child(1) { padding: 0 10px; text-align: left ; width: auto;} td:nth-child(2) {text-align: left ; width: 100%}\n",
              "    .wandb-row { display: flex; flex-direction: row; flex-wrap: wrap; justify-content: flex-start; width: 100% }\n",
              "    .wandb-col { display: flex; flex-direction: column; flex-basis: 100%; flex: 1; padding: 10px; }\n",
              "    </style>\n",
              "<div class=\"wandb-row\"><div class=\"wandb-col\"><h3>Run history:</h3><br/><table class=\"wandb\"><tr><td>epoch</td><td>▁▂▃▄▅▇▇▁▃▃▅▆▇█▁▃▄▅▇▇▁▂▃▅▅▇█▁▃▄▅▆▇▁▂▃▅▅▇█</td></tr></table><br/></div><div class=\"wandb-col\"><h3>Run summary:</h3><br/><table class=\"wandb\"><tr><td>epoch</td><td>119</td></tr><tr><td>mean_cv_accuracy</td><td>0.78937</td></tr><tr><td>train_auc</td><td>0.89258</td></tr><tr><td>train_ks_stat</td><td>0.65069</td></tr><tr><td>train_log_loss</td><td>0.56389</td></tr><tr><td>val_acc_0.5</td><td>0.77654</td></tr><tr><td>val_acc_best_trh</td><td>0.7933</td></tr><tr><td>val_auc</td><td>0.83406</td></tr><tr><td>val_ks_2samp</td><td>0.57181</td></tr><tr><td>val_ks_pval</td><td>0.0</td></tr><tr><td>val_log_loss</td><td>0.58147</td></tr></table><br/></div></div>"
            ],
            "text/plain": [
              "<IPython.core.display.HTML object>"
            ]
          },
          "metadata": {},
          "output_type": "display_data"
        },
        {
          "data": {
            "text/html": [
              " View run <strong style=\"color:#cdcd00\">fiery-sweep-16</strong> at: <a href='https://wandb.ai/max-deep/titanic_survived/runs/dc3iiqyp' target=\"_blank\">https://wandb.ai/max-deep/titanic_survived/runs/dc3iiqyp</a><br/>Synced 4 W&B file(s), 6 media file(s), 12 artifact file(s) and 1 other file(s)"
            ],
            "text/plain": [
              "<IPython.core.display.HTML object>"
            ]
          },
          "metadata": {},
          "output_type": "display_data"
        },
        {
          "data": {
            "text/html": [
              "Find logs at: <code>.\\wandb\\run-20231005_122214-dc3iiqyp\\logs</code>"
            ],
            "text/plain": [
              "<IPython.core.display.HTML object>"
            ]
          },
          "metadata": {},
          "output_type": "display_data"
        },
        {
          "name": "stderr",
          "output_type": "stream",
          "text": [
            "\u001b[34m\u001b[1mwandb\u001b[0m: Agent Starting Run: 1738lj5s with config:\n",
            "\u001b[34m\u001b[1mwandb\u001b[0m: \tcolsample_bytree: 0.7802949199088733\n",
            "\u001b[34m\u001b[1mwandb\u001b[0m: \tlearning_rate: 0.4516469612902387\n",
            "\u001b[34m\u001b[1mwandb\u001b[0m: \tmax_depth: 7\n",
            "\u001b[34m\u001b[1mwandb\u001b[0m: \tmin_child_weight: 9\n",
            "\u001b[34m\u001b[1mwandb\u001b[0m: \tn_estimators: 150\n",
            "\u001b[34m\u001b[1mwandb\u001b[0m: \tsubsample: 0.8519599813893254\n"
          ]
        },
        {
          "data": {
            "text/html": [
              "wandb version 0.15.12 is available!  To upgrade, please run:\n",
              " $ pip install wandb --upgrade"
            ],
            "text/plain": [
              "<IPython.core.display.HTML object>"
            ]
          },
          "metadata": {},
          "output_type": "display_data"
        },
        {
          "data": {
            "text/html": [
              "Tracking run with wandb version 0.15.11"
            ],
            "text/plain": [
              "<IPython.core.display.HTML object>"
            ]
          },
          "metadata": {},
          "output_type": "display_data"
        },
        {
          "data": {
            "text/html": [
              "Run data is saved locally in <code>c:\\Users\\Maxpo\\Documents\\GitHub\\tabular-data-prediction-pipeline\\wandb\\run-20231005_122250-1738lj5s</code>"
            ],
            "text/plain": [
              "<IPython.core.display.HTML object>"
            ]
          },
          "metadata": {},
          "output_type": "display_data"
        },
        {
          "data": {
            "text/html": [
              "Syncing run <strong><a href='https://wandb.ai/max-deep/titanic_survived/runs/1738lj5s' target=\"_blank\">chocolate-sweep-17</a></strong> to <a href='https://wandb.ai/max-deep/titanic_survived' target=\"_blank\">Weights & Biases</a> (<a href='https://wandb.me/run' target=\"_blank\">docs</a>)<br/>Sweep page: <a href='https://wandb.ai/max-deep/titanic_survived/sweeps/6zycoh6c' target=\"_blank\">https://wandb.ai/max-deep/titanic_survived/sweeps/6zycoh6c</a>"
            ],
            "text/plain": [
              "<IPython.core.display.HTML object>"
            ]
          },
          "metadata": {},
          "output_type": "display_data"
        },
        {
          "data": {
            "text/html": [
              " View project at <a href='https://wandb.ai/max-deep/titanic_survived' target=\"_blank\">https://wandb.ai/max-deep/titanic_survived</a>"
            ],
            "text/plain": [
              "<IPython.core.display.HTML object>"
            ]
          },
          "metadata": {},
          "output_type": "display_data"
        },
        {
          "data": {
            "text/html": [
              " View sweep at <a href='https://wandb.ai/max-deep/titanic_survived/sweeps/6zycoh6c' target=\"_blank\">https://wandb.ai/max-deep/titanic_survived/sweeps/6zycoh6c</a>"
            ],
            "text/plain": [
              "<IPython.core.display.HTML object>"
            ]
          },
          "metadata": {},
          "output_type": "display_data"
        },
        {
          "data": {
            "text/html": [
              " View run at <a href='https://wandb.ai/max-deep/titanic_survived/runs/1738lj5s' target=\"_blank\">https://wandb.ai/max-deep/titanic_survived/runs/1738lj5s</a>"
            ],
            "text/plain": [
              "<IPython.core.display.HTML object>"
            ]
          },
          "metadata": {},
          "output_type": "display_data"
        },
        {
          "data": {
            "text/html": [
              "Waiting for W&B process to finish... <strong style=\"color:green\">(success).</strong>"
            ],
            "text/plain": [
              "<IPython.core.display.HTML object>"
            ]
          },
          "metadata": {},
          "output_type": "display_data"
        },
        {
          "data": {
            "text/html": [
              "<style>\n",
              "    table.wandb td:nth-child(1) { padding: 0 10px; text-align: left ; width: auto;} td:nth-child(2) {text-align: left ; width: 100%}\n",
              "    .wandb-row { display: flex; flex-direction: row; flex-wrap: wrap; justify-content: flex-start; width: 100% }\n",
              "    .wandb-col { display: flex; flex-direction: column; flex-basis: 100%; flex: 1; padding: 10px; }\n",
              "    </style>\n",
              "<div class=\"wandb-row\"><div class=\"wandb-col\"><h3>Run history:</h3><br/><table class=\"wandb\"><tr><td>epoch</td><td>▁▂▃▄▅▇█▁▃▄▅▆▇▁▂▃▄▅▆█▁▂▃▅▆▇█▂▃▄▅▆▇▁▂▃▄▆▇█</td></tr></table><br/></div><div class=\"wandb-col\"><h3>Run summary:</h3><br/><table class=\"wandb\"><tr><td>epoch</td><td>149</td></tr><tr><td>mean_cv_accuracy</td><td>0.82731</td></tr><tr><td>train_auc</td><td>0.95816</td></tr><tr><td>train_ks_stat</td><td>0.80247</td></tr><tr><td>train_log_loss</td><td>0.25873</td></tr><tr><td>val_acc_0.5</td><td>0.8324</td></tr><tr><td>val_acc_best_trh</td><td>0.82682</td></tr><tr><td>val_auc</td><td>0.85751</td></tr><tr><td>val_ks_2samp</td><td>0.63175</td></tr><tr><td>val_ks_pval</td><td>0.0</td></tr><tr><td>val_log_loss</td><td>0.45383</td></tr></table><br/></div></div>"
            ],
            "text/plain": [
              "<IPython.core.display.HTML object>"
            ]
          },
          "metadata": {},
          "output_type": "display_data"
        },
        {
          "data": {
            "text/html": [
              " View run <strong style=\"color:#cdcd00\">chocolate-sweep-17</strong> at: <a href='https://wandb.ai/max-deep/titanic_survived/runs/1738lj5s' target=\"_blank\">https://wandb.ai/max-deep/titanic_survived/runs/1738lj5s</a><br/>Synced 4 W&B file(s), 6 media file(s), 12 artifact file(s) and 1 other file(s)"
            ],
            "text/plain": [
              "<IPython.core.display.HTML object>"
            ]
          },
          "metadata": {},
          "output_type": "display_data"
        },
        {
          "data": {
            "text/html": [
              "Find logs at: <code>.\\wandb\\run-20231005_122250-1738lj5s\\logs</code>"
            ],
            "text/plain": [
              "<IPython.core.display.HTML object>"
            ]
          },
          "metadata": {},
          "output_type": "display_data"
        },
        {
          "name": "stderr",
          "output_type": "stream",
          "text": [
            "\u001b[34m\u001b[1mwandb\u001b[0m: Agent Starting Run: 7u1y7f7v with config:\n",
            "\u001b[34m\u001b[1mwandb\u001b[0m: \tcolsample_bytree: 0.6386359181594892\n",
            "\u001b[34m\u001b[1mwandb\u001b[0m: \tlearning_rate: 0.8174156718685474\n",
            "\u001b[34m\u001b[1mwandb\u001b[0m: \tmax_depth: 3\n",
            "\u001b[34m\u001b[1mwandb\u001b[0m: \tmin_child_weight: 1\n",
            "\u001b[34m\u001b[1mwandb\u001b[0m: \tn_estimators: 120\n",
            "\u001b[34m\u001b[1mwandb\u001b[0m: \tsubsample: 0.7813006594773078\n"
          ]
        },
        {
          "data": {
            "text/html": [
              "wandb version 0.15.12 is available!  To upgrade, please run:\n",
              " $ pip install wandb --upgrade"
            ],
            "text/plain": [
              "<IPython.core.display.HTML object>"
            ]
          },
          "metadata": {},
          "output_type": "display_data"
        },
        {
          "data": {
            "text/html": [
              "Tracking run with wandb version 0.15.11"
            ],
            "text/plain": [
              "<IPython.core.display.HTML object>"
            ]
          },
          "metadata": {},
          "output_type": "display_data"
        },
        {
          "data": {
            "text/html": [
              "Run data is saved locally in <code>c:\\Users\\Maxpo\\Documents\\GitHub\\tabular-data-prediction-pipeline\\wandb\\run-20231005_122327-7u1y7f7v</code>"
            ],
            "text/plain": [
              "<IPython.core.display.HTML object>"
            ]
          },
          "metadata": {},
          "output_type": "display_data"
        },
        {
          "data": {
            "text/html": [
              "Syncing run <strong><a href='https://wandb.ai/max-deep/titanic_survived/runs/7u1y7f7v' target=\"_blank\">brisk-sweep-18</a></strong> to <a href='https://wandb.ai/max-deep/titanic_survived' target=\"_blank\">Weights & Biases</a> (<a href='https://wandb.me/run' target=\"_blank\">docs</a>)<br/>Sweep page: <a href='https://wandb.ai/max-deep/titanic_survived/sweeps/6zycoh6c' target=\"_blank\">https://wandb.ai/max-deep/titanic_survived/sweeps/6zycoh6c</a>"
            ],
            "text/plain": [
              "<IPython.core.display.HTML object>"
            ]
          },
          "metadata": {},
          "output_type": "display_data"
        },
        {
          "data": {
            "text/html": [
              " View project at <a href='https://wandb.ai/max-deep/titanic_survived' target=\"_blank\">https://wandb.ai/max-deep/titanic_survived</a>"
            ],
            "text/plain": [
              "<IPython.core.display.HTML object>"
            ]
          },
          "metadata": {},
          "output_type": "display_data"
        },
        {
          "data": {
            "text/html": [
              " View sweep at <a href='https://wandb.ai/max-deep/titanic_survived/sweeps/6zycoh6c' target=\"_blank\">https://wandb.ai/max-deep/titanic_survived/sweeps/6zycoh6c</a>"
            ],
            "text/plain": [
              "<IPython.core.display.HTML object>"
            ]
          },
          "metadata": {},
          "output_type": "display_data"
        },
        {
          "data": {
            "text/html": [
              " View run at <a href='https://wandb.ai/max-deep/titanic_survived/runs/7u1y7f7v' target=\"_blank\">https://wandb.ai/max-deep/titanic_survived/runs/7u1y7f7v</a>"
            ],
            "text/plain": [
              "<IPython.core.display.HTML object>"
            ]
          },
          "metadata": {},
          "output_type": "display_data"
        },
        {
          "data": {
            "text/html": [
              "Waiting for W&B process to finish... <strong style=\"color:green\">(success).</strong>"
            ],
            "text/plain": [
              "<IPython.core.display.HTML object>"
            ]
          },
          "metadata": {},
          "output_type": "display_data"
        },
        {
          "data": {
            "text/html": [
              "<style>\n",
              "    table.wandb td:nth-child(1) { padding: 0 10px; text-align: left ; width: auto;} td:nth-child(2) {text-align: left ; width: 100%}\n",
              "    .wandb-row { display: flex; flex-direction: row; flex-wrap: wrap; justify-content: flex-start; width: 100% }\n",
              "    .wandb-col { display: flex; flex-direction: column; flex-basis: 100%; flex: 1; padding: 10px; }\n",
              "    </style>\n",
              "<div class=\"wandb-row\"><div class=\"wandb-col\"><h3>Run history:</h3><br/><table class=\"wandb\"><tr><td>epoch</td><td>▁▂▃▄▅▇▇▁▃▃▅▆▇█▁▃▄▅▇▇▁▂▃▅▅▇█▁▃▄▅▆▇▁▂▃▅▅▇█</td></tr></table><br/></div><div class=\"wandb-col\"><h3>Run summary:</h3><br/><table class=\"wandb\"><tr><td>epoch</td><td>119</td></tr><tr><td>mean_cv_accuracy</td><td>0.79641</td></tr><tr><td>train_auc</td><td>0.98577</td></tr><tr><td>train_ks_stat</td><td>0.87653</td></tr><tr><td>train_log_loss</td><td>0.15769</td></tr><tr><td>val_acc_0.5</td><td>0.77654</td></tr><tr><td>val_acc_best_trh</td><td>0.81564</td></tr><tr><td>val_auc</td><td>0.83781</td></tr><tr><td>val_ks_2samp</td><td>0.56495</td></tr><tr><td>val_ks_pval</td><td>0.0</td></tr><tr><td>val_log_loss</td><td>0.55834</td></tr></table><br/></div></div>"
            ],
            "text/plain": [
              "<IPython.core.display.HTML object>"
            ]
          },
          "metadata": {},
          "output_type": "display_data"
        },
        {
          "data": {
            "text/html": [
              " View run <strong style=\"color:#cdcd00\">brisk-sweep-18</strong> at: <a href='https://wandb.ai/max-deep/titanic_survived/runs/7u1y7f7v' target=\"_blank\">https://wandb.ai/max-deep/titanic_survived/runs/7u1y7f7v</a><br/>Synced 4 W&B file(s), 6 media file(s), 12 artifact file(s) and 1 other file(s)"
            ],
            "text/plain": [
              "<IPython.core.display.HTML object>"
            ]
          },
          "metadata": {},
          "output_type": "display_data"
        },
        {
          "data": {
            "text/html": [
              "Find logs at: <code>.\\wandb\\run-20231005_122327-7u1y7f7v\\logs</code>"
            ],
            "text/plain": [
              "<IPython.core.display.HTML object>"
            ]
          },
          "metadata": {},
          "output_type": "display_data"
        },
        {
          "name": "stderr",
          "output_type": "stream",
          "text": [
            "\u001b[34m\u001b[1mwandb\u001b[0m: Sweep Agent: Waiting for job.\n",
            "\u001b[34m\u001b[1mwandb\u001b[0m: Job received.\n",
            "\u001b[34m\u001b[1mwandb\u001b[0m: Agent Starting Run: 3stun3rc with config:\n",
            "\u001b[34m\u001b[1mwandb\u001b[0m: \tcolsample_bytree: 0.7579194549312767\n",
            "\u001b[34m\u001b[1mwandb\u001b[0m: \tlearning_rate: 0.5025109281715777\n",
            "\u001b[34m\u001b[1mwandb\u001b[0m: \tmax_depth: 10\n",
            "\u001b[34m\u001b[1mwandb\u001b[0m: \tmin_child_weight: 10\n",
            "\u001b[34m\u001b[1mwandb\u001b[0m: \tn_estimators: 120\n",
            "\u001b[34m\u001b[1mwandb\u001b[0m: \tsubsample: 0.8350665413886422\n"
          ]
        },
        {
          "data": {
            "text/html": [
              "wandb version 0.15.12 is available!  To upgrade, please run:\n",
              " $ pip install wandb --upgrade"
            ],
            "text/plain": [
              "<IPython.core.display.HTML object>"
            ]
          },
          "metadata": {},
          "output_type": "display_data"
        },
        {
          "data": {
            "text/html": [
              "Tracking run with wandb version 0.15.11"
            ],
            "text/plain": [
              "<IPython.core.display.HTML object>"
            ]
          },
          "metadata": {},
          "output_type": "display_data"
        },
        {
          "data": {
            "text/html": [
              "Run data is saved locally in <code>c:\\Users\\Maxpo\\Documents\\GitHub\\tabular-data-prediction-pipeline\\wandb\\run-20231005_122409-3stun3rc</code>"
            ],
            "text/plain": [
              "<IPython.core.display.HTML object>"
            ]
          },
          "metadata": {},
          "output_type": "display_data"
        },
        {
          "data": {
            "text/html": [
              "Syncing run <strong><a href='https://wandb.ai/max-deep/titanic_survived/runs/3stun3rc' target=\"_blank\">stilted-sweep-19</a></strong> to <a href='https://wandb.ai/max-deep/titanic_survived' target=\"_blank\">Weights & Biases</a> (<a href='https://wandb.me/run' target=\"_blank\">docs</a>)<br/>Sweep page: <a href='https://wandb.ai/max-deep/titanic_survived/sweeps/6zycoh6c' target=\"_blank\">https://wandb.ai/max-deep/titanic_survived/sweeps/6zycoh6c</a>"
            ],
            "text/plain": [
              "<IPython.core.display.HTML object>"
            ]
          },
          "metadata": {},
          "output_type": "display_data"
        },
        {
          "data": {
            "text/html": [
              " View project at <a href='https://wandb.ai/max-deep/titanic_survived' target=\"_blank\">https://wandb.ai/max-deep/titanic_survived</a>"
            ],
            "text/plain": [
              "<IPython.core.display.HTML object>"
            ]
          },
          "metadata": {},
          "output_type": "display_data"
        },
        {
          "data": {
            "text/html": [
              " View sweep at <a href='https://wandb.ai/max-deep/titanic_survived/sweeps/6zycoh6c' target=\"_blank\">https://wandb.ai/max-deep/titanic_survived/sweeps/6zycoh6c</a>"
            ],
            "text/plain": [
              "<IPython.core.display.HTML object>"
            ]
          },
          "metadata": {},
          "output_type": "display_data"
        },
        {
          "data": {
            "text/html": [
              " View run at <a href='https://wandb.ai/max-deep/titanic_survived/runs/3stun3rc' target=\"_blank\">https://wandb.ai/max-deep/titanic_survived/runs/3stun3rc</a>"
            ],
            "text/plain": [
              "<IPython.core.display.HTML object>"
            ]
          },
          "metadata": {},
          "output_type": "display_data"
        },
        {
          "data": {
            "text/html": [
              "Waiting for W&B process to finish... <strong style=\"color:green\">(success).</strong>"
            ],
            "text/plain": [
              "<IPython.core.display.HTML object>"
            ]
          },
          "metadata": {},
          "output_type": "display_data"
        },
        {
          "data": {
            "text/html": [
              "<style>\n",
              "    table.wandb td:nth-child(1) { padding: 0 10px; text-align: left ; width: auto;} td:nth-child(2) {text-align: left ; width: 100%}\n",
              "    .wandb-row { display: flex; flex-direction: row; flex-wrap: wrap; justify-content: flex-start; width: 100% }\n",
              "    .wandb-col { display: flex; flex-direction: column; flex-basis: 100%; flex: 1; padding: 10px; }\n",
              "    </style>\n",
              "<div class=\"wandb-row\"><div class=\"wandb-col\"><h3>Run history:</h3><br/><table class=\"wandb\"><tr><td>epoch</td><td>▁▂▃▄▅▇▇▁▃▃▅▆▇█▁▃▄▅▇▇▁▂▃▅▅▇█▁▃▄▅▆▇▁▂▃▅▅▇█</td></tr></table><br/></div><div class=\"wandb-col\"><h3>Run summary:</h3><br/><table class=\"wandb\"><tr><td>epoch</td><td>119</td></tr><tr><td>mean_cv_accuracy</td><td>0.81889</td></tr><tr><td>train_auc</td><td>0.95204</td></tr><tr><td>train_ks_stat</td><td>0.78742</td></tr><tr><td>train_log_loss</td><td>0.27265</td></tr><tr><td>val_acc_0.5</td><td>0.83799</td></tr><tr><td>val_acc_best_trh</td><td>0.83799</td></tr><tr><td>val_auc</td><td>0.86107</td></tr><tr><td>val_ks_2samp</td><td>0.63913</td></tr><tr><td>val_ks_pval</td><td>0.0</td></tr><tr><td>val_log_loss</td><td>0.44822</td></tr></table><br/></div></div>"
            ],
            "text/plain": [
              "<IPython.core.display.HTML object>"
            ]
          },
          "metadata": {},
          "output_type": "display_data"
        },
        {
          "data": {
            "text/html": [
              " View run <strong style=\"color:#cdcd00\">stilted-sweep-19</strong> at: <a href='https://wandb.ai/max-deep/titanic_survived/runs/3stun3rc' target=\"_blank\">https://wandb.ai/max-deep/titanic_survived/runs/3stun3rc</a><br/>Synced 4 W&B file(s), 6 media file(s), 12 artifact file(s) and 1 other file(s)"
            ],
            "text/plain": [
              "<IPython.core.display.HTML object>"
            ]
          },
          "metadata": {},
          "output_type": "display_data"
        },
        {
          "data": {
            "text/html": [
              "Find logs at: <code>.\\wandb\\run-20231005_122409-3stun3rc\\logs</code>"
            ],
            "text/plain": [
              "<IPython.core.display.HTML object>"
            ]
          },
          "metadata": {},
          "output_type": "display_data"
        },
        {
          "name": "stderr",
          "output_type": "stream",
          "text": [
            "\u001b[34m\u001b[1mwandb\u001b[0m: Agent Starting Run: 2fcqq1y5 with config:\n",
            "\u001b[34m\u001b[1mwandb\u001b[0m: \tcolsample_bytree: 0.771499512988475\n",
            "\u001b[34m\u001b[1mwandb\u001b[0m: \tlearning_rate: 0.5937620588044865\n",
            "\u001b[34m\u001b[1mwandb\u001b[0m: \tmax_depth: 9\n",
            "\u001b[34m\u001b[1mwandb\u001b[0m: \tmin_child_weight: 10\n",
            "\u001b[34m\u001b[1mwandb\u001b[0m: \tn_estimators: 150\n",
            "\u001b[34m\u001b[1mwandb\u001b[0m: \tsubsample: 0.8261216761132544\n"
          ]
        },
        {
          "data": {
            "text/html": [
              "wandb version 0.15.12 is available!  To upgrade, please run:\n",
              " $ pip install wandb --upgrade"
            ],
            "text/plain": [
              "<IPython.core.display.HTML object>"
            ]
          },
          "metadata": {},
          "output_type": "display_data"
        },
        {
          "data": {
            "text/html": [
              "Tracking run with wandb version 0.15.11"
            ],
            "text/plain": [
              "<IPython.core.display.HTML object>"
            ]
          },
          "metadata": {},
          "output_type": "display_data"
        },
        {
          "data": {
            "text/html": [
              "Run data is saved locally in <code>c:\\Users\\Maxpo\\Documents\\GitHub\\tabular-data-prediction-pipeline\\wandb\\run-20231005_122450-2fcqq1y5</code>"
            ],
            "text/plain": [
              "<IPython.core.display.HTML object>"
            ]
          },
          "metadata": {},
          "output_type": "display_data"
        },
        {
          "data": {
            "text/html": [
              "Syncing run <strong><a href='https://wandb.ai/max-deep/titanic_survived/runs/2fcqq1y5' target=\"_blank\">ethereal-sweep-20</a></strong> to <a href='https://wandb.ai/max-deep/titanic_survived' target=\"_blank\">Weights & Biases</a> (<a href='https://wandb.me/run' target=\"_blank\">docs</a>)<br/>Sweep page: <a href='https://wandb.ai/max-deep/titanic_survived/sweeps/6zycoh6c' target=\"_blank\">https://wandb.ai/max-deep/titanic_survived/sweeps/6zycoh6c</a>"
            ],
            "text/plain": [
              "<IPython.core.display.HTML object>"
            ]
          },
          "metadata": {},
          "output_type": "display_data"
        },
        {
          "data": {
            "text/html": [
              " View project at <a href='https://wandb.ai/max-deep/titanic_survived' target=\"_blank\">https://wandb.ai/max-deep/titanic_survived</a>"
            ],
            "text/plain": [
              "<IPython.core.display.HTML object>"
            ]
          },
          "metadata": {},
          "output_type": "display_data"
        },
        {
          "data": {
            "text/html": [
              " View sweep at <a href='https://wandb.ai/max-deep/titanic_survived/sweeps/6zycoh6c' target=\"_blank\">https://wandb.ai/max-deep/titanic_survived/sweeps/6zycoh6c</a>"
            ],
            "text/plain": [
              "<IPython.core.display.HTML object>"
            ]
          },
          "metadata": {},
          "output_type": "display_data"
        },
        {
          "data": {
            "text/html": [
              " View run at <a href='https://wandb.ai/max-deep/titanic_survived/runs/2fcqq1y5' target=\"_blank\">https://wandb.ai/max-deep/titanic_survived/runs/2fcqq1y5</a>"
            ],
            "text/plain": [
              "<IPython.core.display.HTML object>"
            ]
          },
          "metadata": {},
          "output_type": "display_data"
        },
        {
          "data": {
            "text/html": [
              "Waiting for W&B process to finish... <strong style=\"color:green\">(success).</strong>"
            ],
            "text/plain": [
              "<IPython.core.display.HTML object>"
            ]
          },
          "metadata": {},
          "output_type": "display_data"
        },
        {
          "data": {
            "text/html": [
              "<style>\n",
              "    table.wandb td:nth-child(1) { padding: 0 10px; text-align: left ; width: auto;} td:nth-child(2) {text-align: left ; width: 100%}\n",
              "    .wandb-row { display: flex; flex-direction: row; flex-wrap: wrap; justify-content: flex-start; width: 100% }\n",
              "    .wandb-col { display: flex; flex-direction: column; flex-basis: 100%; flex: 1; padding: 10px; }\n",
              "    </style>\n",
              "<div class=\"wandb-row\"><div class=\"wandb-col\"><h3>Run history:</h3><br/><table class=\"wandb\"><tr><td>epoch</td><td>▁▂▃▄▅▇█▁▃▄▅▆▇▁▂▃▄▅▆█▁▂▃▅▆▇█▂▃▄▅▆▇▁▂▃▄▆▇█</td></tr></table><br/></div><div class=\"wandb-col\"><h3>Run summary:</h3><br/><table class=\"wandb\"><tr><td>epoch</td><td>149</td></tr><tr><td>mean_cv_accuracy</td><td>0.83013</td></tr><tr><td>train_auc</td><td>0.95908</td></tr><tr><td>train_ks_stat</td><td>0.80672</td></tr><tr><td>train_log_loss</td><td>0.25782</td></tr><tr><td>val_acc_0.5</td><td>0.82123</td></tr><tr><td>val_acc_best_trh</td><td>0.83799</td></tr><tr><td>val_auc</td><td>0.85264</td></tr><tr><td>val_ks_2samp</td><td>0.61752</td></tr><tr><td>val_ks_pval</td><td>0.0</td></tr><tr><td>val_log_loss</td><td>0.46039</td></tr></table><br/></div></div>"
            ],
            "text/plain": [
              "<IPython.core.display.HTML object>"
            ]
          },
          "metadata": {},
          "output_type": "display_data"
        },
        {
          "data": {
            "text/html": [
              " View run <strong style=\"color:#cdcd00\">ethereal-sweep-20</strong> at: <a href='https://wandb.ai/max-deep/titanic_survived/runs/2fcqq1y5' target=\"_blank\">https://wandb.ai/max-deep/titanic_survived/runs/2fcqq1y5</a><br/>Synced 4 W&B file(s), 6 media file(s), 12 artifact file(s) and 1 other file(s)"
            ],
            "text/plain": [
              "<IPython.core.display.HTML object>"
            ]
          },
          "metadata": {},
          "output_type": "display_data"
        },
        {
          "data": {
            "text/html": [
              "Find logs at: <code>.\\wandb\\run-20231005_122450-2fcqq1y5\\logs</code>"
            ],
            "text/plain": [
              "<IPython.core.display.HTML object>"
            ]
          },
          "metadata": {},
          "output_type": "display_data"
        },
        {
          "name": "stderr",
          "output_type": "stream",
          "text": [
            "\u001b[34m\u001b[1mwandb\u001b[0m: Agent Starting Run: v6q9kj2t with config:\n",
            "\u001b[34m\u001b[1mwandb\u001b[0m: \tcolsample_bytree: 0.7826556041208204\n",
            "\u001b[34m\u001b[1mwandb\u001b[0m: \tlearning_rate: 0.514731443662801\n",
            "\u001b[34m\u001b[1mwandb\u001b[0m: \tmax_depth: 10\n",
            "\u001b[34m\u001b[1mwandb\u001b[0m: \tmin_child_weight: 10\n",
            "\u001b[34m\u001b[1mwandb\u001b[0m: \tn_estimators: 120\n",
            "\u001b[34m\u001b[1mwandb\u001b[0m: \tsubsample: 0.8843058774723268\n"
          ]
        },
        {
          "data": {
            "text/html": [
              "wandb version 0.15.12 is available!  To upgrade, please run:\n",
              " $ pip install wandb --upgrade"
            ],
            "text/plain": [
              "<IPython.core.display.HTML object>"
            ]
          },
          "metadata": {},
          "output_type": "display_data"
        },
        {
          "data": {
            "text/html": [
              "Tracking run with wandb version 0.15.11"
            ],
            "text/plain": [
              "<IPython.core.display.HTML object>"
            ]
          },
          "metadata": {},
          "output_type": "display_data"
        },
        {
          "data": {
            "text/html": [
              "Run data is saved locally in <code>c:\\Users\\Maxpo\\Documents\\GitHub\\tabular-data-prediction-pipeline\\wandb\\run-20231005_122527-v6q9kj2t</code>"
            ],
            "text/plain": [
              "<IPython.core.display.HTML object>"
            ]
          },
          "metadata": {},
          "output_type": "display_data"
        },
        {
          "data": {
            "text/html": [
              "Syncing run <strong><a href='https://wandb.ai/max-deep/titanic_survived/runs/v6q9kj2t' target=\"_blank\">northern-sweep-21</a></strong> to <a href='https://wandb.ai/max-deep/titanic_survived' target=\"_blank\">Weights & Biases</a> (<a href='https://wandb.me/run' target=\"_blank\">docs</a>)<br/>Sweep page: <a href='https://wandb.ai/max-deep/titanic_survived/sweeps/6zycoh6c' target=\"_blank\">https://wandb.ai/max-deep/titanic_survived/sweeps/6zycoh6c</a>"
            ],
            "text/plain": [
              "<IPython.core.display.HTML object>"
            ]
          },
          "metadata": {},
          "output_type": "display_data"
        },
        {
          "data": {
            "text/html": [
              " View project at <a href='https://wandb.ai/max-deep/titanic_survived' target=\"_blank\">https://wandb.ai/max-deep/titanic_survived</a>"
            ],
            "text/plain": [
              "<IPython.core.display.HTML object>"
            ]
          },
          "metadata": {},
          "output_type": "display_data"
        },
        {
          "data": {
            "text/html": [
              " View sweep at <a href='https://wandb.ai/max-deep/titanic_survived/sweeps/6zycoh6c' target=\"_blank\">https://wandb.ai/max-deep/titanic_survived/sweeps/6zycoh6c</a>"
            ],
            "text/plain": [
              "<IPython.core.display.HTML object>"
            ]
          },
          "metadata": {},
          "output_type": "display_data"
        },
        {
          "data": {
            "text/html": [
              " View run at <a href='https://wandb.ai/max-deep/titanic_survived/runs/v6q9kj2t' target=\"_blank\">https://wandb.ai/max-deep/titanic_survived/runs/v6q9kj2t</a>"
            ],
            "text/plain": [
              "<IPython.core.display.HTML object>"
            ]
          },
          "metadata": {},
          "output_type": "display_data"
        },
        {
          "data": {
            "text/html": [
              "Waiting for W&B process to finish... <strong style=\"color:green\">(success).</strong>"
            ],
            "text/plain": [
              "<IPython.core.display.HTML object>"
            ]
          },
          "metadata": {},
          "output_type": "display_data"
        },
        {
          "data": {
            "text/html": [
              "<style>\n",
              "    table.wandb td:nth-child(1) { padding: 0 10px; text-align: left ; width: auto;} td:nth-child(2) {text-align: left ; width: 100%}\n",
              "    .wandb-row { display: flex; flex-direction: row; flex-wrap: wrap; justify-content: flex-start; width: 100% }\n",
              "    .wandb-col { display: flex; flex-direction: column; flex-basis: 100%; flex: 1; padding: 10px; }\n",
              "    </style>\n",
              "<div class=\"wandb-row\"><div class=\"wandb-col\"><h3>Run history:</h3><br/><table class=\"wandb\"><tr><td>epoch</td><td>▁▂▃▄▅▇▇▁▃▃▅▆▇█▁▃▄▅▇▇▁▂▃▅▅▇█▁▃▄▅▆▇▁▂▃▅▅▇█</td></tr></table><br/></div><div class=\"wandb-col\"><h3>Run summary:</h3><br/><table class=\"wandb\"><tr><td>epoch</td><td>119</td></tr><tr><td>mean_cv_accuracy</td><td>0.8147</td></tr><tr><td>train_auc</td><td>0.94983</td></tr><tr><td>train_ks_stat</td><td>0.78059</td></tr><tr><td>train_log_loss</td><td>0.28185</td></tr><tr><td>val_acc_0.5</td><td>0.8324</td></tr><tr><td>val_acc_best_trh</td><td>0.83799</td></tr><tr><td>val_auc</td><td>0.84835</td></tr><tr><td>val_ks_2samp</td><td>0.63373</td></tr><tr><td>val_ks_pval</td><td>0.0</td></tr><tr><td>val_log_loss</td><td>0.4542</td></tr></table><br/></div></div>"
            ],
            "text/plain": [
              "<IPython.core.display.HTML object>"
            ]
          },
          "metadata": {},
          "output_type": "display_data"
        },
        {
          "data": {
            "text/html": [
              " View run <strong style=\"color:#cdcd00\">northern-sweep-21</strong> at: <a href='https://wandb.ai/max-deep/titanic_survived/runs/v6q9kj2t' target=\"_blank\">https://wandb.ai/max-deep/titanic_survived/runs/v6q9kj2t</a><br/>Synced 4 W&B file(s), 6 media file(s), 12 artifact file(s) and 1 other file(s)"
            ],
            "text/plain": [
              "<IPython.core.display.HTML object>"
            ]
          },
          "metadata": {},
          "output_type": "display_data"
        },
        {
          "data": {
            "text/html": [
              "Find logs at: <code>.\\wandb\\run-20231005_122527-v6q9kj2t\\logs</code>"
            ],
            "text/plain": [
              "<IPython.core.display.HTML object>"
            ]
          },
          "metadata": {},
          "output_type": "display_data"
        },
        {
          "name": "stderr",
          "output_type": "stream",
          "text": [
            "\u001b[34m\u001b[1mwandb\u001b[0m: Sweep Agent: Waiting for job.\n",
            "\u001b[34m\u001b[1mwandb\u001b[0m: Job received.\n",
            "\u001b[34m\u001b[1mwandb\u001b[0m: Agent Starting Run: tv9cr06m with config:\n",
            "\u001b[34m\u001b[1mwandb\u001b[0m: \tcolsample_bytree: 0.8077306032302379\n",
            "\u001b[34m\u001b[1mwandb\u001b[0m: \tlearning_rate: 0.5962315397140885\n",
            "\u001b[34m\u001b[1mwandb\u001b[0m: \tmax_depth: 10\n",
            "\u001b[34m\u001b[1mwandb\u001b[0m: \tmin_child_weight: 10\n",
            "\u001b[34m\u001b[1mwandb\u001b[0m: \tn_estimators: 120\n",
            "\u001b[34m\u001b[1mwandb\u001b[0m: \tsubsample: 0.7481333632746505\n"
          ]
        },
        {
          "data": {
            "text/html": [
              "wandb version 0.15.12 is available!  To upgrade, please run:\n",
              " $ pip install wandb --upgrade"
            ],
            "text/plain": [
              "<IPython.core.display.HTML object>"
            ]
          },
          "metadata": {},
          "output_type": "display_data"
        },
        {
          "data": {
            "text/html": [
              "Tracking run with wandb version 0.15.11"
            ],
            "text/plain": [
              "<IPython.core.display.HTML object>"
            ]
          },
          "metadata": {},
          "output_type": "display_data"
        },
        {
          "data": {
            "text/html": [
              "Run data is saved locally in <code>c:\\Users\\Maxpo\\Documents\\GitHub\\tabular-data-prediction-pipeline\\wandb\\run-20231005_122608-tv9cr06m</code>"
            ],
            "text/plain": [
              "<IPython.core.display.HTML object>"
            ]
          },
          "metadata": {},
          "output_type": "display_data"
        },
        {
          "data": {
            "text/html": [
              "Syncing run <strong><a href='https://wandb.ai/max-deep/titanic_survived/runs/tv9cr06m' target=\"_blank\">eternal-sweep-22</a></strong> to <a href='https://wandb.ai/max-deep/titanic_survived' target=\"_blank\">Weights & Biases</a> (<a href='https://wandb.me/run' target=\"_blank\">docs</a>)<br/>Sweep page: <a href='https://wandb.ai/max-deep/titanic_survived/sweeps/6zycoh6c' target=\"_blank\">https://wandb.ai/max-deep/titanic_survived/sweeps/6zycoh6c</a>"
            ],
            "text/plain": [
              "<IPython.core.display.HTML object>"
            ]
          },
          "metadata": {},
          "output_type": "display_data"
        },
        {
          "data": {
            "text/html": [
              " View project at <a href='https://wandb.ai/max-deep/titanic_survived' target=\"_blank\">https://wandb.ai/max-deep/titanic_survived</a>"
            ],
            "text/plain": [
              "<IPython.core.display.HTML object>"
            ]
          },
          "metadata": {},
          "output_type": "display_data"
        },
        {
          "data": {
            "text/html": [
              " View sweep at <a href='https://wandb.ai/max-deep/titanic_survived/sweeps/6zycoh6c' target=\"_blank\">https://wandb.ai/max-deep/titanic_survived/sweeps/6zycoh6c</a>"
            ],
            "text/plain": [
              "<IPython.core.display.HTML object>"
            ]
          },
          "metadata": {},
          "output_type": "display_data"
        },
        {
          "data": {
            "text/html": [
              " View run at <a href='https://wandb.ai/max-deep/titanic_survived/runs/tv9cr06m' target=\"_blank\">https://wandb.ai/max-deep/titanic_survived/runs/tv9cr06m</a>"
            ],
            "text/plain": [
              "<IPython.core.display.HTML object>"
            ]
          },
          "metadata": {},
          "output_type": "display_data"
        },
        {
          "data": {
            "text/html": [
              "Waiting for W&B process to finish... <strong style=\"color:green\">(success).</strong>"
            ],
            "text/plain": [
              "<IPython.core.display.HTML object>"
            ]
          },
          "metadata": {},
          "output_type": "display_data"
        },
        {
          "data": {
            "text/html": [
              "<style>\n",
              "    table.wandb td:nth-child(1) { padding: 0 10px; text-align: left ; width: auto;} td:nth-child(2) {text-align: left ; width: 100%}\n",
              "    .wandb-row { display: flex; flex-direction: row; flex-wrap: wrap; justify-content: flex-start; width: 100% }\n",
              "    .wandb-col { display: flex; flex-direction: column; flex-basis: 100%; flex: 1; padding: 10px; }\n",
              "    </style>\n",
              "<div class=\"wandb-row\"><div class=\"wandb-col\"><h3>Run history:</h3><br/><table class=\"wandb\"><tr><td>epoch</td><td>▁▂▃▄▅▇▇▁▃▃▅▆▇█▁▃▄▅▇▇▁▂▃▅▅▇█▁▃▄▅▆▇▁▂▃▅▅▇█</td></tr></table><br/></div><div class=\"wandb-col\"><h3>Run summary:</h3><br/><table class=\"wandb\"><tr><td>epoch</td><td>119</td></tr><tr><td>mean_cv_accuracy</td><td>0.83297</td></tr><tr><td>train_auc</td><td>0.94826</td></tr><tr><td>train_ks_stat</td><td>0.76683</td></tr><tr><td>train_log_loss</td><td>0.28277</td></tr><tr><td>val_acc_0.5</td><td>0.81564</td></tr><tr><td>val_acc_best_trh</td><td>0.83799</td></tr><tr><td>val_auc</td><td>0.84605</td></tr><tr><td>val_ks_2samp</td><td>0.62833</td></tr><tr><td>val_ks_pval</td><td>0.0</td></tr><tr><td>val_log_loss</td><td>0.46575</td></tr></table><br/></div></div>"
            ],
            "text/plain": [
              "<IPython.core.display.HTML object>"
            ]
          },
          "metadata": {},
          "output_type": "display_data"
        },
        {
          "data": {
            "text/html": [
              " View run <strong style=\"color:#cdcd00\">eternal-sweep-22</strong> at: <a href='https://wandb.ai/max-deep/titanic_survived/runs/tv9cr06m' target=\"_blank\">https://wandb.ai/max-deep/titanic_survived/runs/tv9cr06m</a><br/>Synced 4 W&B file(s), 6 media file(s), 12 artifact file(s) and 1 other file(s)"
            ],
            "text/plain": [
              "<IPython.core.display.HTML object>"
            ]
          },
          "metadata": {},
          "output_type": "display_data"
        },
        {
          "data": {
            "text/html": [
              "Find logs at: <code>.\\wandb\\run-20231005_122608-tv9cr06m\\logs</code>"
            ],
            "text/plain": [
              "<IPython.core.display.HTML object>"
            ]
          },
          "metadata": {},
          "output_type": "display_data"
        },
        {
          "name": "stderr",
          "output_type": "stream",
          "text": [
            "\u001b[34m\u001b[1mwandb\u001b[0m: Agent Starting Run: ag9bhvep with config:\n",
            "\u001b[34m\u001b[1mwandb\u001b[0m: \tcolsample_bytree: 0.9046779851927712\n",
            "\u001b[34m\u001b[1mwandb\u001b[0m: \tlearning_rate: 0.488171355147808\n",
            "\u001b[34m\u001b[1mwandb\u001b[0m: \tmax_depth: 9\n",
            "\u001b[34m\u001b[1mwandb\u001b[0m: \tmin_child_weight: 10\n",
            "\u001b[34m\u001b[1mwandb\u001b[0m: \tn_estimators: 150\n",
            "\u001b[34m\u001b[1mwandb\u001b[0m: \tsubsample: 0.7946935295870914\n"
          ]
        },
        {
          "data": {
            "text/html": [
              "wandb version 0.15.12 is available!  To upgrade, please run:\n",
              " $ pip install wandb --upgrade"
            ],
            "text/plain": [
              "<IPython.core.display.HTML object>"
            ]
          },
          "metadata": {},
          "output_type": "display_data"
        },
        {
          "data": {
            "text/html": [
              "Tracking run with wandb version 0.15.11"
            ],
            "text/plain": [
              "<IPython.core.display.HTML object>"
            ]
          },
          "metadata": {},
          "output_type": "display_data"
        },
        {
          "data": {
            "text/html": [
              "Run data is saved locally in <code>c:\\Users\\Maxpo\\Documents\\GitHub\\tabular-data-prediction-pipeline\\wandb\\run-20231005_122645-ag9bhvep</code>"
            ],
            "text/plain": [
              "<IPython.core.display.HTML object>"
            ]
          },
          "metadata": {},
          "output_type": "display_data"
        },
        {
          "data": {
            "text/html": [
              "Syncing run <strong><a href='https://wandb.ai/max-deep/titanic_survived/runs/ag9bhvep' target=\"_blank\">kind-sweep-23</a></strong> to <a href='https://wandb.ai/max-deep/titanic_survived' target=\"_blank\">Weights & Biases</a> (<a href='https://wandb.me/run' target=\"_blank\">docs</a>)<br/>Sweep page: <a href='https://wandb.ai/max-deep/titanic_survived/sweeps/6zycoh6c' target=\"_blank\">https://wandb.ai/max-deep/titanic_survived/sweeps/6zycoh6c</a>"
            ],
            "text/plain": [
              "<IPython.core.display.HTML object>"
            ]
          },
          "metadata": {},
          "output_type": "display_data"
        },
        {
          "data": {
            "text/html": [
              " View project at <a href='https://wandb.ai/max-deep/titanic_survived' target=\"_blank\">https://wandb.ai/max-deep/titanic_survived</a>"
            ],
            "text/plain": [
              "<IPython.core.display.HTML object>"
            ]
          },
          "metadata": {},
          "output_type": "display_data"
        },
        {
          "data": {
            "text/html": [
              " View sweep at <a href='https://wandb.ai/max-deep/titanic_survived/sweeps/6zycoh6c' target=\"_blank\">https://wandb.ai/max-deep/titanic_survived/sweeps/6zycoh6c</a>"
            ],
            "text/plain": [
              "<IPython.core.display.HTML object>"
            ]
          },
          "metadata": {},
          "output_type": "display_data"
        },
        {
          "data": {
            "text/html": [
              " View run at <a href='https://wandb.ai/max-deep/titanic_survived/runs/ag9bhvep' target=\"_blank\">https://wandb.ai/max-deep/titanic_survived/runs/ag9bhvep</a>"
            ],
            "text/plain": [
              "<IPython.core.display.HTML object>"
            ]
          },
          "metadata": {},
          "output_type": "display_data"
        },
        {
          "data": {
            "text/html": [
              "Waiting for W&B process to finish... <strong style=\"color:green\">(success).</strong>"
            ],
            "text/plain": [
              "<IPython.core.display.HTML object>"
            ]
          },
          "metadata": {},
          "output_type": "display_data"
        },
        {
          "data": {
            "text/html": [
              "<style>\n",
              "    table.wandb td:nth-child(1) { padding: 0 10px; text-align: left ; width: auto;} td:nth-child(2) {text-align: left ; width: 100%}\n",
              "    .wandb-row { display: flex; flex-direction: row; flex-wrap: wrap; justify-content: flex-start; width: 100% }\n",
              "    .wandb-col { display: flex; flex-direction: column; flex-basis: 100%; flex: 1; padding: 10px; }\n",
              "    </style>\n",
              "<div class=\"wandb-row\"><div class=\"wandb-col\"><h3>Run history:</h3><br/><table class=\"wandb\"><tr><td>epoch</td><td>▁▂▃▄▅▇█▁▃▄▅▆▇▁▂▃▄▅▆█▁▂▃▅▆▇█▂▃▄▅▆▇▁▂▃▄▆▇█</td></tr></table><br/></div><div class=\"wandb-col\"><h3>Run summary:</h3><br/><table class=\"wandb\"><tr><td>epoch</td><td>149</td></tr><tr><td>mean_cv_accuracy</td><td>0.82027</td></tr><tr><td>train_auc</td><td>0.9542</td></tr><tr><td>train_ks_stat</td><td>0.77255</td></tr><tr><td>train_log_loss</td><td>0.27553</td></tr><tr><td>val_acc_0.5</td><td>0.81006</td></tr><tr><td>val_acc_best_trh</td><td>0.82682</td></tr><tr><td>val_auc</td><td>0.84295</td></tr><tr><td>val_ks_2samp</td><td>0.62095</td></tr><tr><td>val_ks_pval</td><td>0.0</td></tr><tr><td>val_log_loss</td><td>0.4698</td></tr></table><br/></div></div>"
            ],
            "text/plain": [
              "<IPython.core.display.HTML object>"
            ]
          },
          "metadata": {},
          "output_type": "display_data"
        },
        {
          "data": {
            "text/html": [
              " View run <strong style=\"color:#cdcd00\">kind-sweep-23</strong> at: <a href='https://wandb.ai/max-deep/titanic_survived/runs/ag9bhvep' target=\"_blank\">https://wandb.ai/max-deep/titanic_survived/runs/ag9bhvep</a><br/>Synced 4 W&B file(s), 6 media file(s), 12 artifact file(s) and 1 other file(s)"
            ],
            "text/plain": [
              "<IPython.core.display.HTML object>"
            ]
          },
          "metadata": {},
          "output_type": "display_data"
        },
        {
          "data": {
            "text/html": [
              "Find logs at: <code>.\\wandb\\run-20231005_122645-ag9bhvep\\logs</code>"
            ],
            "text/plain": [
              "<IPython.core.display.HTML object>"
            ]
          },
          "metadata": {},
          "output_type": "display_data"
        },
        {
          "name": "stderr",
          "output_type": "stream",
          "text": [
            "\u001b[34m\u001b[1mwandb\u001b[0m: Agent Starting Run: 6fegabtk with config:\n",
            "\u001b[34m\u001b[1mwandb\u001b[0m: \tcolsample_bytree: 0.7723491092528505\n",
            "\u001b[34m\u001b[1mwandb\u001b[0m: \tlearning_rate: 0.7423849082743764\n",
            "\u001b[34m\u001b[1mwandb\u001b[0m: \tmax_depth: 8\n",
            "\u001b[34m\u001b[1mwandb\u001b[0m: \tmin_child_weight: 9\n",
            "\u001b[34m\u001b[1mwandb\u001b[0m: \tn_estimators: 90\n",
            "\u001b[34m\u001b[1mwandb\u001b[0m: \tsubsample: 0.867571402287802\n"
          ]
        },
        {
          "data": {
            "text/html": [
              "wandb version 0.15.12 is available!  To upgrade, please run:\n",
              " $ pip install wandb --upgrade"
            ],
            "text/plain": [
              "<IPython.core.display.HTML object>"
            ]
          },
          "metadata": {},
          "output_type": "display_data"
        },
        {
          "data": {
            "text/html": [
              "Tracking run with wandb version 0.15.11"
            ],
            "text/plain": [
              "<IPython.core.display.HTML object>"
            ]
          },
          "metadata": {},
          "output_type": "display_data"
        },
        {
          "data": {
            "text/html": [
              "Run data is saved locally in <code>c:\\Users\\Maxpo\\Documents\\GitHub\\tabular-data-prediction-pipeline\\wandb\\run-20231005_122721-6fegabtk</code>"
            ],
            "text/plain": [
              "<IPython.core.display.HTML object>"
            ]
          },
          "metadata": {},
          "output_type": "display_data"
        },
        {
          "data": {
            "text/html": [
              "Syncing run <strong><a href='https://wandb.ai/max-deep/titanic_survived/runs/6fegabtk' target=\"_blank\">pretty-sweep-24</a></strong> to <a href='https://wandb.ai/max-deep/titanic_survived' target=\"_blank\">Weights & Biases</a> (<a href='https://wandb.me/run' target=\"_blank\">docs</a>)<br/>Sweep page: <a href='https://wandb.ai/max-deep/titanic_survived/sweeps/6zycoh6c' target=\"_blank\">https://wandb.ai/max-deep/titanic_survived/sweeps/6zycoh6c</a>"
            ],
            "text/plain": [
              "<IPython.core.display.HTML object>"
            ]
          },
          "metadata": {},
          "output_type": "display_data"
        },
        {
          "data": {
            "text/html": [
              " View project at <a href='https://wandb.ai/max-deep/titanic_survived' target=\"_blank\">https://wandb.ai/max-deep/titanic_survived</a>"
            ],
            "text/plain": [
              "<IPython.core.display.HTML object>"
            ]
          },
          "metadata": {},
          "output_type": "display_data"
        },
        {
          "data": {
            "text/html": [
              " View sweep at <a href='https://wandb.ai/max-deep/titanic_survived/sweeps/6zycoh6c' target=\"_blank\">https://wandb.ai/max-deep/titanic_survived/sweeps/6zycoh6c</a>"
            ],
            "text/plain": [
              "<IPython.core.display.HTML object>"
            ]
          },
          "metadata": {},
          "output_type": "display_data"
        },
        {
          "data": {
            "text/html": [
              " View run at <a href='https://wandb.ai/max-deep/titanic_survived/runs/6fegabtk' target=\"_blank\">https://wandb.ai/max-deep/titanic_survived/runs/6fegabtk</a>"
            ],
            "text/plain": [
              "<IPython.core.display.HTML object>"
            ]
          },
          "metadata": {},
          "output_type": "display_data"
        },
        {
          "data": {
            "text/html": [
              "Waiting for W&B process to finish... <strong style=\"color:green\">(success).</strong>"
            ],
            "text/plain": [
              "<IPython.core.display.HTML object>"
            ]
          },
          "metadata": {},
          "output_type": "display_data"
        },
        {
          "data": {
            "text/html": [
              "<style>\n",
              "    table.wandb td:nth-child(1) { padding: 0 10px; text-align: left ; width: auto;} td:nth-child(2) {text-align: left ; width: 100%}\n",
              "    .wandb-row { display: flex; flex-direction: row; flex-wrap: wrap; justify-content: flex-start; width: 100% }\n",
              "    .wandb-col { display: flex; flex-direction: column; flex-basis: 100%; flex: 1; padding: 10px; }\n",
              "    </style>\n",
              "<div class=\"wandb-row\"><div class=\"wandb-col\"><h3>Run history:</h3><br/><table class=\"wandb\"><tr><td>epoch</td><td>▁▂▃▅▅▇█▁▃▄▅▆▇▁▂▃▄▅▆█▁▂▄▄▅▇█▁▃▄▅▆▇█▂▃▄▅▆█</td></tr></table><br/></div><div class=\"wandb-col\"><h3>Run summary:</h3><br/><table class=\"wandb\"><tr><td>epoch</td><td>89</td></tr><tr><td>mean_cv_accuracy</td><td>0.82592</td></tr><tr><td>train_auc</td><td>0.95841</td></tr><tr><td>train_ks_stat</td><td>0.80078</td></tr><tr><td>train_log_loss</td><td>0.26261</td></tr><tr><td>val_acc_0.5</td><td>0.82682</td></tr><tr><td>val_acc_best_trh</td><td>0.83799</td></tr><tr><td>val_auc</td><td>0.84934</td></tr><tr><td>val_ks_2samp</td><td>0.61752</td></tr><tr><td>val_ks_pval</td><td>0.0</td></tr><tr><td>val_log_loss</td><td>0.45249</td></tr></table><br/></div></div>"
            ],
            "text/plain": [
              "<IPython.core.display.HTML object>"
            ]
          },
          "metadata": {},
          "output_type": "display_data"
        },
        {
          "data": {
            "text/html": [
              " View run <strong style=\"color:#cdcd00\">pretty-sweep-24</strong> at: <a href='https://wandb.ai/max-deep/titanic_survived/runs/6fegabtk' target=\"_blank\">https://wandb.ai/max-deep/titanic_survived/runs/6fegabtk</a><br/>Synced 4 W&B file(s), 6 media file(s), 12 artifact file(s) and 1 other file(s)"
            ],
            "text/plain": [
              "<IPython.core.display.HTML object>"
            ]
          },
          "metadata": {},
          "output_type": "display_data"
        },
        {
          "data": {
            "text/html": [
              "Find logs at: <code>.\\wandb\\run-20231005_122721-6fegabtk\\logs</code>"
            ],
            "text/plain": [
              "<IPython.core.display.HTML object>"
            ]
          },
          "metadata": {},
          "output_type": "display_data"
        },
        {
          "name": "stderr",
          "output_type": "stream",
          "text": [
            "\u001b[34m\u001b[1mwandb\u001b[0m: Agent Starting Run: 6btsosf4 with config:\n",
            "\u001b[34m\u001b[1mwandb\u001b[0m: \tcolsample_bytree: 0.7396498374027083\n",
            "\u001b[34m\u001b[1mwandb\u001b[0m: \tlearning_rate: 0.44138157212041207\n",
            "\u001b[34m\u001b[1mwandb\u001b[0m: \tmax_depth: 9\n",
            "\u001b[34m\u001b[1mwandb\u001b[0m: \tmin_child_weight: 9\n",
            "\u001b[34m\u001b[1mwandb\u001b[0m: \tn_estimators: 120\n",
            "\u001b[34m\u001b[1mwandb\u001b[0m: \tsubsample: 0.733248674675391\n"
          ]
        },
        {
          "data": {
            "text/html": [
              "wandb version 0.15.12 is available!  To upgrade, please run:\n",
              " $ pip install wandb --upgrade"
            ],
            "text/plain": [
              "<IPython.core.display.HTML object>"
            ]
          },
          "metadata": {},
          "output_type": "display_data"
        },
        {
          "data": {
            "text/html": [
              "Tracking run with wandb version 0.15.11"
            ],
            "text/plain": [
              "<IPython.core.display.HTML object>"
            ]
          },
          "metadata": {},
          "output_type": "display_data"
        },
        {
          "data": {
            "text/html": [
              "Run data is saved locally in <code>c:\\Users\\Maxpo\\Documents\\GitHub\\tabular-data-prediction-pipeline\\wandb\\run-20231005_122753-6btsosf4</code>"
            ],
            "text/plain": [
              "<IPython.core.display.HTML object>"
            ]
          },
          "metadata": {},
          "output_type": "display_data"
        },
        {
          "data": {
            "text/html": [
              "Syncing run <strong><a href='https://wandb.ai/max-deep/titanic_survived/runs/6btsosf4' target=\"_blank\">proud-sweep-25</a></strong> to <a href='https://wandb.ai/max-deep/titanic_survived' target=\"_blank\">Weights & Biases</a> (<a href='https://wandb.me/run' target=\"_blank\">docs</a>)<br/>Sweep page: <a href='https://wandb.ai/max-deep/titanic_survived/sweeps/6zycoh6c' target=\"_blank\">https://wandb.ai/max-deep/titanic_survived/sweeps/6zycoh6c</a>"
            ],
            "text/plain": [
              "<IPython.core.display.HTML object>"
            ]
          },
          "metadata": {},
          "output_type": "display_data"
        },
        {
          "data": {
            "text/html": [
              " View project at <a href='https://wandb.ai/max-deep/titanic_survived' target=\"_blank\">https://wandb.ai/max-deep/titanic_survived</a>"
            ],
            "text/plain": [
              "<IPython.core.display.HTML object>"
            ]
          },
          "metadata": {},
          "output_type": "display_data"
        },
        {
          "data": {
            "text/html": [
              " View sweep at <a href='https://wandb.ai/max-deep/titanic_survived/sweeps/6zycoh6c' target=\"_blank\">https://wandb.ai/max-deep/titanic_survived/sweeps/6zycoh6c</a>"
            ],
            "text/plain": [
              "<IPython.core.display.HTML object>"
            ]
          },
          "metadata": {},
          "output_type": "display_data"
        },
        {
          "data": {
            "text/html": [
              " View run at <a href='https://wandb.ai/max-deep/titanic_survived/runs/6btsosf4' target=\"_blank\">https://wandb.ai/max-deep/titanic_survived/runs/6btsosf4</a>"
            ],
            "text/plain": [
              "<IPython.core.display.HTML object>"
            ]
          },
          "metadata": {},
          "output_type": "display_data"
        },
        {
          "data": {
            "text/html": [
              "Waiting for W&B process to finish... <strong style=\"color:green\">(success).</strong>"
            ],
            "text/plain": [
              "<IPython.core.display.HTML object>"
            ]
          },
          "metadata": {},
          "output_type": "display_data"
        },
        {
          "data": {
            "text/html": [
              "<style>\n",
              "    table.wandb td:nth-child(1) { padding: 0 10px; text-align: left ; width: auto;} td:nth-child(2) {text-align: left ; width: 100%}\n",
              "    .wandb-row { display: flex; flex-direction: row; flex-wrap: wrap; justify-content: flex-start; width: 100% }\n",
              "    .wandb-col { display: flex; flex-direction: column; flex-basis: 100%; flex: 1; padding: 10px; }\n",
              "    </style>\n",
              "<div class=\"wandb-row\"><div class=\"wandb-col\"><h3>Run history:</h3><br/><table class=\"wandb\"><tr><td>epoch</td><td>▁▂▃▄▅▇▇▁▃▃▅▆▇█▁▃▄▅▇▇▁▂▃▅▅▇█▁▃▄▅▆▇▁▂▃▅▅▇█</td></tr></table><br/></div><div class=\"wandb-col\"><h3>Run summary:</h3><br/><table class=\"wandb\"><tr><td>epoch</td><td>119</td></tr><tr><td>mean_cv_accuracy</td><td>0.82315</td></tr><tr><td>train_auc</td><td>0.94283</td></tr><tr><td>train_ks_stat</td><td>0.76187</td></tr><tr><td>train_log_loss</td><td>0.29238</td></tr><tr><td>val_acc_0.5</td><td>0.81006</td></tr><tr><td>val_acc_best_trh</td><td>0.81564</td></tr><tr><td>val_auc</td><td>0.84677</td></tr><tr><td>val_ks_2samp</td><td>0.60277</td></tr><tr><td>val_ks_pval</td><td>0.0</td></tr><tr><td>val_log_loss</td><td>0.46352</td></tr></table><br/></div></div>"
            ],
            "text/plain": [
              "<IPython.core.display.HTML object>"
            ]
          },
          "metadata": {},
          "output_type": "display_data"
        },
        {
          "data": {
            "text/html": [
              " View run <strong style=\"color:#cdcd00\">proud-sweep-25</strong> at: <a href='https://wandb.ai/max-deep/titanic_survived/runs/6btsosf4' target=\"_blank\">https://wandb.ai/max-deep/titanic_survived/runs/6btsosf4</a><br/>Synced 4 W&B file(s), 6 media file(s), 12 artifact file(s) and 1 other file(s)"
            ],
            "text/plain": [
              "<IPython.core.display.HTML object>"
            ]
          },
          "metadata": {},
          "output_type": "display_data"
        },
        {
          "data": {
            "text/html": [
              "Find logs at: <code>.\\wandb\\run-20231005_122753-6btsosf4\\logs</code>"
            ],
            "text/plain": [
              "<IPython.core.display.HTML object>"
            ]
          },
          "metadata": {},
          "output_type": "display_data"
        },
        {
          "name": "stderr",
          "output_type": "stream",
          "text": [
            "\u001b[34m\u001b[1mwandb\u001b[0m: Agent Starting Run: 3n4z5wxt with config:\n",
            "\u001b[34m\u001b[1mwandb\u001b[0m: \tcolsample_bytree: 0.7686242898882765\n",
            "\u001b[34m\u001b[1mwandb\u001b[0m: \tlearning_rate: 0.6053827928435115\n",
            "\u001b[34m\u001b[1mwandb\u001b[0m: \tmax_depth: 9\n",
            "\u001b[34m\u001b[1mwandb\u001b[0m: \tmin_child_weight: 10\n",
            "\u001b[34m\u001b[1mwandb\u001b[0m: \tn_estimators: 150\n",
            "\u001b[34m\u001b[1mwandb\u001b[0m: \tsubsample: 0.9444819335582126\n"
          ]
        },
        {
          "data": {
            "text/html": [
              "wandb version 0.15.12 is available!  To upgrade, please run:\n",
              " $ pip install wandb --upgrade"
            ],
            "text/plain": [
              "<IPython.core.display.HTML object>"
            ]
          },
          "metadata": {},
          "output_type": "display_data"
        },
        {
          "data": {
            "text/html": [
              "Tracking run with wandb version 0.15.11"
            ],
            "text/plain": [
              "<IPython.core.display.HTML object>"
            ]
          },
          "metadata": {},
          "output_type": "display_data"
        },
        {
          "data": {
            "text/html": [
              "Run data is saved locally in <code>c:\\Users\\Maxpo\\Documents\\GitHub\\tabular-data-prediction-pipeline\\wandb\\run-20231005_122829-3n4z5wxt</code>"
            ],
            "text/plain": [
              "<IPython.core.display.HTML object>"
            ]
          },
          "metadata": {},
          "output_type": "display_data"
        },
        {
          "data": {
            "text/html": [
              "Syncing run <strong><a href='https://wandb.ai/max-deep/titanic_survived/runs/3n4z5wxt' target=\"_blank\">ethereal-sweep-26</a></strong> to <a href='https://wandb.ai/max-deep/titanic_survived' target=\"_blank\">Weights & Biases</a> (<a href='https://wandb.me/run' target=\"_blank\">docs</a>)<br/>Sweep page: <a href='https://wandb.ai/max-deep/titanic_survived/sweeps/6zycoh6c' target=\"_blank\">https://wandb.ai/max-deep/titanic_survived/sweeps/6zycoh6c</a>"
            ],
            "text/plain": [
              "<IPython.core.display.HTML object>"
            ]
          },
          "metadata": {},
          "output_type": "display_data"
        },
        {
          "data": {
            "text/html": [
              " View project at <a href='https://wandb.ai/max-deep/titanic_survived' target=\"_blank\">https://wandb.ai/max-deep/titanic_survived</a>"
            ],
            "text/plain": [
              "<IPython.core.display.HTML object>"
            ]
          },
          "metadata": {},
          "output_type": "display_data"
        },
        {
          "data": {
            "text/html": [
              " View sweep at <a href='https://wandb.ai/max-deep/titanic_survived/sweeps/6zycoh6c' target=\"_blank\">https://wandb.ai/max-deep/titanic_survived/sweeps/6zycoh6c</a>"
            ],
            "text/plain": [
              "<IPython.core.display.HTML object>"
            ]
          },
          "metadata": {},
          "output_type": "display_data"
        },
        {
          "data": {
            "text/html": [
              " View run at <a href='https://wandb.ai/max-deep/titanic_survived/runs/3n4z5wxt' target=\"_blank\">https://wandb.ai/max-deep/titanic_survived/runs/3n4z5wxt</a>"
            ],
            "text/plain": [
              "<IPython.core.display.HTML object>"
            ]
          },
          "metadata": {},
          "output_type": "display_data"
        },
        {
          "data": {
            "text/html": [
              "Waiting for W&B process to finish... <strong style=\"color:green\">(success).</strong>"
            ],
            "text/plain": [
              "<IPython.core.display.HTML object>"
            ]
          },
          "metadata": {},
          "output_type": "display_data"
        },
        {
          "data": {
            "text/html": [
              "<style>\n",
              "    table.wandb td:nth-child(1) { padding: 0 10px; text-align: left ; width: auto;} td:nth-child(2) {text-align: left ; width: 100%}\n",
              "    .wandb-row { display: flex; flex-direction: row; flex-wrap: wrap; justify-content: flex-start; width: 100% }\n",
              "    .wandb-col { display: flex; flex-direction: column; flex-basis: 100%; flex: 1; padding: 10px; }\n",
              "    </style>\n",
              "<div class=\"wandb-row\"><div class=\"wandb-col\"><h3>Run history:</h3><br/><table class=\"wandb\"><tr><td>epoch</td><td>▁▂▃▄▅▇█▁▃▄▅▆▇▁▂▃▄▅▆█▁▂▃▅▆▇█▂▃▄▅▆▇▁▂▃▄▆▇█</td></tr></table><br/></div><div class=\"wandb-col\"><h3>Run summary:</h3><br/><table class=\"wandb\"><tr><td>epoch</td><td>149</td></tr><tr><td>mean_cv_accuracy</td><td>0.81467</td></tr><tr><td>train_auc</td><td>0.95942</td></tr><tr><td>train_ks_stat</td><td>0.79511</td></tr><tr><td>train_log_loss</td><td>0.26123</td></tr><tr><td>val_acc_0.5</td><td>0.81564</td></tr><tr><td>val_acc_best_trh</td><td>0.82123</td></tr><tr><td>val_auc</td><td>0.84697</td></tr><tr><td>val_ks_2samp</td><td>0.60646</td></tr><tr><td>val_ks_pval</td><td>0.0</td></tr><tr><td>val_log_loss</td><td>0.46507</td></tr></table><br/></div></div>"
            ],
            "text/plain": [
              "<IPython.core.display.HTML object>"
            ]
          },
          "metadata": {},
          "output_type": "display_data"
        },
        {
          "data": {
            "text/html": [
              " View run <strong style=\"color:#cdcd00\">ethereal-sweep-26</strong> at: <a href='https://wandb.ai/max-deep/titanic_survived/runs/3n4z5wxt' target=\"_blank\">https://wandb.ai/max-deep/titanic_survived/runs/3n4z5wxt</a><br/>Synced 4 W&B file(s), 6 media file(s), 12 artifact file(s) and 1 other file(s)"
            ],
            "text/plain": [
              "<IPython.core.display.HTML object>"
            ]
          },
          "metadata": {},
          "output_type": "display_data"
        },
        {
          "data": {
            "text/html": [
              "Find logs at: <code>.\\wandb\\run-20231005_122829-3n4z5wxt\\logs</code>"
            ],
            "text/plain": [
              "<IPython.core.display.HTML object>"
            ]
          },
          "metadata": {},
          "output_type": "display_data"
        },
        {
          "name": "stderr",
          "output_type": "stream",
          "text": [
            "\u001b[34m\u001b[1mwandb\u001b[0m: Sweep Agent: Waiting for job.\n",
            "\u001b[34m\u001b[1mwandb\u001b[0m: Job received.\n",
            "\u001b[34m\u001b[1mwandb\u001b[0m: Agent Starting Run: up3itmej with config:\n",
            "\u001b[34m\u001b[1mwandb\u001b[0m: \tcolsample_bytree: 0.8165090783636499\n",
            "\u001b[34m\u001b[1mwandb\u001b[0m: \tlearning_rate: 0.7858065158942662\n",
            "\u001b[34m\u001b[1mwandb\u001b[0m: \tmax_depth: 9\n",
            "\u001b[34m\u001b[1mwandb\u001b[0m: \tmin_child_weight: 10\n",
            "\u001b[34m\u001b[1mwandb\u001b[0m: \tn_estimators: 90\n",
            "\u001b[34m\u001b[1mwandb\u001b[0m: \tsubsample: 0.8156706025652066\n"
          ]
        },
        {
          "data": {
            "text/html": [
              "wandb version 0.15.12 is available!  To upgrade, please run:\n",
              " $ pip install wandb --upgrade"
            ],
            "text/plain": [
              "<IPython.core.display.HTML object>"
            ]
          },
          "metadata": {},
          "output_type": "display_data"
        },
        {
          "data": {
            "text/html": [
              "Tracking run with wandb version 0.15.11"
            ],
            "text/plain": [
              "<IPython.core.display.HTML object>"
            ]
          },
          "metadata": {},
          "output_type": "display_data"
        },
        {
          "data": {
            "text/html": [
              "Run data is saved locally in <code>c:\\Users\\Maxpo\\Documents\\GitHub\\tabular-data-prediction-pipeline\\wandb\\run-20231005_122910-up3itmej</code>"
            ],
            "text/plain": [
              "<IPython.core.display.HTML object>"
            ]
          },
          "metadata": {},
          "output_type": "display_data"
        },
        {
          "data": {
            "text/html": [
              "Syncing run <strong><a href='https://wandb.ai/max-deep/titanic_survived/runs/up3itmej' target=\"_blank\">worldly-sweep-27</a></strong> to <a href='https://wandb.ai/max-deep/titanic_survived' target=\"_blank\">Weights & Biases</a> (<a href='https://wandb.me/run' target=\"_blank\">docs</a>)<br/>Sweep page: <a href='https://wandb.ai/max-deep/titanic_survived/sweeps/6zycoh6c' target=\"_blank\">https://wandb.ai/max-deep/titanic_survived/sweeps/6zycoh6c</a>"
            ],
            "text/plain": [
              "<IPython.core.display.HTML object>"
            ]
          },
          "metadata": {},
          "output_type": "display_data"
        },
        {
          "data": {
            "text/html": [
              " View project at <a href='https://wandb.ai/max-deep/titanic_survived' target=\"_blank\">https://wandb.ai/max-deep/titanic_survived</a>"
            ],
            "text/plain": [
              "<IPython.core.display.HTML object>"
            ]
          },
          "metadata": {},
          "output_type": "display_data"
        },
        {
          "data": {
            "text/html": [
              " View sweep at <a href='https://wandb.ai/max-deep/titanic_survived/sweeps/6zycoh6c' target=\"_blank\">https://wandb.ai/max-deep/titanic_survived/sweeps/6zycoh6c</a>"
            ],
            "text/plain": [
              "<IPython.core.display.HTML object>"
            ]
          },
          "metadata": {},
          "output_type": "display_data"
        },
        {
          "data": {
            "text/html": [
              " View run at <a href='https://wandb.ai/max-deep/titanic_survived/runs/up3itmej' target=\"_blank\">https://wandb.ai/max-deep/titanic_survived/runs/up3itmej</a>"
            ],
            "text/plain": [
              "<IPython.core.display.HTML object>"
            ]
          },
          "metadata": {},
          "output_type": "display_data"
        },
        {
          "data": {
            "text/html": [
              "Waiting for W&B process to finish... <strong style=\"color:green\">(success).</strong>"
            ],
            "text/plain": [
              "<IPython.core.display.HTML object>"
            ]
          },
          "metadata": {},
          "output_type": "display_data"
        },
        {
          "data": {
            "text/html": [
              "<style>\n",
              "    table.wandb td:nth-child(1) { padding: 0 10px; text-align: left ; width: auto;} td:nth-child(2) {text-align: left ; width: 100%}\n",
              "    .wandb-row { display: flex; flex-direction: row; flex-wrap: wrap; justify-content: flex-start; width: 100% }\n",
              "    .wandb-col { display: flex; flex-direction: column; flex-basis: 100%; flex: 1; padding: 10px; }\n",
              "    </style>\n",
              "<div class=\"wandb-row\"><div class=\"wandb-col\"><h3>Run history:</h3><br/><table class=\"wandb\"><tr><td>epoch</td><td>▁▂▃▅▅▇█▁▃▄▅▆▇▁▂▃▄▅▆█▁▂▄▄▅▇█▁▃▄▅▆▇█▂▃▄▅▆█</td></tr></table><br/></div><div class=\"wandb-col\"><h3>Run summary:</h3><br/><table class=\"wandb\"><tr><td>epoch</td><td>89</td></tr><tr><td>mean_cv_accuracy</td><td>0.82171</td></tr><tr><td>train_auc</td><td>0.95402</td></tr><tr><td>train_ks_stat</td><td>0.80038</td></tr><tr><td>train_log_loss</td><td>0.27199</td></tr><tr><td>val_acc_0.5</td><td>0.84358</td></tr><tr><td>val_acc_best_trh</td><td>0.84916</td></tr><tr><td>val_auc</td><td>0.86021</td></tr><tr><td>val_ks_2samp</td><td>0.6357</td></tr><tr><td>val_ks_pval</td><td>0.0</td></tr><tr><td>val_log_loss</td><td>0.44343</td></tr></table><br/></div></div>"
            ],
            "text/plain": [
              "<IPython.core.display.HTML object>"
            ]
          },
          "metadata": {},
          "output_type": "display_data"
        },
        {
          "data": {
            "text/html": [
              " View run <strong style=\"color:#cdcd00\">worldly-sweep-27</strong> at: <a href='https://wandb.ai/max-deep/titanic_survived/runs/up3itmej' target=\"_blank\">https://wandb.ai/max-deep/titanic_survived/runs/up3itmej</a><br/>Synced 4 W&B file(s), 6 media file(s), 12 artifact file(s) and 1 other file(s)"
            ],
            "text/plain": [
              "<IPython.core.display.HTML object>"
            ]
          },
          "metadata": {},
          "output_type": "display_data"
        },
        {
          "data": {
            "text/html": [
              "Find logs at: <code>.\\wandb\\run-20231005_122910-up3itmej\\logs</code>"
            ],
            "text/plain": [
              "<IPython.core.display.HTML object>"
            ]
          },
          "metadata": {},
          "output_type": "display_data"
        },
        {
          "name": "stderr",
          "output_type": "stream",
          "text": [
            "\u001b[34m\u001b[1mwandb\u001b[0m: Agent Starting Run: fkrr3sdk with config:\n",
            "\u001b[34m\u001b[1mwandb\u001b[0m: \tcolsample_bytree: 0.6986679301498053\n",
            "\u001b[34m\u001b[1mwandb\u001b[0m: \tlearning_rate: 0.9438975714605036\n",
            "\u001b[34m\u001b[1mwandb\u001b[0m: \tmax_depth: 10\n",
            "\u001b[34m\u001b[1mwandb\u001b[0m: \tmin_child_weight: 9\n",
            "\u001b[34m\u001b[1mwandb\u001b[0m: \tn_estimators: 90\n",
            "\u001b[34m\u001b[1mwandb\u001b[0m: \tsubsample: 0.8005099936950801\n"
          ]
        },
        {
          "data": {
            "text/html": [
              "wandb version 0.15.12 is available!  To upgrade, please run:\n",
              " $ pip install wandb --upgrade"
            ],
            "text/plain": [
              "<IPython.core.display.HTML object>"
            ]
          },
          "metadata": {},
          "output_type": "display_data"
        },
        {
          "data": {
            "text/html": [
              "Tracking run with wandb version 0.15.11"
            ],
            "text/plain": [
              "<IPython.core.display.HTML object>"
            ]
          },
          "metadata": {},
          "output_type": "display_data"
        },
        {
          "data": {
            "text/html": [
              "Run data is saved locally in <code>c:\\Users\\Maxpo\\Documents\\GitHub\\tabular-data-prediction-pipeline\\wandb\\run-20231005_122943-fkrr3sdk</code>"
            ],
            "text/plain": [
              "<IPython.core.display.HTML object>"
            ]
          },
          "metadata": {},
          "output_type": "display_data"
        },
        {
          "data": {
            "text/html": [
              "Syncing run <strong><a href='https://wandb.ai/max-deep/titanic_survived/runs/fkrr3sdk' target=\"_blank\">stellar-sweep-28</a></strong> to <a href='https://wandb.ai/max-deep/titanic_survived' target=\"_blank\">Weights & Biases</a> (<a href='https://wandb.me/run' target=\"_blank\">docs</a>)<br/>Sweep page: <a href='https://wandb.ai/max-deep/titanic_survived/sweeps/6zycoh6c' target=\"_blank\">https://wandb.ai/max-deep/titanic_survived/sweeps/6zycoh6c</a>"
            ],
            "text/plain": [
              "<IPython.core.display.HTML object>"
            ]
          },
          "metadata": {},
          "output_type": "display_data"
        },
        {
          "data": {
            "text/html": [
              " View project at <a href='https://wandb.ai/max-deep/titanic_survived' target=\"_blank\">https://wandb.ai/max-deep/titanic_survived</a>"
            ],
            "text/plain": [
              "<IPython.core.display.HTML object>"
            ]
          },
          "metadata": {},
          "output_type": "display_data"
        },
        {
          "data": {
            "text/html": [
              " View sweep at <a href='https://wandb.ai/max-deep/titanic_survived/sweeps/6zycoh6c' target=\"_blank\">https://wandb.ai/max-deep/titanic_survived/sweeps/6zycoh6c</a>"
            ],
            "text/plain": [
              "<IPython.core.display.HTML object>"
            ]
          },
          "metadata": {},
          "output_type": "display_data"
        },
        {
          "data": {
            "text/html": [
              " View run at <a href='https://wandb.ai/max-deep/titanic_survived/runs/fkrr3sdk' target=\"_blank\">https://wandb.ai/max-deep/titanic_survived/runs/fkrr3sdk</a>"
            ],
            "text/plain": [
              "<IPython.core.display.HTML object>"
            ]
          },
          "metadata": {},
          "output_type": "display_data"
        },
        {
          "data": {
            "text/html": [
              "Waiting for W&B process to finish... <strong style=\"color:green\">(success).</strong>"
            ],
            "text/plain": [
              "<IPython.core.display.HTML object>"
            ]
          },
          "metadata": {},
          "output_type": "display_data"
        },
        {
          "data": {
            "text/html": [
              "<style>\n",
              "    table.wandb td:nth-child(1) { padding: 0 10px; text-align: left ; width: auto;} td:nth-child(2) {text-align: left ; width: 100%}\n",
              "    .wandb-row { display: flex; flex-direction: row; flex-wrap: wrap; justify-content: flex-start; width: 100% }\n",
              "    .wandb-col { display: flex; flex-direction: column; flex-basis: 100%; flex: 1; padding: 10px; }\n",
              "    </style>\n",
              "<div class=\"wandb-row\"><div class=\"wandb-col\"><h3>Run history:</h3><br/><table class=\"wandb\"><tr><td>epoch</td><td>▁▂▃▅▅▇█▁▃▄▅▆▇▁▂▃▄▅▆█▁▂▄▄▅▇█▁▃▄▅▆▇█▂▃▄▅▆█</td></tr></table><br/></div><div class=\"wandb-col\"><h3>Run summary:</h3><br/><table class=\"wandb\"><tr><td>epoch</td><td>89</td></tr><tr><td>mean_cv_accuracy</td><td>0.82312</td></tr><tr><td>train_auc</td><td>0.94798</td></tr><tr><td>train_ks_stat</td><td>0.788</td></tr><tr><td>train_log_loss</td><td>0.2805</td></tr><tr><td>val_acc_0.5</td><td>0.80447</td></tr><tr><td>val_acc_best_trh</td><td>0.82682</td></tr><tr><td>val_auc</td><td>0.82727</td></tr><tr><td>val_ks_2samp</td><td>0.58854</td></tr><tr><td>val_ks_pval</td><td>0.0</td></tr><tr><td>val_log_loss</td><td>0.49195</td></tr></table><br/></div></div>"
            ],
            "text/plain": [
              "<IPython.core.display.HTML object>"
            ]
          },
          "metadata": {},
          "output_type": "display_data"
        },
        {
          "data": {
            "text/html": [
              " View run <strong style=\"color:#cdcd00\">stellar-sweep-28</strong> at: <a href='https://wandb.ai/max-deep/titanic_survived/runs/fkrr3sdk' target=\"_blank\">https://wandb.ai/max-deep/titanic_survived/runs/fkrr3sdk</a><br/>Synced 4 W&B file(s), 6 media file(s), 12 artifact file(s) and 1 other file(s)"
            ],
            "text/plain": [
              "<IPython.core.display.HTML object>"
            ]
          },
          "metadata": {},
          "output_type": "display_data"
        },
        {
          "data": {
            "text/html": [
              "Find logs at: <code>.\\wandb\\run-20231005_122943-fkrr3sdk\\logs</code>"
            ],
            "text/plain": [
              "<IPython.core.display.HTML object>"
            ]
          },
          "metadata": {},
          "output_type": "display_data"
        },
        {
          "name": "stderr",
          "output_type": "stream",
          "text": [
            "\u001b[34m\u001b[1mwandb\u001b[0m: Agent Starting Run: w277jg1l with config:\n",
            "\u001b[34m\u001b[1mwandb\u001b[0m: \tcolsample_bytree: 0.8658928011881835\n",
            "\u001b[34m\u001b[1mwandb\u001b[0m: \tlearning_rate: 0.5990581903409518\n",
            "\u001b[34m\u001b[1mwandb\u001b[0m: \tmax_depth: 9\n",
            "\u001b[34m\u001b[1mwandb\u001b[0m: \tmin_child_weight: 9\n",
            "\u001b[34m\u001b[1mwandb\u001b[0m: \tn_estimators: 120\n",
            "\u001b[34m\u001b[1mwandb\u001b[0m: \tsubsample: 0.8281107478232479\n"
          ]
        },
        {
          "data": {
            "text/html": [
              "wandb version 0.15.12 is available!  To upgrade, please run:\n",
              " $ pip install wandb --upgrade"
            ],
            "text/plain": [
              "<IPython.core.display.HTML object>"
            ]
          },
          "metadata": {},
          "output_type": "display_data"
        },
        {
          "data": {
            "text/html": [
              "Tracking run with wandb version 0.15.11"
            ],
            "text/plain": [
              "<IPython.core.display.HTML object>"
            ]
          },
          "metadata": {},
          "output_type": "display_data"
        },
        {
          "data": {
            "text/html": [
              "Run data is saved locally in <code>c:\\Users\\Maxpo\\Documents\\GitHub\\tabular-data-prediction-pipeline\\wandb\\run-20231005_123019-w277jg1l</code>"
            ],
            "text/plain": [
              "<IPython.core.display.HTML object>"
            ]
          },
          "metadata": {},
          "output_type": "display_data"
        },
        {
          "data": {
            "text/html": [
              "Syncing run <strong><a href='https://wandb.ai/max-deep/titanic_survived/runs/w277jg1l' target=\"_blank\">solar-sweep-29</a></strong> to <a href='https://wandb.ai/max-deep/titanic_survived' target=\"_blank\">Weights & Biases</a> (<a href='https://wandb.me/run' target=\"_blank\">docs</a>)<br/>Sweep page: <a href='https://wandb.ai/max-deep/titanic_survived/sweeps/6zycoh6c' target=\"_blank\">https://wandb.ai/max-deep/titanic_survived/sweeps/6zycoh6c</a>"
            ],
            "text/plain": [
              "<IPython.core.display.HTML object>"
            ]
          },
          "metadata": {},
          "output_type": "display_data"
        },
        {
          "data": {
            "text/html": [
              " View project at <a href='https://wandb.ai/max-deep/titanic_survived' target=\"_blank\">https://wandb.ai/max-deep/titanic_survived</a>"
            ],
            "text/plain": [
              "<IPython.core.display.HTML object>"
            ]
          },
          "metadata": {},
          "output_type": "display_data"
        },
        {
          "data": {
            "text/html": [
              " View sweep at <a href='https://wandb.ai/max-deep/titanic_survived/sweeps/6zycoh6c' target=\"_blank\">https://wandb.ai/max-deep/titanic_survived/sweeps/6zycoh6c</a>"
            ],
            "text/plain": [
              "<IPython.core.display.HTML object>"
            ]
          },
          "metadata": {},
          "output_type": "display_data"
        },
        {
          "data": {
            "text/html": [
              " View run at <a href='https://wandb.ai/max-deep/titanic_survived/runs/w277jg1l' target=\"_blank\">https://wandb.ai/max-deep/titanic_survived/runs/w277jg1l</a>"
            ],
            "text/plain": [
              "<IPython.core.display.HTML object>"
            ]
          },
          "metadata": {},
          "output_type": "display_data"
        },
        {
          "data": {
            "text/html": [
              "Waiting for W&B process to finish... <strong style=\"color:green\">(success).</strong>"
            ],
            "text/plain": [
              "<IPython.core.display.HTML object>"
            ]
          },
          "metadata": {},
          "output_type": "display_data"
        },
        {
          "data": {
            "text/html": [
              "<style>\n",
              "    table.wandb td:nth-child(1) { padding: 0 10px; text-align: left ; width: auto;} td:nth-child(2) {text-align: left ; width: 100%}\n",
              "    .wandb-row { display: flex; flex-direction: row; flex-wrap: wrap; justify-content: flex-start; width: 100% }\n",
              "    .wandb-col { display: flex; flex-direction: column; flex-basis: 100%; flex: 1; padding: 10px; }\n",
              "    </style>\n",
              "<div class=\"wandb-row\"><div class=\"wandb-col\"><h3>Run history:</h3><br/><table class=\"wandb\"><tr><td>epoch</td><td>▁▂▃▄▅▇▇▁▃▃▅▆▇█▁▃▄▅▇▇▁▂▃▅▅▇█▁▃▄▅▆▇▁▂▃▅▅▇█</td></tr></table><br/></div><div class=\"wandb-col\"><h3>Run summary:</h3><br/><table class=\"wandb\"><tr><td>epoch</td><td>119</td></tr><tr><td>mean_cv_accuracy</td><td>0.82595</td></tr><tr><td>train_auc</td><td>0.95743</td></tr><tr><td>train_ks_stat</td><td>0.8002</td></tr><tr><td>train_log_loss</td><td>0.25568</td></tr><tr><td>val_acc_0.5</td><td>0.82682</td></tr><tr><td>val_acc_best_trh</td><td>0.84916</td></tr><tr><td>val_auc</td><td>0.84256</td></tr><tr><td>val_ks_2samp</td><td>0.6357</td></tr><tr><td>val_ks_pval</td><td>0.0</td></tr><tr><td>val_log_loss</td><td>0.46726</td></tr></table><br/></div></div>"
            ],
            "text/plain": [
              "<IPython.core.display.HTML object>"
            ]
          },
          "metadata": {},
          "output_type": "display_data"
        },
        {
          "data": {
            "text/html": [
              " View run <strong style=\"color:#cdcd00\">solar-sweep-29</strong> at: <a href='https://wandb.ai/max-deep/titanic_survived/runs/w277jg1l' target=\"_blank\">https://wandb.ai/max-deep/titanic_survived/runs/w277jg1l</a><br/>Synced 4 W&B file(s), 6 media file(s), 12 artifact file(s) and 1 other file(s)"
            ],
            "text/plain": [
              "<IPython.core.display.HTML object>"
            ]
          },
          "metadata": {},
          "output_type": "display_data"
        },
        {
          "data": {
            "text/html": [
              "Find logs at: <code>.\\wandb\\run-20231005_123019-w277jg1l\\logs</code>"
            ],
            "text/plain": [
              "<IPython.core.display.HTML object>"
            ]
          },
          "metadata": {},
          "output_type": "display_data"
        },
        {
          "name": "stderr",
          "output_type": "stream",
          "text": [
            "\u001b[34m\u001b[1mwandb\u001b[0m: Agent Starting Run: w3ujwlyu with config:\n",
            "\u001b[34m\u001b[1mwandb\u001b[0m: \tcolsample_bytree: 0.8209162862677339\n",
            "\u001b[34m\u001b[1mwandb\u001b[0m: \tlearning_rate: 0.6039289458260078\n",
            "\u001b[34m\u001b[1mwandb\u001b[0m: \tmax_depth: 10\n",
            "\u001b[34m\u001b[1mwandb\u001b[0m: \tmin_child_weight: 10\n",
            "\u001b[34m\u001b[1mwandb\u001b[0m: \tn_estimators: 90\n",
            "\u001b[34m\u001b[1mwandb\u001b[0m: \tsubsample: 0.8586950466542993\n"
          ]
        },
        {
          "data": {
            "text/html": [
              "wandb version 0.15.12 is available!  To upgrade, please run:\n",
              " $ pip install wandb --upgrade"
            ],
            "text/plain": [
              "<IPython.core.display.HTML object>"
            ]
          },
          "metadata": {},
          "output_type": "display_data"
        },
        {
          "data": {
            "text/html": [
              "Tracking run with wandb version 0.15.11"
            ],
            "text/plain": [
              "<IPython.core.display.HTML object>"
            ]
          },
          "metadata": {},
          "output_type": "display_data"
        },
        {
          "data": {
            "text/html": [
              "Run data is saved locally in <code>c:\\Users\\Maxpo\\Documents\\GitHub\\tabular-data-prediction-pipeline\\wandb\\run-20231005_123055-w3ujwlyu</code>"
            ],
            "text/plain": [
              "<IPython.core.display.HTML object>"
            ]
          },
          "metadata": {},
          "output_type": "display_data"
        },
        {
          "data": {
            "text/html": [
              "Syncing run <strong><a href='https://wandb.ai/max-deep/titanic_survived/runs/w3ujwlyu' target=\"_blank\">morning-sweep-30</a></strong> to <a href='https://wandb.ai/max-deep/titanic_survived' target=\"_blank\">Weights & Biases</a> (<a href='https://wandb.me/run' target=\"_blank\">docs</a>)<br/>Sweep page: <a href='https://wandb.ai/max-deep/titanic_survived/sweeps/6zycoh6c' target=\"_blank\">https://wandb.ai/max-deep/titanic_survived/sweeps/6zycoh6c</a>"
            ],
            "text/plain": [
              "<IPython.core.display.HTML object>"
            ]
          },
          "metadata": {},
          "output_type": "display_data"
        },
        {
          "data": {
            "text/html": [
              " View project at <a href='https://wandb.ai/max-deep/titanic_survived' target=\"_blank\">https://wandb.ai/max-deep/titanic_survived</a>"
            ],
            "text/plain": [
              "<IPython.core.display.HTML object>"
            ]
          },
          "metadata": {},
          "output_type": "display_data"
        },
        {
          "data": {
            "text/html": [
              " View sweep at <a href='https://wandb.ai/max-deep/titanic_survived/sweeps/6zycoh6c' target=\"_blank\">https://wandb.ai/max-deep/titanic_survived/sweeps/6zycoh6c</a>"
            ],
            "text/plain": [
              "<IPython.core.display.HTML object>"
            ]
          },
          "metadata": {},
          "output_type": "display_data"
        },
        {
          "data": {
            "text/html": [
              " View run at <a href='https://wandb.ai/max-deep/titanic_survived/runs/w3ujwlyu' target=\"_blank\">https://wandb.ai/max-deep/titanic_survived/runs/w3ujwlyu</a>"
            ],
            "text/plain": [
              "<IPython.core.display.HTML object>"
            ]
          },
          "metadata": {},
          "output_type": "display_data"
        },
        {
          "data": {
            "text/html": [
              "Waiting for W&B process to finish... <strong style=\"color:green\">(success).</strong>"
            ],
            "text/plain": [
              "<IPython.core.display.HTML object>"
            ]
          },
          "metadata": {},
          "output_type": "display_data"
        },
        {
          "data": {
            "text/html": [
              "<style>\n",
              "    table.wandb td:nth-child(1) { padding: 0 10px; text-align: left ; width: auto;} td:nth-child(2) {text-align: left ; width: 100%}\n",
              "    .wandb-row { display: flex; flex-direction: row; flex-wrap: wrap; justify-content: flex-start; width: 100% }\n",
              "    .wandb-col { display: flex; flex-direction: column; flex-basis: 100%; flex: 1; padding: 10px; }\n",
              "    </style>\n",
              "<div class=\"wandb-row\"><div class=\"wandb-col\"><h3>Run history:</h3><br/><table class=\"wandb\"><tr><td>epoch</td><td>▁▂▃▅▅▇█▁▃▄▅▆▇▁▂▃▄▅▆█▁▂▄▄▅▇█▁▃▄▅▆▇█▂▃▄▅▆█</td></tr></table><br/></div><div class=\"wandb-col\"><h3>Run summary:</h3><br/><table class=\"wandb\"><tr><td>epoch</td><td>89</td></tr><tr><td>mean_cv_accuracy</td><td>0.81467</td></tr><tr><td>train_auc</td><td>0.95216</td></tr><tr><td>train_ks_stat</td><td>0.78841</td></tr><tr><td>train_log_loss</td><td>0.27839</td></tr><tr><td>val_acc_0.5</td><td>0.81564</td></tr><tr><td>val_acc_best_trh</td><td>0.83799</td></tr><tr><td>val_auc</td><td>0.84513</td></tr><tr><td>val_ks_2samp</td><td>0.61212</td></tr><tr><td>val_ks_pval</td><td>0.0</td></tr><tr><td>val_log_loss</td><td>0.4546</td></tr></table><br/></div></div>"
            ],
            "text/plain": [
              "<IPython.core.display.HTML object>"
            ]
          },
          "metadata": {},
          "output_type": "display_data"
        },
        {
          "data": {
            "text/html": [
              " View run <strong style=\"color:#cdcd00\">morning-sweep-30</strong> at: <a href='https://wandb.ai/max-deep/titanic_survived/runs/w3ujwlyu' target=\"_blank\">https://wandb.ai/max-deep/titanic_survived/runs/w3ujwlyu</a><br/>Synced 4 W&B file(s), 6 media file(s), 12 artifact file(s) and 1 other file(s)"
            ],
            "text/plain": [
              "<IPython.core.display.HTML object>"
            ]
          },
          "metadata": {},
          "output_type": "display_data"
        },
        {
          "data": {
            "text/html": [
              "Find logs at: <code>.\\wandb\\run-20231005_123055-w3ujwlyu\\logs</code>"
            ],
            "text/plain": [
              "<IPython.core.display.HTML object>"
            ]
          },
          "metadata": {},
          "output_type": "display_data"
        },
        {
          "name": "stderr",
          "output_type": "stream",
          "text": [
            "\u001b[34m\u001b[1mwandb\u001b[0m: Sweep Agent: Waiting for job.\n",
            "\u001b[34m\u001b[1mwandb\u001b[0m: Job received.\n",
            "\u001b[34m\u001b[1mwandb\u001b[0m: Agent Starting Run: y0u10xki with config:\n",
            "\u001b[34m\u001b[1mwandb\u001b[0m: \tcolsample_bytree: 0.9489768192772516\n",
            "\u001b[34m\u001b[1mwandb\u001b[0m: \tlearning_rate: 0.7345528547354133\n",
            "\u001b[34m\u001b[1mwandb\u001b[0m: \tmax_depth: 9\n",
            "\u001b[34m\u001b[1mwandb\u001b[0m: \tmin_child_weight: 8\n",
            "\u001b[34m\u001b[1mwandb\u001b[0m: \tn_estimators: 90\n",
            "\u001b[34m\u001b[1mwandb\u001b[0m: \tsubsample: 0.8644921884384753\n"
          ]
        },
        {
          "data": {
            "text/html": [
              "wandb version 0.15.12 is available!  To upgrade, please run:\n",
              " $ pip install wandb --upgrade"
            ],
            "text/plain": [
              "<IPython.core.display.HTML object>"
            ]
          },
          "metadata": {},
          "output_type": "display_data"
        },
        {
          "data": {
            "text/html": [
              "Tracking run with wandb version 0.15.11"
            ],
            "text/plain": [
              "<IPython.core.display.HTML object>"
            ]
          },
          "metadata": {},
          "output_type": "display_data"
        },
        {
          "data": {
            "text/html": [
              "Run data is saved locally in <code>c:\\Users\\Maxpo\\Documents\\GitHub\\tabular-data-prediction-pipeline\\wandb\\run-20231005_123135-y0u10xki</code>"
            ],
            "text/plain": [
              "<IPython.core.display.HTML object>"
            ]
          },
          "metadata": {},
          "output_type": "display_data"
        },
        {
          "data": {
            "text/html": [
              "Syncing run <strong><a href='https://wandb.ai/max-deep/titanic_survived/runs/y0u10xki' target=\"_blank\">lyric-sweep-31</a></strong> to <a href='https://wandb.ai/max-deep/titanic_survived' target=\"_blank\">Weights & Biases</a> (<a href='https://wandb.me/run' target=\"_blank\">docs</a>)<br/>Sweep page: <a href='https://wandb.ai/max-deep/titanic_survived/sweeps/6zycoh6c' target=\"_blank\">https://wandb.ai/max-deep/titanic_survived/sweeps/6zycoh6c</a>"
            ],
            "text/plain": [
              "<IPython.core.display.HTML object>"
            ]
          },
          "metadata": {},
          "output_type": "display_data"
        },
        {
          "data": {
            "text/html": [
              " View project at <a href='https://wandb.ai/max-deep/titanic_survived' target=\"_blank\">https://wandb.ai/max-deep/titanic_survived</a>"
            ],
            "text/plain": [
              "<IPython.core.display.HTML object>"
            ]
          },
          "metadata": {},
          "output_type": "display_data"
        },
        {
          "data": {
            "text/html": [
              " View sweep at <a href='https://wandb.ai/max-deep/titanic_survived/sweeps/6zycoh6c' target=\"_blank\">https://wandb.ai/max-deep/titanic_survived/sweeps/6zycoh6c</a>"
            ],
            "text/plain": [
              "<IPython.core.display.HTML object>"
            ]
          },
          "metadata": {},
          "output_type": "display_data"
        },
        {
          "data": {
            "text/html": [
              " View run at <a href='https://wandb.ai/max-deep/titanic_survived/runs/y0u10xki' target=\"_blank\">https://wandb.ai/max-deep/titanic_survived/runs/y0u10xki</a>"
            ],
            "text/plain": [
              "<IPython.core.display.HTML object>"
            ]
          },
          "metadata": {},
          "output_type": "display_data"
        },
        {
          "data": {
            "text/html": [
              "Waiting for W&B process to finish... <strong style=\"color:green\">(success).</strong>"
            ],
            "text/plain": [
              "<IPython.core.display.HTML object>"
            ]
          },
          "metadata": {},
          "output_type": "display_data"
        },
        {
          "data": {
            "text/html": [
              "<style>\n",
              "    table.wandb td:nth-child(1) { padding: 0 10px; text-align: left ; width: auto;} td:nth-child(2) {text-align: left ; width: 100%}\n",
              "    .wandb-row { display: flex; flex-direction: row; flex-wrap: wrap; justify-content: flex-start; width: 100% }\n",
              "    .wandb-col { display: flex; flex-direction: column; flex-basis: 100%; flex: 1; padding: 10px; }\n",
              "    </style>\n",
              "<div class=\"wandb-row\"><div class=\"wandb-col\"><h3>Run history:</h3><br/><table class=\"wandb\"><tr><td>epoch</td><td>▁▂▃▅▅▇█▁▃▄▅▆▇▁▂▃▄▅▆█▁▂▄▄▅▇█▁▃▄▅▆▇█▂▃▄▅▆█</td></tr></table><br/></div><div class=\"wandb-col\"><h3>Run summary:</h3><br/><table class=\"wandb\"><tr><td>epoch</td><td>89</td></tr><tr><td>mean_cv_accuracy</td><td>0.82733</td></tr><tr><td>train_auc</td><td>0.96475</td></tr><tr><td>train_ks_stat</td><td>0.82553</td></tr><tr><td>train_log_loss</td><td>0.24129</td></tr><tr><td>val_acc_0.5</td><td>0.82123</td></tr><tr><td>val_acc_best_trh</td><td>0.8324</td></tr><tr><td>val_auc</td><td>0.83472</td></tr><tr><td>val_ks_2samp</td><td>0.61383</td></tr><tr><td>val_ks_pval</td><td>0.0</td></tr><tr><td>val_log_loss</td><td>0.48644</td></tr></table><br/></div></div>"
            ],
            "text/plain": [
              "<IPython.core.display.HTML object>"
            ]
          },
          "metadata": {},
          "output_type": "display_data"
        },
        {
          "data": {
            "text/html": [
              " View run <strong style=\"color:#cdcd00\">lyric-sweep-31</strong> at: <a href='https://wandb.ai/max-deep/titanic_survived/runs/y0u10xki' target=\"_blank\">https://wandb.ai/max-deep/titanic_survived/runs/y0u10xki</a><br/>Synced 4 W&B file(s), 6 media file(s), 12 artifact file(s) and 1 other file(s)"
            ],
            "text/plain": [
              "<IPython.core.display.HTML object>"
            ]
          },
          "metadata": {},
          "output_type": "display_data"
        },
        {
          "data": {
            "text/html": [
              "Find logs at: <code>.\\wandb\\run-20231005_123135-y0u10xki\\logs</code>"
            ],
            "text/plain": [
              "<IPython.core.display.HTML object>"
            ]
          },
          "metadata": {},
          "output_type": "display_data"
        },
        {
          "name": "stderr",
          "output_type": "stream",
          "text": [
            "\u001b[34m\u001b[1mwandb\u001b[0m: Agent Starting Run: g57ttyzo with config:\n",
            "\u001b[34m\u001b[1mwandb\u001b[0m: \tcolsample_bytree: 0.8700672481620821\n",
            "\u001b[34m\u001b[1mwandb\u001b[0m: \tlearning_rate: 0.5925085861389667\n",
            "\u001b[34m\u001b[1mwandb\u001b[0m: \tmax_depth: 8\n",
            "\u001b[34m\u001b[1mwandb\u001b[0m: \tmin_child_weight: 10\n",
            "\u001b[34m\u001b[1mwandb\u001b[0m: \tn_estimators: 150\n",
            "\u001b[34m\u001b[1mwandb\u001b[0m: \tsubsample: 0.8754813049754271\n"
          ]
        },
        {
          "data": {
            "text/html": [
              "wandb version 0.15.12 is available!  To upgrade, please run:\n",
              " $ pip install wandb --upgrade"
            ],
            "text/plain": [
              "<IPython.core.display.HTML object>"
            ]
          },
          "metadata": {},
          "output_type": "display_data"
        },
        {
          "data": {
            "text/html": [
              "Tracking run with wandb version 0.15.11"
            ],
            "text/plain": [
              "<IPython.core.display.HTML object>"
            ]
          },
          "metadata": {},
          "output_type": "display_data"
        },
        {
          "data": {
            "text/html": [
              "Run data is saved locally in <code>c:\\Users\\Maxpo\\Documents\\GitHub\\tabular-data-prediction-pipeline\\wandb\\run-20231005_123208-g57ttyzo</code>"
            ],
            "text/plain": [
              "<IPython.core.display.HTML object>"
            ]
          },
          "metadata": {},
          "output_type": "display_data"
        },
        {
          "data": {
            "text/html": [
              "Syncing run <strong><a href='https://wandb.ai/max-deep/titanic_survived/runs/g57ttyzo' target=\"_blank\">vivid-sweep-32</a></strong> to <a href='https://wandb.ai/max-deep/titanic_survived' target=\"_blank\">Weights & Biases</a> (<a href='https://wandb.me/run' target=\"_blank\">docs</a>)<br/>Sweep page: <a href='https://wandb.ai/max-deep/titanic_survived/sweeps/6zycoh6c' target=\"_blank\">https://wandb.ai/max-deep/titanic_survived/sweeps/6zycoh6c</a>"
            ],
            "text/plain": [
              "<IPython.core.display.HTML object>"
            ]
          },
          "metadata": {},
          "output_type": "display_data"
        },
        {
          "data": {
            "text/html": [
              " View project at <a href='https://wandb.ai/max-deep/titanic_survived' target=\"_blank\">https://wandb.ai/max-deep/titanic_survived</a>"
            ],
            "text/plain": [
              "<IPython.core.display.HTML object>"
            ]
          },
          "metadata": {},
          "output_type": "display_data"
        },
        {
          "data": {
            "text/html": [
              " View sweep at <a href='https://wandb.ai/max-deep/titanic_survived/sweeps/6zycoh6c' target=\"_blank\">https://wandb.ai/max-deep/titanic_survived/sweeps/6zycoh6c</a>"
            ],
            "text/plain": [
              "<IPython.core.display.HTML object>"
            ]
          },
          "metadata": {},
          "output_type": "display_data"
        },
        {
          "data": {
            "text/html": [
              " View run at <a href='https://wandb.ai/max-deep/titanic_survived/runs/g57ttyzo' target=\"_blank\">https://wandb.ai/max-deep/titanic_survived/runs/g57ttyzo</a>"
            ],
            "text/plain": [
              "<IPython.core.display.HTML object>"
            ]
          },
          "metadata": {},
          "output_type": "display_data"
        },
        {
          "data": {
            "text/html": [
              "Waiting for W&B process to finish... <strong style=\"color:green\">(success).</strong>"
            ],
            "text/plain": [
              "<IPython.core.display.HTML object>"
            ]
          },
          "metadata": {},
          "output_type": "display_data"
        },
        {
          "data": {
            "text/html": [
              "<style>\n",
              "    table.wandb td:nth-child(1) { padding: 0 10px; text-align: left ; width: auto;} td:nth-child(2) {text-align: left ; width: 100%}\n",
              "    .wandb-row { display: flex; flex-direction: row; flex-wrap: wrap; justify-content: flex-start; width: 100% }\n",
              "    .wandb-col { display: flex; flex-direction: column; flex-basis: 100%; flex: 1; padding: 10px; }\n",
              "    </style>\n",
              "<div class=\"wandb-row\"><div class=\"wandb-col\"><h3>Run history:</h3><br/><table class=\"wandb\"><tr><td>epoch</td><td>▁▂▃▄▅▇█▁▃▄▅▆▇▁▂▃▄▅▆█▁▂▃▅▆▇█▂▃▄▅▆▇▁▂▃▄▆▇█</td></tr></table><br/></div><div class=\"wandb-col\"><h3>Run summary:</h3><br/><table class=\"wandb\"><tr><td>epoch</td><td>149</td></tr><tr><td>mean_cv_accuracy</td><td>0.82313</td></tr><tr><td>train_auc</td><td>0.96386</td></tr><tr><td>train_ks_stat</td><td>0.80029</td></tr><tr><td>train_log_loss</td><td>0.24918</td></tr><tr><td>val_acc_0.5</td><td>0.8324</td></tr><tr><td>val_acc_best_trh</td><td>0.8324</td></tr><tr><td>val_auc</td><td>0.85316</td></tr><tr><td>val_ks_2samp</td><td>0.63004</td></tr><tr><td>val_ks_pval</td><td>0.0</td></tr><tr><td>val_log_loss</td><td>0.4533</td></tr></table><br/></div></div>"
            ],
            "text/plain": [
              "<IPython.core.display.HTML object>"
            ]
          },
          "metadata": {},
          "output_type": "display_data"
        },
        {
          "data": {
            "text/html": [
              " View run <strong style=\"color:#cdcd00\">vivid-sweep-32</strong> at: <a href='https://wandb.ai/max-deep/titanic_survived/runs/g57ttyzo' target=\"_blank\">https://wandb.ai/max-deep/titanic_survived/runs/g57ttyzo</a><br/>Synced 4 W&B file(s), 6 media file(s), 12 artifact file(s) and 1 other file(s)"
            ],
            "text/plain": [
              "<IPython.core.display.HTML object>"
            ]
          },
          "metadata": {},
          "output_type": "display_data"
        },
        {
          "data": {
            "text/html": [
              "Find logs at: <code>.\\wandb\\run-20231005_123208-g57ttyzo\\logs</code>"
            ],
            "text/plain": [
              "<IPython.core.display.HTML object>"
            ]
          },
          "metadata": {},
          "output_type": "display_data"
        },
        {
          "name": "stderr",
          "output_type": "stream",
          "text": [
            "\u001b[34m\u001b[1mwandb\u001b[0m: Agent Starting Run: bffqgunr with config:\n",
            "\u001b[34m\u001b[1mwandb\u001b[0m: \tcolsample_bytree: 0.783890714437689\n",
            "\u001b[34m\u001b[1mwandb\u001b[0m: \tlearning_rate: 0.7140477312379272\n",
            "\u001b[34m\u001b[1mwandb\u001b[0m: \tmax_depth: 10\n",
            "\u001b[34m\u001b[1mwandb\u001b[0m: \tmin_child_weight: 10\n",
            "\u001b[34m\u001b[1mwandb\u001b[0m: \tn_estimators: 90\n",
            "\u001b[34m\u001b[1mwandb\u001b[0m: \tsubsample: 0.7551896813072063\n"
          ]
        },
        {
          "data": {
            "text/html": [
              "wandb version 0.15.12 is available!  To upgrade, please run:\n",
              " $ pip install wandb --upgrade"
            ],
            "text/plain": [
              "<IPython.core.display.HTML object>"
            ]
          },
          "metadata": {},
          "output_type": "display_data"
        },
        {
          "data": {
            "text/html": [
              "Tracking run with wandb version 0.15.11"
            ],
            "text/plain": [
              "<IPython.core.display.HTML object>"
            ]
          },
          "metadata": {},
          "output_type": "display_data"
        },
        {
          "data": {
            "text/html": [
              "Run data is saved locally in <code>c:\\Users\\Maxpo\\Documents\\GitHub\\tabular-data-prediction-pipeline\\wandb\\run-20231005_123244-bffqgunr</code>"
            ],
            "text/plain": [
              "<IPython.core.display.HTML object>"
            ]
          },
          "metadata": {},
          "output_type": "display_data"
        },
        {
          "data": {
            "text/html": [
              "Syncing run <strong><a href='https://wandb.ai/max-deep/titanic_survived/runs/bffqgunr' target=\"_blank\">ethereal-sweep-33</a></strong> to <a href='https://wandb.ai/max-deep/titanic_survived' target=\"_blank\">Weights & Biases</a> (<a href='https://wandb.me/run' target=\"_blank\">docs</a>)<br/>Sweep page: <a href='https://wandb.ai/max-deep/titanic_survived/sweeps/6zycoh6c' target=\"_blank\">https://wandb.ai/max-deep/titanic_survived/sweeps/6zycoh6c</a>"
            ],
            "text/plain": [
              "<IPython.core.display.HTML object>"
            ]
          },
          "metadata": {},
          "output_type": "display_data"
        },
        {
          "data": {
            "text/html": [
              " View project at <a href='https://wandb.ai/max-deep/titanic_survived' target=\"_blank\">https://wandb.ai/max-deep/titanic_survived</a>"
            ],
            "text/plain": [
              "<IPython.core.display.HTML object>"
            ]
          },
          "metadata": {},
          "output_type": "display_data"
        },
        {
          "data": {
            "text/html": [
              " View sweep at <a href='https://wandb.ai/max-deep/titanic_survived/sweeps/6zycoh6c' target=\"_blank\">https://wandb.ai/max-deep/titanic_survived/sweeps/6zycoh6c</a>"
            ],
            "text/plain": [
              "<IPython.core.display.HTML object>"
            ]
          },
          "metadata": {},
          "output_type": "display_data"
        },
        {
          "data": {
            "text/html": [
              " View run at <a href='https://wandb.ai/max-deep/titanic_survived/runs/bffqgunr' target=\"_blank\">https://wandb.ai/max-deep/titanic_survived/runs/bffqgunr</a>"
            ],
            "text/plain": [
              "<IPython.core.display.HTML object>"
            ]
          },
          "metadata": {},
          "output_type": "display_data"
        },
        {
          "data": {
            "text/html": [
              "Waiting for W&B process to finish... <strong style=\"color:green\">(success).</strong>"
            ],
            "text/plain": [
              "<IPython.core.display.HTML object>"
            ]
          },
          "metadata": {},
          "output_type": "display_data"
        },
        {
          "data": {
            "text/html": [
              "<style>\n",
              "    table.wandb td:nth-child(1) { padding: 0 10px; text-align: left ; width: auto;} td:nth-child(2) {text-align: left ; width: 100%}\n",
              "    .wandb-row { display: flex; flex-direction: row; flex-wrap: wrap; justify-content: flex-start; width: 100% }\n",
              "    .wandb-col { display: flex; flex-direction: column; flex-basis: 100%; flex: 1; padding: 10px; }\n",
              "    </style>\n",
              "<div class=\"wandb-row\"><div class=\"wandb-col\"><h3>Run history:</h3><br/><table class=\"wandb\"><tr><td>epoch</td><td>▁▂▃▅▅▇█▁▃▄▅▆▇▁▂▃▄▅▆█▁▂▄▄▅▇█▁▃▄▅▆▇█▂▃▄▅▆█</td></tr></table><br/></div><div class=\"wandb-col\"><h3>Run summary:</h3><br/><table class=\"wandb\"><tr><td>epoch</td><td>89</td></tr><tr><td>mean_cv_accuracy</td><td>0.82171</td></tr><tr><td>train_auc</td><td>0.94746</td></tr><tr><td>train_ks_stat</td><td>0.75762</td></tr><tr><td>train_log_loss</td><td>0.29079</td></tr><tr><td>val_acc_0.5</td><td>0.8324</td></tr><tr><td>val_acc_best_trh</td><td>0.83799</td></tr><tr><td>val_auc</td><td>0.84908</td></tr><tr><td>val_ks_2samp</td><td>0.62292</td></tr><tr><td>val_ks_pval</td><td>0.0</td></tr><tr><td>val_log_loss</td><td>0.46046</td></tr></table><br/></div></div>"
            ],
            "text/plain": [
              "<IPython.core.display.HTML object>"
            ]
          },
          "metadata": {},
          "output_type": "display_data"
        },
        {
          "data": {
            "text/html": [
              " View run <strong style=\"color:#cdcd00\">ethereal-sweep-33</strong> at: <a href='https://wandb.ai/max-deep/titanic_survived/runs/bffqgunr' target=\"_blank\">https://wandb.ai/max-deep/titanic_survived/runs/bffqgunr</a><br/>Synced 4 W&B file(s), 6 media file(s), 12 artifact file(s) and 1 other file(s)"
            ],
            "text/plain": [
              "<IPython.core.display.HTML object>"
            ]
          },
          "metadata": {},
          "output_type": "display_data"
        },
        {
          "data": {
            "text/html": [
              "Find logs at: <code>.\\wandb\\run-20231005_123244-bffqgunr\\logs</code>"
            ],
            "text/plain": [
              "<IPython.core.display.HTML object>"
            ]
          },
          "metadata": {},
          "output_type": "display_data"
        },
        {
          "name": "stderr",
          "output_type": "stream",
          "text": [
            "\u001b[34m\u001b[1mwandb\u001b[0m: Agent Starting Run: 2lhmtr18 with config:\n",
            "\u001b[34m\u001b[1mwandb\u001b[0m: \tcolsample_bytree: 0.8053819858195183\n",
            "\u001b[34m\u001b[1mwandb\u001b[0m: \tlearning_rate: 0.5630659339284604\n",
            "\u001b[34m\u001b[1mwandb\u001b[0m: \tmax_depth: 8\n",
            "\u001b[34m\u001b[1mwandb\u001b[0m: \tmin_child_weight: 10\n",
            "\u001b[34m\u001b[1mwandb\u001b[0m: \tn_estimators: 120\n",
            "\u001b[34m\u001b[1mwandb\u001b[0m: \tsubsample: 0.8153576120410779\n"
          ]
        },
        {
          "data": {
            "text/html": [
              "wandb version 0.15.12 is available!  To upgrade, please run:\n",
              " $ pip install wandb --upgrade"
            ],
            "text/plain": [
              "<IPython.core.display.HTML object>"
            ]
          },
          "metadata": {},
          "output_type": "display_data"
        },
        {
          "data": {
            "text/html": [
              "Tracking run with wandb version 0.15.11"
            ],
            "text/plain": [
              "<IPython.core.display.HTML object>"
            ]
          },
          "metadata": {},
          "output_type": "display_data"
        },
        {
          "data": {
            "text/html": [
              "Run data is saved locally in <code>c:\\Users\\Maxpo\\Documents\\GitHub\\tabular-data-prediction-pipeline\\wandb\\run-20231005_123320-2lhmtr18</code>"
            ],
            "text/plain": [
              "<IPython.core.display.HTML object>"
            ]
          },
          "metadata": {},
          "output_type": "display_data"
        },
        {
          "data": {
            "text/html": [
              "Syncing run <strong><a href='https://wandb.ai/max-deep/titanic_survived/runs/2lhmtr18' target=\"_blank\">serene-sweep-34</a></strong> to <a href='https://wandb.ai/max-deep/titanic_survived' target=\"_blank\">Weights & Biases</a> (<a href='https://wandb.me/run' target=\"_blank\">docs</a>)<br/>Sweep page: <a href='https://wandb.ai/max-deep/titanic_survived/sweeps/6zycoh6c' target=\"_blank\">https://wandb.ai/max-deep/titanic_survived/sweeps/6zycoh6c</a>"
            ],
            "text/plain": [
              "<IPython.core.display.HTML object>"
            ]
          },
          "metadata": {},
          "output_type": "display_data"
        },
        {
          "data": {
            "text/html": [
              " View project at <a href='https://wandb.ai/max-deep/titanic_survived' target=\"_blank\">https://wandb.ai/max-deep/titanic_survived</a>"
            ],
            "text/plain": [
              "<IPython.core.display.HTML object>"
            ]
          },
          "metadata": {},
          "output_type": "display_data"
        },
        {
          "data": {
            "text/html": [
              " View sweep at <a href='https://wandb.ai/max-deep/titanic_survived/sweeps/6zycoh6c' target=\"_blank\">https://wandb.ai/max-deep/titanic_survived/sweeps/6zycoh6c</a>"
            ],
            "text/plain": [
              "<IPython.core.display.HTML object>"
            ]
          },
          "metadata": {},
          "output_type": "display_data"
        },
        {
          "data": {
            "text/html": [
              " View run at <a href='https://wandb.ai/max-deep/titanic_survived/runs/2lhmtr18' target=\"_blank\">https://wandb.ai/max-deep/titanic_survived/runs/2lhmtr18</a>"
            ],
            "text/plain": [
              "<IPython.core.display.HTML object>"
            ]
          },
          "metadata": {},
          "output_type": "display_data"
        },
        {
          "data": {
            "text/html": [
              "Waiting for W&B process to finish... <strong style=\"color:green\">(success).</strong>"
            ],
            "text/plain": [
              "<IPython.core.display.HTML object>"
            ]
          },
          "metadata": {},
          "output_type": "display_data"
        },
        {
          "data": {
            "text/html": [
              "<style>\n",
              "    table.wandb td:nth-child(1) { padding: 0 10px; text-align: left ; width: auto;} td:nth-child(2) {text-align: left ; width: 100%}\n",
              "    .wandb-row { display: flex; flex-direction: row; flex-wrap: wrap; justify-content: flex-start; width: 100% }\n",
              "    .wandb-col { display: flex; flex-direction: column; flex-basis: 100%; flex: 1; padding: 10px; }\n",
              "    </style>\n",
              "<div class=\"wandb-row\"><div class=\"wandb-col\"><h3>Run history:</h3><br/><table class=\"wandb\"><tr><td>epoch</td><td>▁▂▃▄▅▇▇▁▃▃▅▆▇█▁▃▄▅▇▇▁▂▃▅▅▇█▁▃▄▅▆▇▁▂▃▅▅▇█</td></tr></table><br/></div><div class=\"wandb-col\"><h3>Run summary:</h3><br/><table class=\"wandb\"><tr><td>epoch</td><td>119</td></tr><tr><td>mean_cv_accuracy</td><td>0.82175</td></tr><tr><td>train_auc</td><td>0.95072</td></tr><tr><td>train_ks_stat</td><td>0.788</td></tr><tr><td>train_log_loss</td><td>0.27137</td></tr><tr><td>val_acc_0.5</td><td>0.8324</td></tr><tr><td>val_acc_best_trh</td><td>0.84916</td></tr><tr><td>val_auc</td><td>0.85487</td></tr><tr><td>val_ks_2samp</td><td>0.6357</td></tr><tr><td>val_ks_pval</td><td>0.0</td></tr><tr><td>val_log_loss</td><td>0.45327</td></tr></table><br/></div></div>"
            ],
            "text/plain": [
              "<IPython.core.display.HTML object>"
            ]
          },
          "metadata": {},
          "output_type": "display_data"
        },
        {
          "data": {
            "text/html": [
              " View run <strong style=\"color:#cdcd00\">serene-sweep-34</strong> at: <a href='https://wandb.ai/max-deep/titanic_survived/runs/2lhmtr18' target=\"_blank\">https://wandb.ai/max-deep/titanic_survived/runs/2lhmtr18</a><br/>Synced 4 W&B file(s), 6 media file(s), 12 artifact file(s) and 1 other file(s)"
            ],
            "text/plain": [
              "<IPython.core.display.HTML object>"
            ]
          },
          "metadata": {},
          "output_type": "display_data"
        },
        {
          "data": {
            "text/html": [
              "Find logs at: <code>.\\wandb\\run-20231005_123320-2lhmtr18\\logs</code>"
            ],
            "text/plain": [
              "<IPython.core.display.HTML object>"
            ]
          },
          "metadata": {},
          "output_type": "display_data"
        },
        {
          "name": "stderr",
          "output_type": "stream",
          "text": [
            "\u001b[34m\u001b[1mwandb\u001b[0m: Agent Starting Run: 8csh32fp with config:\n",
            "\u001b[34m\u001b[1mwandb\u001b[0m: \tcolsample_bytree: 0.8702817553312187\n",
            "\u001b[34m\u001b[1mwandb\u001b[0m: \tlearning_rate: 0.3930396627950052\n",
            "\u001b[34m\u001b[1mwandb\u001b[0m: \tmax_depth: 8\n",
            "\u001b[34m\u001b[1mwandb\u001b[0m: \tmin_child_weight: 10\n",
            "\u001b[34m\u001b[1mwandb\u001b[0m: \tn_estimators: 150\n",
            "\u001b[34m\u001b[1mwandb\u001b[0m: \tsubsample: 0.8639160261688543\n"
          ]
        },
        {
          "data": {
            "text/html": [
              "wandb version 0.15.12 is available!  To upgrade, please run:\n",
              " $ pip install wandb --upgrade"
            ],
            "text/plain": [
              "<IPython.core.display.HTML object>"
            ]
          },
          "metadata": {},
          "output_type": "display_data"
        },
        {
          "data": {
            "text/html": [
              "Tracking run with wandb version 0.15.11"
            ],
            "text/plain": [
              "<IPython.core.display.HTML object>"
            ]
          },
          "metadata": {},
          "output_type": "display_data"
        },
        {
          "data": {
            "text/html": [
              "Run data is saved locally in <code>c:\\Users\\Maxpo\\Documents\\GitHub\\tabular-data-prediction-pipeline\\wandb\\run-20231005_123356-8csh32fp</code>"
            ],
            "text/plain": [
              "<IPython.core.display.HTML object>"
            ]
          },
          "metadata": {},
          "output_type": "display_data"
        },
        {
          "data": {
            "text/html": [
              "Syncing run <strong><a href='https://wandb.ai/max-deep/titanic_survived/runs/8csh32fp' target=\"_blank\">vital-sweep-35</a></strong> to <a href='https://wandb.ai/max-deep/titanic_survived' target=\"_blank\">Weights & Biases</a> (<a href='https://wandb.me/run' target=\"_blank\">docs</a>)<br/>Sweep page: <a href='https://wandb.ai/max-deep/titanic_survived/sweeps/6zycoh6c' target=\"_blank\">https://wandb.ai/max-deep/titanic_survived/sweeps/6zycoh6c</a>"
            ],
            "text/plain": [
              "<IPython.core.display.HTML object>"
            ]
          },
          "metadata": {},
          "output_type": "display_data"
        },
        {
          "data": {
            "text/html": [
              " View project at <a href='https://wandb.ai/max-deep/titanic_survived' target=\"_blank\">https://wandb.ai/max-deep/titanic_survived</a>"
            ],
            "text/plain": [
              "<IPython.core.display.HTML object>"
            ]
          },
          "metadata": {},
          "output_type": "display_data"
        },
        {
          "data": {
            "text/html": [
              " View sweep at <a href='https://wandb.ai/max-deep/titanic_survived/sweeps/6zycoh6c' target=\"_blank\">https://wandb.ai/max-deep/titanic_survived/sweeps/6zycoh6c</a>"
            ],
            "text/plain": [
              "<IPython.core.display.HTML object>"
            ]
          },
          "metadata": {},
          "output_type": "display_data"
        },
        {
          "data": {
            "text/html": [
              " View run at <a href='https://wandb.ai/max-deep/titanic_survived/runs/8csh32fp' target=\"_blank\">https://wandb.ai/max-deep/titanic_survived/runs/8csh32fp</a>"
            ],
            "text/plain": [
              "<IPython.core.display.HTML object>"
            ]
          },
          "metadata": {},
          "output_type": "display_data"
        },
        {
          "data": {
            "text/html": [
              "Waiting for W&B process to finish... <strong style=\"color:green\">(success).</strong>"
            ],
            "text/plain": [
              "<IPython.core.display.HTML object>"
            ]
          },
          "metadata": {},
          "output_type": "display_data"
        },
        {
          "data": {
            "text/html": [
              "<style>\n",
              "    table.wandb td:nth-child(1) { padding: 0 10px; text-align: left ; width: auto;} td:nth-child(2) {text-align: left ; width: 100%}\n",
              "    .wandb-row { display: flex; flex-direction: row; flex-wrap: wrap; justify-content: flex-start; width: 100% }\n",
              "    .wandb-col { display: flex; flex-direction: column; flex-basis: 100%; flex: 1; padding: 10px; }\n",
              "    </style>\n",
              "<div class=\"wandb-row\"><div class=\"wandb-col\"><h3>Run history:</h3><br/><table class=\"wandb\"><tr><td>epoch</td><td>▁▂▃▄▅▇█▁▃▄▅▆▇▁▂▃▄▅▆█▁▂▃▅▆▇█▂▃▄▅▆▇▁▂▃▄▆▇█</td></tr></table><br/></div><div class=\"wandb-col\"><h3>Run summary:</h3><br/><table class=\"wandb\"><tr><td>epoch</td><td>149</td></tr><tr><td>mean_cv_accuracy</td><td>0.82589</td></tr><tr><td>train_auc</td><td>0.951</td></tr><tr><td>train_ks_stat</td><td>0.77425</td></tr><tr><td>train_log_loss</td><td>0.28237</td></tr><tr><td>val_acc_0.5</td><td>0.81564</td></tr><tr><td>val_acc_best_trh</td><td>0.8324</td></tr><tr><td>val_auc</td><td>0.84671</td></tr><tr><td>val_ks_2samp</td><td>0.61924</td></tr><tr><td>val_ks_pval</td><td>0.0</td></tr><tr><td>val_log_loss</td><td>0.46103</td></tr></table><br/></div></div>"
            ],
            "text/plain": [
              "<IPython.core.display.HTML object>"
            ]
          },
          "metadata": {},
          "output_type": "display_data"
        },
        {
          "data": {
            "text/html": [
              " View run <strong style=\"color:#cdcd00\">vital-sweep-35</strong> at: <a href='https://wandb.ai/max-deep/titanic_survived/runs/8csh32fp' target=\"_blank\">https://wandb.ai/max-deep/titanic_survived/runs/8csh32fp</a><br/>Synced 4 W&B file(s), 6 media file(s), 12 artifact file(s) and 1 other file(s)"
            ],
            "text/plain": [
              "<IPython.core.display.HTML object>"
            ]
          },
          "metadata": {},
          "output_type": "display_data"
        },
        {
          "data": {
            "text/html": [
              "Find logs at: <code>.\\wandb\\run-20231005_123356-8csh32fp\\logs</code>"
            ],
            "text/plain": [
              "<IPython.core.display.HTML object>"
            ]
          },
          "metadata": {},
          "output_type": "display_data"
        },
        {
          "name": "stderr",
          "output_type": "stream",
          "text": [
            "\u001b[34m\u001b[1mwandb\u001b[0m: Agent Starting Run: 0nc0oa7u with config:\n",
            "\u001b[34m\u001b[1mwandb\u001b[0m: \tcolsample_bytree: 0.93737808162549\n",
            "\u001b[34m\u001b[1mwandb\u001b[0m: \tlearning_rate: 0.38734508455749256\n",
            "\u001b[34m\u001b[1mwandb\u001b[0m: \tmax_depth: 8\n",
            "\u001b[34m\u001b[1mwandb\u001b[0m: \tmin_child_weight: 9\n",
            "\u001b[34m\u001b[1mwandb\u001b[0m: \tn_estimators: 90\n",
            "\u001b[34m\u001b[1mwandb\u001b[0m: \tsubsample: 0.9602764502999732\n"
          ]
        },
        {
          "data": {
            "text/html": [
              "wandb version 0.15.12 is available!  To upgrade, please run:\n",
              " $ pip install wandb --upgrade"
            ],
            "text/plain": [
              "<IPython.core.display.HTML object>"
            ]
          },
          "metadata": {},
          "output_type": "display_data"
        },
        {
          "data": {
            "text/html": [
              "Tracking run with wandb version 0.15.11"
            ],
            "text/plain": [
              "<IPython.core.display.HTML object>"
            ]
          },
          "metadata": {},
          "output_type": "display_data"
        },
        {
          "data": {
            "text/html": [
              "Run data is saved locally in <code>c:\\Users\\Maxpo\\Documents\\GitHub\\tabular-data-prediction-pipeline\\wandb\\run-20231005_123433-0nc0oa7u</code>"
            ],
            "text/plain": [
              "<IPython.core.display.HTML object>"
            ]
          },
          "metadata": {},
          "output_type": "display_data"
        },
        {
          "data": {
            "text/html": [
              "Syncing run <strong><a href='https://wandb.ai/max-deep/titanic_survived/runs/0nc0oa7u' target=\"_blank\">azure-sweep-36</a></strong> to <a href='https://wandb.ai/max-deep/titanic_survived' target=\"_blank\">Weights & Biases</a> (<a href='https://wandb.me/run' target=\"_blank\">docs</a>)<br/>Sweep page: <a href='https://wandb.ai/max-deep/titanic_survived/sweeps/6zycoh6c' target=\"_blank\">https://wandb.ai/max-deep/titanic_survived/sweeps/6zycoh6c</a>"
            ],
            "text/plain": [
              "<IPython.core.display.HTML object>"
            ]
          },
          "metadata": {},
          "output_type": "display_data"
        },
        {
          "data": {
            "text/html": [
              " View project at <a href='https://wandb.ai/max-deep/titanic_survived' target=\"_blank\">https://wandb.ai/max-deep/titanic_survived</a>"
            ],
            "text/plain": [
              "<IPython.core.display.HTML object>"
            ]
          },
          "metadata": {},
          "output_type": "display_data"
        },
        {
          "data": {
            "text/html": [
              " View sweep at <a href='https://wandb.ai/max-deep/titanic_survived/sweeps/6zycoh6c' target=\"_blank\">https://wandb.ai/max-deep/titanic_survived/sweeps/6zycoh6c</a>"
            ],
            "text/plain": [
              "<IPython.core.display.HTML object>"
            ]
          },
          "metadata": {},
          "output_type": "display_data"
        },
        {
          "data": {
            "text/html": [
              " View run at <a href='https://wandb.ai/max-deep/titanic_survived/runs/0nc0oa7u' target=\"_blank\">https://wandb.ai/max-deep/titanic_survived/runs/0nc0oa7u</a>"
            ],
            "text/plain": [
              "<IPython.core.display.HTML object>"
            ]
          },
          "metadata": {},
          "output_type": "display_data"
        },
        {
          "data": {
            "text/html": [
              "Waiting for W&B process to finish... <strong style=\"color:green\">(success).</strong>"
            ],
            "text/plain": [
              "<IPython.core.display.HTML object>"
            ]
          },
          "metadata": {},
          "output_type": "display_data"
        },
        {
          "data": {
            "text/html": [
              "<style>\n",
              "    table.wandb td:nth-child(1) { padding: 0 10px; text-align: left ; width: auto;} td:nth-child(2) {text-align: left ; width: 100%}\n",
              "    .wandb-row { display: flex; flex-direction: row; flex-wrap: wrap; justify-content: flex-start; width: 100% }\n",
              "    .wandb-col { display: flex; flex-direction: column; flex-basis: 100%; flex: 1; padding: 10px; }\n",
              "    </style>\n",
              "<div class=\"wandb-row\"><div class=\"wandb-col\"><h3>Run history:</h3><br/><table class=\"wandb\"><tr><td>epoch</td><td>▁▂▃▅▅▇█▁▃▄▅▆▇▁▂▃▄▅▆█▁▂▄▄▅▇█▁▃▄▅▆▇█▂▃▄▅▆█</td></tr></table><br/></div><div class=\"wandb-col\"><h3>Run summary:</h3><br/><table class=\"wandb\"><tr><td>epoch</td><td>89</td></tr><tr><td>mean_cv_accuracy</td><td>0.81608</td></tr><tr><td>train_auc</td><td>0.9475</td></tr><tr><td>train_ks_stat</td><td>0.77554</td></tr><tr><td>train_log_loss</td><td>0.28998</td></tr><tr><td>val_acc_0.5</td><td>0.80447</td></tr><tr><td>val_acc_best_trh</td><td>0.81006</td></tr><tr><td>val_auc</td><td>0.83689</td></tr><tr><td>val_ks_2samp</td><td>0.60448</td></tr><tr><td>val_ks_pval</td><td>0.0</td></tr><tr><td>val_log_loss</td><td>0.47065</td></tr></table><br/></div></div>"
            ],
            "text/plain": [
              "<IPython.core.display.HTML object>"
            ]
          },
          "metadata": {},
          "output_type": "display_data"
        },
        {
          "data": {
            "text/html": [
              " View run <strong style=\"color:#cdcd00\">azure-sweep-36</strong> at: <a href='https://wandb.ai/max-deep/titanic_survived/runs/0nc0oa7u' target=\"_blank\">https://wandb.ai/max-deep/titanic_survived/runs/0nc0oa7u</a><br/>Synced 4 W&B file(s), 6 media file(s), 12 artifact file(s) and 1 other file(s)"
            ],
            "text/plain": [
              "<IPython.core.display.HTML object>"
            ]
          },
          "metadata": {},
          "output_type": "display_data"
        },
        {
          "data": {
            "text/html": [
              "Find logs at: <code>.\\wandb\\run-20231005_123433-0nc0oa7u\\logs</code>"
            ],
            "text/plain": [
              "<IPython.core.display.HTML object>"
            ]
          },
          "metadata": {},
          "output_type": "display_data"
        },
        {
          "name": "stderr",
          "output_type": "stream",
          "text": [
            "\u001b[34m\u001b[1mwandb\u001b[0m: Sweep Agent: Waiting for job.\n",
            "\u001b[34m\u001b[1mwandb\u001b[0m: Job received.\n",
            "\u001b[34m\u001b[1mwandb\u001b[0m: Agent Starting Run: a01k7zgy with config:\n",
            "\u001b[34m\u001b[1mwandb\u001b[0m: \tcolsample_bytree: 0.7990817907363625\n",
            "\u001b[34m\u001b[1mwandb\u001b[0m: \tlearning_rate: 0.6401978948883686\n",
            "\u001b[34m\u001b[1mwandb\u001b[0m: \tmax_depth: 9\n",
            "\u001b[34m\u001b[1mwandb\u001b[0m: \tmin_child_weight: 10\n",
            "\u001b[34m\u001b[1mwandb\u001b[0m: \tn_estimators: 120\n",
            "\u001b[34m\u001b[1mwandb\u001b[0m: \tsubsample: 0.7615979658651628\n"
          ]
        },
        {
          "data": {
            "text/html": [
              "wandb version 0.15.12 is available!  To upgrade, please run:\n",
              " $ pip install wandb --upgrade"
            ],
            "text/plain": [
              "<IPython.core.display.HTML object>"
            ]
          },
          "metadata": {},
          "output_type": "display_data"
        },
        {
          "data": {
            "text/html": [
              "Tracking run with wandb version 0.15.11"
            ],
            "text/plain": [
              "<IPython.core.display.HTML object>"
            ]
          },
          "metadata": {},
          "output_type": "display_data"
        },
        {
          "data": {
            "text/html": [
              "Run data is saved locally in <code>c:\\Users\\Maxpo\\Documents\\GitHub\\tabular-data-prediction-pipeline\\wandb\\run-20231005_123514-a01k7zgy</code>"
            ],
            "text/plain": [
              "<IPython.core.display.HTML object>"
            ]
          },
          "metadata": {},
          "output_type": "display_data"
        },
        {
          "data": {
            "text/html": [
              "Syncing run <strong><a href='https://wandb.ai/max-deep/titanic_survived/runs/a01k7zgy' target=\"_blank\">stellar-sweep-37</a></strong> to <a href='https://wandb.ai/max-deep/titanic_survived' target=\"_blank\">Weights & Biases</a> (<a href='https://wandb.me/run' target=\"_blank\">docs</a>)<br/>Sweep page: <a href='https://wandb.ai/max-deep/titanic_survived/sweeps/6zycoh6c' target=\"_blank\">https://wandb.ai/max-deep/titanic_survived/sweeps/6zycoh6c</a>"
            ],
            "text/plain": [
              "<IPython.core.display.HTML object>"
            ]
          },
          "metadata": {},
          "output_type": "display_data"
        },
        {
          "data": {
            "text/html": [
              " View project at <a href='https://wandb.ai/max-deep/titanic_survived' target=\"_blank\">https://wandb.ai/max-deep/titanic_survived</a>"
            ],
            "text/plain": [
              "<IPython.core.display.HTML object>"
            ]
          },
          "metadata": {},
          "output_type": "display_data"
        },
        {
          "data": {
            "text/html": [
              " View sweep at <a href='https://wandb.ai/max-deep/titanic_survived/sweeps/6zycoh6c' target=\"_blank\">https://wandb.ai/max-deep/titanic_survived/sweeps/6zycoh6c</a>"
            ],
            "text/plain": [
              "<IPython.core.display.HTML object>"
            ]
          },
          "metadata": {},
          "output_type": "display_data"
        },
        {
          "data": {
            "text/html": [
              " View run at <a href='https://wandb.ai/max-deep/titanic_survived/runs/a01k7zgy' target=\"_blank\">https://wandb.ai/max-deep/titanic_survived/runs/a01k7zgy</a>"
            ],
            "text/plain": [
              "<IPython.core.display.HTML object>"
            ]
          },
          "metadata": {},
          "output_type": "display_data"
        },
        {
          "data": {
            "text/html": [
              "Waiting for W&B process to finish... <strong style=\"color:green\">(success).</strong>"
            ],
            "text/plain": [
              "<IPython.core.display.HTML object>"
            ]
          },
          "metadata": {},
          "output_type": "display_data"
        },
        {
          "data": {
            "text/html": [
              "<style>\n",
              "    table.wandb td:nth-child(1) { padding: 0 10px; text-align: left ; width: auto;} td:nth-child(2) {text-align: left ; width: 100%}\n",
              "    .wandb-row { display: flex; flex-direction: row; flex-wrap: wrap; justify-content: flex-start; width: 100% }\n",
              "    .wandb-col { display: flex; flex-direction: column; flex-basis: 100%; flex: 1; padding: 10px; }\n",
              "    </style>\n",
              "<div class=\"wandb-row\"><div class=\"wandb-col\"><h3>Run history:</h3><br/><table class=\"wandb\"><tr><td>epoch</td><td>▁▂▃▄▅▇▇▁▃▃▅▆▇█▁▃▄▅▇▇▁▂▃▅▅▇█▁▃▄▅▆▇▁▂▃▅▅▇█</td></tr></table><br/></div><div class=\"wandb-col\"><h3>Run summary:</h3><br/><table class=\"wandb\"><tr><td>epoch</td><td>119</td></tr><tr><td>mean_cv_accuracy</td><td>0.82315</td></tr><tr><td>train_auc</td><td>0.95207</td></tr><tr><td>train_ks_stat</td><td>0.77585</td></tr><tr><td>train_log_loss</td><td>0.27144</td></tr><tr><td>val_acc_0.5</td><td>0.81564</td></tr><tr><td>val_acc_best_trh</td><td>0.85475</td></tr><tr><td>val_auc</td><td>0.84941</td></tr><tr><td>val_ks_2samp</td><td>0.6502</td></tr><tr><td>val_ks_pval</td><td>0.0</td></tr><tr><td>val_log_loss</td><td>0.47276</td></tr></table><br/></div></div>"
            ],
            "text/plain": [
              "<IPython.core.display.HTML object>"
            ]
          },
          "metadata": {},
          "output_type": "display_data"
        },
        {
          "data": {
            "text/html": [
              " View run <strong style=\"color:#cdcd00\">stellar-sweep-37</strong> at: <a href='https://wandb.ai/max-deep/titanic_survived/runs/a01k7zgy' target=\"_blank\">https://wandb.ai/max-deep/titanic_survived/runs/a01k7zgy</a><br/>Synced 4 W&B file(s), 6 media file(s), 12 artifact file(s) and 1 other file(s)"
            ],
            "text/plain": [
              "<IPython.core.display.HTML object>"
            ]
          },
          "metadata": {},
          "output_type": "display_data"
        },
        {
          "data": {
            "text/html": [
              "Find logs at: <code>.\\wandb\\run-20231005_123514-a01k7zgy\\logs</code>"
            ],
            "text/plain": [
              "<IPython.core.display.HTML object>"
            ]
          },
          "metadata": {},
          "output_type": "display_data"
        },
        {
          "name": "stderr",
          "output_type": "stream",
          "text": [
            "\u001b[34m\u001b[1mwandb\u001b[0m: Agent Starting Run: th145a0f with config:\n",
            "\u001b[34m\u001b[1mwandb\u001b[0m: \tcolsample_bytree: 0.8857211965913581\n",
            "\u001b[34m\u001b[1mwandb\u001b[0m: \tlearning_rate: 0.6208657518713003\n",
            "\u001b[34m\u001b[1mwandb\u001b[0m: \tmax_depth: 8\n",
            "\u001b[34m\u001b[1mwandb\u001b[0m: \tmin_child_weight: 10\n",
            "\u001b[34m\u001b[1mwandb\u001b[0m: \tn_estimators: 120\n",
            "\u001b[34m\u001b[1mwandb\u001b[0m: \tsubsample: 0.7843479683498575\n"
          ]
        },
        {
          "data": {
            "text/html": [
              "wandb version 0.15.12 is available!  To upgrade, please run:\n",
              " $ pip install wandb --upgrade"
            ],
            "text/plain": [
              "<IPython.core.display.HTML object>"
            ]
          },
          "metadata": {},
          "output_type": "display_data"
        },
        {
          "data": {
            "text/html": [
              "Tracking run with wandb version 0.15.11"
            ],
            "text/plain": [
              "<IPython.core.display.HTML object>"
            ]
          },
          "metadata": {},
          "output_type": "display_data"
        },
        {
          "data": {
            "text/html": [
              "Run data is saved locally in <code>c:\\Users\\Maxpo\\Documents\\GitHub\\tabular-data-prediction-pipeline\\wandb\\run-20231005_123546-th145a0f</code>"
            ],
            "text/plain": [
              "<IPython.core.display.HTML object>"
            ]
          },
          "metadata": {},
          "output_type": "display_data"
        },
        {
          "data": {
            "text/html": [
              "Syncing run <strong><a href='https://wandb.ai/max-deep/titanic_survived/runs/th145a0f' target=\"_blank\">lilac-sweep-38</a></strong> to <a href='https://wandb.ai/max-deep/titanic_survived' target=\"_blank\">Weights & Biases</a> (<a href='https://wandb.me/run' target=\"_blank\">docs</a>)<br/>Sweep page: <a href='https://wandb.ai/max-deep/titanic_survived/sweeps/6zycoh6c' target=\"_blank\">https://wandb.ai/max-deep/titanic_survived/sweeps/6zycoh6c</a>"
            ],
            "text/plain": [
              "<IPython.core.display.HTML object>"
            ]
          },
          "metadata": {},
          "output_type": "display_data"
        },
        {
          "data": {
            "text/html": [
              " View project at <a href='https://wandb.ai/max-deep/titanic_survived' target=\"_blank\">https://wandb.ai/max-deep/titanic_survived</a>"
            ],
            "text/plain": [
              "<IPython.core.display.HTML object>"
            ]
          },
          "metadata": {},
          "output_type": "display_data"
        },
        {
          "data": {
            "text/html": [
              " View sweep at <a href='https://wandb.ai/max-deep/titanic_survived/sweeps/6zycoh6c' target=\"_blank\">https://wandb.ai/max-deep/titanic_survived/sweeps/6zycoh6c</a>"
            ],
            "text/plain": [
              "<IPython.core.display.HTML object>"
            ]
          },
          "metadata": {},
          "output_type": "display_data"
        },
        {
          "data": {
            "text/html": [
              " View run at <a href='https://wandb.ai/max-deep/titanic_survived/runs/th145a0f' target=\"_blank\">https://wandb.ai/max-deep/titanic_survived/runs/th145a0f</a>"
            ],
            "text/plain": [
              "<IPython.core.display.HTML object>"
            ]
          },
          "metadata": {},
          "output_type": "display_data"
        },
        {
          "data": {
            "text/html": [
              "Waiting for W&B process to finish... <strong style=\"color:green\">(success).</strong>"
            ],
            "text/plain": [
              "<IPython.core.display.HTML object>"
            ]
          },
          "metadata": {},
          "output_type": "display_data"
        },
        {
          "data": {
            "text/html": [
              "<style>\n",
              "    table.wandb td:nth-child(1) { padding: 0 10px; text-align: left ; width: auto;} td:nth-child(2) {text-align: left ; width: 100%}\n",
              "    .wandb-row { display: flex; flex-direction: row; flex-wrap: wrap; justify-content: flex-start; width: 100% }\n",
              "    .wandb-col { display: flex; flex-direction: column; flex-basis: 100%; flex: 1; padding: 10px; }\n",
              "    </style>\n",
              "<div class=\"wandb-row\"><div class=\"wandb-col\"><h3>Run history:</h3><br/><table class=\"wandb\"><tr><td>epoch</td><td>▁▂▃▄▅▇▇▁▃▃▅▆▇█▁▃▄▅▇▇▁▂▃▅▅▇█▁▃▄▅▆▇▁▂▃▅▅▇█</td></tr></table><br/></div><div class=\"wandb-col\"><h3>Run summary:</h3><br/><table class=\"wandb\"><tr><td>epoch</td><td>119</td></tr><tr><td>mean_cv_accuracy</td><td>0.80627</td></tr><tr><td>train_auc</td><td>0.95278</td></tr><tr><td>train_ks_stat</td><td>0.7809</td></tr><tr><td>train_log_loss</td><td>0.26978</td></tr><tr><td>val_acc_0.5</td><td>0.8324</td></tr><tr><td>val_acc_best_trh</td><td>0.85475</td></tr><tr><td>val_auc</td><td>0.85876</td></tr><tr><td>val_ks_2samp</td><td>0.661</td></tr><tr><td>val_ks_pval</td><td>0.0</td></tr><tr><td>val_log_loss</td><td>0.44312</td></tr></table><br/></div></div>"
            ],
            "text/plain": [
              "<IPython.core.display.HTML object>"
            ]
          },
          "metadata": {},
          "output_type": "display_data"
        },
        {
          "data": {
            "text/html": [
              " View run <strong style=\"color:#cdcd00\">lilac-sweep-38</strong> at: <a href='https://wandb.ai/max-deep/titanic_survived/runs/th145a0f' target=\"_blank\">https://wandb.ai/max-deep/titanic_survived/runs/th145a0f</a><br/>Synced 4 W&B file(s), 6 media file(s), 12 artifact file(s) and 1 other file(s)"
            ],
            "text/plain": [
              "<IPython.core.display.HTML object>"
            ]
          },
          "metadata": {},
          "output_type": "display_data"
        },
        {
          "data": {
            "text/html": [
              "Find logs at: <code>.\\wandb\\run-20231005_123546-th145a0f\\logs</code>"
            ],
            "text/plain": [
              "<IPython.core.display.HTML object>"
            ]
          },
          "metadata": {},
          "output_type": "display_data"
        },
        {
          "name": "stderr",
          "output_type": "stream",
          "text": [
            "\u001b[34m\u001b[1mwandb\u001b[0m: Agent Starting Run: l8nddbff with config:\n",
            "\u001b[34m\u001b[1mwandb\u001b[0m: \tcolsample_bytree: 0.9376222405255884\n",
            "\u001b[34m\u001b[1mwandb\u001b[0m: \tlearning_rate: 0.9343644521549488\n",
            "\u001b[34m\u001b[1mwandb\u001b[0m: \tmax_depth: 8\n",
            "\u001b[34m\u001b[1mwandb\u001b[0m: \tmin_child_weight: 9\n",
            "\u001b[34m\u001b[1mwandb\u001b[0m: \tn_estimators: 150\n",
            "\u001b[34m\u001b[1mwandb\u001b[0m: \tsubsample: 0.7471329716416685\n"
          ]
        },
        {
          "data": {
            "text/html": [
              "wandb version 0.15.12 is available!  To upgrade, please run:\n",
              " $ pip install wandb --upgrade"
            ],
            "text/plain": [
              "<IPython.core.display.HTML object>"
            ]
          },
          "metadata": {},
          "output_type": "display_data"
        },
        {
          "data": {
            "text/html": [
              "Tracking run with wandb version 0.15.11"
            ],
            "text/plain": [
              "<IPython.core.display.HTML object>"
            ]
          },
          "metadata": {},
          "output_type": "display_data"
        },
        {
          "data": {
            "text/html": [
              "Run data is saved locally in <code>c:\\Users\\Maxpo\\Documents\\GitHub\\tabular-data-prediction-pipeline\\wandb\\run-20231005_123623-l8nddbff</code>"
            ],
            "text/plain": [
              "<IPython.core.display.HTML object>"
            ]
          },
          "metadata": {},
          "output_type": "display_data"
        },
        {
          "data": {
            "text/html": [
              "Syncing run <strong><a href='https://wandb.ai/max-deep/titanic_survived/runs/l8nddbff' target=\"_blank\">happy-sweep-39</a></strong> to <a href='https://wandb.ai/max-deep/titanic_survived' target=\"_blank\">Weights & Biases</a> (<a href='https://wandb.me/run' target=\"_blank\">docs</a>)<br/>Sweep page: <a href='https://wandb.ai/max-deep/titanic_survived/sweeps/6zycoh6c' target=\"_blank\">https://wandb.ai/max-deep/titanic_survived/sweeps/6zycoh6c</a>"
            ],
            "text/plain": [
              "<IPython.core.display.HTML object>"
            ]
          },
          "metadata": {},
          "output_type": "display_data"
        },
        {
          "data": {
            "text/html": [
              " View project at <a href='https://wandb.ai/max-deep/titanic_survived' target=\"_blank\">https://wandb.ai/max-deep/titanic_survived</a>"
            ],
            "text/plain": [
              "<IPython.core.display.HTML object>"
            ]
          },
          "metadata": {},
          "output_type": "display_data"
        },
        {
          "data": {
            "text/html": [
              " View sweep at <a href='https://wandb.ai/max-deep/titanic_survived/sweeps/6zycoh6c' target=\"_blank\">https://wandb.ai/max-deep/titanic_survived/sweeps/6zycoh6c</a>"
            ],
            "text/plain": [
              "<IPython.core.display.HTML object>"
            ]
          },
          "metadata": {},
          "output_type": "display_data"
        },
        {
          "data": {
            "text/html": [
              " View run at <a href='https://wandb.ai/max-deep/titanic_survived/runs/l8nddbff' target=\"_blank\">https://wandb.ai/max-deep/titanic_survived/runs/l8nddbff</a>"
            ],
            "text/plain": [
              "<IPython.core.display.HTML object>"
            ]
          },
          "metadata": {},
          "output_type": "display_data"
        },
        {
          "data": {
            "text/html": [
              "Waiting for W&B process to finish... <strong style=\"color:green\">(success).</strong>"
            ],
            "text/plain": [
              "<IPython.core.display.HTML object>"
            ]
          },
          "metadata": {},
          "output_type": "display_data"
        },
        {
          "data": {
            "text/html": [
              "<style>\n",
              "    table.wandb td:nth-child(1) { padding: 0 10px; text-align: left ; width: auto;} td:nth-child(2) {text-align: left ; width: 100%}\n",
              "    .wandb-row { display: flex; flex-direction: row; flex-wrap: wrap; justify-content: flex-start; width: 100% }\n",
              "    .wandb-col { display: flex; flex-direction: column; flex-basis: 100%; flex: 1; padding: 10px; }\n",
              "    </style>\n",
              "<div class=\"wandb-row\"><div class=\"wandb-col\"><h3>Run history:</h3><br/><table class=\"wandb\"><tr><td>epoch</td><td>▁▂▃▄▅▇█▁▃▄▅▆▇▁▂▃▄▅▆█▁▂▃▅▆▇█▂▃▄▅▆▇▁▂▃▄▆▇█</td></tr></table><br/></div><div class=\"wandb-col\"><h3>Run summary:</h3><br/><table class=\"wandb\"><tr><td>epoch</td><td>149</td></tr><tr><td>mean_cv_accuracy</td><td>0.80342</td></tr><tr><td>train_auc</td><td>0.96673</td></tr><tr><td>train_ks_stat</td><td>0.81762</td></tr><tr><td>train_log_loss</td><td>0.22919</td></tr><tr><td>val_acc_0.5</td><td>0.82123</td></tr><tr><td>val_acc_best_trh</td><td>0.82123</td></tr><tr><td>val_auc</td><td>0.82931</td></tr><tr><td>val_ks_2samp</td><td>0.61186</td></tr><tr><td>val_ks_pval</td><td>0.0</td></tr><tr><td>val_log_loss</td><td>0.51144</td></tr></table><br/></div></div>"
            ],
            "text/plain": [
              "<IPython.core.display.HTML object>"
            ]
          },
          "metadata": {},
          "output_type": "display_data"
        },
        {
          "data": {
            "text/html": [
              " View run <strong style=\"color:#cdcd00\">happy-sweep-39</strong> at: <a href='https://wandb.ai/max-deep/titanic_survived/runs/l8nddbff' target=\"_blank\">https://wandb.ai/max-deep/titanic_survived/runs/l8nddbff</a><br/>Synced 4 W&B file(s), 6 media file(s), 12 artifact file(s) and 1 other file(s)"
            ],
            "text/plain": [
              "<IPython.core.display.HTML object>"
            ]
          },
          "metadata": {},
          "output_type": "display_data"
        },
        {
          "data": {
            "text/html": [
              "Find logs at: <code>.\\wandb\\run-20231005_123623-l8nddbff\\logs</code>"
            ],
            "text/plain": [
              "<IPython.core.display.HTML object>"
            ]
          },
          "metadata": {},
          "output_type": "display_data"
        },
        {
          "name": "stderr",
          "output_type": "stream",
          "text": [
            "\u001b[34m\u001b[1mwandb\u001b[0m: Agent Starting Run: 45cyw9c8 with config:\n",
            "\u001b[34m\u001b[1mwandb\u001b[0m: \tcolsample_bytree: 0.8412182451120596\n",
            "\u001b[34m\u001b[1mwandb\u001b[0m: \tlearning_rate: 0.7911019543353848\n",
            "\u001b[34m\u001b[1mwandb\u001b[0m: \tmax_depth: 9\n",
            "\u001b[34m\u001b[1mwandb\u001b[0m: \tmin_child_weight: 9\n",
            "\u001b[34m\u001b[1mwandb\u001b[0m: \tn_estimators: 120\n",
            "\u001b[34m\u001b[1mwandb\u001b[0m: \tsubsample: 0.7931366106729993\n"
          ]
        },
        {
          "data": {
            "text/html": [
              "wandb version 0.15.12 is available!  To upgrade, please run:\n",
              " $ pip install wandb --upgrade"
            ],
            "text/plain": [
              "<IPython.core.display.HTML object>"
            ]
          },
          "metadata": {},
          "output_type": "display_data"
        },
        {
          "data": {
            "text/html": [
              "Tracking run with wandb version 0.15.11"
            ],
            "text/plain": [
              "<IPython.core.display.HTML object>"
            ]
          },
          "metadata": {},
          "output_type": "display_data"
        },
        {
          "data": {
            "text/html": [
              "Run data is saved locally in <code>c:\\Users\\Maxpo\\Documents\\GitHub\\tabular-data-prediction-pipeline\\wandb\\run-20231005_123659-45cyw9c8</code>"
            ],
            "text/plain": [
              "<IPython.core.display.HTML object>"
            ]
          },
          "metadata": {},
          "output_type": "display_data"
        },
        {
          "data": {
            "text/html": [
              "Syncing run <strong><a href='https://wandb.ai/max-deep/titanic_survived/runs/45cyw9c8' target=\"_blank\">vocal-sweep-40</a></strong> to <a href='https://wandb.ai/max-deep/titanic_survived' target=\"_blank\">Weights & Biases</a> (<a href='https://wandb.me/run' target=\"_blank\">docs</a>)<br/>Sweep page: <a href='https://wandb.ai/max-deep/titanic_survived/sweeps/6zycoh6c' target=\"_blank\">https://wandb.ai/max-deep/titanic_survived/sweeps/6zycoh6c</a>"
            ],
            "text/plain": [
              "<IPython.core.display.HTML object>"
            ]
          },
          "metadata": {},
          "output_type": "display_data"
        },
        {
          "data": {
            "text/html": [
              " View project at <a href='https://wandb.ai/max-deep/titanic_survived' target=\"_blank\">https://wandb.ai/max-deep/titanic_survived</a>"
            ],
            "text/plain": [
              "<IPython.core.display.HTML object>"
            ]
          },
          "metadata": {},
          "output_type": "display_data"
        },
        {
          "data": {
            "text/html": [
              " View sweep at <a href='https://wandb.ai/max-deep/titanic_survived/sweeps/6zycoh6c' target=\"_blank\">https://wandb.ai/max-deep/titanic_survived/sweeps/6zycoh6c</a>"
            ],
            "text/plain": [
              "<IPython.core.display.HTML object>"
            ]
          },
          "metadata": {},
          "output_type": "display_data"
        },
        {
          "data": {
            "text/html": [
              " View run at <a href='https://wandb.ai/max-deep/titanic_survived/runs/45cyw9c8' target=\"_blank\">https://wandb.ai/max-deep/titanic_survived/runs/45cyw9c8</a>"
            ],
            "text/plain": [
              "<IPython.core.display.HTML object>"
            ]
          },
          "metadata": {},
          "output_type": "display_data"
        },
        {
          "data": {
            "text/html": [
              "Waiting for W&B process to finish... <strong style=\"color:green\">(success).</strong>"
            ],
            "text/plain": [
              "<IPython.core.display.HTML object>"
            ]
          },
          "metadata": {},
          "output_type": "display_data"
        },
        {
          "data": {
            "text/html": [
              "<style>\n",
              "    table.wandb td:nth-child(1) { padding: 0 10px; text-align: left ; width: auto;} td:nth-child(2) {text-align: left ; width: 100%}\n",
              "    .wandb-row { display: flex; flex-direction: row; flex-wrap: wrap; justify-content: flex-start; width: 100% }\n",
              "    .wandb-col { display: flex; flex-direction: column; flex-basis: 100%; flex: 1; padding: 10px; }\n",
              "    </style>\n",
              "<div class=\"wandb-row\"><div class=\"wandb-col\"><h3>Run history:</h3><br/><table class=\"wandb\"><tr><td>epoch</td><td>▁▂▃▄▅▇▇▁▃▃▅▆▇█▁▃▄▅▇▇▁▂▃▅▅▇█▁▃▄▅▆▇▁▂▃▅▅▇█</td></tr></table><br/></div><div class=\"wandb-col\"><h3>Run summary:</h3><br/><table class=\"wandb\"><tr><td>epoch</td><td>119</td></tr><tr><td>mean_cv_accuracy</td><td>0.82592</td></tr><tr><td>train_auc</td><td>0.95868</td></tr><tr><td>train_ks_stat</td><td>0.7981</td></tr><tr><td>train_log_loss</td><td>0.25438</td></tr><tr><td>val_acc_0.5</td><td>0.81564</td></tr><tr><td>val_acc_best_trh</td><td>0.82123</td></tr><tr><td>val_auc</td><td>0.8365</td></tr><tr><td>val_ks_2samp</td><td>0.60646</td></tr><tr><td>val_ks_pval</td><td>0.0</td></tr><tr><td>val_log_loss</td><td>0.49489</td></tr></table><br/></div></div>"
            ],
            "text/plain": [
              "<IPython.core.display.HTML object>"
            ]
          },
          "metadata": {},
          "output_type": "display_data"
        },
        {
          "data": {
            "text/html": [
              " View run <strong style=\"color:#cdcd00\">vocal-sweep-40</strong> at: <a href='https://wandb.ai/max-deep/titanic_survived/runs/45cyw9c8' target=\"_blank\">https://wandb.ai/max-deep/titanic_survived/runs/45cyw9c8</a><br/>Synced 4 W&B file(s), 6 media file(s), 12 artifact file(s) and 1 other file(s)"
            ],
            "text/plain": [
              "<IPython.core.display.HTML object>"
            ]
          },
          "metadata": {},
          "output_type": "display_data"
        },
        {
          "data": {
            "text/html": [
              "Find logs at: <code>.\\wandb\\run-20231005_123659-45cyw9c8\\logs</code>"
            ],
            "text/plain": [
              "<IPython.core.display.HTML object>"
            ]
          },
          "metadata": {},
          "output_type": "display_data"
        },
        {
          "name": "stderr",
          "output_type": "stream",
          "text": [
            "\u001b[34m\u001b[1mwandb\u001b[0m: Agent Starting Run: run9erpf with config:\n",
            "\u001b[34m\u001b[1mwandb\u001b[0m: \tcolsample_bytree: 0.9666558149986308\n",
            "\u001b[34m\u001b[1mwandb\u001b[0m: \tlearning_rate: 0.5941572493324768\n",
            "\u001b[34m\u001b[1mwandb\u001b[0m: \tmax_depth: 9\n",
            "\u001b[34m\u001b[1mwandb\u001b[0m: \tmin_child_weight: 10\n",
            "\u001b[34m\u001b[1mwandb\u001b[0m: \tn_estimators: 120\n",
            "\u001b[34m\u001b[1mwandb\u001b[0m: \tsubsample: 0.7373773264690502\n"
          ]
        },
        {
          "data": {
            "text/html": [
              "wandb version 0.15.12 is available!  To upgrade, please run:\n",
              " $ pip install wandb --upgrade"
            ],
            "text/plain": [
              "<IPython.core.display.HTML object>"
            ]
          },
          "metadata": {},
          "output_type": "display_data"
        },
        {
          "data": {
            "text/html": [
              "Tracking run with wandb version 0.15.11"
            ],
            "text/plain": [
              "<IPython.core.display.HTML object>"
            ]
          },
          "metadata": {},
          "output_type": "display_data"
        },
        {
          "data": {
            "text/html": [
              "Run data is saved locally in <code>c:\\Users\\Maxpo\\Documents\\GitHub\\tabular-data-prediction-pipeline\\wandb\\run-20231005_123736-run9erpf</code>"
            ],
            "text/plain": [
              "<IPython.core.display.HTML object>"
            ]
          },
          "metadata": {},
          "output_type": "display_data"
        },
        {
          "data": {
            "text/html": [
              "Syncing run <strong><a href='https://wandb.ai/max-deep/titanic_survived/runs/run9erpf' target=\"_blank\">silvery-sweep-41</a></strong> to <a href='https://wandb.ai/max-deep/titanic_survived' target=\"_blank\">Weights & Biases</a> (<a href='https://wandb.me/run' target=\"_blank\">docs</a>)<br/>Sweep page: <a href='https://wandb.ai/max-deep/titanic_survived/sweeps/6zycoh6c' target=\"_blank\">https://wandb.ai/max-deep/titanic_survived/sweeps/6zycoh6c</a>"
            ],
            "text/plain": [
              "<IPython.core.display.HTML object>"
            ]
          },
          "metadata": {},
          "output_type": "display_data"
        },
        {
          "data": {
            "text/html": [
              " View project at <a href='https://wandb.ai/max-deep/titanic_survived' target=\"_blank\">https://wandb.ai/max-deep/titanic_survived</a>"
            ],
            "text/plain": [
              "<IPython.core.display.HTML object>"
            ]
          },
          "metadata": {},
          "output_type": "display_data"
        },
        {
          "data": {
            "text/html": [
              " View sweep at <a href='https://wandb.ai/max-deep/titanic_survived/sweeps/6zycoh6c' target=\"_blank\">https://wandb.ai/max-deep/titanic_survived/sweeps/6zycoh6c</a>"
            ],
            "text/plain": [
              "<IPython.core.display.HTML object>"
            ]
          },
          "metadata": {},
          "output_type": "display_data"
        },
        {
          "data": {
            "text/html": [
              " View run at <a href='https://wandb.ai/max-deep/titanic_survived/runs/run9erpf' target=\"_blank\">https://wandb.ai/max-deep/titanic_survived/runs/run9erpf</a>"
            ],
            "text/plain": [
              "<IPython.core.display.HTML object>"
            ]
          },
          "metadata": {},
          "output_type": "display_data"
        },
        {
          "data": {
            "text/html": [
              "Waiting for W&B process to finish... <strong style=\"color:green\">(success).</strong>"
            ],
            "text/plain": [
              "<IPython.core.display.HTML object>"
            ]
          },
          "metadata": {},
          "output_type": "display_data"
        },
        {
          "data": {
            "text/html": [
              "<style>\n",
              "    table.wandb td:nth-child(1) { padding: 0 10px; text-align: left ; width: auto;} td:nth-child(2) {text-align: left ; width: 100%}\n",
              "    .wandb-row { display: flex; flex-direction: row; flex-wrap: wrap; justify-content: flex-start; width: 100% }\n",
              "    .wandb-col { display: flex; flex-direction: column; flex-basis: 100%; flex: 1; padding: 10px; }\n",
              "    </style>\n",
              "<div class=\"wandb-row\"><div class=\"wandb-col\"><h3>Run history:</h3><br/><table class=\"wandb\"><tr><td>epoch</td><td>▁▂▃▄▅▇▇▁▃▃▅▆▇█▁▃▄▅▇▇▁▂▃▅▅▇█▁▃▄▅▆▇▁▂▃▅▅▇█</td></tr></table><br/></div><div class=\"wandb-col\"><h3>Run summary:</h3><br/><table class=\"wandb\"><tr><td>epoch</td><td>119</td></tr><tr><td>mean_cv_accuracy</td><td>0.83156</td></tr><tr><td>train_auc</td><td>0.94702</td></tr><tr><td>train_ks_stat</td><td>0.76978</td></tr><tr><td>train_log_loss</td><td>0.2809</td></tr><tr><td>val_acc_0.5</td><td>0.79888</td></tr><tr><td>val_acc_best_trh</td><td>0.84916</td></tr><tr><td>val_auc</td><td>0.8475</td></tr><tr><td>val_ks_2samp</td><td>0.6303</td></tr><tr><td>val_ks_pval</td><td>0.0</td></tr><tr><td>val_log_loss</td><td>0.47177</td></tr></table><br/></div></div>"
            ],
            "text/plain": [
              "<IPython.core.display.HTML object>"
            ]
          },
          "metadata": {},
          "output_type": "display_data"
        },
        {
          "data": {
            "text/html": [
              " View run <strong style=\"color:#cdcd00\">silvery-sweep-41</strong> at: <a href='https://wandb.ai/max-deep/titanic_survived/runs/run9erpf' target=\"_blank\">https://wandb.ai/max-deep/titanic_survived/runs/run9erpf</a><br/>Synced 4 W&B file(s), 6 media file(s), 12 artifact file(s) and 1 other file(s)"
            ],
            "text/plain": [
              "<IPython.core.display.HTML object>"
            ]
          },
          "metadata": {},
          "output_type": "display_data"
        },
        {
          "data": {
            "text/html": [
              "Find logs at: <code>.\\wandb\\run-20231005_123736-run9erpf\\logs</code>"
            ],
            "text/plain": [
              "<IPython.core.display.HTML object>"
            ]
          },
          "metadata": {},
          "output_type": "display_data"
        },
        {
          "name": "stderr",
          "output_type": "stream",
          "text": [
            "\u001b[34m\u001b[1mwandb\u001b[0m: Agent Starting Run: 7gz0kzdj with config:\n",
            "\u001b[34m\u001b[1mwandb\u001b[0m: \tcolsample_bytree: 0.7377529757274554\n",
            "\u001b[34m\u001b[1mwandb\u001b[0m: \tlearning_rate: 0.4508629156659327\n",
            "\u001b[34m\u001b[1mwandb\u001b[0m: \tmax_depth: 8\n",
            "\u001b[34m\u001b[1mwandb\u001b[0m: \tmin_child_weight: 10\n",
            "\u001b[34m\u001b[1mwandb\u001b[0m: \tn_estimators: 90\n",
            "\u001b[34m\u001b[1mwandb\u001b[0m: \tsubsample: 0.8472423730746992\n"
          ]
        },
        {
          "data": {
            "text/html": [
              "wandb version 0.15.12 is available!  To upgrade, please run:\n",
              " $ pip install wandb --upgrade"
            ],
            "text/plain": [
              "<IPython.core.display.HTML object>"
            ]
          },
          "metadata": {},
          "output_type": "display_data"
        },
        {
          "data": {
            "text/html": [
              "Tracking run with wandb version 0.15.11"
            ],
            "text/plain": [
              "<IPython.core.display.HTML object>"
            ]
          },
          "metadata": {},
          "output_type": "display_data"
        },
        {
          "data": {
            "text/html": [
              "Run data is saved locally in <code>c:\\Users\\Maxpo\\Documents\\GitHub\\tabular-data-prediction-pipeline\\wandb\\run-20231005_123812-7gz0kzdj</code>"
            ],
            "text/plain": [
              "<IPython.core.display.HTML object>"
            ]
          },
          "metadata": {},
          "output_type": "display_data"
        },
        {
          "data": {
            "text/html": [
              "Syncing run <strong><a href='https://wandb.ai/max-deep/titanic_survived/runs/7gz0kzdj' target=\"_blank\">avid-sweep-42</a></strong> to <a href='https://wandb.ai/max-deep/titanic_survived' target=\"_blank\">Weights & Biases</a> (<a href='https://wandb.me/run' target=\"_blank\">docs</a>)<br/>Sweep page: <a href='https://wandb.ai/max-deep/titanic_survived/sweeps/6zycoh6c' target=\"_blank\">https://wandb.ai/max-deep/titanic_survived/sweeps/6zycoh6c</a>"
            ],
            "text/plain": [
              "<IPython.core.display.HTML object>"
            ]
          },
          "metadata": {},
          "output_type": "display_data"
        },
        {
          "data": {
            "text/html": [
              " View project at <a href='https://wandb.ai/max-deep/titanic_survived' target=\"_blank\">https://wandb.ai/max-deep/titanic_survived</a>"
            ],
            "text/plain": [
              "<IPython.core.display.HTML object>"
            ]
          },
          "metadata": {},
          "output_type": "display_data"
        },
        {
          "data": {
            "text/html": [
              " View sweep at <a href='https://wandb.ai/max-deep/titanic_survived/sweeps/6zycoh6c' target=\"_blank\">https://wandb.ai/max-deep/titanic_survived/sweeps/6zycoh6c</a>"
            ],
            "text/plain": [
              "<IPython.core.display.HTML object>"
            ]
          },
          "metadata": {},
          "output_type": "display_data"
        },
        {
          "data": {
            "text/html": [
              " View run at <a href='https://wandb.ai/max-deep/titanic_survived/runs/7gz0kzdj' target=\"_blank\">https://wandb.ai/max-deep/titanic_survived/runs/7gz0kzdj</a>"
            ],
            "text/plain": [
              "<IPython.core.display.HTML object>"
            ]
          },
          "metadata": {},
          "output_type": "display_data"
        },
        {
          "data": {
            "text/html": [
              "Waiting for W&B process to finish... <strong style=\"color:green\">(success).</strong>"
            ],
            "text/plain": [
              "<IPython.core.display.HTML object>"
            ]
          },
          "metadata": {},
          "output_type": "display_data"
        },
        {
          "data": {
            "text/html": [
              "<style>\n",
              "    table.wandb td:nth-child(1) { padding: 0 10px; text-align: left ; width: auto;} td:nth-child(2) {text-align: left ; width: 100%}\n",
              "    .wandb-row { display: flex; flex-direction: row; flex-wrap: wrap; justify-content: flex-start; width: 100% }\n",
              "    .wandb-col { display: flex; flex-direction: column; flex-basis: 100%; flex: 1; padding: 10px; }\n",
              "    </style>\n",
              "<div class=\"wandb-row\"><div class=\"wandb-col\"><h3>Run history:</h3><br/><table class=\"wandb\"><tr><td>epoch</td><td>▁▂▃▅▅▇█▁▃▄▅▆▇▁▂▃▄▅▆█▁▂▄▄▅▇█▁▃▄▅▆▇█▂▃▄▅▆█</td></tr></table><br/></div><div class=\"wandb-col\"><h3>Run summary:</h3><br/><table class=\"wandb\"><tr><td>epoch</td><td>89</td></tr><tr><td>mean_cv_accuracy</td><td>0.81607</td></tr><tr><td>train_auc</td><td>0.94664</td></tr><tr><td>train_ks_stat</td><td>0.77009</td></tr><tr><td>train_log_loss</td><td>0.29327</td></tr><tr><td>val_acc_0.5</td><td>0.80447</td></tr><tr><td>val_acc_best_trh</td><td>0.84358</td></tr><tr><td>val_auc</td><td>0.85244</td></tr><tr><td>val_ks_2samp</td><td>0.63202</td></tr><tr><td>val_ks_pval</td><td>0.0</td></tr><tr><td>val_log_loss</td><td>0.4522</td></tr></table><br/></div></div>"
            ],
            "text/plain": [
              "<IPython.core.display.HTML object>"
            ]
          },
          "metadata": {},
          "output_type": "display_data"
        },
        {
          "data": {
            "text/html": [
              " View run <strong style=\"color:#cdcd00\">avid-sweep-42</strong> at: <a href='https://wandb.ai/max-deep/titanic_survived/runs/7gz0kzdj' target=\"_blank\">https://wandb.ai/max-deep/titanic_survived/runs/7gz0kzdj</a><br/>Synced 4 W&B file(s), 6 media file(s), 12 artifact file(s) and 1 other file(s)"
            ],
            "text/plain": [
              "<IPython.core.display.HTML object>"
            ]
          },
          "metadata": {},
          "output_type": "display_data"
        },
        {
          "data": {
            "text/html": [
              "Find logs at: <code>.\\wandb\\run-20231005_123812-7gz0kzdj\\logs</code>"
            ],
            "text/plain": [
              "<IPython.core.display.HTML object>"
            ]
          },
          "metadata": {},
          "output_type": "display_data"
        },
        {
          "name": "stderr",
          "output_type": "stream",
          "text": [
            "\u001b[34m\u001b[1mwandb\u001b[0m: Sweep Agent: Waiting for job.\n",
            "\u001b[34m\u001b[1mwandb\u001b[0m: Job received.\n",
            "\u001b[34m\u001b[1mwandb\u001b[0m: Agent Starting Run: 7sdq657o with config:\n",
            "\u001b[34m\u001b[1mwandb\u001b[0m: \tcolsample_bytree: 0.9888329198998256\n",
            "\u001b[34m\u001b[1mwandb\u001b[0m: \tlearning_rate: 0.4109858231086297\n",
            "\u001b[34m\u001b[1mwandb\u001b[0m: \tmax_depth: 9\n",
            "\u001b[34m\u001b[1mwandb\u001b[0m: \tmin_child_weight: 10\n",
            "\u001b[34m\u001b[1mwandb\u001b[0m: \tn_estimators: 120\n",
            "\u001b[34m\u001b[1mwandb\u001b[0m: \tsubsample: 0.5938399453612354\n"
          ]
        },
        {
          "data": {
            "text/html": [
              "wandb version 0.15.12 is available!  To upgrade, please run:\n",
              " $ pip install wandb --upgrade"
            ],
            "text/plain": [
              "<IPython.core.display.HTML object>"
            ]
          },
          "metadata": {},
          "output_type": "display_data"
        },
        {
          "data": {
            "text/html": [
              "Tracking run with wandb version 0.15.11"
            ],
            "text/plain": [
              "<IPython.core.display.HTML object>"
            ]
          },
          "metadata": {},
          "output_type": "display_data"
        },
        {
          "data": {
            "text/html": [
              "Run data is saved locally in <code>c:\\Users\\Maxpo\\Documents\\GitHub\\tabular-data-prediction-pipeline\\wandb\\run-20231005_123853-7sdq657o</code>"
            ],
            "text/plain": [
              "<IPython.core.display.HTML object>"
            ]
          },
          "metadata": {},
          "output_type": "display_data"
        },
        {
          "data": {
            "text/html": [
              "Syncing run <strong><a href='https://wandb.ai/max-deep/titanic_survived/runs/7sdq657o' target=\"_blank\">treasured-sweep-43</a></strong> to <a href='https://wandb.ai/max-deep/titanic_survived' target=\"_blank\">Weights & Biases</a> (<a href='https://wandb.me/run' target=\"_blank\">docs</a>)<br/>Sweep page: <a href='https://wandb.ai/max-deep/titanic_survived/sweeps/6zycoh6c' target=\"_blank\">https://wandb.ai/max-deep/titanic_survived/sweeps/6zycoh6c</a>"
            ],
            "text/plain": [
              "<IPython.core.display.HTML object>"
            ]
          },
          "metadata": {},
          "output_type": "display_data"
        },
        {
          "data": {
            "text/html": [
              " View project at <a href='https://wandb.ai/max-deep/titanic_survived' target=\"_blank\">https://wandb.ai/max-deep/titanic_survived</a>"
            ],
            "text/plain": [
              "<IPython.core.display.HTML object>"
            ]
          },
          "metadata": {},
          "output_type": "display_data"
        },
        {
          "data": {
            "text/html": [
              " View sweep at <a href='https://wandb.ai/max-deep/titanic_survived/sweeps/6zycoh6c' target=\"_blank\">https://wandb.ai/max-deep/titanic_survived/sweeps/6zycoh6c</a>"
            ],
            "text/plain": [
              "<IPython.core.display.HTML object>"
            ]
          },
          "metadata": {},
          "output_type": "display_data"
        },
        {
          "data": {
            "text/html": [
              " View run at <a href='https://wandb.ai/max-deep/titanic_survived/runs/7sdq657o' target=\"_blank\">https://wandb.ai/max-deep/titanic_survived/runs/7sdq657o</a>"
            ],
            "text/plain": [
              "<IPython.core.display.HTML object>"
            ]
          },
          "metadata": {},
          "output_type": "display_data"
        },
        {
          "data": {
            "text/html": [
              "Waiting for W&B process to finish... <strong style=\"color:green\">(success).</strong>"
            ],
            "text/plain": [
              "<IPython.core.display.HTML object>"
            ]
          },
          "metadata": {},
          "output_type": "display_data"
        },
        {
          "data": {
            "text/html": [
              "<style>\n",
              "    table.wandb td:nth-child(1) { padding: 0 10px; text-align: left ; width: auto;} td:nth-child(2) {text-align: left ; width: 100%}\n",
              "    .wandb-row { display: flex; flex-direction: row; flex-wrap: wrap; justify-content: flex-start; width: 100% }\n",
              "    .wandb-col { display: flex; flex-direction: column; flex-basis: 100%; flex: 1; padding: 10px; }\n",
              "    </style>\n",
              "<div class=\"wandb-row\"><div class=\"wandb-col\"><h3>Run history:</h3><br/><table class=\"wandb\"><tr><td>epoch</td><td>▁▂▃▄▅▇▇▁▃▃▅▆▇█▁▃▄▅▇▇▁▂▃▅▅▇█▁▃▄▅▆▇▁▂▃▅▅▇█</td></tr></table><br/></div><div class=\"wandb-col\"><h3>Run summary:</h3><br/><table class=\"wandb\"><tr><td>epoch</td><td>119</td></tr><tr><td>mean_cv_accuracy</td><td>0.82031</td></tr><tr><td>train_auc</td><td>0.935</td></tr><tr><td>train_ks_stat</td><td>0.73109</td></tr><tr><td>train_log_loss</td><td>0.31821</td></tr><tr><td>val_acc_0.5</td><td>0.81564</td></tr><tr><td>val_acc_best_trh</td><td>0.7933</td></tr><tr><td>val_auc</td><td>0.84499</td></tr><tr><td>val_ks_2samp</td><td>0.59341</td></tr><tr><td>val_ks_pval</td><td>0.0</td></tr><tr><td>val_log_loss</td><td>0.45785</td></tr></table><br/></div></div>"
            ],
            "text/plain": [
              "<IPython.core.display.HTML object>"
            ]
          },
          "metadata": {},
          "output_type": "display_data"
        },
        {
          "data": {
            "text/html": [
              " View run <strong style=\"color:#cdcd00\">treasured-sweep-43</strong> at: <a href='https://wandb.ai/max-deep/titanic_survived/runs/7sdq657o' target=\"_blank\">https://wandb.ai/max-deep/titanic_survived/runs/7sdq657o</a><br/>Synced 4 W&B file(s), 6 media file(s), 12 artifact file(s) and 1 other file(s)"
            ],
            "text/plain": [
              "<IPython.core.display.HTML object>"
            ]
          },
          "metadata": {},
          "output_type": "display_data"
        },
        {
          "data": {
            "text/html": [
              "Find logs at: <code>.\\wandb\\run-20231005_123853-7sdq657o\\logs</code>"
            ],
            "text/plain": [
              "<IPython.core.display.HTML object>"
            ]
          },
          "metadata": {},
          "output_type": "display_data"
        },
        {
          "name": "stderr",
          "output_type": "stream",
          "text": [
            "\u001b[34m\u001b[1mwandb\u001b[0m: Sweep Agent: Waiting for job.\n",
            "\u001b[34m\u001b[1mwandb\u001b[0m: Job received.\n",
            "\u001b[34m\u001b[1mwandb\u001b[0m: Agent Starting Run: 15j000of with config:\n",
            "\u001b[34m\u001b[1mwandb\u001b[0m: \tcolsample_bytree: 0.8393239292243271\n",
            "\u001b[34m\u001b[1mwandb\u001b[0m: \tlearning_rate: 0.7464451116223325\n",
            "\u001b[34m\u001b[1mwandb\u001b[0m: \tmax_depth: 9\n",
            "\u001b[34m\u001b[1mwandb\u001b[0m: \tmin_child_weight: 10\n",
            "\u001b[34m\u001b[1mwandb\u001b[0m: \tn_estimators: 60\n",
            "\u001b[34m\u001b[1mwandb\u001b[0m: \tsubsample: 0.7113332982500375\n"
          ]
        },
        {
          "data": {
            "text/html": [
              "wandb version 0.15.12 is available!  To upgrade, please run:\n",
              " $ pip install wandb --upgrade"
            ],
            "text/plain": [
              "<IPython.core.display.HTML object>"
            ]
          },
          "metadata": {},
          "output_type": "display_data"
        },
        {
          "data": {
            "text/html": [
              "Tracking run with wandb version 0.15.11"
            ],
            "text/plain": [
              "<IPython.core.display.HTML object>"
            ]
          },
          "metadata": {},
          "output_type": "display_data"
        },
        {
          "data": {
            "text/html": [
              "Run data is saved locally in <code>c:\\Users\\Maxpo\\Documents\\GitHub\\tabular-data-prediction-pipeline\\wandb\\run-20231005_123934-15j000of</code>"
            ],
            "text/plain": [
              "<IPython.core.display.HTML object>"
            ]
          },
          "metadata": {},
          "output_type": "display_data"
        },
        {
          "data": {
            "text/html": [
              "Syncing run <strong><a href='https://wandb.ai/max-deep/titanic_survived/runs/15j000of' target=\"_blank\">driven-sweep-44</a></strong> to <a href='https://wandb.ai/max-deep/titanic_survived' target=\"_blank\">Weights & Biases</a> (<a href='https://wandb.me/run' target=\"_blank\">docs</a>)<br/>Sweep page: <a href='https://wandb.ai/max-deep/titanic_survived/sweeps/6zycoh6c' target=\"_blank\">https://wandb.ai/max-deep/titanic_survived/sweeps/6zycoh6c</a>"
            ],
            "text/plain": [
              "<IPython.core.display.HTML object>"
            ]
          },
          "metadata": {},
          "output_type": "display_data"
        },
        {
          "data": {
            "text/html": [
              " View project at <a href='https://wandb.ai/max-deep/titanic_survived' target=\"_blank\">https://wandb.ai/max-deep/titanic_survived</a>"
            ],
            "text/plain": [
              "<IPython.core.display.HTML object>"
            ]
          },
          "metadata": {},
          "output_type": "display_data"
        },
        {
          "data": {
            "text/html": [
              " View sweep at <a href='https://wandb.ai/max-deep/titanic_survived/sweeps/6zycoh6c' target=\"_blank\">https://wandb.ai/max-deep/titanic_survived/sweeps/6zycoh6c</a>"
            ],
            "text/plain": [
              "<IPython.core.display.HTML object>"
            ]
          },
          "metadata": {},
          "output_type": "display_data"
        },
        {
          "data": {
            "text/html": [
              " View run at <a href='https://wandb.ai/max-deep/titanic_survived/runs/15j000of' target=\"_blank\">https://wandb.ai/max-deep/titanic_survived/runs/15j000of</a>"
            ],
            "text/plain": [
              "<IPython.core.display.HTML object>"
            ]
          },
          "metadata": {},
          "output_type": "display_data"
        },
        {
          "data": {
            "text/html": [
              "Waiting for W&B process to finish... <strong style=\"color:green\">(success).</strong>"
            ],
            "text/plain": [
              "<IPython.core.display.HTML object>"
            ]
          },
          "metadata": {},
          "output_type": "display_data"
        },
        {
          "data": {
            "text/html": [
              "<style>\n",
              "    table.wandb td:nth-child(1) { padding: 0 10px; text-align: left ; width: auto;} td:nth-child(2) {text-align: left ; width: 100%}\n",
              "    .wandb-row { display: flex; flex-direction: row; flex-wrap: wrap; justify-content: flex-start; width: 100% }\n",
              "    .wandb-col { display: flex; flex-direction: column; flex-basis: 100%; flex: 1; padding: 10px; }\n",
              "    </style>\n",
              "<div class=\"wandb-row\"><div class=\"wandb-col\"><h3>Run history:</h3><br/><table class=\"wandb\"><tr><td>epoch</td><td>▁▂▃▄▅▇▇▁▃▃▅▆▇█▁▃▄▅▇▇▁▂▃▅▅▇█▁▃▄▅▆▇▁▂▃▅▅▇█</td></tr></table><br/></div><div class=\"wandb-col\"><h3>Run summary:</h3><br/><table class=\"wandb\"><tr><td>epoch</td><td>59</td></tr><tr><td>mean_cv_accuracy</td><td>0.81328</td></tr><tr><td>train_auc</td><td>0.93783</td></tr><tr><td>train_ks_stat</td><td>0.72971</td></tr><tr><td>train_log_loss</td><td>0.309</td></tr><tr><td>val_acc_0.5</td><td>0.82123</td></tr><tr><td>val_acc_best_trh</td><td>0.83799</td></tr><tr><td>val_auc</td><td>0.83722</td></tr><tr><td>val_ks_2samp</td><td>0.61752</td></tr><tr><td>val_ks_pval</td><td>0.0</td></tr><tr><td>val_log_loss</td><td>0.46418</td></tr></table><br/></div></div>"
            ],
            "text/plain": [
              "<IPython.core.display.HTML object>"
            ]
          },
          "metadata": {},
          "output_type": "display_data"
        },
        {
          "data": {
            "text/html": [
              " View run <strong style=\"color:#cdcd00\">driven-sweep-44</strong> at: <a href='https://wandb.ai/max-deep/titanic_survived/runs/15j000of' target=\"_blank\">https://wandb.ai/max-deep/titanic_survived/runs/15j000of</a><br/>Synced 4 W&B file(s), 6 media file(s), 12 artifact file(s) and 1 other file(s)"
            ],
            "text/plain": [
              "<IPython.core.display.HTML object>"
            ]
          },
          "metadata": {},
          "output_type": "display_data"
        },
        {
          "data": {
            "text/html": [
              "Find logs at: <code>.\\wandb\\run-20231005_123934-15j000of\\logs</code>"
            ],
            "text/plain": [
              "<IPython.core.display.HTML object>"
            ]
          },
          "metadata": {},
          "output_type": "display_data"
        },
        {
          "name": "stderr",
          "output_type": "stream",
          "text": [
            "\u001b[34m\u001b[1mwandb\u001b[0m: Agent Starting Run: 7a7ejjhc with config:\n",
            "\u001b[34m\u001b[1mwandb\u001b[0m: \tcolsample_bytree: 0.8287333261485481\n",
            "\u001b[34m\u001b[1mwandb\u001b[0m: \tlearning_rate: 0.6761257890986802\n",
            "\u001b[34m\u001b[1mwandb\u001b[0m: \tmax_depth: 7\n",
            "\u001b[34m\u001b[1mwandb\u001b[0m: \tmin_child_weight: 10\n",
            "\u001b[34m\u001b[1mwandb\u001b[0m: \tn_estimators: 60\n",
            "\u001b[34m\u001b[1mwandb\u001b[0m: \tsubsample: 0.7931790070167726\n"
          ]
        },
        {
          "data": {
            "text/html": [
              "wandb version 0.15.12 is available!  To upgrade, please run:\n",
              " $ pip install wandb --upgrade"
            ],
            "text/plain": [
              "<IPython.core.display.HTML object>"
            ]
          },
          "metadata": {},
          "output_type": "display_data"
        },
        {
          "data": {
            "text/html": [
              "Tracking run with wandb version 0.15.11"
            ],
            "text/plain": [
              "<IPython.core.display.HTML object>"
            ]
          },
          "metadata": {},
          "output_type": "display_data"
        },
        {
          "data": {
            "text/html": [
              "Run data is saved locally in <code>c:\\Users\\Maxpo\\Documents\\GitHub\\tabular-data-prediction-pipeline\\wandb\\run-20231005_124007-7a7ejjhc</code>"
            ],
            "text/plain": [
              "<IPython.core.display.HTML object>"
            ]
          },
          "metadata": {},
          "output_type": "display_data"
        },
        {
          "data": {
            "text/html": [
              "Syncing run <strong><a href='https://wandb.ai/max-deep/titanic_survived/runs/7a7ejjhc' target=\"_blank\">graceful-sweep-45</a></strong> to <a href='https://wandb.ai/max-deep/titanic_survived' target=\"_blank\">Weights & Biases</a> (<a href='https://wandb.me/run' target=\"_blank\">docs</a>)<br/>Sweep page: <a href='https://wandb.ai/max-deep/titanic_survived/sweeps/6zycoh6c' target=\"_blank\">https://wandb.ai/max-deep/titanic_survived/sweeps/6zycoh6c</a>"
            ],
            "text/plain": [
              "<IPython.core.display.HTML object>"
            ]
          },
          "metadata": {},
          "output_type": "display_data"
        },
        {
          "data": {
            "text/html": [
              " View project at <a href='https://wandb.ai/max-deep/titanic_survived' target=\"_blank\">https://wandb.ai/max-deep/titanic_survived</a>"
            ],
            "text/plain": [
              "<IPython.core.display.HTML object>"
            ]
          },
          "metadata": {},
          "output_type": "display_data"
        },
        {
          "data": {
            "text/html": [
              " View sweep at <a href='https://wandb.ai/max-deep/titanic_survived/sweeps/6zycoh6c' target=\"_blank\">https://wandb.ai/max-deep/titanic_survived/sweeps/6zycoh6c</a>"
            ],
            "text/plain": [
              "<IPython.core.display.HTML object>"
            ]
          },
          "metadata": {},
          "output_type": "display_data"
        },
        {
          "data": {
            "text/html": [
              " View run at <a href='https://wandb.ai/max-deep/titanic_survived/runs/7a7ejjhc' target=\"_blank\">https://wandb.ai/max-deep/titanic_survived/runs/7a7ejjhc</a>"
            ],
            "text/plain": [
              "<IPython.core.display.HTML object>"
            ]
          },
          "metadata": {},
          "output_type": "display_data"
        },
        {
          "data": {
            "text/html": [
              "Waiting for W&B process to finish... <strong style=\"color:green\">(success).</strong>"
            ],
            "text/plain": [
              "<IPython.core.display.HTML object>"
            ]
          },
          "metadata": {},
          "output_type": "display_data"
        },
        {
          "data": {
            "text/html": [
              "<style>\n",
              "    table.wandb td:nth-child(1) { padding: 0 10px; text-align: left ; width: auto;} td:nth-child(2) {text-align: left ; width: 100%}\n",
              "    .wandb-row { display: flex; flex-direction: row; flex-wrap: wrap; justify-content: flex-start; width: 100% }\n",
              "    .wandb-col { display: flex; flex-direction: column; flex-basis: 100%; flex: 1; padding: 10px; }\n",
              "    </style>\n",
              "<div class=\"wandb-row\"><div class=\"wandb-col\"><h3>Run history:</h3><br/><table class=\"wandb\"><tr><td>epoch</td><td>▁▂▃▄▅▇▇▁▃▃▅▆▇█▁▃▄▅▇▇▁▂▃▅▅▇█▁▃▄▅▆▇▁▂▃▅▅▇█</td></tr></table><br/></div><div class=\"wandb-col\"><h3>Run summary:</h3><br/><table class=\"wandb\"><tr><td>epoch</td><td>59</td></tr><tr><td>mean_cv_accuracy</td><td>0.82031</td></tr><tr><td>train_auc</td><td>0.93917</td></tr><tr><td>train_ks_stat</td><td>0.75079</td></tr><tr><td>train_log_loss</td><td>0.30502</td></tr><tr><td>val_acc_0.5</td><td>0.81564</td></tr><tr><td>val_acc_best_trh</td><td>0.82682</td></tr><tr><td>val_auc</td><td>0.83623</td></tr><tr><td>val_ks_2samp</td><td>0.63175</td></tr><tr><td>val_ks_pval</td><td>0.0</td></tr><tr><td>val_log_loss</td><td>0.45864</td></tr></table><br/></div></div>"
            ],
            "text/plain": [
              "<IPython.core.display.HTML object>"
            ]
          },
          "metadata": {},
          "output_type": "display_data"
        },
        {
          "data": {
            "text/html": [
              " View run <strong style=\"color:#cdcd00\">graceful-sweep-45</strong> at: <a href='https://wandb.ai/max-deep/titanic_survived/runs/7a7ejjhc' target=\"_blank\">https://wandb.ai/max-deep/titanic_survived/runs/7a7ejjhc</a><br/>Synced 4 W&B file(s), 6 media file(s), 12 artifact file(s) and 1 other file(s)"
            ],
            "text/plain": [
              "<IPython.core.display.HTML object>"
            ]
          },
          "metadata": {},
          "output_type": "display_data"
        },
        {
          "data": {
            "text/html": [
              "Find logs at: <code>.\\wandb\\run-20231005_124007-7a7ejjhc\\logs</code>"
            ],
            "text/plain": [
              "<IPython.core.display.HTML object>"
            ]
          },
          "metadata": {},
          "output_type": "display_data"
        },
        {
          "name": "stderr",
          "output_type": "stream",
          "text": [
            "\u001b[34m\u001b[1mwandb\u001b[0m: Agent Starting Run: 8tqzyv21 with config:\n",
            "\u001b[34m\u001b[1mwandb\u001b[0m: \tcolsample_bytree: 0.9526565184059924\n",
            "\u001b[34m\u001b[1mwandb\u001b[0m: \tlearning_rate: 0.6019531605360815\n",
            "\u001b[34m\u001b[1mwandb\u001b[0m: \tmax_depth: 8\n",
            "\u001b[34m\u001b[1mwandb\u001b[0m: \tmin_child_weight: 10\n",
            "\u001b[34m\u001b[1mwandb\u001b[0m: \tn_estimators: 120\n",
            "\u001b[34m\u001b[1mwandb\u001b[0m: \tsubsample: 0.8210892560874156\n"
          ]
        },
        {
          "data": {
            "text/html": [
              "wandb version 0.15.12 is available!  To upgrade, please run:\n",
              " $ pip install wandb --upgrade"
            ],
            "text/plain": [
              "<IPython.core.display.HTML object>"
            ]
          },
          "metadata": {},
          "output_type": "display_data"
        },
        {
          "data": {
            "text/html": [
              "Tracking run with wandb version 0.15.11"
            ],
            "text/plain": [
              "<IPython.core.display.HTML object>"
            ]
          },
          "metadata": {},
          "output_type": "display_data"
        },
        {
          "data": {
            "text/html": [
              "Run data is saved locally in <code>c:\\Users\\Maxpo\\Documents\\GitHub\\tabular-data-prediction-pipeline\\wandb\\run-20231005_124038-8tqzyv21</code>"
            ],
            "text/plain": [
              "<IPython.core.display.HTML object>"
            ]
          },
          "metadata": {},
          "output_type": "display_data"
        },
        {
          "data": {
            "text/html": [
              "Syncing run <strong><a href='https://wandb.ai/max-deep/titanic_survived/runs/8tqzyv21' target=\"_blank\">bright-sweep-46</a></strong> to <a href='https://wandb.ai/max-deep/titanic_survived' target=\"_blank\">Weights & Biases</a> (<a href='https://wandb.me/run' target=\"_blank\">docs</a>)<br/>Sweep page: <a href='https://wandb.ai/max-deep/titanic_survived/sweeps/6zycoh6c' target=\"_blank\">https://wandb.ai/max-deep/titanic_survived/sweeps/6zycoh6c</a>"
            ],
            "text/plain": [
              "<IPython.core.display.HTML object>"
            ]
          },
          "metadata": {},
          "output_type": "display_data"
        },
        {
          "data": {
            "text/html": [
              " View project at <a href='https://wandb.ai/max-deep/titanic_survived' target=\"_blank\">https://wandb.ai/max-deep/titanic_survived</a>"
            ],
            "text/plain": [
              "<IPython.core.display.HTML object>"
            ]
          },
          "metadata": {},
          "output_type": "display_data"
        },
        {
          "data": {
            "text/html": [
              " View sweep at <a href='https://wandb.ai/max-deep/titanic_survived/sweeps/6zycoh6c' target=\"_blank\">https://wandb.ai/max-deep/titanic_survived/sweeps/6zycoh6c</a>"
            ],
            "text/plain": [
              "<IPython.core.display.HTML object>"
            ]
          },
          "metadata": {},
          "output_type": "display_data"
        },
        {
          "data": {
            "text/html": [
              " View run at <a href='https://wandb.ai/max-deep/titanic_survived/runs/8tqzyv21' target=\"_blank\">https://wandb.ai/max-deep/titanic_survived/runs/8tqzyv21</a>"
            ],
            "text/plain": [
              "<IPython.core.display.HTML object>"
            ]
          },
          "metadata": {},
          "output_type": "display_data"
        },
        {
          "data": {
            "text/html": [
              "Waiting for W&B process to finish... <strong style=\"color:green\">(success).</strong>"
            ],
            "text/plain": [
              "<IPython.core.display.HTML object>"
            ]
          },
          "metadata": {},
          "output_type": "display_data"
        },
        {
          "data": {
            "text/html": [
              "<style>\n",
              "    table.wandb td:nth-child(1) { padding: 0 10px; text-align: left ; width: auto;} td:nth-child(2) {text-align: left ; width: 100%}\n",
              "    .wandb-row { display: flex; flex-direction: row; flex-wrap: wrap; justify-content: flex-start; width: 100% }\n",
              "    .wandb-col { display: flex; flex-direction: column; flex-basis: 100%; flex: 1; padding: 10px; }\n",
              "    </style>\n",
              "<div class=\"wandb-row\"><div class=\"wandb-col\"><h3>Run history:</h3><br/><table class=\"wandb\"><tr><td>epoch</td><td>▁▂▃▄▅▇▇▁▃▃▅▆▇█▁▃▄▅▇▇▁▂▃▅▅▇█▁▃▄▅▆▇▁▂▃▅▅▇█</td></tr></table><br/></div><div class=\"wandb-col\"><h3>Run summary:</h3><br/><table class=\"wandb\"><tr><td>epoch</td><td>119</td></tr><tr><td>mean_cv_accuracy</td><td>0.82453</td></tr><tr><td>train_auc</td><td>0.9547</td></tr><tr><td>train_ks_stat</td><td>0.77692</td></tr><tr><td>train_log_loss</td><td>0.26666</td></tr><tr><td>val_acc_0.5</td><td>0.82682</td></tr><tr><td>val_acc_best_trh</td><td>0.8324</td></tr><tr><td>val_auc</td><td>0.85296</td></tr><tr><td>val_ks_2samp</td><td>0.63004</td></tr><tr><td>val_ks_pval</td><td>0.0</td></tr><tr><td>val_log_loss</td><td>0.45667</td></tr></table><br/></div></div>"
            ],
            "text/plain": [
              "<IPython.core.display.HTML object>"
            ]
          },
          "metadata": {},
          "output_type": "display_data"
        },
        {
          "data": {
            "text/html": [
              " View run <strong style=\"color:#cdcd00\">bright-sweep-46</strong> at: <a href='https://wandb.ai/max-deep/titanic_survived/runs/8tqzyv21' target=\"_blank\">https://wandb.ai/max-deep/titanic_survived/runs/8tqzyv21</a><br/>Synced 4 W&B file(s), 6 media file(s), 12 artifact file(s) and 1 other file(s)"
            ],
            "text/plain": [
              "<IPython.core.display.HTML object>"
            ]
          },
          "metadata": {},
          "output_type": "display_data"
        },
        {
          "data": {
            "text/html": [
              "Find logs at: <code>.\\wandb\\run-20231005_124038-8tqzyv21\\logs</code>"
            ],
            "text/plain": [
              "<IPython.core.display.HTML object>"
            ]
          },
          "metadata": {},
          "output_type": "display_data"
        },
        {
          "name": "stderr",
          "output_type": "stream",
          "text": [
            "\u001b[34m\u001b[1mwandb\u001b[0m: Sweep Agent: Waiting for job.\n",
            "\u001b[34m\u001b[1mwandb\u001b[0m: Job received.\n",
            "\u001b[34m\u001b[1mwandb\u001b[0m: Agent Starting Run: u46gisr5 with config:\n",
            "\u001b[34m\u001b[1mwandb\u001b[0m: \tcolsample_bytree: 0.8645884191818856\n",
            "\u001b[34m\u001b[1mwandb\u001b[0m: \tlearning_rate: 0.8695112388617259\n",
            "\u001b[34m\u001b[1mwandb\u001b[0m: \tmax_depth: 10\n",
            "\u001b[34m\u001b[1mwandb\u001b[0m: \tmin_child_weight: 10\n",
            "\u001b[34m\u001b[1mwandb\u001b[0m: \tn_estimators: 60\n",
            "\u001b[34m\u001b[1mwandb\u001b[0m: \tsubsample: 0.869840741442742\n"
          ]
        },
        {
          "data": {
            "text/html": [
              "wandb version 0.15.12 is available!  To upgrade, please run:\n",
              " $ pip install wandb --upgrade"
            ],
            "text/plain": [
              "<IPython.core.display.HTML object>"
            ]
          },
          "metadata": {},
          "output_type": "display_data"
        },
        {
          "data": {
            "text/html": [
              "Tracking run with wandb version 0.15.11"
            ],
            "text/plain": [
              "<IPython.core.display.HTML object>"
            ]
          },
          "metadata": {},
          "output_type": "display_data"
        },
        {
          "data": {
            "text/html": [
              "Run data is saved locally in <code>c:\\Users\\Maxpo\\Documents\\GitHub\\tabular-data-prediction-pipeline\\wandb\\run-20231005_124119-u46gisr5</code>"
            ],
            "text/plain": [
              "<IPython.core.display.HTML object>"
            ]
          },
          "metadata": {},
          "output_type": "display_data"
        },
        {
          "data": {
            "text/html": [
              "Syncing run <strong><a href='https://wandb.ai/max-deep/titanic_survived/runs/u46gisr5' target=\"_blank\">blooming-sweep-47</a></strong> to <a href='https://wandb.ai/max-deep/titanic_survived' target=\"_blank\">Weights & Biases</a> (<a href='https://wandb.me/run' target=\"_blank\">docs</a>)<br/>Sweep page: <a href='https://wandb.ai/max-deep/titanic_survived/sweeps/6zycoh6c' target=\"_blank\">https://wandb.ai/max-deep/titanic_survived/sweeps/6zycoh6c</a>"
            ],
            "text/plain": [
              "<IPython.core.display.HTML object>"
            ]
          },
          "metadata": {},
          "output_type": "display_data"
        },
        {
          "data": {
            "text/html": [
              " View project at <a href='https://wandb.ai/max-deep/titanic_survived' target=\"_blank\">https://wandb.ai/max-deep/titanic_survived</a>"
            ],
            "text/plain": [
              "<IPython.core.display.HTML object>"
            ]
          },
          "metadata": {},
          "output_type": "display_data"
        },
        {
          "data": {
            "text/html": [
              " View sweep at <a href='https://wandb.ai/max-deep/titanic_survived/sweeps/6zycoh6c' target=\"_blank\">https://wandb.ai/max-deep/titanic_survived/sweeps/6zycoh6c</a>"
            ],
            "text/plain": [
              "<IPython.core.display.HTML object>"
            ]
          },
          "metadata": {},
          "output_type": "display_data"
        },
        {
          "data": {
            "text/html": [
              " View run at <a href='https://wandb.ai/max-deep/titanic_survived/runs/u46gisr5' target=\"_blank\">https://wandb.ai/max-deep/titanic_survived/runs/u46gisr5</a>"
            ],
            "text/plain": [
              "<IPython.core.display.HTML object>"
            ]
          },
          "metadata": {},
          "output_type": "display_data"
        },
        {
          "data": {
            "text/html": [
              "Waiting for W&B process to finish... <strong style=\"color:green\">(success).</strong>"
            ],
            "text/plain": [
              "<IPython.core.display.HTML object>"
            ]
          },
          "metadata": {},
          "output_type": "display_data"
        },
        {
          "data": {
            "text/html": [
              "<style>\n",
              "    table.wandb td:nth-child(1) { padding: 0 10px; text-align: left ; width: auto;} td:nth-child(2) {text-align: left ; width: 100%}\n",
              "    .wandb-row { display: flex; flex-direction: row; flex-wrap: wrap; justify-content: flex-start; width: 100% }\n",
              "    .wandb-col { display: flex; flex-direction: column; flex-basis: 100%; flex: 1; padding: 10px; }\n",
              "    </style>\n",
              "<div class=\"wandb-row\"><div class=\"wandb-col\"><h3>Run history:</h3><br/><table class=\"wandb\"><tr><td>epoch</td><td>▁▂▃▄▅▇▇▁▃▃▅▆▇█▁▃▄▅▇▇▁▂▃▅▅▇█▁▃▄▅▆▇▁▂▃▅▅▇█</td></tr></table><br/></div><div class=\"wandb-col\"><h3>Run summary:</h3><br/><table class=\"wandb\"><tr><td>epoch</td><td>59</td></tr><tr><td>mean_cv_accuracy</td><td>0.83152</td></tr><tr><td>train_auc</td><td>0.94865</td></tr><tr><td>train_ks_stat</td><td>0.78604</td></tr><tr><td>train_log_loss</td><td>0.28335</td></tr><tr><td>val_acc_0.5</td><td>0.8324</td></tr><tr><td>val_acc_best_trh</td><td>0.83799</td></tr><tr><td>val_auc</td><td>0.83096</td></tr><tr><td>val_ks_2samp</td><td>0.63373</td></tr><tr><td>val_ks_pval</td><td>0.0</td></tr><tr><td>val_log_loss</td><td>0.48695</td></tr></table><br/></div></div>"
            ],
            "text/plain": [
              "<IPython.core.display.HTML object>"
            ]
          },
          "metadata": {},
          "output_type": "display_data"
        },
        {
          "data": {
            "text/html": [
              " View run <strong style=\"color:#cdcd00\">blooming-sweep-47</strong> at: <a href='https://wandb.ai/max-deep/titanic_survived/runs/u46gisr5' target=\"_blank\">https://wandb.ai/max-deep/titanic_survived/runs/u46gisr5</a><br/>Synced 4 W&B file(s), 6 media file(s), 12 artifact file(s) and 1 other file(s)"
            ],
            "text/plain": [
              "<IPython.core.display.HTML object>"
            ]
          },
          "metadata": {},
          "output_type": "display_data"
        },
        {
          "data": {
            "text/html": [
              "Find logs at: <code>.\\wandb\\run-20231005_124119-u46gisr5\\logs</code>"
            ],
            "text/plain": [
              "<IPython.core.display.HTML object>"
            ]
          },
          "metadata": {},
          "output_type": "display_data"
        },
        {
          "name": "stderr",
          "output_type": "stream",
          "text": [
            "\u001b[34m\u001b[1mwandb\u001b[0m: Agent Starting Run: hesart9r with config:\n",
            "\u001b[34m\u001b[1mwandb\u001b[0m: \tcolsample_bytree: 0.6787919188457603\n",
            "\u001b[34m\u001b[1mwandb\u001b[0m: \tlearning_rate: 0.7772155120916328\n",
            "\u001b[34m\u001b[1mwandb\u001b[0m: \tmax_depth: 10\n",
            "\u001b[34m\u001b[1mwandb\u001b[0m: \tmin_child_weight: 10\n",
            "\u001b[34m\u001b[1mwandb\u001b[0m: \tn_estimators: 90\n",
            "\u001b[34m\u001b[1mwandb\u001b[0m: \tsubsample: 0.6579630658771944\n"
          ]
        },
        {
          "data": {
            "text/html": [
              "wandb version 0.15.12 is available!  To upgrade, please run:\n",
              " $ pip install wandb --upgrade"
            ],
            "text/plain": [
              "<IPython.core.display.HTML object>"
            ]
          },
          "metadata": {},
          "output_type": "display_data"
        },
        {
          "data": {
            "text/html": [
              "Tracking run with wandb version 0.15.11"
            ],
            "text/plain": [
              "<IPython.core.display.HTML object>"
            ]
          },
          "metadata": {},
          "output_type": "display_data"
        },
        {
          "data": {
            "text/html": [
              "Run data is saved locally in <code>c:\\Users\\Maxpo\\Documents\\GitHub\\tabular-data-prediction-pipeline\\wandb\\run-20231005_124152-hesart9r</code>"
            ],
            "text/plain": [
              "<IPython.core.display.HTML object>"
            ]
          },
          "metadata": {},
          "output_type": "display_data"
        },
        {
          "data": {
            "text/html": [
              "Syncing run <strong><a href='https://wandb.ai/max-deep/titanic_survived/runs/hesart9r' target=\"_blank\">autumn-sweep-48</a></strong> to <a href='https://wandb.ai/max-deep/titanic_survived' target=\"_blank\">Weights & Biases</a> (<a href='https://wandb.me/run' target=\"_blank\">docs</a>)<br/>Sweep page: <a href='https://wandb.ai/max-deep/titanic_survived/sweeps/6zycoh6c' target=\"_blank\">https://wandb.ai/max-deep/titanic_survived/sweeps/6zycoh6c</a>"
            ],
            "text/plain": [
              "<IPython.core.display.HTML object>"
            ]
          },
          "metadata": {},
          "output_type": "display_data"
        },
        {
          "data": {
            "text/html": [
              " View project at <a href='https://wandb.ai/max-deep/titanic_survived' target=\"_blank\">https://wandb.ai/max-deep/titanic_survived</a>"
            ],
            "text/plain": [
              "<IPython.core.display.HTML object>"
            ]
          },
          "metadata": {},
          "output_type": "display_data"
        },
        {
          "data": {
            "text/html": [
              " View sweep at <a href='https://wandb.ai/max-deep/titanic_survived/sweeps/6zycoh6c' target=\"_blank\">https://wandb.ai/max-deep/titanic_survived/sweeps/6zycoh6c</a>"
            ],
            "text/plain": [
              "<IPython.core.display.HTML object>"
            ]
          },
          "metadata": {},
          "output_type": "display_data"
        },
        {
          "data": {
            "text/html": [
              " View run at <a href='https://wandb.ai/max-deep/titanic_survived/runs/hesart9r' target=\"_blank\">https://wandb.ai/max-deep/titanic_survived/runs/hesart9r</a>"
            ],
            "text/plain": [
              "<IPython.core.display.HTML object>"
            ]
          },
          "metadata": {},
          "output_type": "display_data"
        },
        {
          "data": {
            "text/html": [
              "Waiting for W&B process to finish... <strong style=\"color:green\">(success).</strong>"
            ],
            "text/plain": [
              "<IPython.core.display.HTML object>"
            ]
          },
          "metadata": {},
          "output_type": "display_data"
        },
        {
          "data": {
            "text/html": [
              "<style>\n",
              "    table.wandb td:nth-child(1) { padding: 0 10px; text-align: left ; width: auto;} td:nth-child(2) {text-align: left ; width: 100%}\n",
              "    .wandb-row { display: flex; flex-direction: row; flex-wrap: wrap; justify-content: flex-start; width: 100% }\n",
              "    .wandb-col { display: flex; flex-direction: column; flex-basis: 100%; flex: 1; padding: 10px; }\n",
              "    </style>\n",
              "<div class=\"wandb-row\"><div class=\"wandb-col\"><h3>Run history:</h3><br/><table class=\"wandb\"><tr><td>epoch</td><td>▁▂▃▅▅▇█▁▃▄▅▆▇▁▂▃▄▅▆█▁▂▄▄▅▇█▁▃▄▅▆▇█▂▃▄▅▆█</td></tr></table><br/></div><div class=\"wandb-col\"><h3>Run summary:</h3><br/><table class=\"wandb\"><tr><td>epoch</td><td>89</td></tr><tr><td>mean_cv_accuracy</td><td>0.80627</td></tr><tr><td>train_auc</td><td>0.93188</td></tr><tr><td>train_ks_stat</td><td>0.73404</td></tr><tr><td>train_log_loss</td><td>0.31925</td></tr><tr><td>val_acc_0.5</td><td>0.81564</td></tr><tr><td>val_acc_best_trh</td><td>0.81006</td></tr><tr><td>val_auc</td><td>0.83458</td></tr><tr><td>val_ks_2samp</td><td>0.61528</td></tr><tr><td>val_ks_pval</td><td>0.0</td></tr><tr><td>val_log_loss</td><td>0.49101</td></tr></table><br/></div></div>"
            ],
            "text/plain": [
              "<IPython.core.display.HTML object>"
            ]
          },
          "metadata": {},
          "output_type": "display_data"
        },
        {
          "data": {
            "text/html": [
              " View run <strong style=\"color:#cdcd00\">autumn-sweep-48</strong> at: <a href='https://wandb.ai/max-deep/titanic_survived/runs/hesart9r' target=\"_blank\">https://wandb.ai/max-deep/titanic_survived/runs/hesart9r</a><br/>Synced 4 W&B file(s), 6 media file(s), 12 artifact file(s) and 1 other file(s)"
            ],
            "text/plain": [
              "<IPython.core.display.HTML object>"
            ]
          },
          "metadata": {},
          "output_type": "display_data"
        },
        {
          "data": {
            "text/html": [
              "Find logs at: <code>.\\wandb\\run-20231005_124152-hesart9r\\logs</code>"
            ],
            "text/plain": [
              "<IPython.core.display.HTML object>"
            ]
          },
          "metadata": {},
          "output_type": "display_data"
        },
        {
          "name": "stderr",
          "output_type": "stream",
          "text": [
            "\u001b[34m\u001b[1mwandb\u001b[0m: Agent Starting Run: y0nze1f5 with config:\n",
            "\u001b[34m\u001b[1mwandb\u001b[0m: \tcolsample_bytree: 0.8684316847014815\n",
            "\u001b[34m\u001b[1mwandb\u001b[0m: \tlearning_rate: 0.4788149264170273\n",
            "\u001b[34m\u001b[1mwandb\u001b[0m: \tmax_depth: 9\n",
            "\u001b[34m\u001b[1mwandb\u001b[0m: \tmin_child_weight: 8\n",
            "\u001b[34m\u001b[1mwandb\u001b[0m: \tn_estimators: 90\n",
            "\u001b[34m\u001b[1mwandb\u001b[0m: \tsubsample: 0.7721007955090429\n"
          ]
        },
        {
          "data": {
            "text/html": [
              "wandb version 0.15.12 is available!  To upgrade, please run:\n",
              " $ pip install wandb --upgrade"
            ],
            "text/plain": [
              "<IPython.core.display.HTML object>"
            ]
          },
          "metadata": {},
          "output_type": "display_data"
        },
        {
          "data": {
            "text/html": [
              "Tracking run with wandb version 0.15.11"
            ],
            "text/plain": [
              "<IPython.core.display.HTML object>"
            ]
          },
          "metadata": {},
          "output_type": "display_data"
        },
        {
          "data": {
            "text/html": [
              "Run data is saved locally in <code>c:\\Users\\Maxpo\\Documents\\GitHub\\tabular-data-prediction-pipeline\\wandb\\run-20231005_124228-y0nze1f5</code>"
            ],
            "text/plain": [
              "<IPython.core.display.HTML object>"
            ]
          },
          "metadata": {},
          "output_type": "display_data"
        },
        {
          "data": {
            "text/html": [
              "Syncing run <strong><a href='https://wandb.ai/max-deep/titanic_survived/runs/y0nze1f5' target=\"_blank\">toasty-sweep-49</a></strong> to <a href='https://wandb.ai/max-deep/titanic_survived' target=\"_blank\">Weights & Biases</a> (<a href='https://wandb.me/run' target=\"_blank\">docs</a>)<br/>Sweep page: <a href='https://wandb.ai/max-deep/titanic_survived/sweeps/6zycoh6c' target=\"_blank\">https://wandb.ai/max-deep/titanic_survived/sweeps/6zycoh6c</a>"
            ],
            "text/plain": [
              "<IPython.core.display.HTML object>"
            ]
          },
          "metadata": {},
          "output_type": "display_data"
        },
        {
          "data": {
            "text/html": [
              " View project at <a href='https://wandb.ai/max-deep/titanic_survived' target=\"_blank\">https://wandb.ai/max-deep/titanic_survived</a>"
            ],
            "text/plain": [
              "<IPython.core.display.HTML object>"
            ]
          },
          "metadata": {},
          "output_type": "display_data"
        },
        {
          "data": {
            "text/html": [
              " View sweep at <a href='https://wandb.ai/max-deep/titanic_survived/sweeps/6zycoh6c' target=\"_blank\">https://wandb.ai/max-deep/titanic_survived/sweeps/6zycoh6c</a>"
            ],
            "text/plain": [
              "<IPython.core.display.HTML object>"
            ]
          },
          "metadata": {},
          "output_type": "display_data"
        },
        {
          "data": {
            "text/html": [
              " View run at <a href='https://wandb.ai/max-deep/titanic_survived/runs/y0nze1f5' target=\"_blank\">https://wandb.ai/max-deep/titanic_survived/runs/y0nze1f5</a>"
            ],
            "text/plain": [
              "<IPython.core.display.HTML object>"
            ]
          },
          "metadata": {},
          "output_type": "display_data"
        },
        {
          "data": {
            "text/html": [
              "Waiting for W&B process to finish... <strong style=\"color:green\">(success).</strong>"
            ],
            "text/plain": [
              "<IPython.core.display.HTML object>"
            ]
          },
          "metadata": {},
          "output_type": "display_data"
        },
        {
          "data": {
            "text/html": [
              "<style>\n",
              "    table.wandb td:nth-child(1) { padding: 0 10px; text-align: left ; width: auto;} td:nth-child(2) {text-align: left ; width: 100%}\n",
              "    .wandb-row { display: flex; flex-direction: row; flex-wrap: wrap; justify-content: flex-start; width: 100% }\n",
              "    .wandb-col { display: flex; flex-direction: column; flex-basis: 100%; flex: 1; padding: 10px; }\n",
              "    </style>\n",
              "<div class=\"wandb-row\"><div class=\"wandb-col\"><h3>Run history:</h3><br/><table class=\"wandb\"><tr><td>epoch</td><td>▁▂▃▅▅▇█▁▃▄▅▆▇▁▂▃▄▅▆█▁▂▄▄▅▇█▁▃▄▅▆▇█▂▃▄▅▆█</td></tr></table><br/></div><div class=\"wandb-col\"><h3>Run summary:</h3><br/><table class=\"wandb\"><tr><td>epoch</td><td>89</td></tr><tr><td>mean_cv_accuracy</td><td>0.82872</td></tr><tr><td>train_auc</td><td>0.95713</td></tr><tr><td>train_ks_stat</td><td>0.79444</td></tr><tr><td>train_log_loss</td><td>0.26659</td></tr><tr><td>val_acc_0.5</td><td>0.82123</td></tr><tr><td>val_acc_best_trh</td><td>0.8324</td></tr><tr><td>val_auc</td><td>0.84901</td></tr><tr><td>val_ks_2samp</td><td>0.60843</td></tr><tr><td>val_ks_pval</td><td>0.0</td></tr><tr><td>val_log_loss</td><td>0.46053</td></tr></table><br/></div></div>"
            ],
            "text/plain": [
              "<IPython.core.display.HTML object>"
            ]
          },
          "metadata": {},
          "output_type": "display_data"
        },
        {
          "data": {
            "text/html": [
              " View run <strong style=\"color:#cdcd00\">toasty-sweep-49</strong> at: <a href='https://wandb.ai/max-deep/titanic_survived/runs/y0nze1f5' target=\"_blank\">https://wandb.ai/max-deep/titanic_survived/runs/y0nze1f5</a><br/>Synced 4 W&B file(s), 6 media file(s), 12 artifact file(s) and 1 other file(s)"
            ],
            "text/plain": [
              "<IPython.core.display.HTML object>"
            ]
          },
          "metadata": {},
          "output_type": "display_data"
        },
        {
          "data": {
            "text/html": [
              "Find logs at: <code>.\\wandb\\run-20231005_124228-y0nze1f5\\logs</code>"
            ],
            "text/plain": [
              "<IPython.core.display.HTML object>"
            ]
          },
          "metadata": {},
          "output_type": "display_data"
        },
        {
          "name": "stderr",
          "output_type": "stream",
          "text": [
            "\u001b[34m\u001b[1mwandb\u001b[0m: Agent Starting Run: sla5z9b8 with config:\n",
            "\u001b[34m\u001b[1mwandb\u001b[0m: \tcolsample_bytree: 0.8689343105614352\n",
            "\u001b[34m\u001b[1mwandb\u001b[0m: \tlearning_rate: 0.6176113135566121\n",
            "\u001b[34m\u001b[1mwandb\u001b[0m: \tmax_depth: 8\n",
            "\u001b[34m\u001b[1mwandb\u001b[0m: \tmin_child_weight: 9\n",
            "\u001b[34m\u001b[1mwandb\u001b[0m: \tn_estimators: 120\n",
            "\u001b[34m\u001b[1mwandb\u001b[0m: \tsubsample: 0.7160752215816034\n"
          ]
        },
        {
          "data": {
            "text/html": [
              "wandb version 0.15.12 is available!  To upgrade, please run:\n",
              " $ pip install wandb --upgrade"
            ],
            "text/plain": [
              "<IPython.core.display.HTML object>"
            ]
          },
          "metadata": {},
          "output_type": "display_data"
        },
        {
          "data": {
            "text/html": [
              "Tracking run with wandb version 0.15.11"
            ],
            "text/plain": [
              "<IPython.core.display.HTML object>"
            ]
          },
          "metadata": {},
          "output_type": "display_data"
        },
        {
          "data": {
            "text/html": [
              "Run data is saved locally in <code>c:\\Users\\Maxpo\\Documents\\GitHub\\tabular-data-prediction-pipeline\\wandb\\run-20231005_124304-sla5z9b8</code>"
            ],
            "text/plain": [
              "<IPython.core.display.HTML object>"
            ]
          },
          "metadata": {},
          "output_type": "display_data"
        },
        {
          "data": {
            "text/html": [
              "Syncing run <strong><a href='https://wandb.ai/max-deep/titanic_survived/runs/sla5z9b8' target=\"_blank\">dainty-sweep-50</a></strong> to <a href='https://wandb.ai/max-deep/titanic_survived' target=\"_blank\">Weights & Biases</a> (<a href='https://wandb.me/run' target=\"_blank\">docs</a>)<br/>Sweep page: <a href='https://wandb.ai/max-deep/titanic_survived/sweeps/6zycoh6c' target=\"_blank\">https://wandb.ai/max-deep/titanic_survived/sweeps/6zycoh6c</a>"
            ],
            "text/plain": [
              "<IPython.core.display.HTML object>"
            ]
          },
          "metadata": {},
          "output_type": "display_data"
        },
        {
          "data": {
            "text/html": [
              " View project at <a href='https://wandb.ai/max-deep/titanic_survived' target=\"_blank\">https://wandb.ai/max-deep/titanic_survived</a>"
            ],
            "text/plain": [
              "<IPython.core.display.HTML object>"
            ]
          },
          "metadata": {},
          "output_type": "display_data"
        },
        {
          "data": {
            "text/html": [
              " View sweep at <a href='https://wandb.ai/max-deep/titanic_survived/sweeps/6zycoh6c' target=\"_blank\">https://wandb.ai/max-deep/titanic_survived/sweeps/6zycoh6c</a>"
            ],
            "text/plain": [
              "<IPython.core.display.HTML object>"
            ]
          },
          "metadata": {},
          "output_type": "display_data"
        },
        {
          "data": {
            "text/html": [
              " View run at <a href='https://wandb.ai/max-deep/titanic_survived/runs/sla5z9b8' target=\"_blank\">https://wandb.ai/max-deep/titanic_survived/runs/sla5z9b8</a>"
            ],
            "text/plain": [
              "<IPython.core.display.HTML object>"
            ]
          },
          "metadata": {},
          "output_type": "display_data"
        },
        {
          "data": {
            "text/html": [
              "Waiting for W&B process to finish... <strong style=\"color:green\">(success).</strong>"
            ],
            "text/plain": [
              "<IPython.core.display.HTML object>"
            ]
          },
          "metadata": {},
          "output_type": "display_data"
        },
        {
          "data": {
            "text/html": [
              "<style>\n",
              "    table.wandb td:nth-child(1) { padding: 0 10px; text-align: left ; width: auto;} td:nth-child(2) {text-align: left ; width: 100%}\n",
              "    .wandb-row { display: flex; flex-direction: row; flex-wrap: wrap; justify-content: flex-start; width: 100% }\n",
              "    .wandb-col { display: flex; flex-direction: column; flex-basis: 100%; flex: 1; padding: 10px; }\n",
              "    </style>\n",
              "<div class=\"wandb-row\"><div class=\"wandb-col\"><h3>Run history:</h3><br/><table class=\"wandb\"><tr><td>epoch</td><td>▁▂▃▄▅▇▇▁▃▃▅▆▇█▁▃▄▅▇▇▁▂▃▅▅▇█▁▃▄▅▆▇▁▂▃▅▅▇█</td></tr></table><br/></div><div class=\"wandb-col\"><h3>Run summary:</h3><br/><table class=\"wandb\"><tr><td>epoch</td><td>119</td></tr><tr><td>mean_cv_accuracy</td><td>0.82317</td></tr><tr><td>train_auc</td><td>0.95405</td></tr><tr><td>train_ks_stat</td><td>0.7792</td></tr><tr><td>train_log_loss</td><td>0.26764</td></tr><tr><td>val_acc_0.5</td><td>0.80447</td></tr><tr><td>val_acc_best_trh</td><td>0.82123</td></tr><tr><td>val_auc</td><td>0.85125</td></tr><tr><td>val_ks_2samp</td><td>0.58485</td></tr><tr><td>val_ks_pval</td><td>0.0</td></tr><tr><td>val_log_loss</td><td>0.4688</td></tr></table><br/></div></div>"
            ],
            "text/plain": [
              "<IPython.core.display.HTML object>"
            ]
          },
          "metadata": {},
          "output_type": "display_data"
        },
        {
          "data": {
            "text/html": [
              " View run <strong style=\"color:#cdcd00\">dainty-sweep-50</strong> at: <a href='https://wandb.ai/max-deep/titanic_survived/runs/sla5z9b8' target=\"_blank\">https://wandb.ai/max-deep/titanic_survived/runs/sla5z9b8</a><br/>Synced 4 W&B file(s), 6 media file(s), 12 artifact file(s) and 1 other file(s)"
            ],
            "text/plain": [
              "<IPython.core.display.HTML object>"
            ]
          },
          "metadata": {},
          "output_type": "display_data"
        },
        {
          "data": {
            "text/html": [
              "Find logs at: <code>.\\wandb\\run-20231005_124304-sla5z9b8\\logs</code>"
            ],
            "text/plain": [
              "<IPython.core.display.HTML object>"
            ]
          },
          "metadata": {},
          "output_type": "display_data"
        },
        {
          "name": "stderr",
          "output_type": "stream",
          "text": [
            "\u001b[34m\u001b[1mwandb\u001b[0m: Sweep Agent: Waiting for job.\n",
            "\u001b[34m\u001b[1mwandb\u001b[0m: Job received.\n",
            "\u001b[34m\u001b[1mwandb\u001b[0m: Agent Starting Run: f97hxglb with config:\n",
            "\u001b[34m\u001b[1mwandb\u001b[0m: \tcolsample_bytree: 0.7011519558119687\n",
            "\u001b[34m\u001b[1mwandb\u001b[0m: \tlearning_rate: 0.28672159115196066\n",
            "\u001b[34m\u001b[1mwandb\u001b[0m: \tmax_depth: 7\n",
            "\u001b[34m\u001b[1mwandb\u001b[0m: \tmin_child_weight: 7\n",
            "\u001b[34m\u001b[1mwandb\u001b[0m: \tn_estimators: 120\n",
            "\u001b[34m\u001b[1mwandb\u001b[0m: \tsubsample: 0.8985355517721595\n"
          ]
        },
        {
          "data": {
            "text/html": [
              "wandb version 0.15.12 is available!  To upgrade, please run:\n",
              " $ pip install wandb --upgrade"
            ],
            "text/plain": [
              "<IPython.core.display.HTML object>"
            ]
          },
          "metadata": {},
          "output_type": "display_data"
        },
        {
          "data": {
            "text/html": [
              "Tracking run with wandb version 0.15.11"
            ],
            "text/plain": [
              "<IPython.core.display.HTML object>"
            ]
          },
          "metadata": {},
          "output_type": "display_data"
        },
        {
          "data": {
            "text/html": [
              "Run data is saved locally in <code>c:\\Users\\Maxpo\\Documents\\GitHub\\tabular-data-prediction-pipeline\\wandb\\run-20231005_124346-f97hxglb</code>"
            ],
            "text/plain": [
              "<IPython.core.display.HTML object>"
            ]
          },
          "metadata": {},
          "output_type": "display_data"
        },
        {
          "data": {
            "text/html": [
              "Syncing run <strong><a href='https://wandb.ai/max-deep/titanic_survived/runs/f97hxglb' target=\"_blank\">dutiful-sweep-51</a></strong> to <a href='https://wandb.ai/max-deep/titanic_survived' target=\"_blank\">Weights & Biases</a> (<a href='https://wandb.me/run' target=\"_blank\">docs</a>)<br/>Sweep page: <a href='https://wandb.ai/max-deep/titanic_survived/sweeps/6zycoh6c' target=\"_blank\">https://wandb.ai/max-deep/titanic_survived/sweeps/6zycoh6c</a>"
            ],
            "text/plain": [
              "<IPython.core.display.HTML object>"
            ]
          },
          "metadata": {},
          "output_type": "display_data"
        },
        {
          "data": {
            "text/html": [
              " View project at <a href='https://wandb.ai/max-deep/titanic_survived' target=\"_blank\">https://wandb.ai/max-deep/titanic_survived</a>"
            ],
            "text/plain": [
              "<IPython.core.display.HTML object>"
            ]
          },
          "metadata": {},
          "output_type": "display_data"
        },
        {
          "data": {
            "text/html": [
              " View sweep at <a href='https://wandb.ai/max-deep/titanic_survived/sweeps/6zycoh6c' target=\"_blank\">https://wandb.ai/max-deep/titanic_survived/sweeps/6zycoh6c</a>"
            ],
            "text/plain": [
              "<IPython.core.display.HTML object>"
            ]
          },
          "metadata": {},
          "output_type": "display_data"
        },
        {
          "data": {
            "text/html": [
              " View run at <a href='https://wandb.ai/max-deep/titanic_survived/runs/f97hxglb' target=\"_blank\">https://wandb.ai/max-deep/titanic_survived/runs/f97hxglb</a>"
            ],
            "text/plain": [
              "<IPython.core.display.HTML object>"
            ]
          },
          "metadata": {},
          "output_type": "display_data"
        },
        {
          "data": {
            "text/html": [
              "Waiting for W&B process to finish... <strong style=\"color:green\">(success).</strong>"
            ],
            "text/plain": [
              "<IPython.core.display.HTML object>"
            ]
          },
          "metadata": {},
          "output_type": "display_data"
        },
        {
          "data": {
            "text/html": [
              "<style>\n",
              "    table.wandb td:nth-child(1) { padding: 0 10px; text-align: left ; width: auto;} td:nth-child(2) {text-align: left ; width: 100%}\n",
              "    .wandb-row { display: flex; flex-direction: row; flex-wrap: wrap; justify-content: flex-start; width: 100% }\n",
              "    .wandb-col { display: flex; flex-direction: column; flex-basis: 100%; flex: 1; padding: 10px; }\n",
              "    </style>\n",
              "<div class=\"wandb-row\"><div class=\"wandb-col\"><h3>Run history:</h3><br/><table class=\"wandb\"><tr><td>epoch</td><td>▁▂▃▄▅▇▇▁▃▃▅▆▇█▁▃▄▅▇▇▁▂▃▅▅▇█▁▃▄▅▆▇▁▂▃▅▅▇█</td></tr></table><br/></div><div class=\"wandb-col\"><h3>Run summary:</h3><br/><table class=\"wandb\"><tr><td>epoch</td><td>119</td></tr><tr><td>mean_cv_accuracy</td><td>0.81325</td></tr><tr><td>train_auc</td><td>0.95084</td></tr><tr><td>train_ks_stat</td><td>0.79158</td></tr><tr><td>train_log_loss</td><td>0.28025</td></tr><tr><td>val_acc_0.5</td><td>0.81006</td></tr><tr><td>val_acc_best_trh</td><td>0.81006</td></tr><tr><td>val_auc</td><td>0.84071</td></tr><tr><td>val_ks_2samp</td><td>0.57747</td></tr><tr><td>val_ks_pval</td><td>0.0</td></tr><tr><td>val_log_loss</td><td>0.46608</td></tr></table><br/></div></div>"
            ],
            "text/plain": [
              "<IPython.core.display.HTML object>"
            ]
          },
          "metadata": {},
          "output_type": "display_data"
        },
        {
          "data": {
            "text/html": [
              " View run <strong style=\"color:#cdcd00\">dutiful-sweep-51</strong> at: <a href='https://wandb.ai/max-deep/titanic_survived/runs/f97hxglb' target=\"_blank\">https://wandb.ai/max-deep/titanic_survived/runs/f97hxglb</a><br/>Synced 4 W&B file(s), 6 media file(s), 12 artifact file(s) and 1 other file(s)"
            ],
            "text/plain": [
              "<IPython.core.display.HTML object>"
            ]
          },
          "metadata": {},
          "output_type": "display_data"
        },
        {
          "data": {
            "text/html": [
              "Find logs at: <code>.\\wandb\\run-20231005_124346-f97hxglb\\logs</code>"
            ],
            "text/plain": [
              "<IPython.core.display.HTML object>"
            ]
          },
          "metadata": {},
          "output_type": "display_data"
        },
        {
          "name": "stderr",
          "output_type": "stream",
          "text": [
            "\u001b[34m\u001b[1mwandb\u001b[0m: Agent Starting Run: bv96duhk with config:\n",
            "\u001b[34m\u001b[1mwandb\u001b[0m: \tcolsample_bytree: 0.9234655594407828\n",
            "\u001b[34m\u001b[1mwandb\u001b[0m: \tlearning_rate: 0.6030206746652108\n",
            "\u001b[34m\u001b[1mwandb\u001b[0m: \tmax_depth: 9\n",
            "\u001b[34m\u001b[1mwandb\u001b[0m: \tmin_child_weight: 9\n",
            "\u001b[34m\u001b[1mwandb\u001b[0m: \tn_estimators: 150\n",
            "\u001b[34m\u001b[1mwandb\u001b[0m: \tsubsample: 0.8334745491818683\n"
          ]
        },
        {
          "data": {
            "text/html": [
              "wandb version 0.15.12 is available!  To upgrade, please run:\n",
              " $ pip install wandb --upgrade"
            ],
            "text/plain": [
              "<IPython.core.display.HTML object>"
            ]
          },
          "metadata": {},
          "output_type": "display_data"
        },
        {
          "data": {
            "text/html": [
              "Tracking run with wandb version 0.15.11"
            ],
            "text/plain": [
              "<IPython.core.display.HTML object>"
            ]
          },
          "metadata": {},
          "output_type": "display_data"
        },
        {
          "data": {
            "text/html": [
              "Run data is saved locally in <code>c:\\Users\\Maxpo\\Documents\\GitHub\\tabular-data-prediction-pipeline\\wandb\\run-20231005_124424-bv96duhk</code>"
            ],
            "text/plain": [
              "<IPython.core.display.HTML object>"
            ]
          },
          "metadata": {},
          "output_type": "display_data"
        },
        {
          "data": {
            "text/html": [
              "Syncing run <strong><a href='https://wandb.ai/max-deep/titanic_survived/runs/bv96duhk' target=\"_blank\">dulcet-sweep-52</a></strong> to <a href='https://wandb.ai/max-deep/titanic_survived' target=\"_blank\">Weights & Biases</a> (<a href='https://wandb.me/run' target=\"_blank\">docs</a>)<br/>Sweep page: <a href='https://wandb.ai/max-deep/titanic_survived/sweeps/6zycoh6c' target=\"_blank\">https://wandb.ai/max-deep/titanic_survived/sweeps/6zycoh6c</a>"
            ],
            "text/plain": [
              "<IPython.core.display.HTML object>"
            ]
          },
          "metadata": {},
          "output_type": "display_data"
        },
        {
          "data": {
            "text/html": [
              " View project at <a href='https://wandb.ai/max-deep/titanic_survived' target=\"_blank\">https://wandb.ai/max-deep/titanic_survived</a>"
            ],
            "text/plain": [
              "<IPython.core.display.HTML object>"
            ]
          },
          "metadata": {},
          "output_type": "display_data"
        },
        {
          "data": {
            "text/html": [
              " View sweep at <a href='https://wandb.ai/max-deep/titanic_survived/sweeps/6zycoh6c' target=\"_blank\">https://wandb.ai/max-deep/titanic_survived/sweeps/6zycoh6c</a>"
            ],
            "text/plain": [
              "<IPython.core.display.HTML object>"
            ]
          },
          "metadata": {},
          "output_type": "display_data"
        },
        {
          "data": {
            "text/html": [
              " View run at <a href='https://wandb.ai/max-deep/titanic_survived/runs/bv96duhk' target=\"_blank\">https://wandb.ai/max-deep/titanic_survived/runs/bv96duhk</a>"
            ],
            "text/plain": [
              "<IPython.core.display.HTML object>"
            ]
          },
          "metadata": {},
          "output_type": "display_data"
        },
        {
          "data": {
            "text/html": [
              "Waiting for W&B process to finish... <strong style=\"color:green\">(success).</strong>"
            ],
            "text/plain": [
              "<IPython.core.display.HTML object>"
            ]
          },
          "metadata": {},
          "output_type": "display_data"
        },
        {
          "data": {
            "text/html": [
              "<style>\n",
              "    table.wandb td:nth-child(1) { padding: 0 10px; text-align: left ; width: auto;} td:nth-child(2) {text-align: left ; width: 100%}\n",
              "    .wandb-row { display: flex; flex-direction: row; flex-wrap: wrap; justify-content: flex-start; width: 100% }\n",
              "    .wandb-col { display: flex; flex-direction: column; flex-basis: 100%; flex: 1; padding: 10px; }\n",
              "    </style>\n",
              "<div class=\"wandb-row\"><div class=\"wandb-col\"><h3>Run history:</h3><br/><table class=\"wandb\"><tr><td>epoch</td><td>▁▂▃▄▅▇█▁▃▄▅▆▇▁▂▃▄▅▆█▁▂▃▅▆▇█▂▃▄▅▆▇▁▂▃▄▆▇█</td></tr></table><br/></div><div class=\"wandb-col\"><h3>Run summary:</h3><br/><table class=\"wandb\"><tr><td>epoch</td><td>149</td></tr><tr><td>mean_cv_accuracy</td><td>0.83576</td></tr><tr><td>train_auc</td><td>0.96434</td></tr><tr><td>train_ks_stat</td><td>0.81552</td></tr><tr><td>train_log_loss</td><td>0.2436</td></tr><tr><td>val_acc_0.5</td><td>0.81564</td></tr><tr><td>val_acc_best_trh</td><td>0.82682</td></tr><tr><td>val_auc</td><td>0.83149</td></tr><tr><td>val_ks_2samp</td><td>0.61555</td></tr><tr><td>val_ks_pval</td><td>0.0</td></tr><tr><td>val_log_loss</td><td>0.48608</td></tr></table><br/></div></div>"
            ],
            "text/plain": [
              "<IPython.core.display.HTML object>"
            ]
          },
          "metadata": {},
          "output_type": "display_data"
        },
        {
          "data": {
            "text/html": [
              " View run <strong style=\"color:#cdcd00\">dulcet-sweep-52</strong> at: <a href='https://wandb.ai/max-deep/titanic_survived/runs/bv96duhk' target=\"_blank\">https://wandb.ai/max-deep/titanic_survived/runs/bv96duhk</a><br/>Synced 4 W&B file(s), 6 media file(s), 12 artifact file(s) and 1 other file(s)"
            ],
            "text/plain": [
              "<IPython.core.display.HTML object>"
            ]
          },
          "metadata": {},
          "output_type": "display_data"
        },
        {
          "data": {
            "text/html": [
              "Find logs at: <code>.\\wandb\\run-20231005_124424-bv96duhk\\logs</code>"
            ],
            "text/plain": [
              "<IPython.core.display.HTML object>"
            ]
          },
          "metadata": {},
          "output_type": "display_data"
        },
        {
          "name": "stderr",
          "output_type": "stream",
          "text": [
            "\u001b[34m\u001b[1mwandb\u001b[0m: Agent Starting Run: o7v19lsw with config:\n",
            "\u001b[34m\u001b[1mwandb\u001b[0m: \tcolsample_bytree: 0.8340842153404666\n",
            "\u001b[34m\u001b[1mwandb\u001b[0m: \tlearning_rate: 0.3068549535473274\n",
            "\u001b[34m\u001b[1mwandb\u001b[0m: \tmax_depth: 8\n",
            "\u001b[34m\u001b[1mwandb\u001b[0m: \tmin_child_weight: 10\n",
            "\u001b[34m\u001b[1mwandb\u001b[0m: \tn_estimators: 120\n",
            "\u001b[34m\u001b[1mwandb\u001b[0m: \tsubsample: 0.8479255658313565\n"
          ]
        },
        {
          "data": {
            "text/html": [
              "wandb version 0.15.12 is available!  To upgrade, please run:\n",
              " $ pip install wandb --upgrade"
            ],
            "text/plain": [
              "<IPython.core.display.HTML object>"
            ]
          },
          "metadata": {},
          "output_type": "display_data"
        },
        {
          "data": {
            "text/html": [
              "Tracking run with wandb version 0.15.11"
            ],
            "text/plain": [
              "<IPython.core.display.HTML object>"
            ]
          },
          "metadata": {},
          "output_type": "display_data"
        },
        {
          "data": {
            "text/html": [
              "Run data is saved locally in <code>c:\\Users\\Maxpo\\Documents\\GitHub\\tabular-data-prediction-pipeline\\wandb\\run-20231005_124501-o7v19lsw</code>"
            ],
            "text/plain": [
              "<IPython.core.display.HTML object>"
            ]
          },
          "metadata": {},
          "output_type": "display_data"
        },
        {
          "data": {
            "text/html": [
              "Syncing run <strong><a href='https://wandb.ai/max-deep/titanic_survived/runs/o7v19lsw' target=\"_blank\">dandy-sweep-53</a></strong> to <a href='https://wandb.ai/max-deep/titanic_survived' target=\"_blank\">Weights & Biases</a> (<a href='https://wandb.me/run' target=\"_blank\">docs</a>)<br/>Sweep page: <a href='https://wandb.ai/max-deep/titanic_survived/sweeps/6zycoh6c' target=\"_blank\">https://wandb.ai/max-deep/titanic_survived/sweeps/6zycoh6c</a>"
            ],
            "text/plain": [
              "<IPython.core.display.HTML object>"
            ]
          },
          "metadata": {},
          "output_type": "display_data"
        },
        {
          "data": {
            "text/html": [
              " View project at <a href='https://wandb.ai/max-deep/titanic_survived' target=\"_blank\">https://wandb.ai/max-deep/titanic_survived</a>"
            ],
            "text/plain": [
              "<IPython.core.display.HTML object>"
            ]
          },
          "metadata": {},
          "output_type": "display_data"
        },
        {
          "data": {
            "text/html": [
              " View sweep at <a href='https://wandb.ai/max-deep/titanic_survived/sweeps/6zycoh6c' target=\"_blank\">https://wandb.ai/max-deep/titanic_survived/sweeps/6zycoh6c</a>"
            ],
            "text/plain": [
              "<IPython.core.display.HTML object>"
            ]
          },
          "metadata": {},
          "output_type": "display_data"
        },
        {
          "data": {
            "text/html": [
              " View run at <a href='https://wandb.ai/max-deep/titanic_survived/runs/o7v19lsw' target=\"_blank\">https://wandb.ai/max-deep/titanic_survived/runs/o7v19lsw</a>"
            ],
            "text/plain": [
              "<IPython.core.display.HTML object>"
            ]
          },
          "metadata": {},
          "output_type": "display_data"
        },
        {
          "data": {
            "text/html": [
              "Waiting for W&B process to finish... <strong style=\"color:green\">(success).</strong>"
            ],
            "text/plain": [
              "<IPython.core.display.HTML object>"
            ]
          },
          "metadata": {},
          "output_type": "display_data"
        },
        {
          "data": {
            "text/html": [
              "<style>\n",
              "    table.wandb td:nth-child(1) { padding: 0 10px; text-align: left ; width: auto;} td:nth-child(2) {text-align: left ; width: 100%}\n",
              "    .wandb-row { display: flex; flex-direction: row; flex-wrap: wrap; justify-content: flex-start; width: 100% }\n",
              "    .wandb-col { display: flex; flex-direction: column; flex-basis: 100%; flex: 1; padding: 10px; }\n",
              "    </style>\n",
              "<div class=\"wandb-row\"><div class=\"wandb-col\"><h3>Run history:</h3><br/><table class=\"wandb\"><tr><td>epoch</td><td>▁▂▃▄▅▇▇▁▃▃▅▆▇█▁▃▄▅▇▇▁▂▃▅▅▇█▁▃▄▅▆▇▁▂▃▅▅▇█</td></tr></table><br/></div><div class=\"wandb-col\"><h3>Run summary:</h3><br/><table class=\"wandb\"><tr><td>epoch</td><td>119</td></tr><tr><td>mean_cv_accuracy</td><td>0.82173</td></tr><tr><td>train_auc</td><td>0.93775</td></tr><tr><td>train_ks_stat</td><td>0.73891</td></tr><tr><td>train_log_loss</td><td>0.3121</td></tr><tr><td>val_acc_0.5</td><td>0.82123</td></tr><tr><td>val_acc_best_trh</td><td>0.8324</td></tr><tr><td>val_auc</td><td>0.86594</td></tr><tr><td>val_ks_2samp</td><td>0.64625</td></tr><tr><td>val_ks_pval</td><td>0.0</td></tr><tr><td>val_log_loss</td><td>0.42642</td></tr></table><br/></div></div>"
            ],
            "text/plain": [
              "<IPython.core.display.HTML object>"
            ]
          },
          "metadata": {},
          "output_type": "display_data"
        },
        {
          "data": {
            "text/html": [
              " View run <strong style=\"color:#cdcd00\">dandy-sweep-53</strong> at: <a href='https://wandb.ai/max-deep/titanic_survived/runs/o7v19lsw' target=\"_blank\">https://wandb.ai/max-deep/titanic_survived/runs/o7v19lsw</a><br/>Synced 4 W&B file(s), 6 media file(s), 12 artifact file(s) and 1 other file(s)"
            ],
            "text/plain": [
              "<IPython.core.display.HTML object>"
            ]
          },
          "metadata": {},
          "output_type": "display_data"
        },
        {
          "data": {
            "text/html": [
              "Find logs at: <code>.\\wandb\\run-20231005_124501-o7v19lsw\\logs</code>"
            ],
            "text/plain": [
              "<IPython.core.display.HTML object>"
            ]
          },
          "metadata": {},
          "output_type": "display_data"
        },
        {
          "name": "stderr",
          "output_type": "stream",
          "text": [
            "\u001b[34m\u001b[1mwandb\u001b[0m: Sweep Agent: Waiting for job.\n",
            "\u001b[34m\u001b[1mwandb\u001b[0m: Job received.\n",
            "\u001b[34m\u001b[1mwandb\u001b[0m: Agent Starting Run: 90iqhctq with config:\n",
            "\u001b[34m\u001b[1mwandb\u001b[0m: \tcolsample_bytree: 0.8028706502600182\n",
            "\u001b[34m\u001b[1mwandb\u001b[0m: \tlearning_rate: 0.5389982952215333\n",
            "\u001b[34m\u001b[1mwandb\u001b[0m: \tmax_depth: 10\n",
            "\u001b[34m\u001b[1mwandb\u001b[0m: \tmin_child_weight: 10\n",
            "\u001b[34m\u001b[1mwandb\u001b[0m: \tn_estimators: 120\n",
            "\u001b[34m\u001b[1mwandb\u001b[0m: \tsubsample: 0.7622209111998777\n"
          ]
        },
        {
          "data": {
            "text/html": [
              "wandb version 0.15.12 is available!  To upgrade, please run:\n",
              " $ pip install wandb --upgrade"
            ],
            "text/plain": [
              "<IPython.core.display.HTML object>"
            ]
          },
          "metadata": {},
          "output_type": "display_data"
        },
        {
          "data": {
            "text/html": [
              "Tracking run with wandb version 0.15.11"
            ],
            "text/plain": [
              "<IPython.core.display.HTML object>"
            ]
          },
          "metadata": {},
          "output_type": "display_data"
        },
        {
          "data": {
            "text/html": [
              "Run data is saved locally in <code>c:\\Users\\Maxpo\\Documents\\GitHub\\tabular-data-prediction-pipeline\\wandb\\run-20231005_124546-90iqhctq</code>"
            ],
            "text/plain": [
              "<IPython.core.display.HTML object>"
            ]
          },
          "metadata": {},
          "output_type": "display_data"
        },
        {
          "data": {
            "text/html": [
              "Syncing run <strong><a href='https://wandb.ai/max-deep/titanic_survived/runs/90iqhctq' target=\"_blank\">rich-sweep-54</a></strong> to <a href='https://wandb.ai/max-deep/titanic_survived' target=\"_blank\">Weights & Biases</a> (<a href='https://wandb.me/run' target=\"_blank\">docs</a>)<br/>Sweep page: <a href='https://wandb.ai/max-deep/titanic_survived/sweeps/6zycoh6c' target=\"_blank\">https://wandb.ai/max-deep/titanic_survived/sweeps/6zycoh6c</a>"
            ],
            "text/plain": [
              "<IPython.core.display.HTML object>"
            ]
          },
          "metadata": {},
          "output_type": "display_data"
        },
        {
          "data": {
            "text/html": [
              " View project at <a href='https://wandb.ai/max-deep/titanic_survived' target=\"_blank\">https://wandb.ai/max-deep/titanic_survived</a>"
            ],
            "text/plain": [
              "<IPython.core.display.HTML object>"
            ]
          },
          "metadata": {},
          "output_type": "display_data"
        },
        {
          "data": {
            "text/html": [
              " View sweep at <a href='https://wandb.ai/max-deep/titanic_survived/sweeps/6zycoh6c' target=\"_blank\">https://wandb.ai/max-deep/titanic_survived/sweeps/6zycoh6c</a>"
            ],
            "text/plain": [
              "<IPython.core.display.HTML object>"
            ]
          },
          "metadata": {},
          "output_type": "display_data"
        },
        {
          "data": {
            "text/html": [
              " View run at <a href='https://wandb.ai/max-deep/titanic_survived/runs/90iqhctq' target=\"_blank\">https://wandb.ai/max-deep/titanic_survived/runs/90iqhctq</a>"
            ],
            "text/plain": [
              "<IPython.core.display.HTML object>"
            ]
          },
          "metadata": {},
          "output_type": "display_data"
        },
        {
          "data": {
            "text/html": [
              "Waiting for W&B process to finish... <strong style=\"color:green\">(success).</strong>"
            ],
            "text/plain": [
              "<IPython.core.display.HTML object>"
            ]
          },
          "metadata": {},
          "output_type": "display_data"
        },
        {
          "data": {
            "text/html": [
              "<style>\n",
              "    table.wandb td:nth-child(1) { padding: 0 10px; text-align: left ; width: auto;} td:nth-child(2) {text-align: left ; width: 100%}\n",
              "    .wandb-row { display: flex; flex-direction: row; flex-wrap: wrap; justify-content: flex-start; width: 100% }\n",
              "    .wandb-col { display: flex; flex-direction: column; flex-basis: 100%; flex: 1; padding: 10px; }\n",
              "    </style>\n",
              "<div class=\"wandb-row\"><div class=\"wandb-col\"><h3>Run history:</h3><br/><table class=\"wandb\"><tr><td>epoch</td><td>▁▂▃▄▅▇▇▁▃▃▅▆▇█▁▃▄▅▇▇▁▂▃▅▅▇█▁▃▄▅▆▇▁▂▃▅▅▇█</td></tr></table><br/></div><div class=\"wandb-col\"><h3>Run summary:</h3><br/><table class=\"wandb\"><tr><td>epoch</td><td>119</td></tr><tr><td>mean_cv_accuracy</td><td>0.81468</td></tr><tr><td>train_auc</td><td>0.94697</td></tr><tr><td>train_ks_stat</td><td>0.77652</td></tr><tr><td>train_log_loss</td><td>0.28413</td></tr><tr><td>val_acc_0.5</td><td>0.81564</td></tr><tr><td>val_acc_best_trh</td><td>0.84916</td></tr><tr><td>val_auc</td><td>0.84401</td></tr><tr><td>val_ks_2samp</td><td>0.64111</td></tr><tr><td>val_ks_pval</td><td>0.0</td></tr><tr><td>val_log_loss</td><td>0.4658</td></tr></table><br/></div></div>"
            ],
            "text/plain": [
              "<IPython.core.display.HTML object>"
            ]
          },
          "metadata": {},
          "output_type": "display_data"
        },
        {
          "data": {
            "text/html": [
              " View run <strong style=\"color:#cdcd00\">rich-sweep-54</strong> at: <a href='https://wandb.ai/max-deep/titanic_survived/runs/90iqhctq' target=\"_blank\">https://wandb.ai/max-deep/titanic_survived/runs/90iqhctq</a><br/>Synced 4 W&B file(s), 6 media file(s), 12 artifact file(s) and 1 other file(s)"
            ],
            "text/plain": [
              "<IPython.core.display.HTML object>"
            ]
          },
          "metadata": {},
          "output_type": "display_data"
        },
        {
          "data": {
            "text/html": [
              "Find logs at: <code>.\\wandb\\run-20231005_124546-90iqhctq\\logs</code>"
            ],
            "text/plain": [
              "<IPython.core.display.HTML object>"
            ]
          },
          "metadata": {},
          "output_type": "display_data"
        },
        {
          "name": "stderr",
          "output_type": "stream",
          "text": [
            "\u001b[34m\u001b[1mwandb\u001b[0m: Agent Starting Run: vbwcx7l6 with config:\n",
            "\u001b[34m\u001b[1mwandb\u001b[0m: \tcolsample_bytree: 0.5279435072287515\n",
            "\u001b[34m\u001b[1mwandb\u001b[0m: \tlearning_rate: 0.14867038293683532\n",
            "\u001b[34m\u001b[1mwandb\u001b[0m: \tmax_depth: 4\n",
            "\u001b[34m\u001b[1mwandb\u001b[0m: \tmin_child_weight: 7\n",
            "\u001b[34m\u001b[1mwandb\u001b[0m: \tn_estimators: 210\n",
            "\u001b[34m\u001b[1mwandb\u001b[0m: \tsubsample: 0.8985404946142559\n"
          ]
        },
        {
          "data": {
            "text/html": [
              "wandb version 0.15.12 is available!  To upgrade, please run:\n",
              " $ pip install wandb --upgrade"
            ],
            "text/plain": [
              "<IPython.core.display.HTML object>"
            ]
          },
          "metadata": {},
          "output_type": "display_data"
        },
        {
          "data": {
            "text/html": [
              "Tracking run with wandb version 0.15.11"
            ],
            "text/plain": [
              "<IPython.core.display.HTML object>"
            ]
          },
          "metadata": {},
          "output_type": "display_data"
        },
        {
          "data": {
            "text/html": [
              "Run data is saved locally in <code>c:\\Users\\Maxpo\\Documents\\GitHub\\tabular-data-prediction-pipeline\\wandb\\run-20231005_124624-vbwcx7l6</code>"
            ],
            "text/plain": [
              "<IPython.core.display.HTML object>"
            ]
          },
          "metadata": {},
          "output_type": "display_data"
        },
        {
          "data": {
            "text/html": [
              "Syncing run <strong><a href='https://wandb.ai/max-deep/titanic_survived/runs/vbwcx7l6' target=\"_blank\">true-sweep-55</a></strong> to <a href='https://wandb.ai/max-deep/titanic_survived' target=\"_blank\">Weights & Biases</a> (<a href='https://wandb.me/run' target=\"_blank\">docs</a>)<br/>Sweep page: <a href='https://wandb.ai/max-deep/titanic_survived/sweeps/6zycoh6c' target=\"_blank\">https://wandb.ai/max-deep/titanic_survived/sweeps/6zycoh6c</a>"
            ],
            "text/plain": [
              "<IPython.core.display.HTML object>"
            ]
          },
          "metadata": {},
          "output_type": "display_data"
        },
        {
          "data": {
            "text/html": [
              " View project at <a href='https://wandb.ai/max-deep/titanic_survived' target=\"_blank\">https://wandb.ai/max-deep/titanic_survived</a>"
            ],
            "text/plain": [
              "<IPython.core.display.HTML object>"
            ]
          },
          "metadata": {},
          "output_type": "display_data"
        },
        {
          "data": {
            "text/html": [
              " View sweep at <a href='https://wandb.ai/max-deep/titanic_survived/sweeps/6zycoh6c' target=\"_blank\">https://wandb.ai/max-deep/titanic_survived/sweeps/6zycoh6c</a>"
            ],
            "text/plain": [
              "<IPython.core.display.HTML object>"
            ]
          },
          "metadata": {},
          "output_type": "display_data"
        },
        {
          "data": {
            "text/html": [
              " View run at <a href='https://wandb.ai/max-deep/titanic_survived/runs/vbwcx7l6' target=\"_blank\">https://wandb.ai/max-deep/titanic_survived/runs/vbwcx7l6</a>"
            ],
            "text/plain": [
              "<IPython.core.display.HTML object>"
            ]
          },
          "metadata": {},
          "output_type": "display_data"
        },
        {
          "data": {
            "text/html": [
              "Waiting for W&B process to finish... <strong style=\"color:green\">(success).</strong>"
            ],
            "text/plain": [
              "<IPython.core.display.HTML object>"
            ]
          },
          "metadata": {},
          "output_type": "display_data"
        },
        {
          "data": {
            "text/html": [
              "<style>\n",
              "    table.wandb td:nth-child(1) { padding: 0 10px; text-align: left ; width: auto;} td:nth-child(2) {text-align: left ; width: 100%}\n",
              "    .wandb-row { display: flex; flex-direction: row; flex-wrap: wrap; justify-content: flex-start; width: 100% }\n",
              "    .wandb-col { display: flex; flex-direction: column; flex-basis: 100%; flex: 1; padding: 10px; }\n",
              "    </style>\n",
              "<div class=\"wandb-row\"><div class=\"wandb-col\"><h3>Run history:</h3><br/><table class=\"wandb\"><tr><td>epoch</td><td>▁▂▃▄▅▆█▁▂▄▅▆▇█▂▃▄▅▆▇▁▂▃▅▆▇█▂▃▄▅▆▇▁▂▃▄▅▇█</td></tr></table><br/></div><div class=\"wandb-col\"><h3>Run summary:</h3><br/><table class=\"wandb\"><tr><td>epoch</td><td>209</td></tr><tr><td>mean_cv_accuracy</td><td>0.81185</td></tr><tr><td>train_auc</td><td>0.93971</td></tr><tr><td>train_ks_stat</td><td>0.76455</td></tr><tr><td>train_log_loss</td><td>0.30841</td></tr><tr><td>val_acc_0.5</td><td>0.81564</td></tr><tr><td>val_acc_best_trh</td><td>0.81564</td></tr><tr><td>val_auc</td><td>0.84466</td></tr><tr><td>val_ks_2samp</td><td>0.58656</td></tr><tr><td>val_ks_pval</td><td>0.0</td></tr><tr><td>val_log_loss</td><td>0.46173</td></tr></table><br/></div></div>"
            ],
            "text/plain": [
              "<IPython.core.display.HTML object>"
            ]
          },
          "metadata": {},
          "output_type": "display_data"
        },
        {
          "data": {
            "text/html": [
              " View run <strong style=\"color:#cdcd00\">true-sweep-55</strong> at: <a href='https://wandb.ai/max-deep/titanic_survived/runs/vbwcx7l6' target=\"_blank\">https://wandb.ai/max-deep/titanic_survived/runs/vbwcx7l6</a><br/>Synced 4 W&B file(s), 6 media file(s), 12 artifact file(s) and 1 other file(s)"
            ],
            "text/plain": [
              "<IPython.core.display.HTML object>"
            ]
          },
          "metadata": {},
          "output_type": "display_data"
        },
        {
          "data": {
            "text/html": [
              "Find logs at: <code>.\\wandb\\run-20231005_124624-vbwcx7l6\\logs</code>"
            ],
            "text/plain": [
              "<IPython.core.display.HTML object>"
            ]
          },
          "metadata": {},
          "output_type": "display_data"
        },
        {
          "name": "stderr",
          "output_type": "stream",
          "text": [
            "\u001b[34m\u001b[1mwandb\u001b[0m: Agent Starting Run: k8g8xz6g with config:\n",
            "\u001b[34m\u001b[1mwandb\u001b[0m: \tcolsample_bytree: 0.7837802497328102\n",
            "\u001b[34m\u001b[1mwandb\u001b[0m: \tlearning_rate: 0.5561659687930836\n",
            "\u001b[34m\u001b[1mwandb\u001b[0m: \tmax_depth: 8\n",
            "\u001b[34m\u001b[1mwandb\u001b[0m: \tmin_child_weight: 10\n",
            "\u001b[34m\u001b[1mwandb\u001b[0m: \tn_estimators: 120\n",
            "\u001b[34m\u001b[1mwandb\u001b[0m: \tsubsample: 0.8550202176633661\n"
          ]
        },
        {
          "data": {
            "text/html": [
              "wandb version 0.15.12 is available!  To upgrade, please run:\n",
              " $ pip install wandb --upgrade"
            ],
            "text/plain": [
              "<IPython.core.display.HTML object>"
            ]
          },
          "metadata": {},
          "output_type": "display_data"
        },
        {
          "data": {
            "text/html": [
              "Tracking run with wandb version 0.15.11"
            ],
            "text/plain": [
              "<IPython.core.display.HTML object>"
            ]
          },
          "metadata": {},
          "output_type": "display_data"
        },
        {
          "data": {
            "text/html": [
              "Run data is saved locally in <code>c:\\Users\\Maxpo\\Documents\\GitHub\\tabular-data-prediction-pipeline\\wandb\\run-20231005_124700-k8g8xz6g</code>"
            ],
            "text/plain": [
              "<IPython.core.display.HTML object>"
            ]
          },
          "metadata": {},
          "output_type": "display_data"
        },
        {
          "data": {
            "text/html": [
              "Syncing run <strong><a href='https://wandb.ai/max-deep/titanic_survived/runs/k8g8xz6g' target=\"_blank\">quiet-sweep-56</a></strong> to <a href='https://wandb.ai/max-deep/titanic_survived' target=\"_blank\">Weights & Biases</a> (<a href='https://wandb.me/run' target=\"_blank\">docs</a>)<br/>Sweep page: <a href='https://wandb.ai/max-deep/titanic_survived/sweeps/6zycoh6c' target=\"_blank\">https://wandb.ai/max-deep/titanic_survived/sweeps/6zycoh6c</a>"
            ],
            "text/plain": [
              "<IPython.core.display.HTML object>"
            ]
          },
          "metadata": {},
          "output_type": "display_data"
        },
        {
          "data": {
            "text/html": [
              " View project at <a href='https://wandb.ai/max-deep/titanic_survived' target=\"_blank\">https://wandb.ai/max-deep/titanic_survived</a>"
            ],
            "text/plain": [
              "<IPython.core.display.HTML object>"
            ]
          },
          "metadata": {},
          "output_type": "display_data"
        },
        {
          "data": {
            "text/html": [
              " View sweep at <a href='https://wandb.ai/max-deep/titanic_survived/sweeps/6zycoh6c' target=\"_blank\">https://wandb.ai/max-deep/titanic_survived/sweeps/6zycoh6c</a>"
            ],
            "text/plain": [
              "<IPython.core.display.HTML object>"
            ]
          },
          "metadata": {},
          "output_type": "display_data"
        },
        {
          "data": {
            "text/html": [
              " View run at <a href='https://wandb.ai/max-deep/titanic_survived/runs/k8g8xz6g' target=\"_blank\">https://wandb.ai/max-deep/titanic_survived/runs/k8g8xz6g</a>"
            ],
            "text/plain": [
              "<IPython.core.display.HTML object>"
            ]
          },
          "metadata": {},
          "output_type": "display_data"
        },
        {
          "data": {
            "text/html": [
              "Waiting for W&B process to finish... <strong style=\"color:green\">(success).</strong>"
            ],
            "text/plain": [
              "<IPython.core.display.HTML object>"
            ]
          },
          "metadata": {},
          "output_type": "display_data"
        },
        {
          "data": {
            "text/html": [
              "<style>\n",
              "    table.wandb td:nth-child(1) { padding: 0 10px; text-align: left ; width: auto;} td:nth-child(2) {text-align: left ; width: 100%}\n",
              "    .wandb-row { display: flex; flex-direction: row; flex-wrap: wrap; justify-content: flex-start; width: 100% }\n",
              "    .wandb-col { display: flex; flex-direction: column; flex-basis: 100%; flex: 1; padding: 10px; }\n",
              "    </style>\n",
              "<div class=\"wandb-row\"><div class=\"wandb-col\"><h3>Run history:</h3><br/><table class=\"wandb\"><tr><td>epoch</td><td>▁▂▃▄▅▇▇▁▃▃▅▆▇█▁▃▄▅▇▇▁▂▃▅▅▇█▁▃▄▅▆▇▁▂▃▅▅▇█</td></tr></table><br/></div><div class=\"wandb-col\"><h3>Run summary:</h3><br/><table class=\"wandb\"><tr><td>epoch</td><td>119</td></tr><tr><td>mean_cv_accuracy</td><td>0.83016</td></tr><tr><td>train_auc</td><td>0.9527</td></tr><tr><td>train_ks_stat</td><td>0.78434</td></tr><tr><td>train_log_loss</td><td>0.27192</td></tr><tr><td>val_acc_0.5</td><td>0.82123</td></tr><tr><td>val_acc_best_trh</td><td>0.82123</td></tr><tr><td>val_auc</td><td>0.86126</td></tr><tr><td>val_ks_2samp</td><td>0.61186</td></tr><tr><td>val_ks_pval</td><td>0.0</td></tr><tr><td>val_log_loss</td><td>0.44925</td></tr></table><br/></div></div>"
            ],
            "text/plain": [
              "<IPython.core.display.HTML object>"
            ]
          },
          "metadata": {},
          "output_type": "display_data"
        },
        {
          "data": {
            "text/html": [
              " View run <strong style=\"color:#cdcd00\">quiet-sweep-56</strong> at: <a href='https://wandb.ai/max-deep/titanic_survived/runs/k8g8xz6g' target=\"_blank\">https://wandb.ai/max-deep/titanic_survived/runs/k8g8xz6g</a><br/>Synced 4 W&B file(s), 6 media file(s), 12 artifact file(s) and 1 other file(s)"
            ],
            "text/plain": [
              "<IPython.core.display.HTML object>"
            ]
          },
          "metadata": {},
          "output_type": "display_data"
        },
        {
          "data": {
            "text/html": [
              "Find logs at: <code>.\\wandb\\run-20231005_124700-k8g8xz6g\\logs</code>"
            ],
            "text/plain": [
              "<IPython.core.display.HTML object>"
            ]
          },
          "metadata": {},
          "output_type": "display_data"
        },
        {
          "name": "stderr",
          "output_type": "stream",
          "text": [
            "\u001b[34m\u001b[1mwandb\u001b[0m: Agent Starting Run: b2mbq9a9 with config:\n",
            "\u001b[34m\u001b[1mwandb\u001b[0m: \tcolsample_bytree: 0.5866601534179574\n",
            "\u001b[34m\u001b[1mwandb\u001b[0m: \tlearning_rate: 0.31777850260070584\n",
            "\u001b[34m\u001b[1mwandb\u001b[0m: \tmax_depth: 6\n",
            "\u001b[34m\u001b[1mwandb\u001b[0m: \tmin_child_weight: 6\n",
            "\u001b[34m\u001b[1mwandb\u001b[0m: \tn_estimators: 210\n",
            "\u001b[34m\u001b[1mwandb\u001b[0m: \tsubsample: 0.5914935641141569\n"
          ]
        },
        {
          "data": {
            "text/html": [
              "wandb version 0.15.12 is available!  To upgrade, please run:\n",
              " $ pip install wandb --upgrade"
            ],
            "text/plain": [
              "<IPython.core.display.HTML object>"
            ]
          },
          "metadata": {},
          "output_type": "display_data"
        },
        {
          "data": {
            "text/html": [
              "Tracking run with wandb version 0.15.11"
            ],
            "text/plain": [
              "<IPython.core.display.HTML object>"
            ]
          },
          "metadata": {},
          "output_type": "display_data"
        },
        {
          "data": {
            "text/html": [
              "Run data is saved locally in <code>c:\\Users\\Maxpo\\Documents\\GitHub\\tabular-data-prediction-pipeline\\wandb\\run-20231005_124737-b2mbq9a9</code>"
            ],
            "text/plain": [
              "<IPython.core.display.HTML object>"
            ]
          },
          "metadata": {},
          "output_type": "display_data"
        },
        {
          "data": {
            "text/html": [
              "Syncing run <strong><a href='https://wandb.ai/max-deep/titanic_survived/runs/b2mbq9a9' target=\"_blank\">lucky-sweep-57</a></strong> to <a href='https://wandb.ai/max-deep/titanic_survived' target=\"_blank\">Weights & Biases</a> (<a href='https://wandb.me/run' target=\"_blank\">docs</a>)<br/>Sweep page: <a href='https://wandb.ai/max-deep/titanic_survived/sweeps/6zycoh6c' target=\"_blank\">https://wandb.ai/max-deep/titanic_survived/sweeps/6zycoh6c</a>"
            ],
            "text/plain": [
              "<IPython.core.display.HTML object>"
            ]
          },
          "metadata": {},
          "output_type": "display_data"
        },
        {
          "data": {
            "text/html": [
              " View project at <a href='https://wandb.ai/max-deep/titanic_survived' target=\"_blank\">https://wandb.ai/max-deep/titanic_survived</a>"
            ],
            "text/plain": [
              "<IPython.core.display.HTML object>"
            ]
          },
          "metadata": {},
          "output_type": "display_data"
        },
        {
          "data": {
            "text/html": [
              " View sweep at <a href='https://wandb.ai/max-deep/titanic_survived/sweeps/6zycoh6c' target=\"_blank\">https://wandb.ai/max-deep/titanic_survived/sweeps/6zycoh6c</a>"
            ],
            "text/plain": [
              "<IPython.core.display.HTML object>"
            ]
          },
          "metadata": {},
          "output_type": "display_data"
        },
        {
          "data": {
            "text/html": [
              " View run at <a href='https://wandb.ai/max-deep/titanic_survived/runs/b2mbq9a9' target=\"_blank\">https://wandb.ai/max-deep/titanic_survived/runs/b2mbq9a9</a>"
            ],
            "text/plain": [
              "<IPython.core.display.HTML object>"
            ]
          },
          "metadata": {},
          "output_type": "display_data"
        },
        {
          "data": {
            "text/html": [
              "Waiting for W&B process to finish... <strong style=\"color:green\">(success).</strong>"
            ],
            "text/plain": [
              "<IPython.core.display.HTML object>"
            ]
          },
          "metadata": {},
          "output_type": "display_data"
        },
        {
          "data": {
            "text/html": [
              "<style>\n",
              "    table.wandb td:nth-child(1) { padding: 0 10px; text-align: left ; width: auto;} td:nth-child(2) {text-align: left ; width: 100%}\n",
              "    .wandb-row { display: flex; flex-direction: row; flex-wrap: wrap; justify-content: flex-start; width: 100% }\n",
              "    .wandb-col { display: flex; flex-direction: column; flex-basis: 100%; flex: 1; padding: 10px; }\n",
              "    </style>\n",
              "<div class=\"wandb-row\"><div class=\"wandb-col\"><h3>Run history:</h3><br/><table class=\"wandb\"><tr><td>epoch</td><td>▁▂▃▄▅▆█▁▂▄▅▆▇█▂▃▄▅▆▇▁▂▃▅▆▇█▂▃▄▅▆▇▁▂▃▄▅▇█</td></tr></table><br/></div><div class=\"wandb-col\"><h3>Run summary:</h3><br/><table class=\"wandb\"><tr><td>epoch</td><td>209</td></tr><tr><td>mean_cv_accuracy</td><td>0.82596</td></tr><tr><td>train_auc</td><td>0.959</td></tr><tr><td>train_ks_stat</td><td>0.80404</td></tr><tr><td>train_log_loss</td><td>0.25785</td></tr><tr><td>val_acc_0.5</td><td>0.81006</td></tr><tr><td>val_acc_best_trh</td><td>0.82123</td></tr><tr><td>val_auc</td><td>0.85152</td></tr><tr><td>val_ks_2samp</td><td>0.59565</td></tr><tr><td>val_ks_pval</td><td>0.0</td></tr><tr><td>val_log_loss</td><td>0.46213</td></tr></table><br/></div></div>"
            ],
            "text/plain": [
              "<IPython.core.display.HTML object>"
            ]
          },
          "metadata": {},
          "output_type": "display_data"
        },
        {
          "data": {
            "text/html": [
              " View run <strong style=\"color:#cdcd00\">lucky-sweep-57</strong> at: <a href='https://wandb.ai/max-deep/titanic_survived/runs/b2mbq9a9' target=\"_blank\">https://wandb.ai/max-deep/titanic_survived/runs/b2mbq9a9</a><br/>Synced 4 W&B file(s), 6 media file(s), 12 artifact file(s) and 1 other file(s)"
            ],
            "text/plain": [
              "<IPython.core.display.HTML object>"
            ]
          },
          "metadata": {},
          "output_type": "display_data"
        },
        {
          "data": {
            "text/html": [
              "Find logs at: <code>.\\wandb\\run-20231005_124737-b2mbq9a9\\logs</code>"
            ],
            "text/plain": [
              "<IPython.core.display.HTML object>"
            ]
          },
          "metadata": {},
          "output_type": "display_data"
        },
        {
          "name": "stderr",
          "output_type": "stream",
          "text": [
            "\u001b[34m\u001b[1mwandb\u001b[0m: Sweep Agent: Waiting for job.\n",
            "\u001b[34m\u001b[1mwandb\u001b[0m: Job received.\n",
            "\u001b[34m\u001b[1mwandb\u001b[0m: Agent Starting Run: dhwtrvu1 with config:\n",
            "\u001b[34m\u001b[1mwandb\u001b[0m: \tcolsample_bytree: 0.7635467676905441\n",
            "\u001b[34m\u001b[1mwandb\u001b[0m: \tlearning_rate: 0.008641915907411094\n",
            "\u001b[34m\u001b[1mwandb\u001b[0m: \tmax_depth: 7\n",
            "\u001b[34m\u001b[1mwandb\u001b[0m: \tmin_child_weight: 2\n",
            "\u001b[34m\u001b[1mwandb\u001b[0m: \tn_estimators: 150\n",
            "\u001b[34m\u001b[1mwandb\u001b[0m: \tsubsample: 0.5005345900104771\n"
          ]
        },
        {
          "data": {
            "text/html": [
              "wandb version 0.15.12 is available!  To upgrade, please run:\n",
              " $ pip install wandb --upgrade"
            ],
            "text/plain": [
              "<IPython.core.display.HTML object>"
            ]
          },
          "metadata": {},
          "output_type": "display_data"
        },
        {
          "data": {
            "text/html": [
              "Tracking run with wandb version 0.15.11"
            ],
            "text/plain": [
              "<IPython.core.display.HTML object>"
            ]
          },
          "metadata": {},
          "output_type": "display_data"
        },
        {
          "data": {
            "text/html": [
              "Run data is saved locally in <code>c:\\Users\\Maxpo\\Documents\\GitHub\\tabular-data-prediction-pipeline\\wandb\\run-20231005_124823-dhwtrvu1</code>"
            ],
            "text/plain": [
              "<IPython.core.display.HTML object>"
            ]
          },
          "metadata": {},
          "output_type": "display_data"
        },
        {
          "data": {
            "text/html": [
              "Syncing run <strong><a href='https://wandb.ai/max-deep/titanic_survived/runs/dhwtrvu1' target=\"_blank\">vivid-sweep-58</a></strong> to <a href='https://wandb.ai/max-deep/titanic_survived' target=\"_blank\">Weights & Biases</a> (<a href='https://wandb.me/run' target=\"_blank\">docs</a>)<br/>Sweep page: <a href='https://wandb.ai/max-deep/titanic_survived/sweeps/6zycoh6c' target=\"_blank\">https://wandb.ai/max-deep/titanic_survived/sweeps/6zycoh6c</a>"
            ],
            "text/plain": [
              "<IPython.core.display.HTML object>"
            ]
          },
          "metadata": {},
          "output_type": "display_data"
        },
        {
          "data": {
            "text/html": [
              " View project at <a href='https://wandb.ai/max-deep/titanic_survived' target=\"_blank\">https://wandb.ai/max-deep/titanic_survived</a>"
            ],
            "text/plain": [
              "<IPython.core.display.HTML object>"
            ]
          },
          "metadata": {},
          "output_type": "display_data"
        },
        {
          "data": {
            "text/html": [
              " View sweep at <a href='https://wandb.ai/max-deep/titanic_survived/sweeps/6zycoh6c' target=\"_blank\">https://wandb.ai/max-deep/titanic_survived/sweeps/6zycoh6c</a>"
            ],
            "text/plain": [
              "<IPython.core.display.HTML object>"
            ]
          },
          "metadata": {},
          "output_type": "display_data"
        },
        {
          "data": {
            "text/html": [
              " View run at <a href='https://wandb.ai/max-deep/titanic_survived/runs/dhwtrvu1' target=\"_blank\">https://wandb.ai/max-deep/titanic_survived/runs/dhwtrvu1</a>"
            ],
            "text/plain": [
              "<IPython.core.display.HTML object>"
            ]
          },
          "metadata": {},
          "output_type": "display_data"
        },
        {
          "data": {
            "text/html": [
              "Waiting for W&B process to finish... <strong style=\"color:green\">(success).</strong>"
            ],
            "text/plain": [
              "<IPython.core.display.HTML object>"
            ]
          },
          "metadata": {},
          "output_type": "display_data"
        },
        {
          "data": {
            "text/html": [
              "<style>\n",
              "    table.wandb td:nth-child(1) { padding: 0 10px; text-align: left ; width: auto;} td:nth-child(2) {text-align: left ; width: 100%}\n",
              "    .wandb-row { display: flex; flex-direction: row; flex-wrap: wrap; justify-content: flex-start; width: 100% }\n",
              "    .wandb-col { display: flex; flex-direction: column; flex-basis: 100%; flex: 1; padding: 10px; }\n",
              "    </style>\n",
              "<div class=\"wandb-row\"><div class=\"wandb-col\"><h3>Run history:</h3><br/><table class=\"wandb\"><tr><td>epoch</td><td>▁▂▃▄▅▇█▁▃▄▅▆▇▁▂▃▄▅▆█▁▂▃▅▆▇█▂▃▄▅▆▇▁▂▃▄▆▇█</td></tr></table><br/></div><div class=\"wandb-col\"><h3>Run summary:</h3><br/><table class=\"wandb\"><tr><td>epoch</td><td>149</td></tr><tr><td>mean_cv_accuracy</td><td>0.80205</td></tr><tr><td>train_auc</td><td>0.91842</td></tr><tr><td>train_ks_stat</td><td>0.70831</td></tr><tr><td>train_log_loss</td><td>0.42328</td></tr><tr><td>val_acc_0.5</td><td>0.80447</td></tr><tr><td>val_acc_best_trh</td><td>0.79888</td></tr><tr><td>val_auc</td><td>0.83142</td></tr><tr><td>val_ks_2samp</td><td>0.5971</td></tr><tr><td>val_ks_pval</td><td>0.0</td></tr><tr><td>val_log_loss</td><td>0.48648</td></tr></table><br/></div></div>"
            ],
            "text/plain": [
              "<IPython.core.display.HTML object>"
            ]
          },
          "metadata": {},
          "output_type": "display_data"
        },
        {
          "data": {
            "text/html": [
              " View run <strong style=\"color:#cdcd00\">vivid-sweep-58</strong> at: <a href='https://wandb.ai/max-deep/titanic_survived/runs/dhwtrvu1' target=\"_blank\">https://wandb.ai/max-deep/titanic_survived/runs/dhwtrvu1</a><br/>Synced 4 W&B file(s), 6 media file(s), 12 artifact file(s) and 1 other file(s)"
            ],
            "text/plain": [
              "<IPython.core.display.HTML object>"
            ]
          },
          "metadata": {},
          "output_type": "display_data"
        },
        {
          "data": {
            "text/html": [
              "Find logs at: <code>.\\wandb\\run-20231005_124823-dhwtrvu1\\logs</code>"
            ],
            "text/plain": [
              "<IPython.core.display.HTML object>"
            ]
          },
          "metadata": {},
          "output_type": "display_data"
        },
        {
          "name": "stderr",
          "output_type": "stream",
          "text": [
            "\u001b[34m\u001b[1mwandb\u001b[0m: Agent Starting Run: qaiz16y4 with config:\n",
            "\u001b[34m\u001b[1mwandb\u001b[0m: \tcolsample_bytree: 0.7290067046190104\n",
            "\u001b[34m\u001b[1mwandb\u001b[0m: \tlearning_rate: 0.8315332262929258\n",
            "\u001b[34m\u001b[1mwandb\u001b[0m: \tmax_depth: 6\n",
            "\u001b[34m\u001b[1mwandb\u001b[0m: \tmin_child_weight: 4\n",
            "\u001b[34m\u001b[1mwandb\u001b[0m: \tn_estimators: 60\n",
            "\u001b[34m\u001b[1mwandb\u001b[0m: \tsubsample: 0.9246316502332776\n"
          ]
        },
        {
          "data": {
            "text/html": [
              "wandb version 0.15.12 is available!  To upgrade, please run:\n",
              " $ pip install wandb --upgrade"
            ],
            "text/plain": [
              "<IPython.core.display.HTML object>"
            ]
          },
          "metadata": {},
          "output_type": "display_data"
        },
        {
          "data": {
            "text/html": [
              "Tracking run with wandb version 0.15.11"
            ],
            "text/plain": [
              "<IPython.core.display.HTML object>"
            ]
          },
          "metadata": {},
          "output_type": "display_data"
        },
        {
          "data": {
            "text/html": [
              "Run data is saved locally in <code>c:\\Users\\Maxpo\\Documents\\GitHub\\tabular-data-prediction-pipeline\\wandb\\run-20231005_124901-qaiz16y4</code>"
            ],
            "text/plain": [
              "<IPython.core.display.HTML object>"
            ]
          },
          "metadata": {},
          "output_type": "display_data"
        },
        {
          "data": {
            "text/html": [
              "Syncing run <strong><a href='https://wandb.ai/max-deep/titanic_survived/runs/qaiz16y4' target=\"_blank\">fast-sweep-59</a></strong> to <a href='https://wandb.ai/max-deep/titanic_survived' target=\"_blank\">Weights & Biases</a> (<a href='https://wandb.me/run' target=\"_blank\">docs</a>)<br/>Sweep page: <a href='https://wandb.ai/max-deep/titanic_survived/sweeps/6zycoh6c' target=\"_blank\">https://wandb.ai/max-deep/titanic_survived/sweeps/6zycoh6c</a>"
            ],
            "text/plain": [
              "<IPython.core.display.HTML object>"
            ]
          },
          "metadata": {},
          "output_type": "display_data"
        },
        {
          "data": {
            "text/html": [
              " View project at <a href='https://wandb.ai/max-deep/titanic_survived' target=\"_blank\">https://wandb.ai/max-deep/titanic_survived</a>"
            ],
            "text/plain": [
              "<IPython.core.display.HTML object>"
            ]
          },
          "metadata": {},
          "output_type": "display_data"
        },
        {
          "data": {
            "text/html": [
              " View sweep at <a href='https://wandb.ai/max-deep/titanic_survived/sweeps/6zycoh6c' target=\"_blank\">https://wandb.ai/max-deep/titanic_survived/sweeps/6zycoh6c</a>"
            ],
            "text/plain": [
              "<IPython.core.display.HTML object>"
            ]
          },
          "metadata": {},
          "output_type": "display_data"
        },
        {
          "data": {
            "text/html": [
              " View run at <a href='https://wandb.ai/max-deep/titanic_survived/runs/qaiz16y4' target=\"_blank\">https://wandb.ai/max-deep/titanic_survived/runs/qaiz16y4</a>"
            ],
            "text/plain": [
              "<IPython.core.display.HTML object>"
            ]
          },
          "metadata": {},
          "output_type": "display_data"
        },
        {
          "data": {
            "text/html": [
              "Waiting for W&B process to finish... <strong style=\"color:green\">(success).</strong>"
            ],
            "text/plain": [
              "<IPython.core.display.HTML object>"
            ]
          },
          "metadata": {},
          "output_type": "display_data"
        },
        {
          "data": {
            "text/html": [
              "<style>\n",
              "    table.wandb td:nth-child(1) { padding: 0 10px; text-align: left ; width: auto;} td:nth-child(2) {text-align: left ; width: 100%}\n",
              "    .wandb-row { display: flex; flex-direction: row; flex-wrap: wrap; justify-content: flex-start; width: 100% }\n",
              "    .wandb-col { display: flex; flex-direction: column; flex-basis: 100%; flex: 1; padding: 10px; }\n",
              "    </style>\n",
              "<div class=\"wandb-row\"><div class=\"wandb-col\"><h3>Run history:</h3><br/><table class=\"wandb\"><tr><td>epoch</td><td>▁▂▃▄▅▇▇▁▃▃▅▆▇█▁▃▄▅▇▇▁▂▃▅▅▇█▁▃▄▅▆▇▁▂▃▅▅▇█</td></tr></table><br/></div><div class=\"wandb-col\"><h3>Run summary:</h3><br/><table class=\"wandb\"><tr><td>epoch</td><td>59</td></tr><tr><td>mean_cv_accuracy</td><td>0.81464</td></tr><tr><td>train_auc</td><td>0.98418</td></tr><tr><td>train_ks_stat</td><td>0.87346</td></tr><tr><td>train_log_loss</td><td>0.17662</td></tr><tr><td>val_acc_0.5</td><td>0.78771</td></tr><tr><td>val_acc_best_trh</td><td>0.77095</td></tr><tr><td>val_auc</td><td>0.83452</td></tr><tr><td>val_ks_2samp</td><td>0.56785</td></tr><tr><td>val_ks_pval</td><td>0.0</td></tr><tr><td>val_log_loss</td><td>0.54148</td></tr></table><br/></div></div>"
            ],
            "text/plain": [
              "<IPython.core.display.HTML object>"
            ]
          },
          "metadata": {},
          "output_type": "display_data"
        },
        {
          "data": {
            "text/html": [
              " View run <strong style=\"color:#cdcd00\">fast-sweep-59</strong> at: <a href='https://wandb.ai/max-deep/titanic_survived/runs/qaiz16y4' target=\"_blank\">https://wandb.ai/max-deep/titanic_survived/runs/qaiz16y4</a><br/>Synced 4 W&B file(s), 6 media file(s), 12 artifact file(s) and 1 other file(s)"
            ],
            "text/plain": [
              "<IPython.core.display.HTML object>"
            ]
          },
          "metadata": {},
          "output_type": "display_data"
        },
        {
          "data": {
            "text/html": [
              "Find logs at: <code>.\\wandb\\run-20231005_124901-qaiz16y4\\logs</code>"
            ],
            "text/plain": [
              "<IPython.core.display.HTML object>"
            ]
          },
          "metadata": {},
          "output_type": "display_data"
        },
        {
          "name": "stderr",
          "output_type": "stream",
          "text": [
            "\u001b[34m\u001b[1mwandb\u001b[0m: Agent Starting Run: luy8m01p with config:\n",
            "\u001b[34m\u001b[1mwandb\u001b[0m: \tcolsample_bytree: 0.5081492005972421\n",
            "\u001b[34m\u001b[1mwandb\u001b[0m: \tlearning_rate: 0.5686234734108218\n",
            "\u001b[34m\u001b[1mwandb\u001b[0m: \tmax_depth: 6\n",
            "\u001b[34m\u001b[1mwandb\u001b[0m: \tmin_child_weight: 2\n",
            "\u001b[34m\u001b[1mwandb\u001b[0m: \tn_estimators: 90\n",
            "\u001b[34m\u001b[1mwandb\u001b[0m: \tsubsample: 0.6821900176484672\n"
          ]
        },
        {
          "data": {
            "text/html": [
              "wandb version 0.15.12 is available!  To upgrade, please run:\n",
              " $ pip install wandb --upgrade"
            ],
            "text/plain": [
              "<IPython.core.display.HTML object>"
            ]
          },
          "metadata": {},
          "output_type": "display_data"
        },
        {
          "data": {
            "text/html": [
              "Tracking run with wandb version 0.15.11"
            ],
            "text/plain": [
              "<IPython.core.display.HTML object>"
            ]
          },
          "metadata": {},
          "output_type": "display_data"
        },
        {
          "data": {
            "text/html": [
              "Run data is saved locally in <code>c:\\Users\\Maxpo\\Documents\\GitHub\\tabular-data-prediction-pipeline\\wandb\\run-20231005_124936-luy8m01p</code>"
            ],
            "text/plain": [
              "<IPython.core.display.HTML object>"
            ]
          },
          "metadata": {},
          "output_type": "display_data"
        },
        {
          "data": {
            "text/html": [
              "Syncing run <strong><a href='https://wandb.ai/max-deep/titanic_survived/runs/luy8m01p' target=\"_blank\">celestial-sweep-60</a></strong> to <a href='https://wandb.ai/max-deep/titanic_survived' target=\"_blank\">Weights & Biases</a> (<a href='https://wandb.me/run' target=\"_blank\">docs</a>)<br/>Sweep page: <a href='https://wandb.ai/max-deep/titanic_survived/sweeps/6zycoh6c' target=\"_blank\">https://wandb.ai/max-deep/titanic_survived/sweeps/6zycoh6c</a>"
            ],
            "text/plain": [
              "<IPython.core.display.HTML object>"
            ]
          },
          "metadata": {},
          "output_type": "display_data"
        },
        {
          "data": {
            "text/html": [
              " View project at <a href='https://wandb.ai/max-deep/titanic_survived' target=\"_blank\">https://wandb.ai/max-deep/titanic_survived</a>"
            ],
            "text/plain": [
              "<IPython.core.display.HTML object>"
            ]
          },
          "metadata": {},
          "output_type": "display_data"
        },
        {
          "data": {
            "text/html": [
              " View sweep at <a href='https://wandb.ai/max-deep/titanic_survived/sweeps/6zycoh6c' target=\"_blank\">https://wandb.ai/max-deep/titanic_survived/sweeps/6zycoh6c</a>"
            ],
            "text/plain": [
              "<IPython.core.display.HTML object>"
            ]
          },
          "metadata": {},
          "output_type": "display_data"
        },
        {
          "data": {
            "text/html": [
              " View run at <a href='https://wandb.ai/max-deep/titanic_survived/runs/luy8m01p' target=\"_blank\">https://wandb.ai/max-deep/titanic_survived/runs/luy8m01p</a>"
            ],
            "text/plain": [
              "<IPython.core.display.HTML object>"
            ]
          },
          "metadata": {},
          "output_type": "display_data"
        },
        {
          "data": {
            "text/html": [
              "Waiting for W&B process to finish... <strong style=\"color:green\">(success).</strong>"
            ],
            "text/plain": [
              "<IPython.core.display.HTML object>"
            ]
          },
          "metadata": {},
          "output_type": "display_data"
        },
        {
          "data": {
            "text/html": [
              "<style>\n",
              "    table.wandb td:nth-child(1) { padding: 0 10px; text-align: left ; width: auto;} td:nth-child(2) {text-align: left ; width: 100%}\n",
              "    .wandb-row { display: flex; flex-direction: row; flex-wrap: wrap; justify-content: flex-start; width: 100% }\n",
              "    .wandb-col { display: flex; flex-direction: column; flex-basis: 100%; flex: 1; padding: 10px; }\n",
              "    </style>\n",
              "<div class=\"wandb-row\"><div class=\"wandb-col\"><h3>Run history:</h3><br/><table class=\"wandb\"><tr><td>epoch</td><td>▁▂▃▅▅▇█▁▃▄▅▆▇▁▂▃▄▅▆█▁▂▄▄▅▇█▁▃▄▅▆▇█▂▃▄▅▆█</td></tr></table><br/></div><div class=\"wandb-col\"><h3>Run summary:</h3><br/><table class=\"wandb\"><tr><td>epoch</td><td>89</td></tr><tr><td>mean_cv_accuracy</td><td>0.81746</td></tr><tr><td>train_auc</td><td>0.97964</td></tr><tr><td>train_ks_stat</td><td>0.8492</td></tr><tr><td>train_log_loss</td><td>0.19379</td></tr><tr><td>val_acc_0.5</td><td>0.81564</td></tr><tr><td>val_acc_best_trh</td><td>0.82682</td></tr><tr><td>val_auc</td><td>0.83057</td></tr><tr><td>val_ks_2samp</td><td>0.62635</td></tr><tr><td>val_ks_pval</td><td>0.0</td></tr><tr><td>val_log_loss</td><td>0.53752</td></tr></table><br/></div></div>"
            ],
            "text/plain": [
              "<IPython.core.display.HTML object>"
            ]
          },
          "metadata": {},
          "output_type": "display_data"
        },
        {
          "data": {
            "text/html": [
              " View run <strong style=\"color:#cdcd00\">celestial-sweep-60</strong> at: <a href='https://wandb.ai/max-deep/titanic_survived/runs/luy8m01p' target=\"_blank\">https://wandb.ai/max-deep/titanic_survived/runs/luy8m01p</a><br/>Synced 4 W&B file(s), 6 media file(s), 12 artifact file(s) and 1 other file(s)"
            ],
            "text/plain": [
              "<IPython.core.display.HTML object>"
            ]
          },
          "metadata": {},
          "output_type": "display_data"
        },
        {
          "data": {
            "text/html": [
              "Find logs at: <code>.\\wandb\\run-20231005_124936-luy8m01p\\logs</code>"
            ],
            "text/plain": [
              "<IPython.core.display.HTML object>"
            ]
          },
          "metadata": {},
          "output_type": "display_data"
        },
        {
          "name": "stderr",
          "output_type": "stream",
          "text": [
            "\u001b[34m\u001b[1mwandb\u001b[0m: Agent Starting Run: rtl75a29 with config:\n",
            "\u001b[34m\u001b[1mwandb\u001b[0m: \tcolsample_bytree: 0.8575029499018466\n",
            "\u001b[34m\u001b[1mwandb\u001b[0m: \tlearning_rate: 0.4196199260902071\n",
            "\u001b[34m\u001b[1mwandb\u001b[0m: \tmax_depth: 9\n",
            "\u001b[34m\u001b[1mwandb\u001b[0m: \tmin_child_weight: 2\n",
            "\u001b[34m\u001b[1mwandb\u001b[0m: \tn_estimators: 150\n",
            "\u001b[34m\u001b[1mwandb\u001b[0m: \tsubsample: 0.5272145966233663\n"
          ]
        },
        {
          "data": {
            "text/html": [
              "wandb version 0.15.12 is available!  To upgrade, please run:\n",
              " $ pip install wandb --upgrade"
            ],
            "text/plain": [
              "<IPython.core.display.HTML object>"
            ]
          },
          "metadata": {},
          "output_type": "display_data"
        },
        {
          "data": {
            "text/html": [
              "Tracking run with wandb version 0.15.11"
            ],
            "text/plain": [
              "<IPython.core.display.HTML object>"
            ]
          },
          "metadata": {},
          "output_type": "display_data"
        },
        {
          "data": {
            "text/html": [
              "Run data is saved locally in <code>c:\\Users\\Maxpo\\Documents\\GitHub\\tabular-data-prediction-pipeline\\wandb\\run-20231005_125014-rtl75a29</code>"
            ],
            "text/plain": [
              "<IPython.core.display.HTML object>"
            ]
          },
          "metadata": {},
          "output_type": "display_data"
        },
        {
          "data": {
            "text/html": [
              "Syncing run <strong><a href='https://wandb.ai/max-deep/titanic_survived/runs/rtl75a29' target=\"_blank\">warm-sweep-61</a></strong> to <a href='https://wandb.ai/max-deep/titanic_survived' target=\"_blank\">Weights & Biases</a> (<a href='https://wandb.me/run' target=\"_blank\">docs</a>)<br/>Sweep page: <a href='https://wandb.ai/max-deep/titanic_survived/sweeps/6zycoh6c' target=\"_blank\">https://wandb.ai/max-deep/titanic_survived/sweeps/6zycoh6c</a>"
            ],
            "text/plain": [
              "<IPython.core.display.HTML object>"
            ]
          },
          "metadata": {},
          "output_type": "display_data"
        },
        {
          "data": {
            "text/html": [
              " View project at <a href='https://wandb.ai/max-deep/titanic_survived' target=\"_blank\">https://wandb.ai/max-deep/titanic_survived</a>"
            ],
            "text/plain": [
              "<IPython.core.display.HTML object>"
            ]
          },
          "metadata": {},
          "output_type": "display_data"
        },
        {
          "data": {
            "text/html": [
              " View sweep at <a href='https://wandb.ai/max-deep/titanic_survived/sweeps/6zycoh6c' target=\"_blank\">https://wandb.ai/max-deep/titanic_survived/sweeps/6zycoh6c</a>"
            ],
            "text/plain": [
              "<IPython.core.display.HTML object>"
            ]
          },
          "metadata": {},
          "output_type": "display_data"
        },
        {
          "data": {
            "text/html": [
              " View run at <a href='https://wandb.ai/max-deep/titanic_survived/runs/rtl75a29' target=\"_blank\">https://wandb.ai/max-deep/titanic_survived/runs/rtl75a29</a>"
            ],
            "text/plain": [
              "<IPython.core.display.HTML object>"
            ]
          },
          "metadata": {},
          "output_type": "display_data"
        },
        {
          "data": {
            "text/html": [
              "Waiting for W&B process to finish... <strong style=\"color:green\">(success).</strong>"
            ],
            "text/plain": [
              "<IPython.core.display.HTML object>"
            ]
          },
          "metadata": {},
          "output_type": "display_data"
        },
        {
          "data": {
            "text/html": [
              "<style>\n",
              "    table.wandb td:nth-child(1) { padding: 0 10px; text-align: left ; width: auto;} td:nth-child(2) {text-align: left ; width: 100%}\n",
              "    .wandb-row { display: flex; flex-direction: row; flex-wrap: wrap; justify-content: flex-start; width: 100% }\n",
              "    .wandb-col { display: flex; flex-direction: column; flex-basis: 100%; flex: 1; padding: 10px; }\n",
              "    </style>\n",
              "<div class=\"wandb-row\"><div class=\"wandb-col\"><h3>Run history:</h3><br/><table class=\"wandb\"><tr><td>epoch</td><td>▁▂▃▄▅▇█▁▃▄▅▆▇▁▂▃▄▅▆█▁▂▃▅▆▇█▂▃▄▅▆▇▁▂▃▄▆▇█</td></tr></table><br/></div><div class=\"wandb-col\"><h3>Run summary:</h3><br/><table class=\"wandb\"><tr><td>epoch</td><td>149</td></tr><tr><td>mean_cv_accuracy</td><td>0.80763</td></tr><tr><td>train_auc</td><td>0.98961</td></tr><tr><td>train_ks_stat</td><td>0.91504</td></tr><tr><td>train_log_loss</td><td>0.14808</td></tr><tr><td>val_acc_0.5</td><td>0.77654</td></tr><tr><td>val_acc_best_trh</td><td>0.78212</td></tr><tr><td>val_auc</td><td>0.83024</td></tr><tr><td>val_ks_2samp</td><td>0.56443</td></tr><tr><td>val_ks_pval</td><td>0.0</td></tr><tr><td>val_log_loss</td><td>0.5525</td></tr></table><br/></div></div>"
            ],
            "text/plain": [
              "<IPython.core.display.HTML object>"
            ]
          },
          "metadata": {},
          "output_type": "display_data"
        },
        {
          "data": {
            "text/html": [
              " View run <strong style=\"color:#cdcd00\">warm-sweep-61</strong> at: <a href='https://wandb.ai/max-deep/titanic_survived/runs/rtl75a29' target=\"_blank\">https://wandb.ai/max-deep/titanic_survived/runs/rtl75a29</a><br/>Synced 4 W&B file(s), 6 media file(s), 12 artifact file(s) and 1 other file(s)"
            ],
            "text/plain": [
              "<IPython.core.display.HTML object>"
            ]
          },
          "metadata": {},
          "output_type": "display_data"
        },
        {
          "data": {
            "text/html": [
              "Find logs at: <code>.\\wandb\\run-20231005_125014-rtl75a29\\logs</code>"
            ],
            "text/plain": [
              "<IPython.core.display.HTML object>"
            ]
          },
          "metadata": {},
          "output_type": "display_data"
        },
        {
          "name": "stderr",
          "output_type": "stream",
          "text": [
            "\u001b[34m\u001b[1mwandb\u001b[0m: Agent Starting Run: 5uhknjbu with config:\n",
            "\u001b[34m\u001b[1mwandb\u001b[0m: \tcolsample_bytree: 0.7671610472728095\n",
            "\u001b[34m\u001b[1mwandb\u001b[0m: \tlearning_rate: 0.904561586343563\n",
            "\u001b[34m\u001b[1mwandb\u001b[0m: \tmax_depth: 10\n",
            "\u001b[34m\u001b[1mwandb\u001b[0m: \tmin_child_weight: 10\n",
            "\u001b[34m\u001b[1mwandb\u001b[0m: \tn_estimators: 90\n",
            "\u001b[34m\u001b[1mwandb\u001b[0m: \tsubsample: 0.9004484590858783\n"
          ]
        },
        {
          "data": {
            "text/html": [
              "wandb version 0.15.12 is available!  To upgrade, please run:\n",
              " $ pip install wandb --upgrade"
            ],
            "text/plain": [
              "<IPython.core.display.HTML object>"
            ]
          },
          "metadata": {},
          "output_type": "display_data"
        },
        {
          "data": {
            "text/html": [
              "Tracking run with wandb version 0.15.11"
            ],
            "text/plain": [
              "<IPython.core.display.HTML object>"
            ]
          },
          "metadata": {},
          "output_type": "display_data"
        },
        {
          "data": {
            "text/html": [
              "Run data is saved locally in <code>c:\\Users\\Maxpo\\Documents\\GitHub\\tabular-data-prediction-pipeline\\wandb\\run-20231005_125050-5uhknjbu</code>"
            ],
            "text/plain": [
              "<IPython.core.display.HTML object>"
            ]
          },
          "metadata": {},
          "output_type": "display_data"
        },
        {
          "data": {
            "text/html": [
              "Syncing run <strong><a href='https://wandb.ai/max-deep/titanic_survived/runs/5uhknjbu' target=\"_blank\">ethereal-sweep-62</a></strong> to <a href='https://wandb.ai/max-deep/titanic_survived' target=\"_blank\">Weights & Biases</a> (<a href='https://wandb.me/run' target=\"_blank\">docs</a>)<br/>Sweep page: <a href='https://wandb.ai/max-deep/titanic_survived/sweeps/6zycoh6c' target=\"_blank\">https://wandb.ai/max-deep/titanic_survived/sweeps/6zycoh6c</a>"
            ],
            "text/plain": [
              "<IPython.core.display.HTML object>"
            ]
          },
          "metadata": {},
          "output_type": "display_data"
        },
        {
          "data": {
            "text/html": [
              " View project at <a href='https://wandb.ai/max-deep/titanic_survived' target=\"_blank\">https://wandb.ai/max-deep/titanic_survived</a>"
            ],
            "text/plain": [
              "<IPython.core.display.HTML object>"
            ]
          },
          "metadata": {},
          "output_type": "display_data"
        },
        {
          "data": {
            "text/html": [
              " View sweep at <a href='https://wandb.ai/max-deep/titanic_survived/sweeps/6zycoh6c' target=\"_blank\">https://wandb.ai/max-deep/titanic_survived/sweeps/6zycoh6c</a>"
            ],
            "text/plain": [
              "<IPython.core.display.HTML object>"
            ]
          },
          "metadata": {},
          "output_type": "display_data"
        },
        {
          "data": {
            "text/html": [
              " View run at <a href='https://wandb.ai/max-deep/titanic_survived/runs/5uhknjbu' target=\"_blank\">https://wandb.ai/max-deep/titanic_survived/runs/5uhknjbu</a>"
            ],
            "text/plain": [
              "<IPython.core.display.HTML object>"
            ]
          },
          "metadata": {},
          "output_type": "display_data"
        },
        {
          "data": {
            "text/html": [
              "Waiting for W&B process to finish... <strong style=\"color:green\">(success).</strong>"
            ],
            "text/plain": [
              "<IPython.core.display.HTML object>"
            ]
          },
          "metadata": {},
          "output_type": "display_data"
        },
        {
          "data": {
            "text/html": [
              "<style>\n",
              "    table.wandb td:nth-child(1) { padding: 0 10px; text-align: left ; width: auto;} td:nth-child(2) {text-align: left ; width: 100%}\n",
              "    .wandb-row { display: flex; flex-direction: row; flex-wrap: wrap; justify-content: flex-start; width: 100% }\n",
              "    .wandb-col { display: flex; flex-direction: column; flex-basis: 100%; flex: 1; padding: 10px; }\n",
              "    </style>\n",
              "<div class=\"wandb-row\"><div class=\"wandb-col\"><h3>Run history:</h3><br/><table class=\"wandb\"><tr><td>epoch</td><td>▁▂▃▅▅▇█▁▃▄▅▆▇▁▂▃▄▅▆█▁▂▄▄▅▇█▁▃▄▅▆▇█▂▃▄▅▆█</td></tr></table><br/></div><div class=\"wandb-col\"><h3>Run summary:</h3><br/><table class=\"wandb\"><tr><td>epoch</td><td>89</td></tr><tr><td>mean_cv_accuracy</td><td>0.83153</td></tr><tr><td>train_auc</td><td>0.95919</td></tr><tr><td>train_ks_stat</td><td>0.79939</td></tr><tr><td>train_log_loss</td><td>0.25783</td></tr><tr><td>val_acc_0.5</td><td>0.7933</td></tr><tr><td>val_acc_best_trh</td><td>0.81564</td></tr><tr><td>val_auc</td><td>0.84183</td></tr><tr><td>val_ks_2samp</td><td>0.59196</td></tr><tr><td>val_ks_pval</td><td>0.0</td></tr><tr><td>val_log_loss</td><td>0.48077</td></tr></table><br/></div></div>"
            ],
            "text/plain": [
              "<IPython.core.display.HTML object>"
            ]
          },
          "metadata": {},
          "output_type": "display_data"
        },
        {
          "data": {
            "text/html": [
              " View run <strong style=\"color:#cdcd00\">ethereal-sweep-62</strong> at: <a href='https://wandb.ai/max-deep/titanic_survived/runs/5uhknjbu' target=\"_blank\">https://wandb.ai/max-deep/titanic_survived/runs/5uhknjbu</a><br/>Synced 4 W&B file(s), 6 media file(s), 12 artifact file(s) and 1 other file(s)"
            ],
            "text/plain": [
              "<IPython.core.display.HTML object>"
            ]
          },
          "metadata": {},
          "output_type": "display_data"
        },
        {
          "data": {
            "text/html": [
              "Find logs at: <code>.\\wandb\\run-20231005_125050-5uhknjbu\\logs</code>"
            ],
            "text/plain": [
              "<IPython.core.display.HTML object>"
            ]
          },
          "metadata": {},
          "output_type": "display_data"
        },
        {
          "name": "stderr",
          "output_type": "stream",
          "text": [
            "\u001b[34m\u001b[1mwandb\u001b[0m: Sweep Agent: Waiting for job.\n",
            "\u001b[34m\u001b[1mwandb\u001b[0m: Job received.\n",
            "\u001b[34m\u001b[1mwandb\u001b[0m: Agent Starting Run: ipvvuete with config:\n",
            "\u001b[34m\u001b[1mwandb\u001b[0m: \tcolsample_bytree: 0.7386596982532243\n",
            "\u001b[34m\u001b[1mwandb\u001b[0m: \tlearning_rate: 0.6331286313349931\n",
            "\u001b[34m\u001b[1mwandb\u001b[0m: \tmax_depth: 8\n",
            "\u001b[34m\u001b[1mwandb\u001b[0m: \tmin_child_weight: 9\n",
            "\u001b[34m\u001b[1mwandb\u001b[0m: \tn_estimators: 90\n",
            "\u001b[34m\u001b[1mwandb\u001b[0m: \tsubsample: 0.8240263983333653\n"
          ]
        },
        {
          "data": {
            "text/html": [
              "wandb version 0.15.12 is available!  To upgrade, please run:\n",
              " $ pip install wandb --upgrade"
            ],
            "text/plain": [
              "<IPython.core.display.HTML object>"
            ]
          },
          "metadata": {},
          "output_type": "display_data"
        },
        {
          "data": {
            "text/html": [
              "Tracking run with wandb version 0.15.11"
            ],
            "text/plain": [
              "<IPython.core.display.HTML object>"
            ]
          },
          "metadata": {},
          "output_type": "display_data"
        },
        {
          "data": {
            "text/html": [
              "Run data is saved locally in <code>c:\\Users\\Maxpo\\Documents\\GitHub\\tabular-data-prediction-pipeline\\wandb\\run-20231005_125133-ipvvuete</code>"
            ],
            "text/plain": [
              "<IPython.core.display.HTML object>"
            ]
          },
          "metadata": {},
          "output_type": "display_data"
        },
        {
          "data": {
            "text/html": [
              "Syncing run <strong><a href='https://wandb.ai/max-deep/titanic_survived/runs/ipvvuete' target=\"_blank\">wandering-sweep-63</a></strong> to <a href='https://wandb.ai/max-deep/titanic_survived' target=\"_blank\">Weights & Biases</a> (<a href='https://wandb.me/run' target=\"_blank\">docs</a>)<br/>Sweep page: <a href='https://wandb.ai/max-deep/titanic_survived/sweeps/6zycoh6c' target=\"_blank\">https://wandb.ai/max-deep/titanic_survived/sweeps/6zycoh6c</a>"
            ],
            "text/plain": [
              "<IPython.core.display.HTML object>"
            ]
          },
          "metadata": {},
          "output_type": "display_data"
        },
        {
          "data": {
            "text/html": [
              " View project at <a href='https://wandb.ai/max-deep/titanic_survived' target=\"_blank\">https://wandb.ai/max-deep/titanic_survived</a>"
            ],
            "text/plain": [
              "<IPython.core.display.HTML object>"
            ]
          },
          "metadata": {},
          "output_type": "display_data"
        },
        {
          "data": {
            "text/html": [
              " View sweep at <a href='https://wandb.ai/max-deep/titanic_survived/sweeps/6zycoh6c' target=\"_blank\">https://wandb.ai/max-deep/titanic_survived/sweeps/6zycoh6c</a>"
            ],
            "text/plain": [
              "<IPython.core.display.HTML object>"
            ]
          },
          "metadata": {},
          "output_type": "display_data"
        },
        {
          "data": {
            "text/html": [
              " View run at <a href='https://wandb.ai/max-deep/titanic_survived/runs/ipvvuete' target=\"_blank\">https://wandb.ai/max-deep/titanic_survived/runs/ipvvuete</a>"
            ],
            "text/plain": [
              "<IPython.core.display.HTML object>"
            ]
          },
          "metadata": {},
          "output_type": "display_data"
        },
        {
          "data": {
            "text/html": [
              "Waiting for W&B process to finish... <strong style=\"color:green\">(success).</strong>"
            ],
            "text/plain": [
              "<IPython.core.display.HTML object>"
            ]
          },
          "metadata": {},
          "output_type": "display_data"
        },
        {
          "data": {
            "text/html": [
              "<style>\n",
              "    table.wandb td:nth-child(1) { padding: 0 10px; text-align: left ; width: auto;} td:nth-child(2) {text-align: left ; width: 100%}\n",
              "    .wandb-row { display: flex; flex-direction: row; flex-wrap: wrap; justify-content: flex-start; width: 100% }\n",
              "    .wandb-col { display: flex; flex-direction: column; flex-basis: 100%; flex: 1; padding: 10px; }\n",
              "    </style>\n",
              "<div class=\"wandb-row\"><div class=\"wandb-col\"><h3>Run history:</h3><br/><table class=\"wandb\"><tr><td>epoch</td><td>▁▂▃▅▅▇█▁▃▄▅▆▇▁▂▃▄▅▆█▁▂▄▄▅▇█▁▃▄▅▆▇█▂▃▄▅▆█</td></tr></table><br/></div><div class=\"wandb-col\"><h3>Run summary:</h3><br/><table class=\"wandb\"><tr><td>epoch</td><td>89</td></tr><tr><td>mean_cv_accuracy</td><td>0.81751</td></tr><tr><td>train_auc</td><td>0.95569</td></tr><tr><td>train_ks_stat</td><td>0.77652</td></tr><tr><td>train_log_loss</td><td>0.27071</td></tr><tr><td>val_acc_0.5</td><td>0.79888</td></tr><tr><td>val_acc_best_trh</td><td>0.85475</td></tr><tr><td>val_auc</td><td>0.8392</td></tr><tr><td>val_ks_2samp</td><td>0.63939</td></tr><tr><td>val_ks_pval</td><td>0.0</td></tr><tr><td>val_log_loss</td><td>0.48054</td></tr></table><br/></div></div>"
            ],
            "text/plain": [
              "<IPython.core.display.HTML object>"
            ]
          },
          "metadata": {},
          "output_type": "display_data"
        },
        {
          "data": {
            "text/html": [
              " View run <strong style=\"color:#cdcd00\">wandering-sweep-63</strong> at: <a href='https://wandb.ai/max-deep/titanic_survived/runs/ipvvuete' target=\"_blank\">https://wandb.ai/max-deep/titanic_survived/runs/ipvvuete</a><br/>Synced 4 W&B file(s), 6 media file(s), 12 artifact file(s) and 1 other file(s)"
            ],
            "text/plain": [
              "<IPython.core.display.HTML object>"
            ]
          },
          "metadata": {},
          "output_type": "display_data"
        },
        {
          "data": {
            "text/html": [
              "Find logs at: <code>.\\wandb\\run-20231005_125133-ipvvuete\\logs</code>"
            ],
            "text/plain": [
              "<IPython.core.display.HTML object>"
            ]
          },
          "metadata": {},
          "output_type": "display_data"
        },
        {
          "name": "stderr",
          "output_type": "stream",
          "text": [
            "\u001b[34m\u001b[1mwandb\u001b[0m: Agent Starting Run: nmrrtpp0 with config:\n",
            "\u001b[34m\u001b[1mwandb\u001b[0m: \tcolsample_bytree: 0.8815130903849373\n",
            "\u001b[34m\u001b[1mwandb\u001b[0m: \tlearning_rate: 0.5309656159596777\n",
            "\u001b[34m\u001b[1mwandb\u001b[0m: \tmax_depth: 10\n",
            "\u001b[34m\u001b[1mwandb\u001b[0m: \tmin_child_weight: 10\n",
            "\u001b[34m\u001b[1mwandb\u001b[0m: \tn_estimators: 120\n",
            "\u001b[34m\u001b[1mwandb\u001b[0m: \tsubsample: 0.7266203753947454\n"
          ]
        },
        {
          "data": {
            "text/html": [
              "wandb version 0.15.12 is available!  To upgrade, please run:\n",
              " $ pip install wandb --upgrade"
            ],
            "text/plain": [
              "<IPython.core.display.HTML object>"
            ]
          },
          "metadata": {},
          "output_type": "display_data"
        },
        {
          "data": {
            "text/html": [
              "Tracking run with wandb version 0.15.11"
            ],
            "text/plain": [
              "<IPython.core.display.HTML object>"
            ]
          },
          "metadata": {},
          "output_type": "display_data"
        },
        {
          "data": {
            "text/html": [
              "Run data is saved locally in <code>c:\\Users\\Maxpo\\Documents\\GitHub\\tabular-data-prediction-pipeline\\wandb\\run-20231005_125208-nmrrtpp0</code>"
            ],
            "text/plain": [
              "<IPython.core.display.HTML object>"
            ]
          },
          "metadata": {},
          "output_type": "display_data"
        },
        {
          "data": {
            "text/html": [
              "Syncing run <strong><a href='https://wandb.ai/max-deep/titanic_survived/runs/nmrrtpp0' target=\"_blank\">skilled-sweep-64</a></strong> to <a href='https://wandb.ai/max-deep/titanic_survived' target=\"_blank\">Weights & Biases</a> (<a href='https://wandb.me/run' target=\"_blank\">docs</a>)<br/>Sweep page: <a href='https://wandb.ai/max-deep/titanic_survived/sweeps/6zycoh6c' target=\"_blank\">https://wandb.ai/max-deep/titanic_survived/sweeps/6zycoh6c</a>"
            ],
            "text/plain": [
              "<IPython.core.display.HTML object>"
            ]
          },
          "metadata": {},
          "output_type": "display_data"
        },
        {
          "data": {
            "text/html": [
              " View project at <a href='https://wandb.ai/max-deep/titanic_survived' target=\"_blank\">https://wandb.ai/max-deep/titanic_survived</a>"
            ],
            "text/plain": [
              "<IPython.core.display.HTML object>"
            ]
          },
          "metadata": {},
          "output_type": "display_data"
        },
        {
          "data": {
            "text/html": [
              " View sweep at <a href='https://wandb.ai/max-deep/titanic_survived/sweeps/6zycoh6c' target=\"_blank\">https://wandb.ai/max-deep/titanic_survived/sweeps/6zycoh6c</a>"
            ],
            "text/plain": [
              "<IPython.core.display.HTML object>"
            ]
          },
          "metadata": {},
          "output_type": "display_data"
        },
        {
          "data": {
            "text/html": [
              " View run at <a href='https://wandb.ai/max-deep/titanic_survived/runs/nmrrtpp0' target=\"_blank\">https://wandb.ai/max-deep/titanic_survived/runs/nmrrtpp0</a>"
            ],
            "text/plain": [
              "<IPython.core.display.HTML object>"
            ]
          },
          "metadata": {},
          "output_type": "display_data"
        },
        {
          "data": {
            "text/html": [
              "Waiting for W&B process to finish... <strong style=\"color:green\">(success).</strong>"
            ],
            "text/plain": [
              "<IPython.core.display.HTML object>"
            ]
          },
          "metadata": {},
          "output_type": "display_data"
        },
        {
          "data": {
            "text/html": [
              "<style>\n",
              "    table.wandb td:nth-child(1) { padding: 0 10px; text-align: left ; width: auto;} td:nth-child(2) {text-align: left ; width: 100%}\n",
              "    .wandb-row { display: flex; flex-direction: row; flex-wrap: wrap; justify-content: flex-start; width: 100% }\n",
              "    .wandb-col { display: flex; flex-direction: column; flex-basis: 100%; flex: 1; padding: 10px; }\n",
              "    </style>\n",
              "<div class=\"wandb-row\"><div class=\"wandb-col\"><h3>Run history:</h3><br/><table class=\"wandb\"><tr><td>epoch</td><td>▁▂▃▄▅▇▇▁▃▃▅▆▇█▁▃▄▅▇▇▁▂▃▅▅▇█▁▃▄▅▆▇▁▂▃▅▅▇█</td></tr></table><br/></div><div class=\"wandb-col\"><h3>Run summary:</h3><br/><table class=\"wandb\"><tr><td>epoch</td><td>119</td></tr><tr><td>mean_cv_accuracy</td><td>0.81893</td></tr><tr><td>train_auc</td><td>0.94813</td></tr><tr><td>train_ks_stat</td><td>0.7688</td></tr><tr><td>train_log_loss</td><td>0.28225</td></tr><tr><td>val_acc_0.5</td><td>0.82123</td></tr><tr><td>val_acc_best_trh</td><td>0.83799</td></tr><tr><td>val_auc</td><td>0.84677</td></tr><tr><td>val_ks_2samp</td><td>0.61752</td></tr><tr><td>val_ks_pval</td><td>0.0</td></tr><tr><td>val_log_loss</td><td>0.45885</td></tr></table><br/></div></div>"
            ],
            "text/plain": [
              "<IPython.core.display.HTML object>"
            ]
          },
          "metadata": {},
          "output_type": "display_data"
        },
        {
          "data": {
            "text/html": [
              " View run <strong style=\"color:#cdcd00\">skilled-sweep-64</strong> at: <a href='https://wandb.ai/max-deep/titanic_survived/runs/nmrrtpp0' target=\"_blank\">https://wandb.ai/max-deep/titanic_survived/runs/nmrrtpp0</a><br/>Synced 4 W&B file(s), 6 media file(s), 12 artifact file(s) and 1 other file(s)"
            ],
            "text/plain": [
              "<IPython.core.display.HTML object>"
            ]
          },
          "metadata": {},
          "output_type": "display_data"
        },
        {
          "data": {
            "text/html": [
              "Find logs at: <code>.\\wandb\\run-20231005_125208-nmrrtpp0\\logs</code>"
            ],
            "text/plain": [
              "<IPython.core.display.HTML object>"
            ]
          },
          "metadata": {},
          "output_type": "display_data"
        },
        {
          "name": "stderr",
          "output_type": "stream",
          "text": [
            "\u001b[34m\u001b[1mwandb\u001b[0m: Sweep Agent: Waiting for job.\n",
            "\u001b[34m\u001b[1mwandb\u001b[0m: Job received.\n",
            "\u001b[34m\u001b[1mwandb\u001b[0m: Agent Starting Run: k04057lb with config:\n",
            "\u001b[34m\u001b[1mwandb\u001b[0m: \tcolsample_bytree: 0.7021472987852995\n",
            "\u001b[34m\u001b[1mwandb\u001b[0m: \tlearning_rate: 0.48576322583438675\n",
            "\u001b[34m\u001b[1mwandb\u001b[0m: \tmax_depth: 8\n",
            "\u001b[34m\u001b[1mwandb\u001b[0m: \tmin_child_weight: 10\n",
            "\u001b[34m\u001b[1mwandb\u001b[0m: \tn_estimators: 120\n",
            "\u001b[34m\u001b[1mwandb\u001b[0m: \tsubsample: 0.7829872778736227\n"
          ]
        },
        {
          "data": {
            "text/html": [
              "wandb version 0.15.12 is available!  To upgrade, please run:\n",
              " $ pip install wandb --upgrade"
            ],
            "text/plain": [
              "<IPython.core.display.HTML object>"
            ]
          },
          "metadata": {},
          "output_type": "display_data"
        },
        {
          "data": {
            "text/html": [
              "Tracking run with wandb version 0.15.11"
            ],
            "text/plain": [
              "<IPython.core.display.HTML object>"
            ]
          },
          "metadata": {},
          "output_type": "display_data"
        },
        {
          "data": {
            "text/html": [
              "Run data is saved locally in <code>c:\\Users\\Maxpo\\Documents\\GitHub\\tabular-data-prediction-pipeline\\wandb\\run-20231005_125249-k04057lb</code>"
            ],
            "text/plain": [
              "<IPython.core.display.HTML object>"
            ]
          },
          "metadata": {},
          "output_type": "display_data"
        },
        {
          "data": {
            "text/html": [
              "Syncing run <strong><a href='https://wandb.ai/max-deep/titanic_survived/runs/k04057lb' target=\"_blank\">helpful-sweep-65</a></strong> to <a href='https://wandb.ai/max-deep/titanic_survived' target=\"_blank\">Weights & Biases</a> (<a href='https://wandb.me/run' target=\"_blank\">docs</a>)<br/>Sweep page: <a href='https://wandb.ai/max-deep/titanic_survived/sweeps/6zycoh6c' target=\"_blank\">https://wandb.ai/max-deep/titanic_survived/sweeps/6zycoh6c</a>"
            ],
            "text/plain": [
              "<IPython.core.display.HTML object>"
            ]
          },
          "metadata": {},
          "output_type": "display_data"
        },
        {
          "data": {
            "text/html": [
              " View project at <a href='https://wandb.ai/max-deep/titanic_survived' target=\"_blank\">https://wandb.ai/max-deep/titanic_survived</a>"
            ],
            "text/plain": [
              "<IPython.core.display.HTML object>"
            ]
          },
          "metadata": {},
          "output_type": "display_data"
        },
        {
          "data": {
            "text/html": [
              " View sweep at <a href='https://wandb.ai/max-deep/titanic_survived/sweeps/6zycoh6c' target=\"_blank\">https://wandb.ai/max-deep/titanic_survived/sweeps/6zycoh6c</a>"
            ],
            "text/plain": [
              "<IPython.core.display.HTML object>"
            ]
          },
          "metadata": {},
          "output_type": "display_data"
        },
        {
          "data": {
            "text/html": [
              " View run at <a href='https://wandb.ai/max-deep/titanic_survived/runs/k04057lb' target=\"_blank\">https://wandb.ai/max-deep/titanic_survived/runs/k04057lb</a>"
            ],
            "text/plain": [
              "<IPython.core.display.HTML object>"
            ]
          },
          "metadata": {},
          "output_type": "display_data"
        },
        {
          "data": {
            "text/html": [
              "Waiting for W&B process to finish... <strong style=\"color:green\">(success).</strong>"
            ],
            "text/plain": [
              "<IPython.core.display.HTML object>"
            ]
          },
          "metadata": {},
          "output_type": "display_data"
        },
        {
          "data": {
            "text/html": [
              "<style>\n",
              "    table.wandb td:nth-child(1) { padding: 0 10px; text-align: left ; width: auto;} td:nth-child(2) {text-align: left ; width: 100%}\n",
              "    .wandb-row { display: flex; flex-direction: row; flex-wrap: wrap; justify-content: flex-start; width: 100% }\n",
              "    .wandb-col { display: flex; flex-direction: column; flex-basis: 100%; flex: 1; padding: 10px; }\n",
              "    </style>\n",
              "<div class=\"wandb-row\"><div class=\"wandb-col\"><h3>Run history:</h3><br/><table class=\"wandb\"><tr><td>epoch</td><td>▁▂▃▄▅▇▇▁▃▃▅▆▇█▁▃▄▅▇▇▁▂▃▅▅▇█▁▃▄▅▆▇▁▂▃▅▅▇█</td></tr></table><br/></div><div class=\"wandb-col\"><h3>Run summary:</h3><br/><table class=\"wandb\"><tr><td>epoch</td><td>119</td></tr><tr><td>mean_cv_accuracy</td><td>0.81329</td></tr><tr><td>train_auc</td><td>0.94271</td></tr><tr><td>train_ks_stat</td><td>0.75633</td></tr><tr><td>train_log_loss</td><td>0.29709</td></tr><tr><td>val_acc_0.5</td><td>0.82123</td></tr><tr><td>val_acc_best_trh</td><td>0.83799</td></tr><tr><td>val_auc</td><td>0.85191</td></tr><tr><td>val_ks_2samp</td><td>0.61212</td></tr><tr><td>val_ks_pval</td><td>0.0</td></tr><tr><td>val_log_loss</td><td>0.45034</td></tr></table><br/></div></div>"
            ],
            "text/plain": [
              "<IPython.core.display.HTML object>"
            ]
          },
          "metadata": {},
          "output_type": "display_data"
        },
        {
          "data": {
            "text/html": [
              " View run <strong style=\"color:#cdcd00\">helpful-sweep-65</strong> at: <a href='https://wandb.ai/max-deep/titanic_survived/runs/k04057lb' target=\"_blank\">https://wandb.ai/max-deep/titanic_survived/runs/k04057lb</a><br/>Synced 4 W&B file(s), 6 media file(s), 12 artifact file(s) and 1 other file(s)"
            ],
            "text/plain": [
              "<IPython.core.display.HTML object>"
            ]
          },
          "metadata": {},
          "output_type": "display_data"
        },
        {
          "data": {
            "text/html": [
              "Find logs at: <code>.\\wandb\\run-20231005_125249-k04057lb\\logs</code>"
            ],
            "text/plain": [
              "<IPython.core.display.HTML object>"
            ]
          },
          "metadata": {},
          "output_type": "display_data"
        },
        {
          "name": "stderr",
          "output_type": "stream",
          "text": [
            "\u001b[34m\u001b[1mwandb\u001b[0m: Sweep Agent: Waiting for job.\n",
            "\u001b[34m\u001b[1mwandb\u001b[0m: Job received.\n",
            "\u001b[34m\u001b[1mwandb\u001b[0m: Agent Starting Run: eap1svjg with config:\n",
            "\u001b[34m\u001b[1mwandb\u001b[0m: \tcolsample_bytree: 0.7264926263494238\n",
            "\u001b[34m\u001b[1mwandb\u001b[0m: \tlearning_rate: 0.4987391516935156\n",
            "\u001b[34m\u001b[1mwandb\u001b[0m: \tmax_depth: 9\n",
            "\u001b[34m\u001b[1mwandb\u001b[0m: \tmin_child_weight: 8\n",
            "\u001b[34m\u001b[1mwandb\u001b[0m: \tn_estimators: 90\n",
            "\u001b[34m\u001b[1mwandb\u001b[0m: \tsubsample: 0.8046181647171955\n"
          ]
        },
        {
          "data": {
            "text/html": [
              "wandb version 0.15.12 is available!  To upgrade, please run:\n",
              " $ pip install wandb --upgrade"
            ],
            "text/plain": [
              "<IPython.core.display.HTML object>"
            ]
          },
          "metadata": {},
          "output_type": "display_data"
        },
        {
          "data": {
            "text/html": [
              "Tracking run with wandb version 0.15.11"
            ],
            "text/plain": [
              "<IPython.core.display.HTML object>"
            ]
          },
          "metadata": {},
          "output_type": "display_data"
        },
        {
          "data": {
            "text/html": [
              "Run data is saved locally in <code>c:\\Users\\Maxpo\\Documents\\GitHub\\tabular-data-prediction-pipeline\\wandb\\run-20231005_125331-eap1svjg</code>"
            ],
            "text/plain": [
              "<IPython.core.display.HTML object>"
            ]
          },
          "metadata": {},
          "output_type": "display_data"
        },
        {
          "data": {
            "text/html": [
              "Syncing run <strong><a href='https://wandb.ai/max-deep/titanic_survived/runs/eap1svjg' target=\"_blank\">legendary-sweep-66</a></strong> to <a href='https://wandb.ai/max-deep/titanic_survived' target=\"_blank\">Weights & Biases</a> (<a href='https://wandb.me/run' target=\"_blank\">docs</a>)<br/>Sweep page: <a href='https://wandb.ai/max-deep/titanic_survived/sweeps/6zycoh6c' target=\"_blank\">https://wandb.ai/max-deep/titanic_survived/sweeps/6zycoh6c</a>"
            ],
            "text/plain": [
              "<IPython.core.display.HTML object>"
            ]
          },
          "metadata": {},
          "output_type": "display_data"
        },
        {
          "data": {
            "text/html": [
              " View project at <a href='https://wandb.ai/max-deep/titanic_survived' target=\"_blank\">https://wandb.ai/max-deep/titanic_survived</a>"
            ],
            "text/plain": [
              "<IPython.core.display.HTML object>"
            ]
          },
          "metadata": {},
          "output_type": "display_data"
        },
        {
          "data": {
            "text/html": [
              " View sweep at <a href='https://wandb.ai/max-deep/titanic_survived/sweeps/6zycoh6c' target=\"_blank\">https://wandb.ai/max-deep/titanic_survived/sweeps/6zycoh6c</a>"
            ],
            "text/plain": [
              "<IPython.core.display.HTML object>"
            ]
          },
          "metadata": {},
          "output_type": "display_data"
        },
        {
          "data": {
            "text/html": [
              " View run at <a href='https://wandb.ai/max-deep/titanic_survived/runs/eap1svjg' target=\"_blank\">https://wandb.ai/max-deep/titanic_survived/runs/eap1svjg</a>"
            ],
            "text/plain": [
              "<IPython.core.display.HTML object>"
            ]
          },
          "metadata": {},
          "output_type": "display_data"
        },
        {
          "data": {
            "text/html": [
              "Waiting for W&B process to finish... <strong style=\"color:green\">(success).</strong>"
            ],
            "text/plain": [
              "<IPython.core.display.HTML object>"
            ]
          },
          "metadata": {},
          "output_type": "display_data"
        },
        {
          "data": {
            "text/html": [
              "<style>\n",
              "    table.wandb td:nth-child(1) { padding: 0 10px; text-align: left ; width: auto;} td:nth-child(2) {text-align: left ; width: 100%}\n",
              "    .wandb-row { display: flex; flex-direction: row; flex-wrap: wrap; justify-content: flex-start; width: 100% }\n",
              "    .wandb-col { display: flex; flex-direction: column; flex-basis: 100%; flex: 1; padding: 10px; }\n",
              "    </style>\n",
              "<div class=\"wandb-row\"><div class=\"wandb-col\"><h3>Run history:</h3><br/><table class=\"wandb\"><tr><td>epoch</td><td>▁▂▃▅▅▇█▁▃▄▅▆▇▁▂▃▄▅▆█▁▂▄▄▅▇█▁▃▄▅▆▇█▂▃▄▅▆█</td></tr></table><br/></div><div class=\"wandb-col\"><h3>Run summary:</h3><br/><table class=\"wandb\"><tr><td>epoch</td><td>89</td></tr><tr><td>mean_cv_accuracy</td><td>0.81471</td></tr><tr><td>train_auc</td><td>0.95237</td></tr><tr><td>train_ks_stat</td><td>0.7901</td></tr><tr><td>train_log_loss</td><td>0.27541</td></tr><tr><td>val_acc_0.5</td><td>0.81006</td></tr><tr><td>val_acc_best_trh</td><td>0.82682</td></tr><tr><td>val_auc</td><td>0.839</td></tr><tr><td>val_ks_2samp</td><td>0.59394</td></tr><tr><td>val_ks_pval</td><td>0.0</td></tr><tr><td>val_log_loss</td><td>0.47352</td></tr></table><br/></div></div>"
            ],
            "text/plain": [
              "<IPython.core.display.HTML object>"
            ]
          },
          "metadata": {},
          "output_type": "display_data"
        },
        {
          "data": {
            "text/html": [
              " View run <strong style=\"color:#cdcd00\">legendary-sweep-66</strong> at: <a href='https://wandb.ai/max-deep/titanic_survived/runs/eap1svjg' target=\"_blank\">https://wandb.ai/max-deep/titanic_survived/runs/eap1svjg</a><br/>Synced 4 W&B file(s), 6 media file(s), 12 artifact file(s) and 1 other file(s)"
            ],
            "text/plain": [
              "<IPython.core.display.HTML object>"
            ]
          },
          "metadata": {},
          "output_type": "display_data"
        },
        {
          "data": {
            "text/html": [
              "Find logs at: <code>.\\wandb\\run-20231005_125331-eap1svjg\\logs</code>"
            ],
            "text/plain": [
              "<IPython.core.display.HTML object>"
            ]
          },
          "metadata": {},
          "output_type": "display_data"
        },
        {
          "name": "stderr",
          "output_type": "stream",
          "text": [
            "\u001b[34m\u001b[1mwandb\u001b[0m: Agent Starting Run: 4ra8s254 with config:\n",
            "\u001b[34m\u001b[1mwandb\u001b[0m: \tcolsample_bytree: 0.912756917782268\n",
            "\u001b[34m\u001b[1mwandb\u001b[0m: \tlearning_rate: 0.5251152443193458\n",
            "\u001b[34m\u001b[1mwandb\u001b[0m: \tmax_depth: 9\n",
            "\u001b[34m\u001b[1mwandb\u001b[0m: \tmin_child_weight: 10\n",
            "\u001b[34m\u001b[1mwandb\u001b[0m: \tn_estimators: 90\n",
            "\u001b[34m\u001b[1mwandb\u001b[0m: \tsubsample: 0.7443615450764445\n"
          ]
        },
        {
          "data": {
            "text/html": [
              "wandb version 0.15.12 is available!  To upgrade, please run:\n",
              " $ pip install wandb --upgrade"
            ],
            "text/plain": [
              "<IPython.core.display.HTML object>"
            ]
          },
          "metadata": {},
          "output_type": "display_data"
        },
        {
          "data": {
            "text/html": [
              "Tracking run with wandb version 0.15.11"
            ],
            "text/plain": [
              "<IPython.core.display.HTML object>"
            ]
          },
          "metadata": {},
          "output_type": "display_data"
        },
        {
          "data": {
            "text/html": [
              "Run data is saved locally in <code>c:\\Users\\Maxpo\\Documents\\GitHub\\tabular-data-prediction-pipeline\\wandb\\run-20231005_125404-4ra8s254</code>"
            ],
            "text/plain": [
              "<IPython.core.display.HTML object>"
            ]
          },
          "metadata": {},
          "output_type": "display_data"
        },
        {
          "data": {
            "text/html": [
              "Syncing run <strong><a href='https://wandb.ai/max-deep/titanic_survived/runs/4ra8s254' target=\"_blank\">solar-sweep-67</a></strong> to <a href='https://wandb.ai/max-deep/titanic_survived' target=\"_blank\">Weights & Biases</a> (<a href='https://wandb.me/run' target=\"_blank\">docs</a>)<br/>Sweep page: <a href='https://wandb.ai/max-deep/titanic_survived/sweeps/6zycoh6c' target=\"_blank\">https://wandb.ai/max-deep/titanic_survived/sweeps/6zycoh6c</a>"
            ],
            "text/plain": [
              "<IPython.core.display.HTML object>"
            ]
          },
          "metadata": {},
          "output_type": "display_data"
        },
        {
          "data": {
            "text/html": [
              " View project at <a href='https://wandb.ai/max-deep/titanic_survived' target=\"_blank\">https://wandb.ai/max-deep/titanic_survived</a>"
            ],
            "text/plain": [
              "<IPython.core.display.HTML object>"
            ]
          },
          "metadata": {},
          "output_type": "display_data"
        },
        {
          "data": {
            "text/html": [
              " View sweep at <a href='https://wandb.ai/max-deep/titanic_survived/sweeps/6zycoh6c' target=\"_blank\">https://wandb.ai/max-deep/titanic_survived/sweeps/6zycoh6c</a>"
            ],
            "text/plain": [
              "<IPython.core.display.HTML object>"
            ]
          },
          "metadata": {},
          "output_type": "display_data"
        },
        {
          "data": {
            "text/html": [
              " View run at <a href='https://wandb.ai/max-deep/titanic_survived/runs/4ra8s254' target=\"_blank\">https://wandb.ai/max-deep/titanic_survived/runs/4ra8s254</a>"
            ],
            "text/plain": [
              "<IPython.core.display.HTML object>"
            ]
          },
          "metadata": {},
          "output_type": "display_data"
        },
        {
          "data": {
            "text/html": [
              "Waiting for W&B process to finish... <strong style=\"color:green\">(success).</strong>"
            ],
            "text/plain": [
              "<IPython.core.display.HTML object>"
            ]
          },
          "metadata": {},
          "output_type": "display_data"
        },
        {
          "data": {
            "text/html": [
              "<style>\n",
              "    table.wandb td:nth-child(1) { padding: 0 10px; text-align: left ; width: auto;} td:nth-child(2) {text-align: left ; width: 100%}\n",
              "    .wandb-row { display: flex; flex-direction: row; flex-wrap: wrap; justify-content: flex-start; width: 100% }\n",
              "    .wandb-col { display: flex; flex-direction: column; flex-basis: 100%; flex: 1; padding: 10px; }\n",
              "    </style>\n",
              "<div class=\"wandb-row\"><div class=\"wandb-col\"><h3>Run history:</h3><br/><table class=\"wandb\"><tr><td>epoch</td><td>▁▂▃▅▅▇█▁▃▄▅▆▇▁▂▃▄▅▆█▁▂▄▄▅▇█▁▃▄▅▆▇█▂▃▄▅▆█</td></tr></table><br/></div><div class=\"wandb-col\"><h3>Run summary:</h3><br/><table class=\"wandb\"><tr><td>epoch</td><td>89</td></tr><tr><td>mean_cv_accuracy</td><td>0.83156</td></tr><tr><td>train_auc</td><td>0.94447</td></tr><tr><td>train_ks_stat</td><td>0.74485</td></tr><tr><td>train_log_loss</td><td>0.29747</td></tr><tr><td>val_acc_0.5</td><td>0.80447</td></tr><tr><td>val_acc_best_trh</td><td>0.84358</td></tr><tr><td>val_auc</td><td>0.85178</td></tr><tr><td>val_ks_2samp</td><td>0.62121</td></tr><tr><td>val_ks_pval</td><td>0.0</td></tr><tr><td>val_log_loss</td><td>0.45232</td></tr></table><br/></div></div>"
            ],
            "text/plain": [
              "<IPython.core.display.HTML object>"
            ]
          },
          "metadata": {},
          "output_type": "display_data"
        },
        {
          "data": {
            "text/html": [
              " View run <strong style=\"color:#cdcd00\">solar-sweep-67</strong> at: <a href='https://wandb.ai/max-deep/titanic_survived/runs/4ra8s254' target=\"_blank\">https://wandb.ai/max-deep/titanic_survived/runs/4ra8s254</a><br/>Synced 4 W&B file(s), 6 media file(s), 12 artifact file(s) and 1 other file(s)"
            ],
            "text/plain": [
              "<IPython.core.display.HTML object>"
            ]
          },
          "metadata": {},
          "output_type": "display_data"
        },
        {
          "data": {
            "text/html": [
              "Find logs at: <code>.\\wandb\\run-20231005_125404-4ra8s254\\logs</code>"
            ],
            "text/plain": [
              "<IPython.core.display.HTML object>"
            ]
          },
          "metadata": {},
          "output_type": "display_data"
        },
        {
          "name": "stderr",
          "output_type": "stream",
          "text": [
            "\u001b[34m\u001b[1mwandb\u001b[0m: Agent Starting Run: axdje6w0 with config:\n",
            "\u001b[34m\u001b[1mwandb\u001b[0m: \tcolsample_bytree: 0.9429023033121336\n",
            "\u001b[34m\u001b[1mwandb\u001b[0m: \tlearning_rate: 0.6923682233391033\n",
            "\u001b[34m\u001b[1mwandb\u001b[0m: \tmax_depth: 9\n",
            "\u001b[34m\u001b[1mwandb\u001b[0m: \tmin_child_weight: 10\n",
            "\u001b[34m\u001b[1mwandb\u001b[0m: \tn_estimators: 60\n",
            "\u001b[34m\u001b[1mwandb\u001b[0m: \tsubsample: 0.7932653828633061\n"
          ]
        },
        {
          "data": {
            "text/html": [
              "wandb version 0.15.12 is available!  To upgrade, please run:\n",
              " $ pip install wandb --upgrade"
            ],
            "text/plain": [
              "<IPython.core.display.HTML object>"
            ]
          },
          "metadata": {},
          "output_type": "display_data"
        },
        {
          "data": {
            "text/html": [
              "Tracking run with wandb version 0.15.11"
            ],
            "text/plain": [
              "<IPython.core.display.HTML object>"
            ]
          },
          "metadata": {},
          "output_type": "display_data"
        },
        {
          "data": {
            "text/html": [
              "Run data is saved locally in <code>c:\\Users\\Maxpo\\Documents\\GitHub\\tabular-data-prediction-pipeline\\wandb\\run-20231005_125440-axdje6w0</code>"
            ],
            "text/plain": [
              "<IPython.core.display.HTML object>"
            ]
          },
          "metadata": {},
          "output_type": "display_data"
        },
        {
          "data": {
            "text/html": [
              "Syncing run <strong><a href='https://wandb.ai/max-deep/titanic_survived/runs/axdje6w0' target=\"_blank\">clean-sweep-68</a></strong> to <a href='https://wandb.ai/max-deep/titanic_survived' target=\"_blank\">Weights & Biases</a> (<a href='https://wandb.me/run' target=\"_blank\">docs</a>)<br/>Sweep page: <a href='https://wandb.ai/max-deep/titanic_survived/sweeps/6zycoh6c' target=\"_blank\">https://wandb.ai/max-deep/titanic_survived/sweeps/6zycoh6c</a>"
            ],
            "text/plain": [
              "<IPython.core.display.HTML object>"
            ]
          },
          "metadata": {},
          "output_type": "display_data"
        },
        {
          "data": {
            "text/html": [
              " View project at <a href='https://wandb.ai/max-deep/titanic_survived' target=\"_blank\">https://wandb.ai/max-deep/titanic_survived</a>"
            ],
            "text/plain": [
              "<IPython.core.display.HTML object>"
            ]
          },
          "metadata": {},
          "output_type": "display_data"
        },
        {
          "data": {
            "text/html": [
              " View sweep at <a href='https://wandb.ai/max-deep/titanic_survived/sweeps/6zycoh6c' target=\"_blank\">https://wandb.ai/max-deep/titanic_survived/sweeps/6zycoh6c</a>"
            ],
            "text/plain": [
              "<IPython.core.display.HTML object>"
            ]
          },
          "metadata": {},
          "output_type": "display_data"
        },
        {
          "data": {
            "text/html": [
              " View run at <a href='https://wandb.ai/max-deep/titanic_survived/runs/axdje6w0' target=\"_blank\">https://wandb.ai/max-deep/titanic_survived/runs/axdje6w0</a>"
            ],
            "text/plain": [
              "<IPython.core.display.HTML object>"
            ]
          },
          "metadata": {},
          "output_type": "display_data"
        },
        {
          "data": {
            "text/html": [
              "Waiting for W&B process to finish... <strong style=\"color:green\">(success).</strong>"
            ],
            "text/plain": [
              "<IPython.core.display.HTML object>"
            ]
          },
          "metadata": {},
          "output_type": "display_data"
        },
        {
          "data": {
            "text/html": [
              "<style>\n",
              "    table.wandb td:nth-child(1) { padding: 0 10px; text-align: left ; width: auto;} td:nth-child(2) {text-align: left ; width: 100%}\n",
              "    .wandb-row { display: flex; flex-direction: row; flex-wrap: wrap; justify-content: flex-start; width: 100% }\n",
              "    .wandb-col { display: flex; flex-direction: column; flex-basis: 100%; flex: 1; padding: 10px; }\n",
              "    </style>\n",
              "<div class=\"wandb-row\"><div class=\"wandb-col\"><h3>Run history:</h3><br/><table class=\"wandb\"><tr><td>epoch</td><td>▁▂▃▄▅▇▇▁▃▃▅▆▇█▁▃▄▅▇▇▁▂▃▅▅▇█▁▃▄▅▆▇▁▂▃▅▅▇█</td></tr></table><br/></div><div class=\"wandb-col\"><h3>Run summary:</h3><br/><table class=\"wandb\"><tr><td>epoch</td><td>59</td></tr><tr><td>mean_cv_accuracy</td><td>0.80627</td></tr><tr><td>train_auc</td><td>0.94254</td></tr><tr><td>train_ks_stat</td><td>0.749</td></tr><tr><td>train_log_loss</td><td>0.29776</td></tr><tr><td>val_acc_0.5</td><td>0.82682</td></tr><tr><td>val_acc_best_trh</td><td>0.84916</td></tr><tr><td>val_auc</td><td>0.86298</td></tr><tr><td>val_ks_2samp</td><td>0.6303</td></tr><tr><td>val_ks_pval</td><td>0.0</td></tr><tr><td>val_log_loss</td><td>0.43603</td></tr></table><br/></div></div>"
            ],
            "text/plain": [
              "<IPython.core.display.HTML object>"
            ]
          },
          "metadata": {},
          "output_type": "display_data"
        },
        {
          "data": {
            "text/html": [
              " View run <strong style=\"color:#cdcd00\">clean-sweep-68</strong> at: <a href='https://wandb.ai/max-deep/titanic_survived/runs/axdje6w0' target=\"_blank\">https://wandb.ai/max-deep/titanic_survived/runs/axdje6w0</a><br/>Synced 4 W&B file(s), 6 media file(s), 12 artifact file(s) and 1 other file(s)"
            ],
            "text/plain": [
              "<IPython.core.display.HTML object>"
            ]
          },
          "metadata": {},
          "output_type": "display_data"
        },
        {
          "data": {
            "text/html": [
              "Find logs at: <code>.\\wandb\\run-20231005_125440-axdje6w0\\logs</code>"
            ],
            "text/plain": [
              "<IPython.core.display.HTML object>"
            ]
          },
          "metadata": {},
          "output_type": "display_data"
        },
        {
          "name": "stderr",
          "output_type": "stream",
          "text": [
            "\u001b[34m\u001b[1mwandb\u001b[0m: Agent Starting Run: uwstvrhk with config:\n",
            "\u001b[34m\u001b[1mwandb\u001b[0m: \tcolsample_bytree: 0.6384649585718302\n",
            "\u001b[34m\u001b[1mwandb\u001b[0m: \tlearning_rate: 0.6213934879743479\n",
            "\u001b[34m\u001b[1mwandb\u001b[0m: \tmax_depth: 9\n",
            "\u001b[34m\u001b[1mwandb\u001b[0m: \tmin_child_weight: 10\n",
            "\u001b[34m\u001b[1mwandb\u001b[0m: \tn_estimators: 90\n",
            "\u001b[34m\u001b[1mwandb\u001b[0m: \tsubsample: 0.8497695409925909\n",
            "Timed out waiting for wandb service to start after 30.0 seconds. Try increasing the timeout with the `_service_wait` setting.\n",
            "Traceback (most recent call last):\n",
            "  File \"c:\\Users\\Maxpo\\Documents\\GitHub\\tabular-data-prediction-pipeline\\.venv\\lib\\site-packages\\wandb\\sdk\\wandb_init.py\", line 1166, in init\n",
            "    wi.setup(kwargs)\n",
            "  File \"c:\\Users\\Maxpo\\Documents\\GitHub\\tabular-data-prediction-pipeline\\.venv\\lib\\site-packages\\wandb\\sdk\\wandb_init.py\", line 191, in setup\n",
            "    self._wl = wandb_setup.setup(settings=setup_settings)\n",
            "  File \"c:\\Users\\Maxpo\\Documents\\GitHub\\tabular-data-prediction-pipeline\\.venv\\lib\\site-packages\\wandb\\sdk\\wandb_setup.py\", line 327, in setup\n",
            "    ret = _setup(settings=settings)\n",
            "  File \"c:\\Users\\Maxpo\\Documents\\GitHub\\tabular-data-prediction-pipeline\\.venv\\lib\\site-packages\\wandb\\sdk\\wandb_setup.py\", line 320, in _setup\n",
            "    wl = _WandbSetup(settings=settings)\n",
            "  File \"c:\\Users\\Maxpo\\Documents\\GitHub\\tabular-data-prediction-pipeline\\.venv\\lib\\site-packages\\wandb\\sdk\\wandb_setup.py\", line 303, in __init__\n",
            "    _WandbSetup._instance = _WandbSetup__WandbSetup(settings=settings, pid=pid)\n",
            "  File \"c:\\Users\\Maxpo\\Documents\\GitHub\\tabular-data-prediction-pipeline\\.venv\\lib\\site-packages\\wandb\\sdk\\wandb_setup.py\", line 114, in __init__\n",
            "    self._setup()\n",
            "  File \"c:\\Users\\Maxpo\\Documents\\GitHub\\tabular-data-prediction-pipeline\\.venv\\lib\\site-packages\\wandb\\sdk\\wandb_setup.py\", line 250, in _setup\n",
            "    self._setup_manager()\n",
            "  File \"c:\\Users\\Maxpo\\Documents\\GitHub\\tabular-data-prediction-pipeline\\.venv\\lib\\site-packages\\wandb\\sdk\\wandb_setup.py\", line 277, in _setup_manager\n",
            "    self._manager = wandb_manager._Manager(settings=self._settings)\n",
            "  File \"c:\\Users\\Maxpo\\Documents\\GitHub\\tabular-data-prediction-pipeline\\.venv\\lib\\site-packages\\wandb\\sdk\\wandb_manager.py\", line 138, in __init__\n",
            "    self._service.start()\n",
            "  File \"c:\\Users\\Maxpo\\Documents\\GitHub\\tabular-data-prediction-pipeline\\.venv\\lib\\site-packages\\wandb\\sdk\\service\\service.py\", line 258, in start\n",
            "    self._launch_server()\n",
            "  File \"c:\\Users\\Maxpo\\Documents\\GitHub\\tabular-data-prediction-pipeline\\.venv\\lib\\site-packages\\wandb\\sdk\\service\\service.py\", line 252, in _launch_server\n",
            "    _sentry.reraise(e)\n",
            "  File \"c:\\Users\\Maxpo\\Documents\\GitHub\\tabular-data-prediction-pipeline\\.venv\\lib\\site-packages\\wandb\\analytics\\sentry.py\", line 154, in reraise\n",
            "    raise exc.with_traceback(sys.exc_info()[2])\n",
            "  File \"c:\\Users\\Maxpo\\Documents\\GitHub\\tabular-data-prediction-pipeline\\.venv\\lib\\site-packages\\wandb\\sdk\\service\\service.py\", line 250, in _launch_server\n",
            "    self._wait_for_ports(fname, proc=internal_proc)\n",
            "  File \"c:\\Users\\Maxpo\\Documents\\GitHub\\tabular-data-prediction-pipeline\\.venv\\lib\\site-packages\\wandb\\sdk\\service\\service.py\", line 142, in _wait_for_ports\n",
            "    raise ServiceStartTimeoutError(\n",
            "wandb.sdk.service.service.ServiceStartTimeoutError: Timed out waiting for wandb service to start after 30.0 seconds. Try increasing the timeout with the `_service_wait` setting.\n",
            "Run uwstvrhk errored: ServiceStartTimeoutError('Timed out waiting for wandb service to start after 30.0 seconds. Try increasing the timeout with the `_service_wait` setting.')\n",
            "\u001b[34m\u001b[1mwandb\u001b[0m: \u001b[32m\u001b[41mERROR\u001b[0m Run uwstvrhk errored: ServiceStartTimeoutError('Timed out waiting for wandb service to start after 30.0 seconds. Try increasing the timeout with the `_service_wait` setting.')\n",
            "\u001b[34m\u001b[1mwandb\u001b[0m: Agent Starting Run: uwstvrhk with config:\n",
            "\u001b[34m\u001b[1mwandb\u001b[0m: \tcolsample_bytree: 0.6384649585718302\n",
            "\u001b[34m\u001b[1mwandb\u001b[0m: \tlearning_rate: 0.6213934879743479\n",
            "\u001b[34m\u001b[1mwandb\u001b[0m: \tmax_depth: 9\n",
            "\u001b[34m\u001b[1mwandb\u001b[0m: \tmin_child_weight: 10\n",
            "\u001b[34m\u001b[1mwandb\u001b[0m: \tn_estimators: 90\n",
            "\u001b[34m\u001b[1mwandb\u001b[0m: \tsubsample: 0.8497695409925909\n"
          ]
        },
        {
          "data": {
            "text/html": [
              "wandb version 0.15.12 is available!  To upgrade, please run:\n",
              " $ pip install wandb --upgrade"
            ],
            "text/plain": [
              "<IPython.core.display.HTML object>"
            ]
          },
          "metadata": {},
          "output_type": "display_data"
        },
        {
          "data": {
            "text/html": [
              "Tracking run with wandb version 0.15.11"
            ],
            "text/plain": [
              "<IPython.core.display.HTML object>"
            ]
          },
          "metadata": {},
          "output_type": "display_data"
        },
        {
          "data": {
            "text/html": [
              "Run data is saved locally in <code>c:\\Users\\Maxpo\\Documents\\GitHub\\tabular-data-prediction-pipeline\\wandb\\run-20231005_143643-uwstvrhk</code>"
            ],
            "text/plain": [
              "<IPython.core.display.HTML object>"
            ]
          },
          "metadata": {},
          "output_type": "display_data"
        },
        {
          "data": {
            "text/html": [
              "Syncing run <strong><a href='https://wandb.ai/max-deep/titanic_survived/runs/uwstvrhk' target=\"_blank\">polar-sweep-69</a></strong> to <a href='https://wandb.ai/max-deep/titanic_survived' target=\"_blank\">Weights & Biases</a> (<a href='https://wandb.me/run' target=\"_blank\">docs</a>)<br/>Sweep page: <a href='https://wandb.ai/max-deep/titanic_survived/sweeps/6zycoh6c' target=\"_blank\">https://wandb.ai/max-deep/titanic_survived/sweeps/6zycoh6c</a>"
            ],
            "text/plain": [
              "<IPython.core.display.HTML object>"
            ]
          },
          "metadata": {},
          "output_type": "display_data"
        },
        {
          "data": {
            "text/html": [
              " View project at <a href='https://wandb.ai/max-deep/titanic_survived' target=\"_blank\">https://wandb.ai/max-deep/titanic_survived</a>"
            ],
            "text/plain": [
              "<IPython.core.display.HTML object>"
            ]
          },
          "metadata": {},
          "output_type": "display_data"
        },
        {
          "data": {
            "text/html": [
              " View sweep at <a href='https://wandb.ai/max-deep/titanic_survived/sweeps/6zycoh6c' target=\"_blank\">https://wandb.ai/max-deep/titanic_survived/sweeps/6zycoh6c</a>"
            ],
            "text/plain": [
              "<IPython.core.display.HTML object>"
            ]
          },
          "metadata": {},
          "output_type": "display_data"
        },
        {
          "data": {
            "text/html": [
              " View run at <a href='https://wandb.ai/max-deep/titanic_survived/runs/uwstvrhk' target=\"_blank\">https://wandb.ai/max-deep/titanic_survived/runs/uwstvrhk</a>"
            ],
            "text/plain": [
              "<IPython.core.display.HTML object>"
            ]
          },
          "metadata": {},
          "output_type": "display_data"
        },
        {
          "data": {
            "text/html": [
              "Waiting for W&B process to finish... <strong style=\"color:green\">(success).</strong>"
            ],
            "text/plain": [
              "<IPython.core.display.HTML object>"
            ]
          },
          "metadata": {},
          "output_type": "display_data"
        },
        {
          "data": {
            "text/html": [
              "<style>\n",
              "    table.wandb td:nth-child(1) { padding: 0 10px; text-align: left ; width: auto;} td:nth-child(2) {text-align: left ; width: 100%}\n",
              "    .wandb-row { display: flex; flex-direction: row; flex-wrap: wrap; justify-content: flex-start; width: 100% }\n",
              "    .wandb-col { display: flex; flex-direction: column; flex-basis: 100%; flex: 1; padding: 10px; }\n",
              "    </style>\n",
              "<div class=\"wandb-row\"><div class=\"wandb-col\"><h3>Run history:</h3><br/><table class=\"wandb\"><tr><td>epoch</td><td>▁▂▃▅▅▇█▁▃▄▅▆▇▁▂▃▄▅▆█▁▂▄▄▅▇█▁▃▄▅▆▇█▂▃▄▅▆█</td></tr></table><br/></div><div class=\"wandb-col\"><h3>Run summary:</h3><br/><table class=\"wandb\"><tr><td>epoch</td><td>89</td></tr><tr><td>mean_cv_accuracy</td><td>0.82174</td></tr><tr><td>train_auc</td><td>0.94525</td></tr><tr><td>train_ks_stat</td><td>0.78246</td></tr><tr><td>train_log_loss</td><td>0.2933</td></tr><tr><td>val_acc_0.5</td><td>0.82682</td></tr><tr><td>val_acc_best_trh</td><td>0.84358</td></tr><tr><td>val_auc</td><td>0.84223</td></tr><tr><td>val_ks_2samp</td><td>0.62661</td></tr><tr><td>val_ks_pval</td><td>0.0</td></tr><tr><td>val_log_loss</td><td>0.46358</td></tr></table><br/></div></div>"
            ],
            "text/plain": [
              "<IPython.core.display.HTML object>"
            ]
          },
          "metadata": {},
          "output_type": "display_data"
        },
        {
          "data": {
            "text/html": [
              " View run <strong style=\"color:#cdcd00\">polar-sweep-69</strong> at: <a href='https://wandb.ai/max-deep/titanic_survived/runs/uwstvrhk' target=\"_blank\">https://wandb.ai/max-deep/titanic_survived/runs/uwstvrhk</a><br/>Synced 4 W&B file(s), 6 media file(s), 12 artifact file(s) and 1 other file(s)"
            ],
            "text/plain": [
              "<IPython.core.display.HTML object>"
            ]
          },
          "metadata": {},
          "output_type": "display_data"
        },
        {
          "data": {
            "text/html": [
              "Find logs at: <code>.\\wandb\\run-20231005_143643-uwstvrhk\\logs</code>"
            ],
            "text/plain": [
              "<IPython.core.display.HTML object>"
            ]
          },
          "metadata": {},
          "output_type": "display_data"
        },
        {
          "name": "stderr",
          "output_type": "stream",
          "text": [
            "\u001b[34m\u001b[1mwandb\u001b[0m: Agent Starting Run: p830pf5j with config:\n",
            "\u001b[34m\u001b[1mwandb\u001b[0m: \tcolsample_bytree: 0.7157223851799536\n",
            "\u001b[34m\u001b[1mwandb\u001b[0m: \tlearning_rate: 0.6111659688226546\n",
            "\u001b[34m\u001b[1mwandb\u001b[0m: \tmax_depth: 8\n",
            "\u001b[34m\u001b[1mwandb\u001b[0m: \tmin_child_weight: 10\n",
            "\u001b[34m\u001b[1mwandb\u001b[0m: \tn_estimators: 60\n",
            "\u001b[34m\u001b[1mwandb\u001b[0m: \tsubsample: 0.815485774847754\n"
          ]
        },
        {
          "data": {
            "text/html": [
              "wandb version 0.15.12 is available!  To upgrade, please run:\n",
              " $ pip install wandb --upgrade"
            ],
            "text/plain": [
              "<IPython.core.display.HTML object>"
            ]
          },
          "metadata": {},
          "output_type": "display_data"
        },
        {
          "data": {
            "text/html": [
              "Tracking run with wandb version 0.15.11"
            ],
            "text/plain": [
              "<IPython.core.display.HTML object>"
            ]
          },
          "metadata": {},
          "output_type": "display_data"
        },
        {
          "data": {
            "text/html": [
              "Run data is saved locally in <code>c:\\Users\\Maxpo\\Documents\\GitHub\\tabular-data-prediction-pipeline\\wandb\\run-20231005_143722-p830pf5j</code>"
            ],
            "text/plain": [
              "<IPython.core.display.HTML object>"
            ]
          },
          "metadata": {},
          "output_type": "display_data"
        },
        {
          "data": {
            "text/html": [
              "Syncing run <strong><a href='https://wandb.ai/max-deep/titanic_survived/runs/p830pf5j' target=\"_blank\">firm-sweep-70</a></strong> to <a href='https://wandb.ai/max-deep/titanic_survived' target=\"_blank\">Weights & Biases</a> (<a href='https://wandb.me/run' target=\"_blank\">docs</a>)<br/>Sweep page: <a href='https://wandb.ai/max-deep/titanic_survived/sweeps/6zycoh6c' target=\"_blank\">https://wandb.ai/max-deep/titanic_survived/sweeps/6zycoh6c</a>"
            ],
            "text/plain": [
              "<IPython.core.display.HTML object>"
            ]
          },
          "metadata": {},
          "output_type": "display_data"
        },
        {
          "data": {
            "text/html": [
              " View project at <a href='https://wandb.ai/max-deep/titanic_survived' target=\"_blank\">https://wandb.ai/max-deep/titanic_survived</a>"
            ],
            "text/plain": [
              "<IPython.core.display.HTML object>"
            ]
          },
          "metadata": {},
          "output_type": "display_data"
        },
        {
          "data": {
            "text/html": [
              " View sweep at <a href='https://wandb.ai/max-deep/titanic_survived/sweeps/6zycoh6c' target=\"_blank\">https://wandb.ai/max-deep/titanic_survived/sweeps/6zycoh6c</a>"
            ],
            "text/plain": [
              "<IPython.core.display.HTML object>"
            ]
          },
          "metadata": {},
          "output_type": "display_data"
        },
        {
          "data": {
            "text/html": [
              " View run at <a href='https://wandb.ai/max-deep/titanic_survived/runs/p830pf5j' target=\"_blank\">https://wandb.ai/max-deep/titanic_survived/runs/p830pf5j</a>"
            ],
            "text/plain": [
              "<IPython.core.display.HTML object>"
            ]
          },
          "metadata": {},
          "output_type": "display_data"
        },
        {
          "data": {
            "text/html": [
              "Waiting for W&B process to finish... <strong style=\"color:green\">(success).</strong>"
            ],
            "text/plain": [
              "<IPython.core.display.HTML object>"
            ]
          },
          "metadata": {},
          "output_type": "display_data"
        },
        {
          "data": {
            "text/html": [
              "<style>\n",
              "    table.wandb td:nth-child(1) { padding: 0 10px; text-align: left ; width: auto;} td:nth-child(2) {text-align: left ; width: 100%}\n",
              "    .wandb-row { display: flex; flex-direction: row; flex-wrap: wrap; justify-content: flex-start; width: 100% }\n",
              "    .wandb-col { display: flex; flex-direction: column; flex-basis: 100%; flex: 1; padding: 10px; }\n",
              "    </style>\n",
              "<div class=\"wandb-row\"><div class=\"wandb-col\"><h3>Run history:</h3><br/><table class=\"wandb\"><tr><td>epoch</td><td>▁▂▃▄▅▇▇▁▃▃▅▆▇█▁▃▄▅▇▇▁▂▃▅▅▇█▁▃▄▅▆▇▁▂▃▅▅▇█</td></tr></table><br/></div><div class=\"wandb-col\"><h3>Run summary:</h3><br/><table class=\"wandb\"><tr><td>epoch</td><td>59</td></tr><tr><td>mean_cv_accuracy</td><td>0.81468</td></tr><tr><td>train_auc</td><td>0.94152</td></tr><tr><td>train_ks_stat</td><td>0.73293</td></tr><tr><td>train_log_loss</td><td>0.30472</td></tr><tr><td>val_acc_0.5</td><td>0.81006</td></tr><tr><td>val_acc_best_trh</td><td>0.83799</td></tr><tr><td>val_auc</td><td>0.84776</td></tr><tr><td>val_ks_2samp</td><td>0.60672</td></tr><tr><td>val_ks_pval</td><td>0.0</td></tr><tr><td>val_log_loss</td><td>0.46457</td></tr></table><br/></div></div>"
            ],
            "text/plain": [
              "<IPython.core.display.HTML object>"
            ]
          },
          "metadata": {},
          "output_type": "display_data"
        },
        {
          "data": {
            "text/html": [
              " View run <strong style=\"color:#cdcd00\">firm-sweep-70</strong> at: <a href='https://wandb.ai/max-deep/titanic_survived/runs/p830pf5j' target=\"_blank\">https://wandb.ai/max-deep/titanic_survived/runs/p830pf5j</a><br/>Synced 4 W&B file(s), 6 media file(s), 12 artifact file(s) and 1 other file(s)"
            ],
            "text/plain": [
              "<IPython.core.display.HTML object>"
            ]
          },
          "metadata": {},
          "output_type": "display_data"
        },
        {
          "data": {
            "text/html": [
              "Find logs at: <code>.\\wandb\\run-20231005_143722-p830pf5j\\logs</code>"
            ],
            "text/plain": [
              "<IPython.core.display.HTML object>"
            ]
          },
          "metadata": {},
          "output_type": "display_data"
        },
        {
          "name": "stderr",
          "output_type": "stream",
          "text": [
            "\u001b[34m\u001b[1mwandb\u001b[0m: Agent Starting Run: 0t5w9by8 with config:\n",
            "\u001b[34m\u001b[1mwandb\u001b[0m: \tcolsample_bytree: 0.951055978184995\n",
            "\u001b[34m\u001b[1mwandb\u001b[0m: \tlearning_rate: 0.5719738326080347\n",
            "\u001b[34m\u001b[1mwandb\u001b[0m: \tmax_depth: 10\n",
            "\u001b[34m\u001b[1mwandb\u001b[0m: \tmin_child_weight: 10\n",
            "\u001b[34m\u001b[1mwandb\u001b[0m: \tn_estimators: 60\n",
            "\u001b[34m\u001b[1mwandb\u001b[0m: \tsubsample: 0.7671444701576717\n"
          ]
        },
        {
          "data": {
            "text/html": [
              "wandb version 0.15.12 is available!  To upgrade, please run:\n",
              " $ pip install wandb --upgrade"
            ],
            "text/plain": [
              "<IPython.core.display.HTML object>"
            ]
          },
          "metadata": {},
          "output_type": "display_data"
        },
        {
          "data": {
            "text/html": [
              "Tracking run with wandb version 0.15.11"
            ],
            "text/plain": [
              "<IPython.core.display.HTML object>"
            ]
          },
          "metadata": {},
          "output_type": "display_data"
        },
        {
          "data": {
            "text/html": [
              "Run data is saved locally in <code>c:\\Users\\Maxpo\\Documents\\GitHub\\tabular-data-prediction-pipeline\\wandb\\run-20231005_143756-0t5w9by8</code>"
            ],
            "text/plain": [
              "<IPython.core.display.HTML object>"
            ]
          },
          "metadata": {},
          "output_type": "display_data"
        },
        {
          "data": {
            "text/html": [
              "Syncing run <strong><a href='https://wandb.ai/max-deep/titanic_survived/runs/0t5w9by8' target=\"_blank\">cerulean-sweep-71</a></strong> to <a href='https://wandb.ai/max-deep/titanic_survived' target=\"_blank\">Weights & Biases</a> (<a href='https://wandb.me/run' target=\"_blank\">docs</a>)<br/>Sweep page: <a href='https://wandb.ai/max-deep/titanic_survived/sweeps/6zycoh6c' target=\"_blank\">https://wandb.ai/max-deep/titanic_survived/sweeps/6zycoh6c</a>"
            ],
            "text/plain": [
              "<IPython.core.display.HTML object>"
            ]
          },
          "metadata": {},
          "output_type": "display_data"
        },
        {
          "data": {
            "text/html": [
              " View project at <a href='https://wandb.ai/max-deep/titanic_survived' target=\"_blank\">https://wandb.ai/max-deep/titanic_survived</a>"
            ],
            "text/plain": [
              "<IPython.core.display.HTML object>"
            ]
          },
          "metadata": {},
          "output_type": "display_data"
        },
        {
          "data": {
            "text/html": [
              " View sweep at <a href='https://wandb.ai/max-deep/titanic_survived/sweeps/6zycoh6c' target=\"_blank\">https://wandb.ai/max-deep/titanic_survived/sweeps/6zycoh6c</a>"
            ],
            "text/plain": [
              "<IPython.core.display.HTML object>"
            ]
          },
          "metadata": {},
          "output_type": "display_data"
        },
        {
          "data": {
            "text/html": [
              " View run at <a href='https://wandb.ai/max-deep/titanic_survived/runs/0t5w9by8' target=\"_blank\">https://wandb.ai/max-deep/titanic_survived/runs/0t5w9by8</a>"
            ],
            "text/plain": [
              "<IPython.core.display.HTML object>"
            ]
          },
          "metadata": {},
          "output_type": "display_data"
        },
        {
          "data": {
            "text/html": [
              "Waiting for W&B process to finish... <strong style=\"color:green\">(success).</strong>"
            ],
            "text/plain": [
              "<IPython.core.display.HTML object>"
            ]
          },
          "metadata": {},
          "output_type": "display_data"
        },
        {
          "data": {
            "text/html": [
              "<style>\n",
              "    table.wandb td:nth-child(1) { padding: 0 10px; text-align: left ; width: auto;} td:nth-child(2) {text-align: left ; width: 100%}\n",
              "    .wandb-row { display: flex; flex-direction: row; flex-wrap: wrap; justify-content: flex-start; width: 100% }\n",
              "    .wandb-col { display: flex; flex-direction: column; flex-basis: 100%; flex: 1; padding: 10px; }\n",
              "    </style>\n",
              "<div class=\"wandb-row\"><div class=\"wandb-col\"><h3>Run history:</h3><br/><table class=\"wandb\"><tr><td>epoch</td><td>▁▂▃▄▅▇▇▁▃▃▅▆▇█▁▃▄▅▇▇▁▂▃▅▅▇█▁▃▄▅▆▇▁▂▃▅▅▇█</td></tr></table><br/></div><div class=\"wandb-col\"><h3>Run summary:</h3><br/><table class=\"wandb\"><tr><td>epoch</td><td>59</td></tr><tr><td>mean_cv_accuracy</td><td>0.81894</td></tr><tr><td>train_auc</td><td>0.93471</td></tr><tr><td>train_ks_stat</td><td>0.74762</td></tr><tr><td>train_log_loss</td><td>0.31225</td></tr><tr><td>val_acc_0.5</td><td>0.84358</td></tr><tr><td>val_acc_best_trh</td><td>0.84358</td></tr><tr><td>val_auc</td><td>0.84012</td></tr><tr><td>val_ks_2samp</td><td>0.63202</td></tr><tr><td>val_ks_pval</td><td>0.0</td></tr><tr><td>val_log_loss</td><td>0.45147</td></tr></table><br/></div></div>"
            ],
            "text/plain": [
              "<IPython.core.display.HTML object>"
            ]
          },
          "metadata": {},
          "output_type": "display_data"
        },
        {
          "data": {
            "text/html": [
              " View run <strong style=\"color:#cdcd00\">cerulean-sweep-71</strong> at: <a href='https://wandb.ai/max-deep/titanic_survived/runs/0t5w9by8' target=\"_blank\">https://wandb.ai/max-deep/titanic_survived/runs/0t5w9by8</a><br/>Synced 4 W&B file(s), 6 media file(s), 12 artifact file(s) and 1 other file(s)"
            ],
            "text/plain": [
              "<IPython.core.display.HTML object>"
            ]
          },
          "metadata": {},
          "output_type": "display_data"
        },
        {
          "data": {
            "text/html": [
              "Find logs at: <code>.\\wandb\\run-20231005_143756-0t5w9by8\\logs</code>"
            ],
            "text/plain": [
              "<IPython.core.display.HTML object>"
            ]
          },
          "metadata": {},
          "output_type": "display_data"
        },
        {
          "name": "stderr",
          "output_type": "stream",
          "text": [
            "\u001b[34m\u001b[1mwandb\u001b[0m: Agent Starting Run: t3mvloby with config:\n",
            "\u001b[34m\u001b[1mwandb\u001b[0m: \tcolsample_bytree: 0.9895705321569108\n",
            "\u001b[34m\u001b[1mwandb\u001b[0m: \tlearning_rate: 0.6997243193030793\n",
            "\u001b[34m\u001b[1mwandb\u001b[0m: \tmax_depth: 10\n",
            "\u001b[34m\u001b[1mwandb\u001b[0m: \tmin_child_weight: 10\n",
            "\u001b[34m\u001b[1mwandb\u001b[0m: \tn_estimators: 60\n",
            "\u001b[34m\u001b[1mwandb\u001b[0m: \tsubsample: 0.8652848268397355\n"
          ]
        },
        {
          "data": {
            "text/html": [
              "wandb version 0.15.12 is available!  To upgrade, please run:\n",
              " $ pip install wandb --upgrade"
            ],
            "text/plain": [
              "<IPython.core.display.HTML object>"
            ]
          },
          "metadata": {},
          "output_type": "display_data"
        },
        {
          "data": {
            "text/html": [
              "Tracking run with wandb version 0.15.11"
            ],
            "text/plain": [
              "<IPython.core.display.HTML object>"
            ]
          },
          "metadata": {},
          "output_type": "display_data"
        },
        {
          "data": {
            "text/html": [
              "Run data is saved locally in <code>c:\\Users\\Maxpo\\Documents\\GitHub\\tabular-data-prediction-pipeline\\wandb\\run-20231005_143830-t3mvloby</code>"
            ],
            "text/plain": [
              "<IPython.core.display.HTML object>"
            ]
          },
          "metadata": {},
          "output_type": "display_data"
        },
        {
          "data": {
            "text/html": [
              "Syncing run <strong><a href='https://wandb.ai/max-deep/titanic_survived/runs/t3mvloby' target=\"_blank\">valiant-sweep-72</a></strong> to <a href='https://wandb.ai/max-deep/titanic_survived' target=\"_blank\">Weights & Biases</a> (<a href='https://wandb.me/run' target=\"_blank\">docs</a>)<br/>Sweep page: <a href='https://wandb.ai/max-deep/titanic_survived/sweeps/6zycoh6c' target=\"_blank\">https://wandb.ai/max-deep/titanic_survived/sweeps/6zycoh6c</a>"
            ],
            "text/plain": [
              "<IPython.core.display.HTML object>"
            ]
          },
          "metadata": {},
          "output_type": "display_data"
        },
        {
          "data": {
            "text/html": [
              " View project at <a href='https://wandb.ai/max-deep/titanic_survived' target=\"_blank\">https://wandb.ai/max-deep/titanic_survived</a>"
            ],
            "text/plain": [
              "<IPython.core.display.HTML object>"
            ]
          },
          "metadata": {},
          "output_type": "display_data"
        },
        {
          "data": {
            "text/html": [
              " View sweep at <a href='https://wandb.ai/max-deep/titanic_survived/sweeps/6zycoh6c' target=\"_blank\">https://wandb.ai/max-deep/titanic_survived/sweeps/6zycoh6c</a>"
            ],
            "text/plain": [
              "<IPython.core.display.HTML object>"
            ]
          },
          "metadata": {},
          "output_type": "display_data"
        },
        {
          "data": {
            "text/html": [
              " View run at <a href='https://wandb.ai/max-deep/titanic_survived/runs/t3mvloby' target=\"_blank\">https://wandb.ai/max-deep/titanic_survived/runs/t3mvloby</a>"
            ],
            "text/plain": [
              "<IPython.core.display.HTML object>"
            ]
          },
          "metadata": {},
          "output_type": "display_data"
        },
        {
          "data": {
            "text/html": [
              "Waiting for W&B process to finish... <strong style=\"color:green\">(success).</strong>"
            ],
            "text/plain": [
              "<IPython.core.display.HTML object>"
            ]
          },
          "metadata": {},
          "output_type": "display_data"
        },
        {
          "data": {
            "text/html": [
              "<style>\n",
              "    table.wandb td:nth-child(1) { padding: 0 10px; text-align: left ; width: auto;} td:nth-child(2) {text-align: left ; width: 100%}\n",
              "    .wandb-row { display: flex; flex-direction: row; flex-wrap: wrap; justify-content: flex-start; width: 100% }\n",
              "    .wandb-col { display: flex; flex-direction: column; flex-basis: 100%; flex: 1; padding: 10px; }\n",
              "    </style>\n",
              "<div class=\"wandb-row\"><div class=\"wandb-col\"><h3>Run history:</h3><br/><table class=\"wandb\"><tr><td>epoch</td><td>▁▂▃▄▅▇▇▁▃▃▅▆▇█▁▃▄▅▇▇▁▂▃▅▅▇█▁▃▄▅▆▇▁▂▃▅▅▇█</td></tr></table><br/></div><div class=\"wandb-col\"><h3>Run summary:</h3><br/><table class=\"wandb\"><tr><td>epoch</td><td>59</td></tr><tr><td>mean_cv_accuracy</td><td>0.81745</td></tr><tr><td>train_auc</td><td>0.94307</td></tr><tr><td>train_ks_stat</td><td>0.76098</td></tr><tr><td>train_log_loss</td><td>0.30135</td></tr><tr><td>val_acc_0.5</td><td>0.81006</td></tr><tr><td>val_acc_best_trh</td><td>0.82123</td></tr><tr><td>val_auc</td><td>0.85158</td></tr><tr><td>val_ks_2samp</td><td>0.60646</td></tr><tr><td>val_ks_pval</td><td>0.0</td></tr><tr><td>val_log_loss</td><td>0.45386</td></tr></table><br/></div></div>"
            ],
            "text/plain": [
              "<IPython.core.display.HTML object>"
            ]
          },
          "metadata": {},
          "output_type": "display_data"
        },
        {
          "data": {
            "text/html": [
              " View run <strong style=\"color:#cdcd00\">valiant-sweep-72</strong> at: <a href='https://wandb.ai/max-deep/titanic_survived/runs/t3mvloby' target=\"_blank\">https://wandb.ai/max-deep/titanic_survived/runs/t3mvloby</a><br/>Synced 4 W&B file(s), 6 media file(s), 12 artifact file(s) and 1 other file(s)"
            ],
            "text/plain": [
              "<IPython.core.display.HTML object>"
            ]
          },
          "metadata": {},
          "output_type": "display_data"
        },
        {
          "data": {
            "text/html": [
              "Find logs at: <code>.\\wandb\\run-20231005_143830-t3mvloby\\logs</code>"
            ],
            "text/plain": [
              "<IPython.core.display.HTML object>"
            ]
          },
          "metadata": {},
          "output_type": "display_data"
        },
        {
          "name": "stderr",
          "output_type": "stream",
          "text": [
            "\u001b[34m\u001b[1mwandb\u001b[0m: Agent Starting Run: hl1yq1yr with config:\n",
            "\u001b[34m\u001b[1mwandb\u001b[0m: \tcolsample_bytree: 0.8081782783887304\n",
            "\u001b[34m\u001b[1mwandb\u001b[0m: \tlearning_rate: 0.6675549067142414\n",
            "\u001b[34m\u001b[1mwandb\u001b[0m: \tmax_depth: 10\n",
            "\u001b[34m\u001b[1mwandb\u001b[0m: \tmin_child_weight: 10\n",
            "\u001b[34m\u001b[1mwandb\u001b[0m: \tn_estimators: 90\n",
            "\u001b[34m\u001b[1mwandb\u001b[0m: \tsubsample: 0.7506021561049876\n"
          ]
        },
        {
          "data": {
            "text/html": [
              "wandb version 0.15.12 is available!  To upgrade, please run:\n",
              " $ pip install wandb --upgrade"
            ],
            "text/plain": [
              "<IPython.core.display.HTML object>"
            ]
          },
          "metadata": {},
          "output_type": "display_data"
        },
        {
          "data": {
            "text/html": [
              "Tracking run with wandb version 0.15.11"
            ],
            "text/plain": [
              "<IPython.core.display.HTML object>"
            ]
          },
          "metadata": {},
          "output_type": "display_data"
        },
        {
          "data": {
            "text/html": [
              "Run data is saved locally in <code>c:\\Users\\Maxpo\\Documents\\GitHub\\tabular-data-prediction-pipeline\\wandb\\run-20231005_143907-hl1yq1yr</code>"
            ],
            "text/plain": [
              "<IPython.core.display.HTML object>"
            ]
          },
          "metadata": {},
          "output_type": "display_data"
        },
        {
          "data": {
            "text/html": [
              "Syncing run <strong><a href='https://wandb.ai/max-deep/titanic_survived/runs/hl1yq1yr' target=\"_blank\">fine-sweep-73</a></strong> to <a href='https://wandb.ai/max-deep/titanic_survived' target=\"_blank\">Weights & Biases</a> (<a href='https://wandb.me/run' target=\"_blank\">docs</a>)<br/>Sweep page: <a href='https://wandb.ai/max-deep/titanic_survived/sweeps/6zycoh6c' target=\"_blank\">https://wandb.ai/max-deep/titanic_survived/sweeps/6zycoh6c</a>"
            ],
            "text/plain": [
              "<IPython.core.display.HTML object>"
            ]
          },
          "metadata": {},
          "output_type": "display_data"
        },
        {
          "data": {
            "text/html": [
              " View project at <a href='https://wandb.ai/max-deep/titanic_survived' target=\"_blank\">https://wandb.ai/max-deep/titanic_survived</a>"
            ],
            "text/plain": [
              "<IPython.core.display.HTML object>"
            ]
          },
          "metadata": {},
          "output_type": "display_data"
        },
        {
          "data": {
            "text/html": [
              " View sweep at <a href='https://wandb.ai/max-deep/titanic_survived/sweeps/6zycoh6c' target=\"_blank\">https://wandb.ai/max-deep/titanic_survived/sweeps/6zycoh6c</a>"
            ],
            "text/plain": [
              "<IPython.core.display.HTML object>"
            ]
          },
          "metadata": {},
          "output_type": "display_data"
        },
        {
          "data": {
            "text/html": [
              " View run at <a href='https://wandb.ai/max-deep/titanic_survived/runs/hl1yq1yr' target=\"_blank\">https://wandb.ai/max-deep/titanic_survived/runs/hl1yq1yr</a>"
            ],
            "text/plain": [
              "<IPython.core.display.HTML object>"
            ]
          },
          "metadata": {},
          "output_type": "display_data"
        },
        {
          "data": {
            "text/html": [
              "Waiting for W&B process to finish... <strong style=\"color:green\">(success).</strong>"
            ],
            "text/plain": [
              "<IPython.core.display.HTML object>"
            ]
          },
          "metadata": {},
          "output_type": "display_data"
        },
        {
          "data": {
            "text/html": [
              "<style>\n",
              "    table.wandb td:nth-child(1) { padding: 0 10px; text-align: left ; width: auto;} td:nth-child(2) {text-align: left ; width: 100%}\n",
              "    .wandb-row { display: flex; flex-direction: row; flex-wrap: wrap; justify-content: flex-start; width: 100% }\n",
              "    .wandb-col { display: flex; flex-direction: column; flex-basis: 100%; flex: 1; padding: 10px; }\n",
              "    </style>\n",
              "<div class=\"wandb-row\"><div class=\"wandb-col\"><h3>Run history:</h3><br/><table class=\"wandb\"><tr><td>epoch</td><td>▁▂▃▅▅▇█▁▃▄▅▆▇▁▂▃▄▅▆█▁▂▄▄▅▇█▁▃▄▅▆▇█▂▃▄▅▆█</td></tr></table><br/></div><div class=\"wandb-col\"><h3>Run summary:</h3><br/><table class=\"wandb\"><tr><td>epoch</td><td>89</td></tr><tr><td>mean_cv_accuracy</td><td>0.82877</td></tr><tr><td>train_auc</td><td>0.94869</td></tr><tr><td>train_ks_stat</td><td>0.77197</td></tr><tr><td>train_log_loss</td><td>0.28914</td></tr><tr><td>val_acc_0.5</td><td>0.81006</td></tr><tr><td>val_acc_best_trh</td><td>0.84358</td></tr><tr><td>val_auc</td><td>0.82997</td></tr><tr><td>val_ks_2samp</td><td>0.62121</td></tr><tr><td>val_ks_pval</td><td>0.0</td></tr><tr><td>val_log_loss</td><td>0.4844</td></tr></table><br/></div></div>"
            ],
            "text/plain": [
              "<IPython.core.display.HTML object>"
            ]
          },
          "metadata": {},
          "output_type": "display_data"
        },
        {
          "data": {
            "text/html": [
              " View run <strong style=\"color:#cdcd00\">fine-sweep-73</strong> at: <a href='https://wandb.ai/max-deep/titanic_survived/runs/hl1yq1yr' target=\"_blank\">https://wandb.ai/max-deep/titanic_survived/runs/hl1yq1yr</a><br/>Synced 4 W&B file(s), 6 media file(s), 12 artifact file(s) and 1 other file(s)"
            ],
            "text/plain": [
              "<IPython.core.display.HTML object>"
            ]
          },
          "metadata": {},
          "output_type": "display_data"
        },
        {
          "data": {
            "text/html": [
              "Find logs at: <code>.\\wandb\\run-20231005_143907-hl1yq1yr\\logs</code>"
            ],
            "text/plain": [
              "<IPython.core.display.HTML object>"
            ]
          },
          "metadata": {},
          "output_type": "display_data"
        },
        {
          "name": "stderr",
          "output_type": "stream",
          "text": [
            "\u001b[34m\u001b[1mwandb\u001b[0m: Agent Starting Run: kfpmzekt with config:\n",
            "\u001b[34m\u001b[1mwandb\u001b[0m: \tcolsample_bytree: 0.6331988858550557\n",
            "\u001b[34m\u001b[1mwandb\u001b[0m: \tlearning_rate: 0.6717428155184243\n",
            "\u001b[34m\u001b[1mwandb\u001b[0m: \tmax_depth: 7\n",
            "\u001b[34m\u001b[1mwandb\u001b[0m: \tmin_child_weight: 10\n",
            "\u001b[34m\u001b[1mwandb\u001b[0m: \tn_estimators: 90\n",
            "\u001b[34m\u001b[1mwandb\u001b[0m: \tsubsample: 0.8720657977128272\n"
          ]
        },
        {
          "data": {
            "text/html": [
              "wandb version 0.15.12 is available!  To upgrade, please run:\n",
              " $ pip install wandb --upgrade"
            ],
            "text/plain": [
              "<IPython.core.display.HTML object>"
            ]
          },
          "metadata": {},
          "output_type": "display_data"
        },
        {
          "data": {
            "text/html": [
              "Tracking run with wandb version 0.15.11"
            ],
            "text/plain": [
              "<IPython.core.display.HTML object>"
            ]
          },
          "metadata": {},
          "output_type": "display_data"
        },
        {
          "data": {
            "text/html": [
              "Run data is saved locally in <code>c:\\Users\\Maxpo\\Documents\\GitHub\\tabular-data-prediction-pipeline\\wandb\\run-20231005_143944-kfpmzekt</code>"
            ],
            "text/plain": [
              "<IPython.core.display.HTML object>"
            ]
          },
          "metadata": {},
          "output_type": "display_data"
        },
        {
          "data": {
            "text/html": [
              "Syncing run <strong><a href='https://wandb.ai/max-deep/titanic_survived/runs/kfpmzekt' target=\"_blank\">leafy-sweep-74</a></strong> to <a href='https://wandb.ai/max-deep/titanic_survived' target=\"_blank\">Weights & Biases</a> (<a href='https://wandb.me/run' target=\"_blank\">docs</a>)<br/>Sweep page: <a href='https://wandb.ai/max-deep/titanic_survived/sweeps/6zycoh6c' target=\"_blank\">https://wandb.ai/max-deep/titanic_survived/sweeps/6zycoh6c</a>"
            ],
            "text/plain": [
              "<IPython.core.display.HTML object>"
            ]
          },
          "metadata": {},
          "output_type": "display_data"
        },
        {
          "data": {
            "text/html": [
              " View project at <a href='https://wandb.ai/max-deep/titanic_survived' target=\"_blank\">https://wandb.ai/max-deep/titanic_survived</a>"
            ],
            "text/plain": [
              "<IPython.core.display.HTML object>"
            ]
          },
          "metadata": {},
          "output_type": "display_data"
        },
        {
          "data": {
            "text/html": [
              " View sweep at <a href='https://wandb.ai/max-deep/titanic_survived/sweeps/6zycoh6c' target=\"_blank\">https://wandb.ai/max-deep/titanic_survived/sweeps/6zycoh6c</a>"
            ],
            "text/plain": [
              "<IPython.core.display.HTML object>"
            ]
          },
          "metadata": {},
          "output_type": "display_data"
        },
        {
          "data": {
            "text/html": [
              " View run at <a href='https://wandb.ai/max-deep/titanic_survived/runs/kfpmzekt' target=\"_blank\">https://wandb.ai/max-deep/titanic_survived/runs/kfpmzekt</a>"
            ],
            "text/plain": [
              "<IPython.core.display.HTML object>"
            ]
          },
          "metadata": {},
          "output_type": "display_data"
        },
        {
          "data": {
            "text/html": [
              "Waiting for W&B process to finish... <strong style=\"color:green\">(success).</strong>"
            ],
            "text/plain": [
              "<IPython.core.display.HTML object>"
            ]
          },
          "metadata": {},
          "output_type": "display_data"
        },
        {
          "data": {
            "text/html": [
              "<style>\n",
              "    table.wandb td:nth-child(1) { padding: 0 10px; text-align: left ; width: auto;} td:nth-child(2) {text-align: left ; width: 100%}\n",
              "    .wandb-row { display: flex; flex-direction: row; flex-wrap: wrap; justify-content: flex-start; width: 100% }\n",
              "    .wandb-col { display: flex; flex-direction: column; flex-basis: 100%; flex: 1; padding: 10px; }\n",
              "    </style>\n",
              "<div class=\"wandb-row\"><div class=\"wandb-col\"><h3>Run history:</h3><br/><table class=\"wandb\"><tr><td>epoch</td><td>▁▂▃▅▅▇█▁▃▄▅▆▇▁▂▃▄▅▆█▁▂▄▄▅▇█▁▃▄▅▆▇█▂▃▄▅▆█</td></tr></table><br/></div><div class=\"wandb-col\"><h3>Run summary:</h3><br/><table class=\"wandb\"><tr><td>epoch</td><td>89</td></tr><tr><td>mean_cv_accuracy</td><td>0.82172</td></tr><tr><td>train_auc</td><td>0.9438</td></tr><tr><td>train_ks_stat</td><td>0.77</td></tr><tr><td>train_log_loss</td><td>0.29757</td></tr><tr><td>val_acc_0.5</td><td>0.82682</td></tr><tr><td>val_acc_best_trh</td><td>0.84358</td></tr><tr><td>val_auc</td><td>0.85534</td></tr><tr><td>val_ks_2samp</td><td>0.63202</td></tr><tr><td>val_ks_pval</td><td>0.0</td></tr><tr><td>val_log_loss</td><td>0.45227</td></tr></table><br/></div></div>"
            ],
            "text/plain": [
              "<IPython.core.display.HTML object>"
            ]
          },
          "metadata": {},
          "output_type": "display_data"
        },
        {
          "data": {
            "text/html": [
              " View run <strong style=\"color:#cdcd00\">leafy-sweep-74</strong> at: <a href='https://wandb.ai/max-deep/titanic_survived/runs/kfpmzekt' target=\"_blank\">https://wandb.ai/max-deep/titanic_survived/runs/kfpmzekt</a><br/>Synced 4 W&B file(s), 6 media file(s), 12 artifact file(s) and 1 other file(s)"
            ],
            "text/plain": [
              "<IPython.core.display.HTML object>"
            ]
          },
          "metadata": {},
          "output_type": "display_data"
        },
        {
          "data": {
            "text/html": [
              "Find logs at: <code>.\\wandb\\run-20231005_143944-kfpmzekt\\logs</code>"
            ],
            "text/plain": [
              "<IPython.core.display.HTML object>"
            ]
          },
          "metadata": {},
          "output_type": "display_data"
        },
        {
          "name": "stderr",
          "output_type": "stream",
          "text": [
            "\u001b[34m\u001b[1mwandb\u001b[0m: Agent Starting Run: ygqxgp4b with config:\n",
            "\u001b[34m\u001b[1mwandb\u001b[0m: \tcolsample_bytree: 0.8742839472751363\n",
            "\u001b[34m\u001b[1mwandb\u001b[0m: \tlearning_rate: 0.9201397108441616\n",
            "\u001b[34m\u001b[1mwandb\u001b[0m: \tmax_depth: 10\n",
            "\u001b[34m\u001b[1mwandb\u001b[0m: \tmin_child_weight: 10\n",
            "\u001b[34m\u001b[1mwandb\u001b[0m: \tn_estimators: 60\n",
            "\u001b[34m\u001b[1mwandb\u001b[0m: \tsubsample: 0.7250938563068797\n"
          ]
        },
        {
          "data": {
            "text/html": [
              "wandb version 0.15.12 is available!  To upgrade, please run:\n",
              " $ pip install wandb --upgrade"
            ],
            "text/plain": [
              "<IPython.core.display.HTML object>"
            ]
          },
          "metadata": {},
          "output_type": "display_data"
        },
        {
          "data": {
            "text/html": [
              "Tracking run with wandb version 0.15.11"
            ],
            "text/plain": [
              "<IPython.core.display.HTML object>"
            ]
          },
          "metadata": {},
          "output_type": "display_data"
        },
        {
          "data": {
            "text/html": [
              "Run data is saved locally in <code>c:\\Users\\Maxpo\\Documents\\GitHub\\tabular-data-prediction-pipeline\\wandb\\run-20231005_144021-ygqxgp4b</code>"
            ],
            "text/plain": [
              "<IPython.core.display.HTML object>"
            ]
          },
          "metadata": {},
          "output_type": "display_data"
        },
        {
          "data": {
            "text/html": [
              "Syncing run <strong><a href='https://wandb.ai/max-deep/titanic_survived/runs/ygqxgp4b' target=\"_blank\">eternal-sweep-75</a></strong> to <a href='https://wandb.ai/max-deep/titanic_survived' target=\"_blank\">Weights & Biases</a> (<a href='https://wandb.me/run' target=\"_blank\">docs</a>)<br/>Sweep page: <a href='https://wandb.ai/max-deep/titanic_survived/sweeps/6zycoh6c' target=\"_blank\">https://wandb.ai/max-deep/titanic_survived/sweeps/6zycoh6c</a>"
            ],
            "text/plain": [
              "<IPython.core.display.HTML object>"
            ]
          },
          "metadata": {},
          "output_type": "display_data"
        },
        {
          "data": {
            "text/html": [
              " View project at <a href='https://wandb.ai/max-deep/titanic_survived' target=\"_blank\">https://wandb.ai/max-deep/titanic_survived</a>"
            ],
            "text/plain": [
              "<IPython.core.display.HTML object>"
            ]
          },
          "metadata": {},
          "output_type": "display_data"
        },
        {
          "data": {
            "text/html": [
              " View sweep at <a href='https://wandb.ai/max-deep/titanic_survived/sweeps/6zycoh6c' target=\"_blank\">https://wandb.ai/max-deep/titanic_survived/sweeps/6zycoh6c</a>"
            ],
            "text/plain": [
              "<IPython.core.display.HTML object>"
            ]
          },
          "metadata": {},
          "output_type": "display_data"
        },
        {
          "data": {
            "text/html": [
              " View run at <a href='https://wandb.ai/max-deep/titanic_survived/runs/ygqxgp4b' target=\"_blank\">https://wandb.ai/max-deep/titanic_survived/runs/ygqxgp4b</a>"
            ],
            "text/plain": [
              "<IPython.core.display.HTML object>"
            ]
          },
          "metadata": {},
          "output_type": "display_data"
        },
        {
          "data": {
            "text/html": [
              "Waiting for W&B process to finish... <strong style=\"color:green\">(success).</strong>"
            ],
            "text/plain": [
              "<IPython.core.display.HTML object>"
            ]
          },
          "metadata": {},
          "output_type": "display_data"
        },
        {
          "data": {
            "text/html": [
              "<style>\n",
              "    table.wandb td:nth-child(1) { padding: 0 10px; text-align: left ; width: auto;} td:nth-child(2) {text-align: left ; width: 100%}\n",
              "    .wandb-row { display: flex; flex-direction: row; flex-wrap: wrap; justify-content: flex-start; width: 100% }\n",
              "    .wandb-col { display: flex; flex-direction: column; flex-basis: 100%; flex: 1; padding: 10px; }\n",
              "    </style>\n",
              "<div class=\"wandb-row\"><div class=\"wandb-col\"><h3>Run history:</h3><br/><table class=\"wandb\"><tr><td>epoch</td><td>▁▂▃▄▅▇▇▁▃▃▅▆▇█▁▃▄▅▇▇▁▂▃▅▅▇█▁▃▄▅▆▇▁▂▃▅▅▇█</td></tr></table><br/></div><div class=\"wandb-col\"><h3>Run summary:</h3><br/><table class=\"wandb\"><tr><td>epoch</td><td>59</td></tr><tr><td>mean_cv_accuracy</td><td>0.82735</td></tr><tr><td>train_auc</td><td>0.9373</td></tr><tr><td>train_ks_stat</td><td>0.73463</td></tr><tr><td>train_log_loss</td><td>0.30667</td></tr><tr><td>val_acc_0.5</td><td>0.81564</td></tr><tr><td>val_acc_best_trh</td><td>0.82682</td></tr><tr><td>val_auc</td><td>0.83235</td></tr><tr><td>val_ks_2samp</td><td>0.59394</td></tr><tr><td>val_ks_pval</td><td>0.0</td></tr><tr><td>val_log_loss</td><td>0.49576</td></tr></table><br/></div></div>"
            ],
            "text/plain": [
              "<IPython.core.display.HTML object>"
            ]
          },
          "metadata": {},
          "output_type": "display_data"
        },
        {
          "data": {
            "text/html": [
              " View run <strong style=\"color:#cdcd00\">eternal-sweep-75</strong> at: <a href='https://wandb.ai/max-deep/titanic_survived/runs/ygqxgp4b' target=\"_blank\">https://wandb.ai/max-deep/titanic_survived/runs/ygqxgp4b</a><br/>Synced 4 W&B file(s), 6 media file(s), 12 artifact file(s) and 1 other file(s)"
            ],
            "text/plain": [
              "<IPython.core.display.HTML object>"
            ]
          },
          "metadata": {},
          "output_type": "display_data"
        },
        {
          "data": {
            "text/html": [
              "Find logs at: <code>.\\wandb\\run-20231005_144021-ygqxgp4b\\logs</code>"
            ],
            "text/plain": [
              "<IPython.core.display.HTML object>"
            ]
          },
          "metadata": {},
          "output_type": "display_data"
        },
        {
          "name": "stderr",
          "output_type": "stream",
          "text": [
            "\u001b[34m\u001b[1mwandb\u001b[0m: Agent Starting Run: tn4r4zcp with config:\n",
            "\u001b[34m\u001b[1mwandb\u001b[0m: \tcolsample_bytree: 0.8517134331316845\n",
            "\u001b[34m\u001b[1mwandb\u001b[0m: \tlearning_rate: 0.6562006955020389\n",
            "\u001b[34m\u001b[1mwandb\u001b[0m: \tmax_depth: 9\n",
            "\u001b[34m\u001b[1mwandb\u001b[0m: \tmin_child_weight: 10\n",
            "\u001b[34m\u001b[1mwandb\u001b[0m: \tn_estimators: 90\n",
            "\u001b[34m\u001b[1mwandb\u001b[0m: \tsubsample: 0.7720482647885303\n"
          ]
        },
        {
          "data": {
            "text/html": [
              "wandb version 0.15.12 is available!  To upgrade, please run:\n",
              " $ pip install wandb --upgrade"
            ],
            "text/plain": [
              "<IPython.core.display.HTML object>"
            ]
          },
          "metadata": {},
          "output_type": "display_data"
        },
        {
          "data": {
            "text/html": [
              "Tracking run with wandb version 0.15.11"
            ],
            "text/plain": [
              "<IPython.core.display.HTML object>"
            ]
          },
          "metadata": {},
          "output_type": "display_data"
        },
        {
          "data": {
            "text/html": [
              "Run data is saved locally in <code>c:\\Users\\Maxpo\\Documents\\GitHub\\tabular-data-prediction-pipeline\\wandb\\run-20231005_144052-tn4r4zcp</code>"
            ],
            "text/plain": [
              "<IPython.core.display.HTML object>"
            ]
          },
          "metadata": {},
          "output_type": "display_data"
        },
        {
          "data": {
            "text/html": [
              "Syncing run <strong><a href='https://wandb.ai/max-deep/titanic_survived/runs/tn4r4zcp' target=\"_blank\">worthy-sweep-76</a></strong> to <a href='https://wandb.ai/max-deep/titanic_survived' target=\"_blank\">Weights & Biases</a> (<a href='https://wandb.me/run' target=\"_blank\">docs</a>)<br/>Sweep page: <a href='https://wandb.ai/max-deep/titanic_survived/sweeps/6zycoh6c' target=\"_blank\">https://wandb.ai/max-deep/titanic_survived/sweeps/6zycoh6c</a>"
            ],
            "text/plain": [
              "<IPython.core.display.HTML object>"
            ]
          },
          "metadata": {},
          "output_type": "display_data"
        },
        {
          "data": {
            "text/html": [
              " View project at <a href='https://wandb.ai/max-deep/titanic_survived' target=\"_blank\">https://wandb.ai/max-deep/titanic_survived</a>"
            ],
            "text/plain": [
              "<IPython.core.display.HTML object>"
            ]
          },
          "metadata": {},
          "output_type": "display_data"
        },
        {
          "data": {
            "text/html": [
              " View sweep at <a href='https://wandb.ai/max-deep/titanic_survived/sweeps/6zycoh6c' target=\"_blank\">https://wandb.ai/max-deep/titanic_survived/sweeps/6zycoh6c</a>"
            ],
            "text/plain": [
              "<IPython.core.display.HTML object>"
            ]
          },
          "metadata": {},
          "output_type": "display_data"
        },
        {
          "data": {
            "text/html": [
              " View run at <a href='https://wandb.ai/max-deep/titanic_survived/runs/tn4r4zcp' target=\"_blank\">https://wandb.ai/max-deep/titanic_survived/runs/tn4r4zcp</a>"
            ],
            "text/plain": [
              "<IPython.core.display.HTML object>"
            ]
          },
          "metadata": {},
          "output_type": "display_data"
        },
        {
          "data": {
            "text/html": [
              "Waiting for W&B process to finish... <strong style=\"color:green\">(success).</strong>"
            ],
            "text/plain": [
              "<IPython.core.display.HTML object>"
            ]
          },
          "metadata": {},
          "output_type": "display_data"
        },
        {
          "data": {
            "text/html": [
              "<style>\n",
              "    table.wandb td:nth-child(1) { padding: 0 10px; text-align: left ; width: auto;} td:nth-child(2) {text-align: left ; width: 100%}\n",
              "    .wandb-row { display: flex; flex-direction: row; flex-wrap: wrap; justify-content: flex-start; width: 100% }\n",
              "    .wandb-col { display: flex; flex-direction: column; flex-basis: 100%; flex: 1; padding: 10px; }\n",
              "    </style>\n",
              "<div class=\"wandb-row\"><div class=\"wandb-col\"><h3>Run history:</h3><br/><table class=\"wandb\"><tr><td>epoch</td><td>▁▂▃▅▅▇█▁▃▄▅▆▇▁▂▃▄▅▆█▁▂▄▄▅▇█▁▃▄▅▆▇█▂▃▄▅▆█</td></tr></table><br/></div><div class=\"wandb-col\"><h3>Run summary:</h3><br/><table class=\"wandb\"><tr><td>epoch</td><td>89</td></tr><tr><td>mean_cv_accuracy</td><td>0.81891</td></tr><tr><td>train_auc</td><td>0.94864</td></tr><tr><td>train_ks_stat</td><td>0.7792</td></tr><tr><td>train_log_loss</td><td>0.28474</td></tr><tr><td>val_acc_0.5</td><td>0.8324</td></tr><tr><td>val_acc_best_trh</td><td>0.83799</td></tr><tr><td>val_auc</td><td>0.84895</td></tr><tr><td>val_ks_2samp</td><td>0.62833</td></tr><tr><td>val_ks_pval</td><td>0.0</td></tr><tr><td>val_log_loss</td><td>0.45509</td></tr></table><br/></div></div>"
            ],
            "text/plain": [
              "<IPython.core.display.HTML object>"
            ]
          },
          "metadata": {},
          "output_type": "display_data"
        },
        {
          "data": {
            "text/html": [
              " View run <strong style=\"color:#cdcd00\">worthy-sweep-76</strong> at: <a href='https://wandb.ai/max-deep/titanic_survived/runs/tn4r4zcp' target=\"_blank\">https://wandb.ai/max-deep/titanic_survived/runs/tn4r4zcp</a><br/>Synced 4 W&B file(s), 6 media file(s), 12 artifact file(s) and 1 other file(s)"
            ],
            "text/plain": [
              "<IPython.core.display.HTML object>"
            ]
          },
          "metadata": {},
          "output_type": "display_data"
        },
        {
          "data": {
            "text/html": [
              "Find logs at: <code>.\\wandb\\run-20231005_144052-tn4r4zcp\\logs</code>"
            ],
            "text/plain": [
              "<IPython.core.display.HTML object>"
            ]
          },
          "metadata": {},
          "output_type": "display_data"
        },
        {
          "name": "stderr",
          "output_type": "stream",
          "text": [
            "\u001b[34m\u001b[1mwandb\u001b[0m: Agent Starting Run: pjx85v8q with config:\n",
            "\u001b[34m\u001b[1mwandb\u001b[0m: \tcolsample_bytree: 0.8614226904779885\n",
            "\u001b[34m\u001b[1mwandb\u001b[0m: \tlearning_rate: 0.5107134898270455\n",
            "\u001b[34m\u001b[1mwandb\u001b[0m: \tmax_depth: 10\n",
            "\u001b[34m\u001b[1mwandb\u001b[0m: \tmin_child_weight: 10\n",
            "\u001b[34m\u001b[1mwandb\u001b[0m: \tn_estimators: 90\n",
            "\u001b[34m\u001b[1mwandb\u001b[0m: \tsubsample: 0.7843352300351742\n"
          ]
        },
        {
          "data": {
            "text/html": [
              "wandb version 0.15.12 is available!  To upgrade, please run:\n",
              " $ pip install wandb --upgrade"
            ],
            "text/plain": [
              "<IPython.core.display.HTML object>"
            ]
          },
          "metadata": {},
          "output_type": "display_data"
        },
        {
          "data": {
            "text/html": [
              "Tracking run with wandb version 0.15.11"
            ],
            "text/plain": [
              "<IPython.core.display.HTML object>"
            ]
          },
          "metadata": {},
          "output_type": "display_data"
        },
        {
          "data": {
            "text/html": [
              "Run data is saved locally in <code>c:\\Users\\Maxpo\\Documents\\GitHub\\tabular-data-prediction-pipeline\\wandb\\run-20231005_144128-pjx85v8q</code>"
            ],
            "text/plain": [
              "<IPython.core.display.HTML object>"
            ]
          },
          "metadata": {},
          "output_type": "display_data"
        },
        {
          "data": {
            "text/html": [
              "Syncing run <strong><a href='https://wandb.ai/max-deep/titanic_survived/runs/pjx85v8q' target=\"_blank\">deft-sweep-77</a></strong> to <a href='https://wandb.ai/max-deep/titanic_survived' target=\"_blank\">Weights & Biases</a> (<a href='https://wandb.me/run' target=\"_blank\">docs</a>)<br/>Sweep page: <a href='https://wandb.ai/max-deep/titanic_survived/sweeps/6zycoh6c' target=\"_blank\">https://wandb.ai/max-deep/titanic_survived/sweeps/6zycoh6c</a>"
            ],
            "text/plain": [
              "<IPython.core.display.HTML object>"
            ]
          },
          "metadata": {},
          "output_type": "display_data"
        },
        {
          "data": {
            "text/html": [
              " View project at <a href='https://wandb.ai/max-deep/titanic_survived' target=\"_blank\">https://wandb.ai/max-deep/titanic_survived</a>"
            ],
            "text/plain": [
              "<IPython.core.display.HTML object>"
            ]
          },
          "metadata": {},
          "output_type": "display_data"
        },
        {
          "data": {
            "text/html": [
              " View sweep at <a href='https://wandb.ai/max-deep/titanic_survived/sweeps/6zycoh6c' target=\"_blank\">https://wandb.ai/max-deep/titanic_survived/sweeps/6zycoh6c</a>"
            ],
            "text/plain": [
              "<IPython.core.display.HTML object>"
            ]
          },
          "metadata": {},
          "output_type": "display_data"
        },
        {
          "data": {
            "text/html": [
              " View run at <a href='https://wandb.ai/max-deep/titanic_survived/runs/pjx85v8q' target=\"_blank\">https://wandb.ai/max-deep/titanic_survived/runs/pjx85v8q</a>"
            ],
            "text/plain": [
              "<IPython.core.display.HTML object>"
            ]
          },
          "metadata": {},
          "output_type": "display_data"
        },
        {
          "data": {
            "text/html": [
              "Waiting for W&B process to finish... <strong style=\"color:green\">(success).</strong>"
            ],
            "text/plain": [
              "<IPython.core.display.HTML object>"
            ]
          },
          "metadata": {},
          "output_type": "display_data"
        },
        {
          "data": {
            "text/html": [
              "<style>\n",
              "    table.wandb td:nth-child(1) { padding: 0 10px; text-align: left ; width: auto;} td:nth-child(2) {text-align: left ; width: 100%}\n",
              "    .wandb-row { display: flex; flex-direction: row; flex-wrap: wrap; justify-content: flex-start; width: 100% }\n",
              "    .wandb-col { display: flex; flex-direction: column; flex-basis: 100%; flex: 1; padding: 10px; }\n",
              "    </style>\n",
              "<div class=\"wandb-row\"><div class=\"wandb-col\"><h3>Run history:</h3><br/><table class=\"wandb\"><tr><td>epoch</td><td>▁▂▃▅▅▇█▁▃▄▅▆▇▁▂▃▄▅▆█▁▂▄▄▅▇█▁▃▄▅▆▇█▂▃▄▅▆█</td></tr></table><br/></div><div class=\"wandb-col\"><h3>Run summary:</h3><br/><table class=\"wandb\"><tr><td>epoch</td><td>89</td></tr><tr><td>mean_cv_accuracy</td><td>0.82874</td></tr><tr><td>train_auc</td><td>0.94074</td></tr><tr><td>train_ks_stat</td><td>0.75218</td></tr><tr><td>train_log_loss</td><td>0.30149</td></tr><tr><td>val_acc_0.5</td><td>0.83799</td></tr><tr><td>val_acc_best_trh</td><td>0.84358</td></tr><tr><td>val_auc</td><td>0.85033</td></tr><tr><td>val_ks_2samp</td><td>0.62661</td></tr><tr><td>val_ks_pval</td><td>0.0</td></tr><tr><td>val_log_loss</td><td>0.45019</td></tr></table><br/></div></div>"
            ],
            "text/plain": [
              "<IPython.core.display.HTML object>"
            ]
          },
          "metadata": {},
          "output_type": "display_data"
        },
        {
          "data": {
            "text/html": [
              " View run <strong style=\"color:#cdcd00\">deft-sweep-77</strong> at: <a href='https://wandb.ai/max-deep/titanic_survived/runs/pjx85v8q' target=\"_blank\">https://wandb.ai/max-deep/titanic_survived/runs/pjx85v8q</a><br/>Synced 4 W&B file(s), 6 media file(s), 12 artifact file(s) and 1 other file(s)"
            ],
            "text/plain": [
              "<IPython.core.display.HTML object>"
            ]
          },
          "metadata": {},
          "output_type": "display_data"
        },
        {
          "data": {
            "text/html": [
              "Find logs at: <code>.\\wandb\\run-20231005_144128-pjx85v8q\\logs</code>"
            ],
            "text/plain": [
              "<IPython.core.display.HTML object>"
            ]
          },
          "metadata": {},
          "output_type": "display_data"
        },
        {
          "name": "stderr",
          "output_type": "stream",
          "text": [
            "\u001b[34m\u001b[1mwandb\u001b[0m: Sweep Agent: Waiting for job.\n",
            "\u001b[34m\u001b[1mwandb\u001b[0m: Job received.\n",
            "\u001b[34m\u001b[1mwandb\u001b[0m: Agent Starting Run: r0vbe6tz with config:\n",
            "\u001b[34m\u001b[1mwandb\u001b[0m: \tcolsample_bytree: 0.682899951272355\n",
            "\u001b[34m\u001b[1mwandb\u001b[0m: \tlearning_rate: 0.8567399323867742\n",
            "\u001b[34m\u001b[1mwandb\u001b[0m: \tmax_depth: 8\n",
            "\u001b[34m\u001b[1mwandb\u001b[0m: \tmin_child_weight: 9\n",
            "\u001b[34m\u001b[1mwandb\u001b[0m: \tn_estimators: 90\n",
            "\u001b[34m\u001b[1mwandb\u001b[0m: \tsubsample: 0.7970634393994571\n"
          ]
        },
        {
          "data": {
            "text/html": [
              "wandb version 0.15.12 is available!  To upgrade, please run:\n",
              " $ pip install wandb --upgrade"
            ],
            "text/plain": [
              "<IPython.core.display.HTML object>"
            ]
          },
          "metadata": {},
          "output_type": "display_data"
        },
        {
          "data": {
            "text/html": [
              "Tracking run with wandb version 0.15.11"
            ],
            "text/plain": [
              "<IPython.core.display.HTML object>"
            ]
          },
          "metadata": {},
          "output_type": "display_data"
        },
        {
          "data": {
            "text/html": [
              "Run data is saved locally in <code>c:\\Users\\Maxpo\\Documents\\GitHub\\tabular-data-prediction-pipeline\\wandb\\run-20231005_144210-r0vbe6tz</code>"
            ],
            "text/plain": [
              "<IPython.core.display.HTML object>"
            ]
          },
          "metadata": {},
          "output_type": "display_data"
        },
        {
          "data": {
            "text/html": [
              "Syncing run <strong><a href='https://wandb.ai/max-deep/titanic_survived/runs/r0vbe6tz' target=\"_blank\">driven-sweep-78</a></strong> to <a href='https://wandb.ai/max-deep/titanic_survived' target=\"_blank\">Weights & Biases</a> (<a href='https://wandb.me/run' target=\"_blank\">docs</a>)<br/>Sweep page: <a href='https://wandb.ai/max-deep/titanic_survived/sweeps/6zycoh6c' target=\"_blank\">https://wandb.ai/max-deep/titanic_survived/sweeps/6zycoh6c</a>"
            ],
            "text/plain": [
              "<IPython.core.display.HTML object>"
            ]
          },
          "metadata": {},
          "output_type": "display_data"
        },
        {
          "data": {
            "text/html": [
              " View project at <a href='https://wandb.ai/max-deep/titanic_survived' target=\"_blank\">https://wandb.ai/max-deep/titanic_survived</a>"
            ],
            "text/plain": [
              "<IPython.core.display.HTML object>"
            ]
          },
          "metadata": {},
          "output_type": "display_data"
        },
        {
          "data": {
            "text/html": [
              " View sweep at <a href='https://wandb.ai/max-deep/titanic_survived/sweeps/6zycoh6c' target=\"_blank\">https://wandb.ai/max-deep/titanic_survived/sweeps/6zycoh6c</a>"
            ],
            "text/plain": [
              "<IPython.core.display.HTML object>"
            ]
          },
          "metadata": {},
          "output_type": "display_data"
        },
        {
          "data": {
            "text/html": [
              " View run at <a href='https://wandb.ai/max-deep/titanic_survived/runs/r0vbe6tz' target=\"_blank\">https://wandb.ai/max-deep/titanic_survived/runs/r0vbe6tz</a>"
            ],
            "text/plain": [
              "<IPython.core.display.HTML object>"
            ]
          },
          "metadata": {},
          "output_type": "display_data"
        },
        {
          "data": {
            "text/html": [
              "Waiting for W&B process to finish... <strong style=\"color:green\">(success).</strong>"
            ],
            "text/plain": [
              "<IPython.core.display.HTML object>"
            ]
          },
          "metadata": {},
          "output_type": "display_data"
        },
        {
          "data": {
            "text/html": [
              "<style>\n",
              "    table.wandb td:nth-child(1) { padding: 0 10px; text-align: left ; width: auto;} td:nth-child(2) {text-align: left ; width: 100%}\n",
              "    .wandb-row { display: flex; flex-direction: row; flex-wrap: wrap; justify-content: flex-start; width: 100% }\n",
              "    .wandb-col { display: flex; flex-direction: column; flex-basis: 100%; flex: 1; padding: 10px; }\n",
              "    </style>\n",
              "<div class=\"wandb-row\"><div class=\"wandb-col\"><h3>Run history:</h3><br/><table class=\"wandb\"><tr><td>epoch</td><td>▁▂▃▅▅▇█▁▃▄▅▆▇▁▂▃▄▅▆█▁▂▄▄▅▇█▁▃▄▅▆▇█▂▃▄▅▆█</td></tr></table><br/></div><div class=\"wandb-col\"><h3>Run summary:</h3><br/><table class=\"wandb\"><tr><td>epoch</td><td>89</td></tr><tr><td>mean_cv_accuracy</td><td>0.81612</td></tr><tr><td>train_auc</td><td>0.94965</td></tr><tr><td>train_ks_stat</td><td>0.78197</td></tr><tr><td>train_log_loss</td><td>0.27541</td></tr><tr><td>val_acc_0.5</td><td>0.78212</td></tr><tr><td>val_acc_best_trh</td><td>0.8324</td></tr><tr><td>val_auc</td><td>0.82984</td></tr><tr><td>val_ks_2samp</td><td>0.60303</td></tr><tr><td>val_ks_pval</td><td>0.0</td></tr><tr><td>val_log_loss</td><td>0.50619</td></tr></table><br/></div></div>"
            ],
            "text/plain": [
              "<IPython.core.display.HTML object>"
            ]
          },
          "metadata": {},
          "output_type": "display_data"
        },
        {
          "data": {
            "text/html": [
              " View run <strong style=\"color:#cdcd00\">driven-sweep-78</strong> at: <a href='https://wandb.ai/max-deep/titanic_survived/runs/r0vbe6tz' target=\"_blank\">https://wandb.ai/max-deep/titanic_survived/runs/r0vbe6tz</a><br/>Synced 4 W&B file(s), 6 media file(s), 12 artifact file(s) and 1 other file(s)"
            ],
            "text/plain": [
              "<IPython.core.display.HTML object>"
            ]
          },
          "metadata": {},
          "output_type": "display_data"
        },
        {
          "data": {
            "text/html": [
              "Find logs at: <code>.\\wandb\\run-20231005_144210-r0vbe6tz\\logs</code>"
            ],
            "text/plain": [
              "<IPython.core.display.HTML object>"
            ]
          },
          "metadata": {},
          "output_type": "display_data"
        },
        {
          "name": "stderr",
          "output_type": "stream",
          "text": [
            "\u001b[34m\u001b[1mwandb\u001b[0m: Agent Starting Run: 2xzb7axb with config:\n",
            "\u001b[34m\u001b[1mwandb\u001b[0m: \tcolsample_bytree: 0.6371308474689761\n",
            "\u001b[34m\u001b[1mwandb\u001b[0m: \tlearning_rate: 0.6647728766027222\n",
            "\u001b[34m\u001b[1mwandb\u001b[0m: \tmax_depth: 7\n",
            "\u001b[34m\u001b[1mwandb\u001b[0m: \tmin_child_weight: 10\n",
            "\u001b[34m\u001b[1mwandb\u001b[0m: \tn_estimators: 90\n",
            "\u001b[34m\u001b[1mwandb\u001b[0m: \tsubsample: 0.8448562218921235\n"
          ]
        },
        {
          "data": {
            "text/html": [
              "wandb version 0.15.12 is available!  To upgrade, please run:\n",
              " $ pip install wandb --upgrade"
            ],
            "text/plain": [
              "<IPython.core.display.HTML object>"
            ]
          },
          "metadata": {},
          "output_type": "display_data"
        },
        {
          "data": {
            "text/html": [
              "Tracking run with wandb version 0.15.11"
            ],
            "text/plain": [
              "<IPython.core.display.HTML object>"
            ]
          },
          "metadata": {},
          "output_type": "display_data"
        },
        {
          "data": {
            "text/html": [
              "Run data is saved locally in <code>c:\\Users\\Maxpo\\Documents\\GitHub\\tabular-data-prediction-pipeline\\wandb\\run-20231005_144248-2xzb7axb</code>"
            ],
            "text/plain": [
              "<IPython.core.display.HTML object>"
            ]
          },
          "metadata": {},
          "output_type": "display_data"
        },
        {
          "data": {
            "text/html": [
              "Syncing run <strong><a href='https://wandb.ai/max-deep/titanic_survived/runs/2xzb7axb' target=\"_blank\">clear-sweep-79</a></strong> to <a href='https://wandb.ai/max-deep/titanic_survived' target=\"_blank\">Weights & Biases</a> (<a href='https://wandb.me/run' target=\"_blank\">docs</a>)<br/>Sweep page: <a href='https://wandb.ai/max-deep/titanic_survived/sweeps/6zycoh6c' target=\"_blank\">https://wandb.ai/max-deep/titanic_survived/sweeps/6zycoh6c</a>"
            ],
            "text/plain": [
              "<IPython.core.display.HTML object>"
            ]
          },
          "metadata": {},
          "output_type": "display_data"
        },
        {
          "data": {
            "text/html": [
              " View project at <a href='https://wandb.ai/max-deep/titanic_survived' target=\"_blank\">https://wandb.ai/max-deep/titanic_survived</a>"
            ],
            "text/plain": [
              "<IPython.core.display.HTML object>"
            ]
          },
          "metadata": {},
          "output_type": "display_data"
        },
        {
          "data": {
            "text/html": [
              " View sweep at <a href='https://wandb.ai/max-deep/titanic_survived/sweeps/6zycoh6c' target=\"_blank\">https://wandb.ai/max-deep/titanic_survived/sweeps/6zycoh6c</a>"
            ],
            "text/plain": [
              "<IPython.core.display.HTML object>"
            ]
          },
          "metadata": {},
          "output_type": "display_data"
        },
        {
          "data": {
            "text/html": [
              " View run at <a href='https://wandb.ai/max-deep/titanic_survived/runs/2xzb7axb' target=\"_blank\">https://wandb.ai/max-deep/titanic_survived/runs/2xzb7axb</a>"
            ],
            "text/plain": [
              "<IPython.core.display.HTML object>"
            ]
          },
          "metadata": {},
          "output_type": "display_data"
        },
        {
          "data": {
            "text/html": [
              "Waiting for W&B process to finish... <strong style=\"color:green\">(success).</strong>"
            ],
            "text/plain": [
              "<IPython.core.display.HTML object>"
            ]
          },
          "metadata": {},
          "output_type": "display_data"
        },
        {
          "data": {
            "text/html": [
              "<style>\n",
              "    table.wandb td:nth-child(1) { padding: 0 10px; text-align: left ; width: auto;} td:nth-child(2) {text-align: left ; width: 100%}\n",
              "    .wandb-row { display: flex; flex-direction: row; flex-wrap: wrap; justify-content: flex-start; width: 100% }\n",
              "    .wandb-col { display: flex; flex-direction: column; flex-basis: 100%; flex: 1; padding: 10px; }\n",
              "    </style>\n",
              "<div class=\"wandb-row\"><div class=\"wandb-col\"><h3>Run history:</h3><br/><table class=\"wandb\"><tr><td>epoch</td><td>▁▂▃▅▅▇█▁▃▄▅▆▇▁▂▃▄▅▆█▁▂▄▄▅▇█▁▃▄▅▆▇█▂▃▄▅▆█</td></tr></table><br/></div><div class=\"wandb-col\"><h3>Run summary:</h3><br/><table class=\"wandb\"><tr><td>epoch</td><td>89</td></tr><tr><td>mean_cv_accuracy</td><td>0.80906</td></tr><tr><td>train_auc</td><td>0.94687</td></tr><tr><td>train_ks_stat</td><td>0.77098</td></tr><tr><td>train_log_loss</td><td>0.28769</td></tr><tr><td>val_acc_0.5</td><td>0.81564</td></tr><tr><td>val_acc_best_trh</td><td>0.8324</td></tr><tr><td>val_auc</td><td>0.84796</td></tr><tr><td>val_ks_2samp</td><td>0.62464</td></tr><tr><td>val_ks_pval</td><td>0.0</td></tr><tr><td>val_log_loss</td><td>0.46887</td></tr></table><br/></div></div>"
            ],
            "text/plain": [
              "<IPython.core.display.HTML object>"
            ]
          },
          "metadata": {},
          "output_type": "display_data"
        },
        {
          "data": {
            "text/html": [
              " View run <strong style=\"color:#cdcd00\">clear-sweep-79</strong> at: <a href='https://wandb.ai/max-deep/titanic_survived/runs/2xzb7axb' target=\"_blank\">https://wandb.ai/max-deep/titanic_survived/runs/2xzb7axb</a><br/>Synced 4 W&B file(s), 6 media file(s), 12 artifact file(s) and 1 other file(s)"
            ],
            "text/plain": [
              "<IPython.core.display.HTML object>"
            ]
          },
          "metadata": {},
          "output_type": "display_data"
        },
        {
          "data": {
            "text/html": [
              "Find logs at: <code>.\\wandb\\run-20231005_144248-2xzb7axb\\logs</code>"
            ],
            "text/plain": [
              "<IPython.core.display.HTML object>"
            ]
          },
          "metadata": {},
          "output_type": "display_data"
        },
        {
          "name": "stderr",
          "output_type": "stream",
          "text": [
            "\u001b[34m\u001b[1mwandb\u001b[0m: Agent Starting Run: ggaywopv with config:\n",
            "\u001b[34m\u001b[1mwandb\u001b[0m: \tcolsample_bytree: 0.6310253781960218\n",
            "\u001b[34m\u001b[1mwandb\u001b[0m: \tlearning_rate: 0.7433472714013287\n",
            "\u001b[34m\u001b[1mwandb\u001b[0m: \tmax_depth: 8\n",
            "\u001b[34m\u001b[1mwandb\u001b[0m: \tmin_child_weight: 10\n",
            "\u001b[34m\u001b[1mwandb\u001b[0m: \tn_estimators: 120\n",
            "\u001b[34m\u001b[1mwandb\u001b[0m: \tsubsample: 0.9862031753912434\n"
          ]
        },
        {
          "data": {
            "text/html": [
              "wandb version 0.15.12 is available!  To upgrade, please run:\n",
              " $ pip install wandb --upgrade"
            ],
            "text/plain": [
              "<IPython.core.display.HTML object>"
            ]
          },
          "metadata": {},
          "output_type": "display_data"
        },
        {
          "data": {
            "text/html": [
              "Tracking run with wandb version 0.15.11"
            ],
            "text/plain": [
              "<IPython.core.display.HTML object>"
            ]
          },
          "metadata": {},
          "output_type": "display_data"
        },
        {
          "data": {
            "text/html": [
              "Run data is saved locally in <code>c:\\Users\\Maxpo\\Documents\\GitHub\\tabular-data-prediction-pipeline\\wandb\\run-20231005_144325-ggaywopv</code>"
            ],
            "text/plain": [
              "<IPython.core.display.HTML object>"
            ]
          },
          "metadata": {},
          "output_type": "display_data"
        },
        {
          "data": {
            "text/html": [
              "Syncing run <strong><a href='https://wandb.ai/max-deep/titanic_survived/runs/ggaywopv' target=\"_blank\">volcanic-sweep-80</a></strong> to <a href='https://wandb.ai/max-deep/titanic_survived' target=\"_blank\">Weights & Biases</a> (<a href='https://wandb.me/run' target=\"_blank\">docs</a>)<br/>Sweep page: <a href='https://wandb.ai/max-deep/titanic_survived/sweeps/6zycoh6c' target=\"_blank\">https://wandb.ai/max-deep/titanic_survived/sweeps/6zycoh6c</a>"
            ],
            "text/plain": [
              "<IPython.core.display.HTML object>"
            ]
          },
          "metadata": {},
          "output_type": "display_data"
        },
        {
          "data": {
            "text/html": [
              " View project at <a href='https://wandb.ai/max-deep/titanic_survived' target=\"_blank\">https://wandb.ai/max-deep/titanic_survived</a>"
            ],
            "text/plain": [
              "<IPython.core.display.HTML object>"
            ]
          },
          "metadata": {},
          "output_type": "display_data"
        },
        {
          "data": {
            "text/html": [
              " View sweep at <a href='https://wandb.ai/max-deep/titanic_survived/sweeps/6zycoh6c' target=\"_blank\">https://wandb.ai/max-deep/titanic_survived/sweeps/6zycoh6c</a>"
            ],
            "text/plain": [
              "<IPython.core.display.HTML object>"
            ]
          },
          "metadata": {},
          "output_type": "display_data"
        },
        {
          "data": {
            "text/html": [
              " View run at <a href='https://wandb.ai/max-deep/titanic_survived/runs/ggaywopv' target=\"_blank\">https://wandb.ai/max-deep/titanic_survived/runs/ggaywopv</a>"
            ],
            "text/plain": [
              "<IPython.core.display.HTML object>"
            ]
          },
          "metadata": {},
          "output_type": "display_data"
        },
        {
          "data": {
            "text/html": [
              "Waiting for W&B process to finish... <strong style=\"color:green\">(success).</strong>"
            ],
            "text/plain": [
              "<IPython.core.display.HTML object>"
            ]
          },
          "metadata": {},
          "output_type": "display_data"
        },
        {
          "data": {
            "text/html": [
              "<style>\n",
              "    table.wandb td:nth-child(1) { padding: 0 10px; text-align: left ; width: auto;} td:nth-child(2) {text-align: left ; width: 100%}\n",
              "    .wandb-row { display: flex; flex-direction: row; flex-wrap: wrap; justify-content: flex-start; width: 100% }\n",
              "    .wandb-col { display: flex; flex-direction: column; flex-basis: 100%; flex: 1; padding: 10px; }\n",
              "    </style>\n",
              "<div class=\"wandb-row\"><div class=\"wandb-col\"><h3>Run history:</h3><br/><table class=\"wandb\"><tr><td>epoch</td><td>▁▂▃▄▅▇▇▁▃▃▅▆▇█▁▃▄▅▇▇▁▂▃▅▅▇█▁▃▄▅▆▇▁▂▃▅▅▇█</td></tr></table><br/></div><div class=\"wandb-col\"><h3>Run summary:</h3><br/><table class=\"wandb\"><tr><td>epoch</td><td>119</td></tr><tr><td>mean_cv_accuracy</td><td>0.82314</td></tr><tr><td>train_auc</td><td>0.94732</td></tr><tr><td>train_ks_stat</td><td>0.76938</td></tr><tr><td>train_log_loss</td><td>0.28793</td></tr><tr><td>val_acc_0.5</td><td>0.80447</td></tr><tr><td>val_acc_best_trh</td><td>0.81006</td></tr><tr><td>val_auc</td><td>0.84038</td></tr><tr><td>val_ks_2samp</td><td>0.60448</td></tr><tr><td>val_ks_pval</td><td>0.0</td></tr><tr><td>val_log_loss</td><td>0.47434</td></tr></table><br/></div></div>"
            ],
            "text/plain": [
              "<IPython.core.display.HTML object>"
            ]
          },
          "metadata": {},
          "output_type": "display_data"
        },
        {
          "data": {
            "text/html": [
              " View run <strong style=\"color:#cdcd00\">volcanic-sweep-80</strong> at: <a href='https://wandb.ai/max-deep/titanic_survived/runs/ggaywopv' target=\"_blank\">https://wandb.ai/max-deep/titanic_survived/runs/ggaywopv</a><br/>Synced 4 W&B file(s), 6 media file(s), 12 artifact file(s) and 1 other file(s)"
            ],
            "text/plain": [
              "<IPython.core.display.HTML object>"
            ]
          },
          "metadata": {},
          "output_type": "display_data"
        },
        {
          "data": {
            "text/html": [
              "Find logs at: <code>.\\wandb\\run-20231005_144325-ggaywopv\\logs</code>"
            ],
            "text/plain": [
              "<IPython.core.display.HTML object>"
            ]
          },
          "metadata": {},
          "output_type": "display_data"
        },
        {
          "name": "stderr",
          "output_type": "stream",
          "text": [
            "\u001b[34m\u001b[1mwandb\u001b[0m: Agent Starting Run: oeneyslq with config:\n",
            "\u001b[34m\u001b[1mwandb\u001b[0m: \tcolsample_bytree: 0.9078035437667608\n",
            "\u001b[34m\u001b[1mwandb\u001b[0m: \tlearning_rate: 0.6528698213878741\n",
            "\u001b[34m\u001b[1mwandb\u001b[0m: \tmax_depth: 10\n",
            "\u001b[34m\u001b[1mwandb\u001b[0m: \tmin_child_weight: 10\n",
            "\u001b[34m\u001b[1mwandb\u001b[0m: \tn_estimators: 60\n",
            "\u001b[34m\u001b[1mwandb\u001b[0m: \tsubsample: 0.8117286473034218\n"
          ]
        },
        {
          "data": {
            "text/html": [
              "wandb version 0.15.12 is available!  To upgrade, please run:\n",
              " $ pip install wandb --upgrade"
            ],
            "text/plain": [
              "<IPython.core.display.HTML object>"
            ]
          },
          "metadata": {},
          "output_type": "display_data"
        },
        {
          "data": {
            "text/html": [
              "Tracking run with wandb version 0.15.11"
            ],
            "text/plain": [
              "<IPython.core.display.HTML object>"
            ]
          },
          "metadata": {},
          "output_type": "display_data"
        },
        {
          "data": {
            "text/html": [
              "Run data is saved locally in <code>c:\\Users\\Maxpo\\Documents\\GitHub\\tabular-data-prediction-pipeline\\wandb\\run-20231005_144402-oeneyslq</code>"
            ],
            "text/plain": [
              "<IPython.core.display.HTML object>"
            ]
          },
          "metadata": {},
          "output_type": "display_data"
        },
        {
          "data": {
            "text/html": [
              "Syncing run <strong><a href='https://wandb.ai/max-deep/titanic_survived/runs/oeneyslq' target=\"_blank\">vague-sweep-81</a></strong> to <a href='https://wandb.ai/max-deep/titanic_survived' target=\"_blank\">Weights & Biases</a> (<a href='https://wandb.me/run' target=\"_blank\">docs</a>)<br/>Sweep page: <a href='https://wandb.ai/max-deep/titanic_survived/sweeps/6zycoh6c' target=\"_blank\">https://wandb.ai/max-deep/titanic_survived/sweeps/6zycoh6c</a>"
            ],
            "text/plain": [
              "<IPython.core.display.HTML object>"
            ]
          },
          "metadata": {},
          "output_type": "display_data"
        },
        {
          "data": {
            "text/html": [
              " View project at <a href='https://wandb.ai/max-deep/titanic_survived' target=\"_blank\">https://wandb.ai/max-deep/titanic_survived</a>"
            ],
            "text/plain": [
              "<IPython.core.display.HTML object>"
            ]
          },
          "metadata": {},
          "output_type": "display_data"
        },
        {
          "data": {
            "text/html": [
              " View sweep at <a href='https://wandb.ai/max-deep/titanic_survived/sweeps/6zycoh6c' target=\"_blank\">https://wandb.ai/max-deep/titanic_survived/sweeps/6zycoh6c</a>"
            ],
            "text/plain": [
              "<IPython.core.display.HTML object>"
            ]
          },
          "metadata": {},
          "output_type": "display_data"
        },
        {
          "data": {
            "text/html": [
              " View run at <a href='https://wandb.ai/max-deep/titanic_survived/runs/oeneyslq' target=\"_blank\">https://wandb.ai/max-deep/titanic_survived/runs/oeneyslq</a>"
            ],
            "text/plain": [
              "<IPython.core.display.HTML object>"
            ]
          },
          "metadata": {},
          "output_type": "display_data"
        },
        {
          "data": {
            "text/html": [
              "Waiting for W&B process to finish... <strong style=\"color:green\">(success).</strong>"
            ],
            "text/plain": [
              "<IPython.core.display.HTML object>"
            ]
          },
          "metadata": {},
          "output_type": "display_data"
        },
        {
          "data": {
            "text/html": [
              "<style>\n",
              "    table.wandb td:nth-child(1) { padding: 0 10px; text-align: left ; width: auto;} td:nth-child(2) {text-align: left ; width: 100%}\n",
              "    .wandb-row { display: flex; flex-direction: row; flex-wrap: wrap; justify-content: flex-start; width: 100% }\n",
              "    .wandb-col { display: flex; flex-direction: column; flex-basis: 100%; flex: 1; padding: 10px; }\n",
              "    </style>\n",
              "<div class=\"wandb-row\"><div class=\"wandb-col\"><h3>Run history:</h3><br/><table class=\"wandb\"><tr><td>epoch</td><td>▁▂▃▄▅▇▇▁▃▃▅▆▇█▁▃▄▅▇▇▁▂▃▅▅▇█▁▃▄▅▆▇▁▂▃▅▅▇█</td></tr></table><br/></div><div class=\"wandb-col\"><h3>Run summary:</h3><br/><table class=\"wandb\"><tr><td>epoch</td><td>59</td></tr><tr><td>mean_cv_accuracy</td><td>0.82029</td></tr><tr><td>train_auc</td><td>0.94317</td></tr><tr><td>train_ks_stat</td><td>0.7575</td></tr><tr><td>train_log_loss</td><td>0.30137</td></tr><tr><td>val_acc_0.5</td><td>0.82682</td></tr><tr><td>val_acc_best_trh</td><td>0.84358</td></tr><tr><td>val_auc</td><td>0.84704</td></tr><tr><td>val_ks_2samp</td><td>0.62661</td></tr><tr><td>val_ks_pval</td><td>0.0</td></tr><tr><td>val_log_loss</td><td>0.45142</td></tr></table><br/></div></div>"
            ],
            "text/plain": [
              "<IPython.core.display.HTML object>"
            ]
          },
          "metadata": {},
          "output_type": "display_data"
        },
        {
          "data": {
            "text/html": [
              " View run <strong style=\"color:#cdcd00\">vague-sweep-81</strong> at: <a href='https://wandb.ai/max-deep/titanic_survived/runs/oeneyslq' target=\"_blank\">https://wandb.ai/max-deep/titanic_survived/runs/oeneyslq</a><br/>Synced 4 W&B file(s), 6 media file(s), 12 artifact file(s) and 1 other file(s)"
            ],
            "text/plain": [
              "<IPython.core.display.HTML object>"
            ]
          },
          "metadata": {},
          "output_type": "display_data"
        },
        {
          "data": {
            "text/html": [
              "Find logs at: <code>.\\wandb\\run-20231005_144402-oeneyslq\\logs</code>"
            ],
            "text/plain": [
              "<IPython.core.display.HTML object>"
            ]
          },
          "metadata": {},
          "output_type": "display_data"
        },
        {
          "name": "stderr",
          "output_type": "stream",
          "text": [
            "\u001b[34m\u001b[1mwandb\u001b[0m: Agent Starting Run: b7kl0cls with config:\n",
            "\u001b[34m\u001b[1mwandb\u001b[0m: \tcolsample_bytree: 0.8047378092722848\n",
            "\u001b[34m\u001b[1mwandb\u001b[0m: \tlearning_rate: 0.4258328541334344\n",
            "\u001b[34m\u001b[1mwandb\u001b[0m: \tmax_depth: 8\n",
            "\u001b[34m\u001b[1mwandb\u001b[0m: \tmin_child_weight: 9\n",
            "\u001b[34m\u001b[1mwandb\u001b[0m: \tn_estimators: 90\n",
            "\u001b[34m\u001b[1mwandb\u001b[0m: \tsubsample: 0.830091631806485\n"
          ]
        },
        {
          "data": {
            "text/html": [
              "wandb version 0.15.12 is available!  To upgrade, please run:\n",
              " $ pip install wandb --upgrade"
            ],
            "text/plain": [
              "<IPython.core.display.HTML object>"
            ]
          },
          "metadata": {},
          "output_type": "display_data"
        },
        {
          "data": {
            "text/html": [
              "Tracking run with wandb version 0.15.11"
            ],
            "text/plain": [
              "<IPython.core.display.HTML object>"
            ]
          },
          "metadata": {},
          "output_type": "display_data"
        },
        {
          "data": {
            "text/html": [
              "Run data is saved locally in <code>c:\\Users\\Maxpo\\Documents\\GitHub\\tabular-data-prediction-pipeline\\wandb\\run-20231005_144438-b7kl0cls</code>"
            ],
            "text/plain": [
              "<IPython.core.display.HTML object>"
            ]
          },
          "metadata": {},
          "output_type": "display_data"
        },
        {
          "data": {
            "text/html": [
              "Syncing run <strong><a href='https://wandb.ai/max-deep/titanic_survived/runs/b7kl0cls' target=\"_blank\">youthful-sweep-82</a></strong> to <a href='https://wandb.ai/max-deep/titanic_survived' target=\"_blank\">Weights & Biases</a> (<a href='https://wandb.me/run' target=\"_blank\">docs</a>)<br/>Sweep page: <a href='https://wandb.ai/max-deep/titanic_survived/sweeps/6zycoh6c' target=\"_blank\">https://wandb.ai/max-deep/titanic_survived/sweeps/6zycoh6c</a>"
            ],
            "text/plain": [
              "<IPython.core.display.HTML object>"
            ]
          },
          "metadata": {},
          "output_type": "display_data"
        },
        {
          "data": {
            "text/html": [
              " View project at <a href='https://wandb.ai/max-deep/titanic_survived' target=\"_blank\">https://wandb.ai/max-deep/titanic_survived</a>"
            ],
            "text/plain": [
              "<IPython.core.display.HTML object>"
            ]
          },
          "metadata": {},
          "output_type": "display_data"
        },
        {
          "data": {
            "text/html": [
              " View sweep at <a href='https://wandb.ai/max-deep/titanic_survived/sweeps/6zycoh6c' target=\"_blank\">https://wandb.ai/max-deep/titanic_survived/sweeps/6zycoh6c</a>"
            ],
            "text/plain": [
              "<IPython.core.display.HTML object>"
            ]
          },
          "metadata": {},
          "output_type": "display_data"
        },
        {
          "data": {
            "text/html": [
              " View run at <a href='https://wandb.ai/max-deep/titanic_survived/runs/b7kl0cls' target=\"_blank\">https://wandb.ai/max-deep/titanic_survived/runs/b7kl0cls</a>"
            ],
            "text/plain": [
              "<IPython.core.display.HTML object>"
            ]
          },
          "metadata": {},
          "output_type": "display_data"
        },
        {
          "data": {
            "text/html": [
              "Waiting for W&B process to finish... <strong style=\"color:green\">(success).</strong>"
            ],
            "text/plain": [
              "<IPython.core.display.HTML object>"
            ]
          },
          "metadata": {},
          "output_type": "display_data"
        },
        {
          "data": {
            "text/html": [
              "<style>\n",
              "    table.wandb td:nth-child(1) { padding: 0 10px; text-align: left ; width: auto;} td:nth-child(2) {text-align: left ; width: 100%}\n",
              "    .wandb-row { display: flex; flex-direction: row; flex-wrap: wrap; justify-content: flex-start; width: 100% }\n",
              "    .wandb-col { display: flex; flex-direction: column; flex-basis: 100%; flex: 1; padding: 10px; }\n",
              "    </style>\n",
              "<div class=\"wandb-row\"><div class=\"wandb-col\"><h3>Run history:</h3><br/><table class=\"wandb\"><tr><td>epoch</td><td>▁▂▃▅▅▇█▁▃▄▅▆▇▁▂▃▄▅▆█▁▂▄▄▅▇█▁▃▄▅▆▇█▂▃▄▅▆█</td></tr></table><br/></div><div class=\"wandb-col\"><h3>Run summary:</h3><br/><table class=\"wandb\"><tr><td>epoch</td><td>89</td></tr><tr><td>mean_cv_accuracy</td><td>0.81888</td></tr><tr><td>train_auc</td><td>0.94788</td></tr><tr><td>train_ks_stat</td><td>0.77791</td></tr><tr><td>train_log_loss</td><td>0.29424</td></tr><tr><td>val_acc_0.5</td><td>0.81564</td></tr><tr><td>val_acc_best_trh</td><td>0.82123</td></tr><tr><td>val_auc</td><td>0.85593</td></tr><tr><td>val_ks_2samp</td><td>0.61726</td></tr><tr><td>val_ks_pval</td><td>0.0</td></tr><tr><td>val_log_loss</td><td>0.44478</td></tr></table><br/></div></div>"
            ],
            "text/plain": [
              "<IPython.core.display.HTML object>"
            ]
          },
          "metadata": {},
          "output_type": "display_data"
        },
        {
          "data": {
            "text/html": [
              " View run <strong style=\"color:#cdcd00\">youthful-sweep-82</strong> at: <a href='https://wandb.ai/max-deep/titanic_survived/runs/b7kl0cls' target=\"_blank\">https://wandb.ai/max-deep/titanic_survived/runs/b7kl0cls</a><br/>Synced 4 W&B file(s), 6 media file(s), 12 artifact file(s) and 1 other file(s)"
            ],
            "text/plain": [
              "<IPython.core.display.HTML object>"
            ]
          },
          "metadata": {},
          "output_type": "display_data"
        },
        {
          "data": {
            "text/html": [
              "Find logs at: <code>.\\wandb\\run-20231005_144438-b7kl0cls\\logs</code>"
            ],
            "text/plain": [
              "<IPython.core.display.HTML object>"
            ]
          },
          "metadata": {},
          "output_type": "display_data"
        },
        {
          "name": "stderr",
          "output_type": "stream",
          "text": [
            "\u001b[34m\u001b[1mwandb\u001b[0m: Agent Starting Run: vdrr4m1x with config:\n",
            "\u001b[34m\u001b[1mwandb\u001b[0m: \tcolsample_bytree: 0.6172213495012602\n",
            "\u001b[34m\u001b[1mwandb\u001b[0m: \tlearning_rate: 0.7876795398299029\n",
            "\u001b[34m\u001b[1mwandb\u001b[0m: \tmax_depth: 6\n",
            "\u001b[34m\u001b[1mwandb\u001b[0m: \tmin_child_weight: 10\n",
            "\u001b[34m\u001b[1mwandb\u001b[0m: \tn_estimators: 60\n",
            "\u001b[34m\u001b[1mwandb\u001b[0m: \tsubsample: 0.8589608978409508\n"
          ]
        },
        {
          "data": {
            "text/html": [
              "wandb version 0.15.12 is available!  To upgrade, please run:\n",
              " $ pip install wandb --upgrade"
            ],
            "text/plain": [
              "<IPython.core.display.HTML object>"
            ]
          },
          "metadata": {},
          "output_type": "display_data"
        },
        {
          "data": {
            "text/html": [
              "Tracking run with wandb version 0.15.11"
            ],
            "text/plain": [
              "<IPython.core.display.HTML object>"
            ]
          },
          "metadata": {},
          "output_type": "display_data"
        },
        {
          "data": {
            "text/html": [
              "Run data is saved locally in <code>c:\\Users\\Maxpo\\Documents\\GitHub\\tabular-data-prediction-pipeline\\wandb\\run-20231005_144516-vdrr4m1x</code>"
            ],
            "text/plain": [
              "<IPython.core.display.HTML object>"
            ]
          },
          "metadata": {},
          "output_type": "display_data"
        },
        {
          "data": {
            "text/html": [
              "Syncing run <strong><a href='https://wandb.ai/max-deep/titanic_survived/runs/vdrr4m1x' target=\"_blank\">gallant-sweep-83</a></strong> to <a href='https://wandb.ai/max-deep/titanic_survived' target=\"_blank\">Weights & Biases</a> (<a href='https://wandb.me/run' target=\"_blank\">docs</a>)<br/>Sweep page: <a href='https://wandb.ai/max-deep/titanic_survived/sweeps/6zycoh6c' target=\"_blank\">https://wandb.ai/max-deep/titanic_survived/sweeps/6zycoh6c</a>"
            ],
            "text/plain": [
              "<IPython.core.display.HTML object>"
            ]
          },
          "metadata": {},
          "output_type": "display_data"
        },
        {
          "data": {
            "text/html": [
              " View project at <a href='https://wandb.ai/max-deep/titanic_survived' target=\"_blank\">https://wandb.ai/max-deep/titanic_survived</a>"
            ],
            "text/plain": [
              "<IPython.core.display.HTML object>"
            ]
          },
          "metadata": {},
          "output_type": "display_data"
        },
        {
          "data": {
            "text/html": [
              " View sweep at <a href='https://wandb.ai/max-deep/titanic_survived/sweeps/6zycoh6c' target=\"_blank\">https://wandb.ai/max-deep/titanic_survived/sweeps/6zycoh6c</a>"
            ],
            "text/plain": [
              "<IPython.core.display.HTML object>"
            ]
          },
          "metadata": {},
          "output_type": "display_data"
        },
        {
          "data": {
            "text/html": [
              " View run at <a href='https://wandb.ai/max-deep/titanic_survived/runs/vdrr4m1x' target=\"_blank\">https://wandb.ai/max-deep/titanic_survived/runs/vdrr4m1x</a>"
            ],
            "text/plain": [
              "<IPython.core.display.HTML object>"
            ]
          },
          "metadata": {},
          "output_type": "display_data"
        },
        {
          "data": {
            "text/html": [
              "Waiting for W&B process to finish... <strong style=\"color:green\">(success).</strong>"
            ],
            "text/plain": [
              "<IPython.core.display.HTML object>"
            ]
          },
          "metadata": {},
          "output_type": "display_data"
        },
        {
          "data": {
            "text/html": [
              "<style>\n",
              "    table.wandb td:nth-child(1) { padding: 0 10px; text-align: left ; width: auto;} td:nth-child(2) {text-align: left ; width: 100%}\n",
              "    .wandb-row { display: flex; flex-direction: row; flex-wrap: wrap; justify-content: flex-start; width: 100% }\n",
              "    .wandb-col { display: flex; flex-direction: column; flex-basis: 100%; flex: 1; padding: 10px; }\n",
              "    </style>\n",
              "<div class=\"wandb-row\"><div class=\"wandb-col\"><h3>Run history:</h3><br/><table class=\"wandb\"><tr><td>epoch</td><td>▁▂▃▄▅▇▇▁▃▃▅▆▇█▁▃▄▅▇▇▁▂▃▅▅▇█▁▃▄▅▆▇▁▂▃▅▅▇█</td></tr></table><br/></div><div class=\"wandb-col\"><h3>Run summary:</h3><br/><table class=\"wandb\"><tr><td>epoch</td><td>59</td></tr><tr><td>mean_cv_accuracy</td><td>0.80901</td></tr><tr><td>train_auc</td><td>0.93523</td></tr><tr><td>train_ks_stat</td><td>0.73007</td></tr><tr><td>train_log_loss</td><td>0.31251</td></tr><tr><td>val_acc_0.5</td><td>0.79888</td></tr><tr><td>val_acc_best_trh</td><td>0.80447</td></tr><tr><td>val_auc</td><td>0.83702</td></tr><tr><td>val_ks_2samp</td><td>0.56838</td></tr><tr><td>val_ks_pval</td><td>0.0</td></tr><tr><td>val_log_loss</td><td>0.48235</td></tr></table><br/></div></div>"
            ],
            "text/plain": [
              "<IPython.core.display.HTML object>"
            ]
          },
          "metadata": {},
          "output_type": "display_data"
        },
        {
          "data": {
            "text/html": [
              " View run <strong style=\"color:#cdcd00\">gallant-sweep-83</strong> at: <a href='https://wandb.ai/max-deep/titanic_survived/runs/vdrr4m1x' target=\"_blank\">https://wandb.ai/max-deep/titanic_survived/runs/vdrr4m1x</a><br/>Synced 4 W&B file(s), 6 media file(s), 12 artifact file(s) and 1 other file(s)"
            ],
            "text/plain": [
              "<IPython.core.display.HTML object>"
            ]
          },
          "metadata": {},
          "output_type": "display_data"
        },
        {
          "data": {
            "text/html": [
              "Find logs at: <code>.\\wandb\\run-20231005_144516-vdrr4m1x\\logs</code>"
            ],
            "text/plain": [
              "<IPython.core.display.HTML object>"
            ]
          },
          "metadata": {},
          "output_type": "display_data"
        },
        {
          "name": "stderr",
          "output_type": "stream",
          "text": [
            "\u001b[34m\u001b[1mwandb\u001b[0m: Agent Starting Run: jrpji0lk with config:\n",
            "\u001b[34m\u001b[1mwandb\u001b[0m: \tcolsample_bytree: 0.7245400486021217\n",
            "\u001b[34m\u001b[1mwandb\u001b[0m: \tlearning_rate: 0.6073763983247438\n",
            "\u001b[34m\u001b[1mwandb\u001b[0m: \tmax_depth: 10\n",
            "\u001b[34m\u001b[1mwandb\u001b[0m: \tmin_child_weight: 10\n",
            "\u001b[34m\u001b[1mwandb\u001b[0m: \tn_estimators: 120\n",
            "\u001b[34m\u001b[1mwandb\u001b[0m: \tsubsample: 0.756161911897405\n"
          ]
        },
        {
          "data": {
            "text/html": [
              "wandb version 0.15.12 is available!  To upgrade, please run:\n",
              " $ pip install wandb --upgrade"
            ],
            "text/plain": [
              "<IPython.core.display.HTML object>"
            ]
          },
          "metadata": {},
          "output_type": "display_data"
        },
        {
          "data": {
            "text/html": [
              "Tracking run with wandb version 0.15.11"
            ],
            "text/plain": [
              "<IPython.core.display.HTML object>"
            ]
          },
          "metadata": {},
          "output_type": "display_data"
        },
        {
          "data": {
            "text/html": [
              "Run data is saved locally in <code>c:\\Users\\Maxpo\\Documents\\GitHub\\tabular-data-prediction-pipeline\\wandb\\run-20231005_144552-jrpji0lk</code>"
            ],
            "text/plain": [
              "<IPython.core.display.HTML object>"
            ]
          },
          "metadata": {},
          "output_type": "display_data"
        },
        {
          "data": {
            "text/html": [
              "Syncing run <strong><a href='https://wandb.ai/max-deep/titanic_survived/runs/jrpji0lk' target=\"_blank\">gallant-sweep-84</a></strong> to <a href='https://wandb.ai/max-deep/titanic_survived' target=\"_blank\">Weights & Biases</a> (<a href='https://wandb.me/run' target=\"_blank\">docs</a>)<br/>Sweep page: <a href='https://wandb.ai/max-deep/titanic_survived/sweeps/6zycoh6c' target=\"_blank\">https://wandb.ai/max-deep/titanic_survived/sweeps/6zycoh6c</a>"
            ],
            "text/plain": [
              "<IPython.core.display.HTML object>"
            ]
          },
          "metadata": {},
          "output_type": "display_data"
        },
        {
          "data": {
            "text/html": [
              " View project at <a href='https://wandb.ai/max-deep/titanic_survived' target=\"_blank\">https://wandb.ai/max-deep/titanic_survived</a>"
            ],
            "text/plain": [
              "<IPython.core.display.HTML object>"
            ]
          },
          "metadata": {},
          "output_type": "display_data"
        },
        {
          "data": {
            "text/html": [
              " View sweep at <a href='https://wandb.ai/max-deep/titanic_survived/sweeps/6zycoh6c' target=\"_blank\">https://wandb.ai/max-deep/titanic_survived/sweeps/6zycoh6c</a>"
            ],
            "text/plain": [
              "<IPython.core.display.HTML object>"
            ]
          },
          "metadata": {},
          "output_type": "display_data"
        },
        {
          "data": {
            "text/html": [
              " View run at <a href='https://wandb.ai/max-deep/titanic_survived/runs/jrpji0lk' target=\"_blank\">https://wandb.ai/max-deep/titanic_survived/runs/jrpji0lk</a>"
            ],
            "text/plain": [
              "<IPython.core.display.HTML object>"
            ]
          },
          "metadata": {},
          "output_type": "display_data"
        },
        {
          "data": {
            "text/html": [
              "Waiting for W&B process to finish... <strong style=\"color:green\">(success).</strong>"
            ],
            "text/plain": [
              "<IPython.core.display.HTML object>"
            ]
          },
          "metadata": {},
          "output_type": "display_data"
        },
        {
          "data": {
            "text/html": [
              "<style>\n",
              "    table.wandb td:nth-child(1) { padding: 0 10px; text-align: left ; width: auto;} td:nth-child(2) {text-align: left ; width: 100%}\n",
              "    .wandb-row { display: flex; flex-direction: row; flex-wrap: wrap; justify-content: flex-start; width: 100% }\n",
              "    .wandb-col { display: flex; flex-direction: column; flex-basis: 100%; flex: 1; padding: 10px; }\n",
              "    </style>\n",
              "<div class=\"wandb-row\"><div class=\"wandb-col\"><h3>Run history:</h3><br/><table class=\"wandb\"><tr><td>epoch</td><td>▁▂▃▄▅▇▇▁▃▃▅▆▇█▁▃▄▅▇▇▁▂▃▅▅▇█▁▃▄▅▆▇▁▂▃▅▅▇█</td></tr></table><br/></div><div class=\"wandb-col\"><h3>Run summary:</h3><br/><table class=\"wandb\"><tr><td>epoch</td><td>119</td></tr><tr><td>mean_cv_accuracy</td><td>0.81889</td></tr><tr><td>train_auc</td><td>0.94817</td></tr><tr><td>train_ks_stat</td><td>0.77523</td></tr><tr><td>train_log_loss</td><td>0.28118</td></tr><tr><td>val_acc_0.5</td><td>0.80447</td></tr><tr><td>val_acc_best_trh</td><td>0.8324</td></tr><tr><td>val_auc</td><td>0.84736</td></tr><tr><td>val_ks_2samp</td><td>0.61924</td></tr><tr><td>val_ks_pval</td><td>0.0</td></tr><tr><td>val_log_loss</td><td>0.46117</td></tr></table><br/></div></div>"
            ],
            "text/plain": [
              "<IPython.core.display.HTML object>"
            ]
          },
          "metadata": {},
          "output_type": "display_data"
        },
        {
          "data": {
            "text/html": [
              " View run <strong style=\"color:#cdcd00\">gallant-sweep-84</strong> at: <a href='https://wandb.ai/max-deep/titanic_survived/runs/jrpji0lk' target=\"_blank\">https://wandb.ai/max-deep/titanic_survived/runs/jrpji0lk</a><br/>Synced 4 W&B file(s), 6 media file(s), 12 artifact file(s) and 1 other file(s)"
            ],
            "text/plain": [
              "<IPython.core.display.HTML object>"
            ]
          },
          "metadata": {},
          "output_type": "display_data"
        },
        {
          "data": {
            "text/html": [
              "Find logs at: <code>.\\wandb\\run-20231005_144552-jrpji0lk\\logs</code>"
            ],
            "text/plain": [
              "<IPython.core.display.HTML object>"
            ]
          },
          "metadata": {},
          "output_type": "display_data"
        },
        {
          "name": "stderr",
          "output_type": "stream",
          "text": [
            "\u001b[34m\u001b[1mwandb\u001b[0m: Sweep Agent: Waiting for job.\n",
            "\u001b[34m\u001b[1mwandb\u001b[0m: Job received.\n",
            "\u001b[34m\u001b[1mwandb\u001b[0m: Agent Starting Run: wrojhnj2 with config:\n",
            "\u001b[34m\u001b[1mwandb\u001b[0m: \tcolsample_bytree: 0.6640808759908163\n",
            "\u001b[34m\u001b[1mwandb\u001b[0m: \tlearning_rate: 0.6113250240464756\n",
            "\u001b[34m\u001b[1mwandb\u001b[0m: \tmax_depth: 8\n",
            "\u001b[34m\u001b[1mwandb\u001b[0m: \tmin_child_weight: 8\n",
            "\u001b[34m\u001b[1mwandb\u001b[0m: \tn_estimators: 120\n",
            "\u001b[34m\u001b[1mwandb\u001b[0m: \tsubsample: 0.8557900250643107\n"
          ]
        },
        {
          "data": {
            "text/html": [
              "wandb version 0.15.12 is available!  To upgrade, please run:\n",
              " $ pip install wandb --upgrade"
            ],
            "text/plain": [
              "<IPython.core.display.HTML object>"
            ]
          },
          "metadata": {},
          "output_type": "display_data"
        },
        {
          "data": {
            "text/html": [
              "Tracking run with wandb version 0.15.11"
            ],
            "text/plain": [
              "<IPython.core.display.HTML object>"
            ]
          },
          "metadata": {},
          "output_type": "display_data"
        },
        {
          "data": {
            "text/html": [
              "Run data is saved locally in <code>c:\\Users\\Maxpo\\Documents\\GitHub\\tabular-data-prediction-pipeline\\wandb\\run-20231005_144636-wrojhnj2</code>"
            ],
            "text/plain": [
              "<IPython.core.display.HTML object>"
            ]
          },
          "metadata": {},
          "output_type": "display_data"
        },
        {
          "data": {
            "text/html": [
              "Syncing run <strong><a href='https://wandb.ai/max-deep/titanic_survived/runs/wrojhnj2' target=\"_blank\">autumn-sweep-85</a></strong> to <a href='https://wandb.ai/max-deep/titanic_survived' target=\"_blank\">Weights & Biases</a> (<a href='https://wandb.me/run' target=\"_blank\">docs</a>)<br/>Sweep page: <a href='https://wandb.ai/max-deep/titanic_survived/sweeps/6zycoh6c' target=\"_blank\">https://wandb.ai/max-deep/titanic_survived/sweeps/6zycoh6c</a>"
            ],
            "text/plain": [
              "<IPython.core.display.HTML object>"
            ]
          },
          "metadata": {},
          "output_type": "display_data"
        },
        {
          "data": {
            "text/html": [
              " View project at <a href='https://wandb.ai/max-deep/titanic_survived' target=\"_blank\">https://wandb.ai/max-deep/titanic_survived</a>"
            ],
            "text/plain": [
              "<IPython.core.display.HTML object>"
            ]
          },
          "metadata": {},
          "output_type": "display_data"
        },
        {
          "data": {
            "text/html": [
              " View sweep at <a href='https://wandb.ai/max-deep/titanic_survived/sweeps/6zycoh6c' target=\"_blank\">https://wandb.ai/max-deep/titanic_survived/sweeps/6zycoh6c</a>"
            ],
            "text/plain": [
              "<IPython.core.display.HTML object>"
            ]
          },
          "metadata": {},
          "output_type": "display_data"
        },
        {
          "data": {
            "text/html": [
              " View run at <a href='https://wandb.ai/max-deep/titanic_survived/runs/wrojhnj2' target=\"_blank\">https://wandb.ai/max-deep/titanic_survived/runs/wrojhnj2</a>"
            ],
            "text/plain": [
              "<IPython.core.display.HTML object>"
            ]
          },
          "metadata": {},
          "output_type": "display_data"
        },
        {
          "data": {
            "text/html": [
              "Waiting for W&B process to finish... <strong style=\"color:green\">(success).</strong>"
            ],
            "text/plain": [
              "<IPython.core.display.HTML object>"
            ]
          },
          "metadata": {},
          "output_type": "display_data"
        },
        {
          "data": {
            "text/html": [
              "<style>\n",
              "    table.wandb td:nth-child(1) { padding: 0 10px; text-align: left ; width: auto;} td:nth-child(2) {text-align: left ; width: 100%}\n",
              "    .wandb-row { display: flex; flex-direction: row; flex-wrap: wrap; justify-content: flex-start; width: 100% }\n",
              "    .wandb-col { display: flex; flex-direction: column; flex-basis: 100%; flex: 1; padding: 10px; }\n",
              "    </style>\n",
              "<div class=\"wandb-row\"><div class=\"wandb-col\"><h3>Run history:</h3><br/><table class=\"wandb\"><tr><td>epoch</td><td>▁▂▃▄▅▇▇▁▃▃▅▆▇█▁▃▄▅▇▇▁▂▃▅▅▇█▁▃▄▅▆▇▁▂▃▅▅▇█</td></tr></table><br/></div><div class=\"wandb-col\"><h3>Run summary:</h3><br/><table class=\"wandb\"><tr><td>epoch</td><td>119</td></tr><tr><td>mean_cv_accuracy</td><td>0.82457</td></tr><tr><td>train_auc</td><td>0.9566</td></tr><tr><td>train_ks_stat</td><td>0.80583</td></tr><tr><td>train_log_loss</td><td>0.25928</td></tr><tr><td>val_acc_0.5</td><td>0.81564</td></tr><tr><td>val_acc_best_trh</td><td>0.8324</td></tr><tr><td>val_auc</td><td>0.84822</td></tr><tr><td>val_ks_2samp</td><td>0.61383</td></tr><tr><td>val_ks_pval</td><td>0.0</td></tr><tr><td>val_log_loss</td><td>0.46947</td></tr></table><br/></div></div>"
            ],
            "text/plain": [
              "<IPython.core.display.HTML object>"
            ]
          },
          "metadata": {},
          "output_type": "display_data"
        },
        {
          "data": {
            "text/html": [
              " View run <strong style=\"color:#cdcd00\">autumn-sweep-85</strong> at: <a href='https://wandb.ai/max-deep/titanic_survived/runs/wrojhnj2' target=\"_blank\">https://wandb.ai/max-deep/titanic_survived/runs/wrojhnj2</a><br/>Synced 4 W&B file(s), 6 media file(s), 12 artifact file(s) and 1 other file(s)"
            ],
            "text/plain": [
              "<IPython.core.display.HTML object>"
            ]
          },
          "metadata": {},
          "output_type": "display_data"
        },
        {
          "data": {
            "text/html": [
              "Find logs at: <code>.\\wandb\\run-20231005_144636-wrojhnj2\\logs</code>"
            ],
            "text/plain": [
              "<IPython.core.display.HTML object>"
            ]
          },
          "metadata": {},
          "output_type": "display_data"
        },
        {
          "name": "stderr",
          "output_type": "stream",
          "text": [
            "\u001b[34m\u001b[1mwandb\u001b[0m: Sweep Agent: Waiting for job.\n",
            "\u001b[34m\u001b[1mwandb\u001b[0m: Job received.\n",
            "\u001b[34m\u001b[1mwandb\u001b[0m: Agent Starting Run: rqj7jsxh with config:\n",
            "\u001b[34m\u001b[1mwandb\u001b[0m: \tcolsample_bytree: 0.9413812680656516\n",
            "\u001b[34m\u001b[1mwandb\u001b[0m: \tlearning_rate: 0.781894070064803\n",
            "\u001b[34m\u001b[1mwandb\u001b[0m: \tmax_depth: 10\n",
            "\u001b[34m\u001b[1mwandb\u001b[0m: \tmin_child_weight: 9\n",
            "\u001b[34m\u001b[1mwandb\u001b[0m: \tn_estimators: 60\n",
            "\u001b[34m\u001b[1mwandb\u001b[0m: \tsubsample: 0.7655605160050832\n"
          ]
        },
        {
          "data": {
            "text/html": [
              "wandb version 0.15.12 is available!  To upgrade, please run:\n",
              " $ pip install wandb --upgrade"
            ],
            "text/plain": [
              "<IPython.core.display.HTML object>"
            ]
          },
          "metadata": {},
          "output_type": "display_data"
        },
        {
          "data": {
            "text/html": [
              "Tracking run with wandb version 0.15.11"
            ],
            "text/plain": [
              "<IPython.core.display.HTML object>"
            ]
          },
          "metadata": {},
          "output_type": "display_data"
        },
        {
          "data": {
            "text/html": [
              "Run data is saved locally in <code>c:\\Users\\Maxpo\\Documents\\GitHub\\tabular-data-prediction-pipeline\\wandb\\run-20231005_144719-rqj7jsxh</code>"
            ],
            "text/plain": [
              "<IPython.core.display.HTML object>"
            ]
          },
          "metadata": {},
          "output_type": "display_data"
        },
        {
          "data": {
            "text/html": [
              "Syncing run <strong><a href='https://wandb.ai/max-deep/titanic_survived/runs/rqj7jsxh' target=\"_blank\">blooming-sweep-86</a></strong> to <a href='https://wandb.ai/max-deep/titanic_survived' target=\"_blank\">Weights & Biases</a> (<a href='https://wandb.me/run' target=\"_blank\">docs</a>)<br/>Sweep page: <a href='https://wandb.ai/max-deep/titanic_survived/sweeps/6zycoh6c' target=\"_blank\">https://wandb.ai/max-deep/titanic_survived/sweeps/6zycoh6c</a>"
            ],
            "text/plain": [
              "<IPython.core.display.HTML object>"
            ]
          },
          "metadata": {},
          "output_type": "display_data"
        },
        {
          "data": {
            "text/html": [
              " View project at <a href='https://wandb.ai/max-deep/titanic_survived' target=\"_blank\">https://wandb.ai/max-deep/titanic_survived</a>"
            ],
            "text/plain": [
              "<IPython.core.display.HTML object>"
            ]
          },
          "metadata": {},
          "output_type": "display_data"
        },
        {
          "data": {
            "text/html": [
              " View sweep at <a href='https://wandb.ai/max-deep/titanic_survived/sweeps/6zycoh6c' target=\"_blank\">https://wandb.ai/max-deep/titanic_survived/sweeps/6zycoh6c</a>"
            ],
            "text/plain": [
              "<IPython.core.display.HTML object>"
            ]
          },
          "metadata": {},
          "output_type": "display_data"
        },
        {
          "data": {
            "text/html": [
              " View run at <a href='https://wandb.ai/max-deep/titanic_survived/runs/rqj7jsxh' target=\"_blank\">https://wandb.ai/max-deep/titanic_survived/runs/rqj7jsxh</a>"
            ],
            "text/plain": [
              "<IPython.core.display.HTML object>"
            ]
          },
          "metadata": {},
          "output_type": "display_data"
        },
        {
          "data": {
            "text/html": [
              "Waiting for W&B process to finish... <strong style=\"color:green\">(success).</strong>"
            ],
            "text/plain": [
              "<IPython.core.display.HTML object>"
            ]
          },
          "metadata": {},
          "output_type": "display_data"
        },
        {
          "data": {
            "text/html": [
              "<style>\n",
              "    table.wandb td:nth-child(1) { padding: 0 10px; text-align: left ; width: auto;} td:nth-child(2) {text-align: left ; width: 100%}\n",
              "    .wandb-row { display: flex; flex-direction: row; flex-wrap: wrap; justify-content: flex-start; width: 100% }\n",
              "    .wandb-col { display: flex; flex-direction: column; flex-basis: 100%; flex: 1; padding: 10px; }\n",
              "    </style>\n",
              "<div class=\"wandb-row\"><div class=\"wandb-col\"><h3>Run history:</h3><br/><table class=\"wandb\"><tr><td>epoch</td><td>▁▂▃▄▅▇▇▁▃▃▅▆▇█▁▃▄▅▇▇▁▂▃▅▅▇█▁▃▄▅▆▇▁▂▃▅▅▇█</td></tr></table><br/></div><div class=\"wandb-col\"><h3>Run summary:</h3><br/><table class=\"wandb\"><tr><td>epoch</td><td>59</td></tr><tr><td>mean_cv_accuracy</td><td>0.81471</td></tr><tr><td>train_auc</td><td>0.95327</td></tr><tr><td>train_ks_stat</td><td>0.77939</td></tr><tr><td>train_log_loss</td><td>0.28334</td></tr><tr><td>val_acc_0.5</td><td>0.83799</td></tr><tr><td>val_acc_best_trh</td><td>0.84358</td></tr><tr><td>val_auc</td><td>0.84526</td></tr><tr><td>val_ks_2samp</td><td>0.62661</td></tr><tr><td>val_ks_pval</td><td>0.0</td></tr><tr><td>val_log_loss</td><td>0.45708</td></tr></table><br/></div></div>"
            ],
            "text/plain": [
              "<IPython.core.display.HTML object>"
            ]
          },
          "metadata": {},
          "output_type": "display_data"
        },
        {
          "data": {
            "text/html": [
              " View run <strong style=\"color:#cdcd00\">blooming-sweep-86</strong> at: <a href='https://wandb.ai/max-deep/titanic_survived/runs/rqj7jsxh' target=\"_blank\">https://wandb.ai/max-deep/titanic_survived/runs/rqj7jsxh</a><br/>Synced 4 W&B file(s), 6 media file(s), 12 artifact file(s) and 1 other file(s)"
            ],
            "text/plain": [
              "<IPython.core.display.HTML object>"
            ]
          },
          "metadata": {},
          "output_type": "display_data"
        },
        {
          "data": {
            "text/html": [
              "Find logs at: <code>.\\wandb\\run-20231005_144719-rqj7jsxh\\logs</code>"
            ],
            "text/plain": [
              "<IPython.core.display.HTML object>"
            ]
          },
          "metadata": {},
          "output_type": "display_data"
        },
        {
          "name": "stderr",
          "output_type": "stream",
          "text": [
            "\u001b[34m\u001b[1mwandb\u001b[0m: Agent Starting Run: hqc5qu4l with config:\n",
            "\u001b[34m\u001b[1mwandb\u001b[0m: \tcolsample_bytree: 0.9573209444671676\n",
            "\u001b[34m\u001b[1mwandb\u001b[0m: \tlearning_rate: 0.6951308205575037\n",
            "\u001b[34m\u001b[1mwandb\u001b[0m: \tmax_depth: 9\n",
            "\u001b[34m\u001b[1mwandb\u001b[0m: \tmin_child_weight: 10\n",
            "\u001b[34m\u001b[1mwandb\u001b[0m: \tn_estimators: 150\n",
            "\u001b[34m\u001b[1mwandb\u001b[0m: \tsubsample: 0.768217984100288\n"
          ]
        },
        {
          "data": {
            "text/html": [
              "wandb version 0.15.12 is available!  To upgrade, please run:\n",
              " $ pip install wandb --upgrade"
            ],
            "text/plain": [
              "<IPython.core.display.HTML object>"
            ]
          },
          "metadata": {},
          "output_type": "display_data"
        },
        {
          "data": {
            "text/html": [
              "Tracking run with wandb version 0.15.11"
            ],
            "text/plain": [
              "<IPython.core.display.HTML object>"
            ]
          },
          "metadata": {},
          "output_type": "display_data"
        },
        {
          "data": {
            "text/html": [
              "Run data is saved locally in <code>c:\\Users\\Maxpo\\Documents\\GitHub\\tabular-data-prediction-pipeline\\wandb\\run-20231005_144756-hqc5qu4l</code>"
            ],
            "text/plain": [
              "<IPython.core.display.HTML object>"
            ]
          },
          "metadata": {},
          "output_type": "display_data"
        },
        {
          "data": {
            "text/html": [
              "Syncing run <strong><a href='https://wandb.ai/max-deep/titanic_survived/runs/hqc5qu4l' target=\"_blank\">grateful-sweep-87</a></strong> to <a href='https://wandb.ai/max-deep/titanic_survived' target=\"_blank\">Weights & Biases</a> (<a href='https://wandb.me/run' target=\"_blank\">docs</a>)<br/>Sweep page: <a href='https://wandb.ai/max-deep/titanic_survived/sweeps/6zycoh6c' target=\"_blank\">https://wandb.ai/max-deep/titanic_survived/sweeps/6zycoh6c</a>"
            ],
            "text/plain": [
              "<IPython.core.display.HTML object>"
            ]
          },
          "metadata": {},
          "output_type": "display_data"
        },
        {
          "data": {
            "text/html": [
              " View project at <a href='https://wandb.ai/max-deep/titanic_survived' target=\"_blank\">https://wandb.ai/max-deep/titanic_survived</a>"
            ],
            "text/plain": [
              "<IPython.core.display.HTML object>"
            ]
          },
          "metadata": {},
          "output_type": "display_data"
        },
        {
          "data": {
            "text/html": [
              " View sweep at <a href='https://wandb.ai/max-deep/titanic_survived/sweeps/6zycoh6c' target=\"_blank\">https://wandb.ai/max-deep/titanic_survived/sweeps/6zycoh6c</a>"
            ],
            "text/plain": [
              "<IPython.core.display.HTML object>"
            ]
          },
          "metadata": {},
          "output_type": "display_data"
        },
        {
          "data": {
            "text/html": [
              " View run at <a href='https://wandb.ai/max-deep/titanic_survived/runs/hqc5qu4l' target=\"_blank\">https://wandb.ai/max-deep/titanic_survived/runs/hqc5qu4l</a>"
            ],
            "text/plain": [
              "<IPython.core.display.HTML object>"
            ]
          },
          "metadata": {},
          "output_type": "display_data"
        },
        {
          "data": {
            "text/html": [
              "Waiting for W&B process to finish... <strong style=\"color:green\">(success).</strong>"
            ],
            "text/plain": [
              "<IPython.core.display.HTML object>"
            ]
          },
          "metadata": {},
          "output_type": "display_data"
        },
        {
          "data": {
            "text/html": [
              "<style>\n",
              "    table.wandb td:nth-child(1) { padding: 0 10px; text-align: left ; width: auto;} td:nth-child(2) {text-align: left ; width: 100%}\n",
              "    .wandb-row { display: flex; flex-direction: row; flex-wrap: wrap; justify-content: flex-start; width: 100% }\n",
              "    .wandb-col { display: flex; flex-direction: column; flex-basis: 100%; flex: 1; padding: 10px; }\n",
              "    </style>\n",
              "<div class=\"wandb-row\"><div class=\"wandb-col\"><h3>Run history:</h3><br/><table class=\"wandb\"><tr><td>epoch</td><td>▁▂▃▄▅▇█▁▃▄▅▆▇▁▂▃▄▅▆█▁▂▃▅▆▇█▂▃▄▅▆▇▁▂▃▄▆▇█</td></tr></table><br/></div><div class=\"wandb-col\"><h3>Run summary:</h3><br/><table class=\"wandb\"><tr><td>epoch</td><td>149</td></tr><tr><td>mean_cv_accuracy</td><td>0.82311</td></tr><tr><td>train_auc</td><td>0.95862</td></tr><tr><td>train_ks_stat</td><td>0.78881</td></tr><tr><td>train_log_loss</td><td>0.2564</td></tr><tr><td>val_acc_0.5</td><td>0.82123</td></tr><tr><td>val_acc_best_trh</td><td>0.83799</td></tr><tr><td>val_auc</td><td>0.84486</td></tr><tr><td>val_ks_2samp</td><td>0.61752</td></tr><tr><td>val_ks_pval</td><td>0.0</td></tr><tr><td>val_log_loss</td><td>0.47478</td></tr></table><br/></div></div>"
            ],
            "text/plain": [
              "<IPython.core.display.HTML object>"
            ]
          },
          "metadata": {},
          "output_type": "display_data"
        },
        {
          "data": {
            "text/html": [
              " View run <strong style=\"color:#cdcd00\">grateful-sweep-87</strong> at: <a href='https://wandb.ai/max-deep/titanic_survived/runs/hqc5qu4l' target=\"_blank\">https://wandb.ai/max-deep/titanic_survived/runs/hqc5qu4l</a><br/>Synced 4 W&B file(s), 6 media file(s), 12 artifact file(s) and 1 other file(s)"
            ],
            "text/plain": [
              "<IPython.core.display.HTML object>"
            ]
          },
          "metadata": {},
          "output_type": "display_data"
        },
        {
          "data": {
            "text/html": [
              "Find logs at: <code>.\\wandb\\run-20231005_144756-hqc5qu4l\\logs</code>"
            ],
            "text/plain": [
              "<IPython.core.display.HTML object>"
            ]
          },
          "metadata": {},
          "output_type": "display_data"
        },
        {
          "name": "stderr",
          "output_type": "stream",
          "text": [
            "\u001b[34m\u001b[1mwandb\u001b[0m: Agent Starting Run: qsddsaw8 with config:\n",
            "\u001b[34m\u001b[1mwandb\u001b[0m: \tcolsample_bytree: 0.7984542762408746\n",
            "\u001b[34m\u001b[1mwandb\u001b[0m: \tlearning_rate: 0.6623510320004894\n",
            "\u001b[34m\u001b[1mwandb\u001b[0m: \tmax_depth: 8\n",
            "\u001b[34m\u001b[1mwandb\u001b[0m: \tmin_child_weight: 10\n",
            "\u001b[34m\u001b[1mwandb\u001b[0m: \tn_estimators: 90\n",
            "\u001b[34m\u001b[1mwandb\u001b[0m: \tsubsample: 0.8015176122955734\n"
          ]
        },
        {
          "data": {
            "text/html": [
              "wandb version 0.15.12 is available!  To upgrade, please run:\n",
              " $ pip install wandb --upgrade"
            ],
            "text/plain": [
              "<IPython.core.display.HTML object>"
            ]
          },
          "metadata": {},
          "output_type": "display_data"
        },
        {
          "data": {
            "text/html": [
              "Tracking run with wandb version 0.15.11"
            ],
            "text/plain": [
              "<IPython.core.display.HTML object>"
            ]
          },
          "metadata": {},
          "output_type": "display_data"
        },
        {
          "data": {
            "text/html": [
              "Run data is saved locally in <code>c:\\Users\\Maxpo\\Documents\\GitHub\\tabular-data-prediction-pipeline\\wandb\\run-20231005_144833-qsddsaw8</code>"
            ],
            "text/plain": [
              "<IPython.core.display.HTML object>"
            ]
          },
          "metadata": {},
          "output_type": "display_data"
        },
        {
          "data": {
            "text/html": [
              "Syncing run <strong><a href='https://wandb.ai/max-deep/titanic_survived/runs/qsddsaw8' target=\"_blank\">wise-sweep-88</a></strong> to <a href='https://wandb.ai/max-deep/titanic_survived' target=\"_blank\">Weights & Biases</a> (<a href='https://wandb.me/run' target=\"_blank\">docs</a>)<br/>Sweep page: <a href='https://wandb.ai/max-deep/titanic_survived/sweeps/6zycoh6c' target=\"_blank\">https://wandb.ai/max-deep/titanic_survived/sweeps/6zycoh6c</a>"
            ],
            "text/plain": [
              "<IPython.core.display.HTML object>"
            ]
          },
          "metadata": {},
          "output_type": "display_data"
        },
        {
          "data": {
            "text/html": [
              " View project at <a href='https://wandb.ai/max-deep/titanic_survived' target=\"_blank\">https://wandb.ai/max-deep/titanic_survived</a>"
            ],
            "text/plain": [
              "<IPython.core.display.HTML object>"
            ]
          },
          "metadata": {},
          "output_type": "display_data"
        },
        {
          "data": {
            "text/html": [
              " View sweep at <a href='https://wandb.ai/max-deep/titanic_survived/sweeps/6zycoh6c' target=\"_blank\">https://wandb.ai/max-deep/titanic_survived/sweeps/6zycoh6c</a>"
            ],
            "text/plain": [
              "<IPython.core.display.HTML object>"
            ]
          },
          "metadata": {},
          "output_type": "display_data"
        },
        {
          "data": {
            "text/html": [
              " View run at <a href='https://wandb.ai/max-deep/titanic_survived/runs/qsddsaw8' target=\"_blank\">https://wandb.ai/max-deep/titanic_survived/runs/qsddsaw8</a>"
            ],
            "text/plain": [
              "<IPython.core.display.HTML object>"
            ]
          },
          "metadata": {},
          "output_type": "display_data"
        },
        {
          "data": {
            "text/html": [
              "Waiting for W&B process to finish... <strong style=\"color:green\">(success).</strong>"
            ],
            "text/plain": [
              "<IPython.core.display.HTML object>"
            ]
          },
          "metadata": {},
          "output_type": "display_data"
        },
        {
          "data": {
            "text/html": [
              "<style>\n",
              "    table.wandb td:nth-child(1) { padding: 0 10px; text-align: left ; width: auto;} td:nth-child(2) {text-align: left ; width: 100%}\n",
              "    .wandb-row { display: flex; flex-direction: row; flex-wrap: wrap; justify-content: flex-start; width: 100% }\n",
              "    .wandb-col { display: flex; flex-direction: column; flex-basis: 100%; flex: 1; padding: 10px; }\n",
              "    </style>\n",
              "<div class=\"wandb-row\"><div class=\"wandb-col\"><h3>Run history:</h3><br/><table class=\"wandb\"><tr><td>epoch</td><td>▁▂▃▅▅▇█▁▃▄▅▆▇▁▂▃▄▅▆█▁▂▄▄▅▇█▁▃▄▅▆▇█▂▃▄▅▆█</td></tr></table><br/></div><div class=\"wandb-col\"><h3>Run summary:</h3><br/><table class=\"wandb\"><tr><td>epoch</td><td>89</td></tr><tr><td>mean_cv_accuracy</td><td>0.8217</td></tr><tr><td>train_auc</td><td>0.95089</td></tr><tr><td>train_ks_stat</td><td>0.75969</td></tr><tr><td>train_log_loss</td><td>0.28489</td></tr><tr><td>val_acc_0.5</td><td>0.80447</td></tr><tr><td>val_acc_best_trh</td><td>0.83799</td></tr><tr><td>val_auc</td><td>0.84084</td></tr><tr><td>val_ks_2samp</td><td>0.62292</td></tr><tr><td>val_ks_pval</td><td>0.0</td></tr><tr><td>val_log_loss</td><td>0.47235</td></tr></table><br/></div></div>"
            ],
            "text/plain": [
              "<IPython.core.display.HTML object>"
            ]
          },
          "metadata": {},
          "output_type": "display_data"
        },
        {
          "data": {
            "text/html": [
              " View run <strong style=\"color:#cdcd00\">wise-sweep-88</strong> at: <a href='https://wandb.ai/max-deep/titanic_survived/runs/qsddsaw8' target=\"_blank\">https://wandb.ai/max-deep/titanic_survived/runs/qsddsaw8</a><br/>Synced 4 W&B file(s), 6 media file(s), 12 artifact file(s) and 1 other file(s)"
            ],
            "text/plain": [
              "<IPython.core.display.HTML object>"
            ]
          },
          "metadata": {},
          "output_type": "display_data"
        },
        {
          "data": {
            "text/html": [
              "Find logs at: <code>.\\wandb\\run-20231005_144833-qsddsaw8\\logs</code>"
            ],
            "text/plain": [
              "<IPython.core.display.HTML object>"
            ]
          },
          "metadata": {},
          "output_type": "display_data"
        },
        {
          "name": "stderr",
          "output_type": "stream",
          "text": [
            "\u001b[34m\u001b[1mwandb\u001b[0m: Agent Starting Run: 4lm2le0r with config:\n",
            "\u001b[34m\u001b[1mwandb\u001b[0m: \tcolsample_bytree: 0.9721147717179656\n",
            "\u001b[34m\u001b[1mwandb\u001b[0m: \tlearning_rate: 0.7435858413808984\n",
            "\u001b[34m\u001b[1mwandb\u001b[0m: \tmax_depth: 10\n",
            "\u001b[34m\u001b[1mwandb\u001b[0m: \tmin_child_weight: 10\n",
            "\u001b[34m\u001b[1mwandb\u001b[0m: \tn_estimators: 60\n",
            "\u001b[34m\u001b[1mwandb\u001b[0m: \tsubsample: 0.7011340498494306\n"
          ]
        },
        {
          "data": {
            "text/html": [
              "wandb version 0.15.12 is available!  To upgrade, please run:\n",
              " $ pip install wandb --upgrade"
            ],
            "text/plain": [
              "<IPython.core.display.HTML object>"
            ]
          },
          "metadata": {},
          "output_type": "display_data"
        },
        {
          "data": {
            "text/html": [
              "Tracking run with wandb version 0.15.11"
            ],
            "text/plain": [
              "<IPython.core.display.HTML object>"
            ]
          },
          "metadata": {},
          "output_type": "display_data"
        },
        {
          "data": {
            "text/html": [
              "Run data is saved locally in <code>c:\\Users\\Maxpo\\Documents\\GitHub\\tabular-data-prediction-pipeline\\wandb\\run-20231005_144909-4lm2le0r</code>"
            ],
            "text/plain": [
              "<IPython.core.display.HTML object>"
            ]
          },
          "metadata": {},
          "output_type": "display_data"
        },
        {
          "data": {
            "text/html": [
              "Syncing run <strong><a href='https://wandb.ai/max-deep/titanic_survived/runs/4lm2le0r' target=\"_blank\">stellar-sweep-89</a></strong> to <a href='https://wandb.ai/max-deep/titanic_survived' target=\"_blank\">Weights & Biases</a> (<a href='https://wandb.me/run' target=\"_blank\">docs</a>)<br/>Sweep page: <a href='https://wandb.ai/max-deep/titanic_survived/sweeps/6zycoh6c' target=\"_blank\">https://wandb.ai/max-deep/titanic_survived/sweeps/6zycoh6c</a>"
            ],
            "text/plain": [
              "<IPython.core.display.HTML object>"
            ]
          },
          "metadata": {},
          "output_type": "display_data"
        },
        {
          "data": {
            "text/html": [
              " View project at <a href='https://wandb.ai/max-deep/titanic_survived' target=\"_blank\">https://wandb.ai/max-deep/titanic_survived</a>"
            ],
            "text/plain": [
              "<IPython.core.display.HTML object>"
            ]
          },
          "metadata": {},
          "output_type": "display_data"
        },
        {
          "data": {
            "text/html": [
              " View sweep at <a href='https://wandb.ai/max-deep/titanic_survived/sweeps/6zycoh6c' target=\"_blank\">https://wandb.ai/max-deep/titanic_survived/sweeps/6zycoh6c</a>"
            ],
            "text/plain": [
              "<IPython.core.display.HTML object>"
            ]
          },
          "metadata": {},
          "output_type": "display_data"
        },
        {
          "data": {
            "text/html": [
              " View run at <a href='https://wandb.ai/max-deep/titanic_survived/runs/4lm2le0r' target=\"_blank\">https://wandb.ai/max-deep/titanic_survived/runs/4lm2le0r</a>"
            ],
            "text/plain": [
              "<IPython.core.display.HTML object>"
            ]
          },
          "metadata": {},
          "output_type": "display_data"
        },
        {
          "data": {
            "text/html": [
              "Waiting for W&B process to finish... <strong style=\"color:green\">(success).</strong>"
            ],
            "text/plain": [
              "<IPython.core.display.HTML object>"
            ]
          },
          "metadata": {},
          "output_type": "display_data"
        },
        {
          "data": {
            "text/html": [
              "<style>\n",
              "    table.wandb td:nth-child(1) { padding: 0 10px; text-align: left ; width: auto;} td:nth-child(2) {text-align: left ; width: 100%}\n",
              "    .wandb-row { display: flex; flex-direction: row; flex-wrap: wrap; justify-content: flex-start; width: 100% }\n",
              "    .wandb-col { display: flex; flex-direction: column; flex-basis: 100%; flex: 1; padding: 10px; }\n",
              "    </style>\n",
              "<div class=\"wandb-row\"><div class=\"wandb-col\"><h3>Run history:</h3><br/><table class=\"wandb\"><tr><td>epoch</td><td>▁▂▃▄▅▇▇▁▃▃▅▆▇█▁▃▄▅▇▇▁▂▃▅▅▇█▁▃▄▅▆▇▁▂▃▅▅▇█</td></tr></table><br/></div><div class=\"wandb-col\"><h3>Run summary:</h3><br/><table class=\"wandb\"><tr><td>epoch</td><td>59</td></tr><tr><td>mean_cv_accuracy</td><td>0.82312</td></tr><tr><td>train_auc</td><td>0.93496</td></tr><tr><td>train_ks_stat</td><td>0.75178</td></tr><tr><td>train_log_loss</td><td>0.30886</td></tr><tr><td>val_acc_0.5</td><td>0.81564</td></tr><tr><td>val_acc_best_trh</td><td>0.82123</td></tr><tr><td>val_auc</td><td>0.83814</td></tr><tr><td>val_ks_2samp</td><td>0.57945</td></tr><tr><td>val_ks_pval</td><td>0.0</td></tr><tr><td>val_log_loss</td><td>0.47226</td></tr></table><br/></div></div>"
            ],
            "text/plain": [
              "<IPython.core.display.HTML object>"
            ]
          },
          "metadata": {},
          "output_type": "display_data"
        },
        {
          "data": {
            "text/html": [
              " View run <strong style=\"color:#cdcd00\">stellar-sweep-89</strong> at: <a href='https://wandb.ai/max-deep/titanic_survived/runs/4lm2le0r' target=\"_blank\">https://wandb.ai/max-deep/titanic_survived/runs/4lm2le0r</a><br/>Synced 4 W&B file(s), 6 media file(s), 12 artifact file(s) and 1 other file(s)"
            ],
            "text/plain": [
              "<IPython.core.display.HTML object>"
            ]
          },
          "metadata": {},
          "output_type": "display_data"
        },
        {
          "data": {
            "text/html": [
              "Find logs at: <code>.\\wandb\\run-20231005_144909-4lm2le0r\\logs</code>"
            ],
            "text/plain": [
              "<IPython.core.display.HTML object>"
            ]
          },
          "metadata": {},
          "output_type": "display_data"
        },
        {
          "name": "stderr",
          "output_type": "stream",
          "text": [
            "\u001b[34m\u001b[1mwandb\u001b[0m: Sweep Agent: Waiting for job.\n",
            "\u001b[34m\u001b[1mwandb\u001b[0m: Job received.\n",
            "\u001b[34m\u001b[1mwandb\u001b[0m: Agent Starting Run: 3s55yzk2 with config:\n",
            "\u001b[34m\u001b[1mwandb\u001b[0m: \tcolsample_bytree: 0.9934755612258908\n",
            "\u001b[34m\u001b[1mwandb\u001b[0m: \tlearning_rate: 0.6606535321697234\n",
            "\u001b[34m\u001b[1mwandb\u001b[0m: \tmax_depth: 3\n",
            "\u001b[34m\u001b[1mwandb\u001b[0m: \tmin_child_weight: 8\n",
            "\u001b[34m\u001b[1mwandb\u001b[0m: \tn_estimators: 30\n",
            "\u001b[34m\u001b[1mwandb\u001b[0m: \tsubsample: 0.549222213039269\n"
          ]
        },
        {
          "data": {
            "text/html": [
              "wandb version 0.15.12 is available!  To upgrade, please run:\n",
              " $ pip install wandb --upgrade"
            ],
            "text/plain": [
              "<IPython.core.display.HTML object>"
            ]
          },
          "metadata": {},
          "output_type": "display_data"
        },
        {
          "data": {
            "text/html": [
              "Tracking run with wandb version 0.15.11"
            ],
            "text/plain": [
              "<IPython.core.display.HTML object>"
            ]
          },
          "metadata": {},
          "output_type": "display_data"
        },
        {
          "data": {
            "text/html": [
              "Run data is saved locally in <code>c:\\Users\\Maxpo\\Documents\\GitHub\\tabular-data-prediction-pipeline\\wandb\\run-20231005_144950-3s55yzk2</code>"
            ],
            "text/plain": [
              "<IPython.core.display.HTML object>"
            ]
          },
          "metadata": {},
          "output_type": "display_data"
        },
        {
          "data": {
            "text/html": [
              "Syncing run <strong><a href='https://wandb.ai/max-deep/titanic_survived/runs/3s55yzk2' target=\"_blank\">daily-sweep-90</a></strong> to <a href='https://wandb.ai/max-deep/titanic_survived' target=\"_blank\">Weights & Biases</a> (<a href='https://wandb.me/run' target=\"_blank\">docs</a>)<br/>Sweep page: <a href='https://wandb.ai/max-deep/titanic_survived/sweeps/6zycoh6c' target=\"_blank\">https://wandb.ai/max-deep/titanic_survived/sweeps/6zycoh6c</a>"
            ],
            "text/plain": [
              "<IPython.core.display.HTML object>"
            ]
          },
          "metadata": {},
          "output_type": "display_data"
        },
        {
          "data": {
            "text/html": [
              " View project at <a href='https://wandb.ai/max-deep/titanic_survived' target=\"_blank\">https://wandb.ai/max-deep/titanic_survived</a>"
            ],
            "text/plain": [
              "<IPython.core.display.HTML object>"
            ]
          },
          "metadata": {},
          "output_type": "display_data"
        },
        {
          "data": {
            "text/html": [
              " View sweep at <a href='https://wandb.ai/max-deep/titanic_survived/sweeps/6zycoh6c' target=\"_blank\">https://wandb.ai/max-deep/titanic_survived/sweeps/6zycoh6c</a>"
            ],
            "text/plain": [
              "<IPython.core.display.HTML object>"
            ]
          },
          "metadata": {},
          "output_type": "display_data"
        },
        {
          "data": {
            "text/html": [
              " View run at <a href='https://wandb.ai/max-deep/titanic_survived/runs/3s55yzk2' target=\"_blank\">https://wandb.ai/max-deep/titanic_survived/runs/3s55yzk2</a>"
            ],
            "text/plain": [
              "<IPython.core.display.HTML object>"
            ]
          },
          "metadata": {},
          "output_type": "display_data"
        },
        {
          "data": {
            "text/html": [
              "Waiting for W&B process to finish... <strong style=\"color:green\">(success).</strong>"
            ],
            "text/plain": [
              "<IPython.core.display.HTML object>"
            ]
          },
          "metadata": {},
          "output_type": "display_data"
        },
        {
          "data": {
            "text/html": [
              "<style>\n",
              "    table.wandb td:nth-child(1) { padding: 0 10px; text-align: left ; width: auto;} td:nth-child(2) {text-align: left ; width: 100%}\n",
              "    .wandb-row { display: flex; flex-direction: row; flex-wrap: wrap; justify-content: flex-start; width: 100% }\n",
              "    .wandb-col { display: flex; flex-direction: column; flex-basis: 100%; flex: 1; padding: 10px; }\n",
              "    </style>\n",
              "<div class=\"wandb-row\"><div class=\"wandb-col\"><h3>Run history:</h3><br/><table class=\"wandb\"><tr><td>epoch</td><td>▁▂▃▄▅▇▇▁▃▃▅▆▇█▁▃▄▅▇▇▁▂▃▅▅▇█▁▃▄▅▆▇▁▂▃▅▅▇█</td></tr></table><br/></div><div class=\"wandb-col\"><h3>Run summary:</h3><br/><table class=\"wandb\"><tr><td>epoch</td><td>29</td></tr><tr><td>mean_cv_accuracy</td><td>0.8049</td></tr><tr><td>train_auc</td><td>0.91857</td></tr><tr><td>train_ks_stat</td><td>0.69514</td></tr><tr><td>train_log_loss</td><td>0.35203</td></tr><tr><td>val_acc_0.5</td><td>0.77095</td></tr><tr><td>val_acc_best_trh</td><td>0.81006</td></tr><tr><td>val_auc</td><td>0.80988</td></tr><tr><td>val_ks_2samp</td><td>0.53966</td></tr><tr><td>val_ks_pval</td><td>0.0</td></tr><tr><td>val_log_loss</td><td>0.49462</td></tr></table><br/></div></div>"
            ],
            "text/plain": [
              "<IPython.core.display.HTML object>"
            ]
          },
          "metadata": {},
          "output_type": "display_data"
        },
        {
          "data": {
            "text/html": [
              " View run <strong style=\"color:#cdcd00\">daily-sweep-90</strong> at: <a href='https://wandb.ai/max-deep/titanic_survived/runs/3s55yzk2' target=\"_blank\">https://wandb.ai/max-deep/titanic_survived/runs/3s55yzk2</a><br/>Synced 4 W&B file(s), 6 media file(s), 12 artifact file(s) and 1 other file(s)"
            ],
            "text/plain": [
              "<IPython.core.display.HTML object>"
            ]
          },
          "metadata": {},
          "output_type": "display_data"
        },
        {
          "data": {
            "text/html": [
              "Find logs at: <code>.\\wandb\\run-20231005_144950-3s55yzk2\\logs</code>"
            ],
            "text/plain": [
              "<IPython.core.display.HTML object>"
            ]
          },
          "metadata": {},
          "output_type": "display_data"
        },
        {
          "name": "stderr",
          "output_type": "stream",
          "text": [
            "\u001b[34m\u001b[1mwandb\u001b[0m: Agent Starting Run: n4prstc4 with config:\n",
            "\u001b[34m\u001b[1mwandb\u001b[0m: \tcolsample_bytree: 0.923504842092684\n",
            "\u001b[34m\u001b[1mwandb\u001b[0m: \tlearning_rate: 0.5845273375178796\n",
            "\u001b[34m\u001b[1mwandb\u001b[0m: \tmax_depth: 10\n",
            "\u001b[34m\u001b[1mwandb\u001b[0m: \tmin_child_weight: 9\n",
            "\u001b[34m\u001b[1mwandb\u001b[0m: \tn_estimators: 90\n",
            "\u001b[34m\u001b[1mwandb\u001b[0m: \tsubsample: 0.7988567604518124\n"
          ]
        },
        {
          "data": {
            "text/html": [
              "wandb version 0.15.12 is available!  To upgrade, please run:\n",
              " $ pip install wandb --upgrade"
            ],
            "text/plain": [
              "<IPython.core.display.HTML object>"
            ]
          },
          "metadata": {},
          "output_type": "display_data"
        },
        {
          "data": {
            "text/html": [
              "Tracking run with wandb version 0.15.11"
            ],
            "text/plain": [
              "<IPython.core.display.HTML object>"
            ]
          },
          "metadata": {},
          "output_type": "display_data"
        },
        {
          "data": {
            "text/html": [
              "Run data is saved locally in <code>c:\\Users\\Maxpo\\Documents\\GitHub\\tabular-data-prediction-pipeline\\wandb\\run-20231005_145028-n4prstc4</code>"
            ],
            "text/plain": [
              "<IPython.core.display.HTML object>"
            ]
          },
          "metadata": {},
          "output_type": "display_data"
        },
        {
          "data": {
            "text/html": [
              "Syncing run <strong><a href='https://wandb.ai/max-deep/titanic_survived/runs/n4prstc4' target=\"_blank\">splendid-sweep-91</a></strong> to <a href='https://wandb.ai/max-deep/titanic_survived' target=\"_blank\">Weights & Biases</a> (<a href='https://wandb.me/run' target=\"_blank\">docs</a>)<br/>Sweep page: <a href='https://wandb.ai/max-deep/titanic_survived/sweeps/6zycoh6c' target=\"_blank\">https://wandb.ai/max-deep/titanic_survived/sweeps/6zycoh6c</a>"
            ],
            "text/plain": [
              "<IPython.core.display.HTML object>"
            ]
          },
          "metadata": {},
          "output_type": "display_data"
        },
        {
          "data": {
            "text/html": [
              " View project at <a href='https://wandb.ai/max-deep/titanic_survived' target=\"_blank\">https://wandb.ai/max-deep/titanic_survived</a>"
            ],
            "text/plain": [
              "<IPython.core.display.HTML object>"
            ]
          },
          "metadata": {},
          "output_type": "display_data"
        },
        {
          "data": {
            "text/html": [
              " View sweep at <a href='https://wandb.ai/max-deep/titanic_survived/sweeps/6zycoh6c' target=\"_blank\">https://wandb.ai/max-deep/titanic_survived/sweeps/6zycoh6c</a>"
            ],
            "text/plain": [
              "<IPython.core.display.HTML object>"
            ]
          },
          "metadata": {},
          "output_type": "display_data"
        },
        {
          "data": {
            "text/html": [
              " View run at <a href='https://wandb.ai/max-deep/titanic_survived/runs/n4prstc4' target=\"_blank\">https://wandb.ai/max-deep/titanic_survived/runs/n4prstc4</a>"
            ],
            "text/plain": [
              "<IPython.core.display.HTML object>"
            ]
          },
          "metadata": {},
          "output_type": "display_data"
        },
        {
          "data": {
            "text/html": [
              "Waiting for W&B process to finish... <strong style=\"color:green\">(success).</strong>"
            ],
            "text/plain": [
              "<IPython.core.display.HTML object>"
            ]
          },
          "metadata": {},
          "output_type": "display_data"
        },
        {
          "data": {
            "text/html": [
              "<style>\n",
              "    table.wandb td:nth-child(1) { padding: 0 10px; text-align: left ; width: auto;} td:nth-child(2) {text-align: left ; width: 100%}\n",
              "    .wandb-row { display: flex; flex-direction: row; flex-wrap: wrap; justify-content: flex-start; width: 100% }\n",
              "    .wandb-col { display: flex; flex-direction: column; flex-basis: 100%; flex: 1; padding: 10px; }\n",
              "    </style>\n",
              "<div class=\"wandb-row\"><div class=\"wandb-col\"><h3>Run history:</h3><br/><table class=\"wandb\"><tr><td>epoch</td><td>▁▂▃▅▅▇█▁▃▄▅▆▇▁▂▃▄▅▆█▁▂▄▄▅▇█▁▃▄▅▆▇█▂▃▄▅▆█</td></tr></table><br/></div><div class=\"wandb-col\"><h3>Run summary:</h3><br/><table class=\"wandb\"><tr><td>epoch</td><td>89</td></tr><tr><td>mean_cv_accuracy</td><td>0.83298</td></tr><tr><td>train_auc</td><td>0.95351</td></tr><tr><td>train_ks_stat</td><td>0.79622</td></tr><tr><td>train_log_loss</td><td>0.28178</td></tr><tr><td>val_acc_0.5</td><td>0.82682</td></tr><tr><td>val_acc_best_trh</td><td>0.84916</td></tr><tr><td>val_auc</td><td>0.86357</td></tr><tr><td>val_ks_2samp</td><td>0.6303</td></tr><tr><td>val_ks_pval</td><td>0.0</td></tr><tr><td>val_log_loss</td><td>0.43217</td></tr></table><br/></div></div>"
            ],
            "text/plain": [
              "<IPython.core.display.HTML object>"
            ]
          },
          "metadata": {},
          "output_type": "display_data"
        },
        {
          "data": {
            "text/html": [
              " View run <strong style=\"color:#cdcd00\">splendid-sweep-91</strong> at: <a href='https://wandb.ai/max-deep/titanic_survived/runs/n4prstc4' target=\"_blank\">https://wandb.ai/max-deep/titanic_survived/runs/n4prstc4</a><br/>Synced 4 W&B file(s), 6 media file(s), 12 artifact file(s) and 1 other file(s)"
            ],
            "text/plain": [
              "<IPython.core.display.HTML object>"
            ]
          },
          "metadata": {},
          "output_type": "display_data"
        },
        {
          "data": {
            "text/html": [
              "Find logs at: <code>.\\wandb\\run-20231005_145028-n4prstc4\\logs</code>"
            ],
            "text/plain": [
              "<IPython.core.display.HTML object>"
            ]
          },
          "metadata": {},
          "output_type": "display_data"
        },
        {
          "name": "stderr",
          "output_type": "stream",
          "text": [
            "\u001b[34m\u001b[1mwandb\u001b[0m: Agent Starting Run: b455r1jy with config:\n",
            "\u001b[34m\u001b[1mwandb\u001b[0m: \tcolsample_bytree: 0.9145868635724188\n",
            "\u001b[34m\u001b[1mwandb\u001b[0m: \tlearning_rate: 0.4823283869793642\n",
            "\u001b[34m\u001b[1mwandb\u001b[0m: \tmax_depth: 9\n",
            "\u001b[34m\u001b[1mwandb\u001b[0m: \tmin_child_weight: 10\n",
            "\u001b[34m\u001b[1mwandb\u001b[0m: \tn_estimators: 30\n",
            "\u001b[34m\u001b[1mwandb\u001b[0m: \tsubsample: 0.7388106463049158\n"
          ]
        },
        {
          "data": {
            "text/html": [
              "wandb version 0.15.12 is available!  To upgrade, please run:\n",
              " $ pip install wandb --upgrade"
            ],
            "text/plain": [
              "<IPython.core.display.HTML object>"
            ]
          },
          "metadata": {},
          "output_type": "display_data"
        },
        {
          "data": {
            "text/html": [
              "Tracking run with wandb version 0.15.11"
            ],
            "text/plain": [
              "<IPython.core.display.HTML object>"
            ]
          },
          "metadata": {},
          "output_type": "display_data"
        },
        {
          "data": {
            "text/html": [
              "Run data is saved locally in <code>c:\\Users\\Maxpo\\Documents\\GitHub\\tabular-data-prediction-pipeline\\wandb\\run-20231005_145105-b455r1jy</code>"
            ],
            "text/plain": [
              "<IPython.core.display.HTML object>"
            ]
          },
          "metadata": {},
          "output_type": "display_data"
        },
        {
          "data": {
            "text/html": [
              "Syncing run <strong><a href='https://wandb.ai/max-deep/titanic_survived/runs/b455r1jy' target=\"_blank\">stoic-sweep-92</a></strong> to <a href='https://wandb.ai/max-deep/titanic_survived' target=\"_blank\">Weights & Biases</a> (<a href='https://wandb.me/run' target=\"_blank\">docs</a>)<br/>Sweep page: <a href='https://wandb.ai/max-deep/titanic_survived/sweeps/6zycoh6c' target=\"_blank\">https://wandb.ai/max-deep/titanic_survived/sweeps/6zycoh6c</a>"
            ],
            "text/plain": [
              "<IPython.core.display.HTML object>"
            ]
          },
          "metadata": {},
          "output_type": "display_data"
        },
        {
          "data": {
            "text/html": [
              " View project at <a href='https://wandb.ai/max-deep/titanic_survived' target=\"_blank\">https://wandb.ai/max-deep/titanic_survived</a>"
            ],
            "text/plain": [
              "<IPython.core.display.HTML object>"
            ]
          },
          "metadata": {},
          "output_type": "display_data"
        },
        {
          "data": {
            "text/html": [
              " View sweep at <a href='https://wandb.ai/max-deep/titanic_survived/sweeps/6zycoh6c' target=\"_blank\">https://wandb.ai/max-deep/titanic_survived/sweeps/6zycoh6c</a>"
            ],
            "text/plain": [
              "<IPython.core.display.HTML object>"
            ]
          },
          "metadata": {},
          "output_type": "display_data"
        },
        {
          "data": {
            "text/html": [
              " View run at <a href='https://wandb.ai/max-deep/titanic_survived/runs/b455r1jy' target=\"_blank\">https://wandb.ai/max-deep/titanic_survived/runs/b455r1jy</a>"
            ],
            "text/plain": [
              "<IPython.core.display.HTML object>"
            ]
          },
          "metadata": {},
          "output_type": "display_data"
        },
        {
          "data": {
            "text/html": [
              "Waiting for W&B process to finish... <strong style=\"color:green\">(success).</strong>"
            ],
            "text/plain": [
              "<IPython.core.display.HTML object>"
            ]
          },
          "metadata": {},
          "output_type": "display_data"
        },
        {
          "data": {
            "text/html": [
              "<style>\n",
              "    table.wandb td:nth-child(1) { padding: 0 10px; text-align: left ; width: auto;} td:nth-child(2) {text-align: left ; width: 100%}\n",
              "    .wandb-row { display: flex; flex-direction: row; flex-wrap: wrap; justify-content: flex-start; width: 100% }\n",
              "    .wandb-col { display: flex; flex-direction: column; flex-basis: 100%; flex: 1; padding: 10px; }\n",
              "    </style>\n",
              "<div class=\"wandb-row\"><div class=\"wandb-col\"><h3>Run history:</h3><br/><table class=\"wandb\"><tr><td>epoch</td><td>▁▂▃▄▅▇▇▁▃▃▅▆▇█▁▃▄▅▇▇▁▂▃▅▅▇█▁▃▄▅▆▇▁▂▃▅▅▇█</td></tr></table><br/></div><div class=\"wandb-col\"><h3>Run summary:</h3><br/><table class=\"wandb\"><tr><td>epoch</td><td>29</td></tr><tr><td>mean_cv_accuracy</td><td>0.80627</td></tr><tr><td>train_auc</td><td>0.9165</td></tr><tr><td>train_ks_stat</td><td>0.70215</td></tr><tr><td>train_log_loss</td><td>0.35214</td></tr><tr><td>val_acc_0.5</td><td>0.7933</td></tr><tr><td>val_acc_best_trh</td><td>0.79888</td></tr><tr><td>val_auc</td><td>0.84368</td></tr><tr><td>val_ks_2samp</td><td>0.5917</td></tr><tr><td>val_ks_pval</td><td>0.0</td></tr><tr><td>val_log_loss</td><td>0.45909</td></tr></table><br/></div></div>"
            ],
            "text/plain": [
              "<IPython.core.display.HTML object>"
            ]
          },
          "metadata": {},
          "output_type": "display_data"
        },
        {
          "data": {
            "text/html": [
              " View run <strong style=\"color:#cdcd00\">stoic-sweep-92</strong> at: <a href='https://wandb.ai/max-deep/titanic_survived/runs/b455r1jy' target=\"_blank\">https://wandb.ai/max-deep/titanic_survived/runs/b455r1jy</a><br/>Synced 4 W&B file(s), 6 media file(s), 12 artifact file(s) and 1 other file(s)"
            ],
            "text/plain": [
              "<IPython.core.display.HTML object>"
            ]
          },
          "metadata": {},
          "output_type": "display_data"
        },
        {
          "data": {
            "text/html": [
              "Find logs at: <code>.\\wandb\\run-20231005_145105-b455r1jy\\logs</code>"
            ],
            "text/plain": [
              "<IPython.core.display.HTML object>"
            ]
          },
          "metadata": {},
          "output_type": "display_data"
        },
        {
          "name": "stderr",
          "output_type": "stream",
          "text": [
            "\u001b[34m\u001b[1mwandb\u001b[0m: Agent Starting Run: ifn962jr with config:\n",
            "\u001b[34m\u001b[1mwandb\u001b[0m: \tcolsample_bytree: 0.7731174489279722\n",
            "\u001b[34m\u001b[1mwandb\u001b[0m: \tlearning_rate: 0.46679805557335674\n",
            "\u001b[34m\u001b[1mwandb\u001b[0m: \tmax_depth: 7\n",
            "\u001b[34m\u001b[1mwandb\u001b[0m: \tmin_child_weight: 9\n",
            "\u001b[34m\u001b[1mwandb\u001b[0m: \tn_estimators: 120\n",
            "\u001b[34m\u001b[1mwandb\u001b[0m: \tsubsample: 0.8610149254546461\n"
          ]
        },
        {
          "data": {
            "text/html": [
              "wandb version 0.15.12 is available!  To upgrade, please run:\n",
              " $ pip install wandb --upgrade"
            ],
            "text/plain": [
              "<IPython.core.display.HTML object>"
            ]
          },
          "metadata": {},
          "output_type": "display_data"
        },
        {
          "data": {
            "text/html": [
              "Tracking run with wandb version 0.15.11"
            ],
            "text/plain": [
              "<IPython.core.display.HTML object>"
            ]
          },
          "metadata": {},
          "output_type": "display_data"
        },
        {
          "data": {
            "text/html": [
              "Run data is saved locally in <code>c:\\Users\\Maxpo\\Documents\\GitHub\\tabular-data-prediction-pipeline\\wandb\\run-20231005_145141-ifn962jr</code>"
            ],
            "text/plain": [
              "<IPython.core.display.HTML object>"
            ]
          },
          "metadata": {},
          "output_type": "display_data"
        },
        {
          "data": {
            "text/html": [
              "Syncing run <strong><a href='https://wandb.ai/max-deep/titanic_survived/runs/ifn962jr' target=\"_blank\">legendary-sweep-93</a></strong> to <a href='https://wandb.ai/max-deep/titanic_survived' target=\"_blank\">Weights & Biases</a> (<a href='https://wandb.me/run' target=\"_blank\">docs</a>)<br/>Sweep page: <a href='https://wandb.ai/max-deep/titanic_survived/sweeps/6zycoh6c' target=\"_blank\">https://wandb.ai/max-deep/titanic_survived/sweeps/6zycoh6c</a>"
            ],
            "text/plain": [
              "<IPython.core.display.HTML object>"
            ]
          },
          "metadata": {},
          "output_type": "display_data"
        },
        {
          "data": {
            "text/html": [
              " View project at <a href='https://wandb.ai/max-deep/titanic_survived' target=\"_blank\">https://wandb.ai/max-deep/titanic_survived</a>"
            ],
            "text/plain": [
              "<IPython.core.display.HTML object>"
            ]
          },
          "metadata": {},
          "output_type": "display_data"
        },
        {
          "data": {
            "text/html": [
              " View sweep at <a href='https://wandb.ai/max-deep/titanic_survived/sweeps/6zycoh6c' target=\"_blank\">https://wandb.ai/max-deep/titanic_survived/sweeps/6zycoh6c</a>"
            ],
            "text/plain": [
              "<IPython.core.display.HTML object>"
            ]
          },
          "metadata": {},
          "output_type": "display_data"
        },
        {
          "data": {
            "text/html": [
              " View run at <a href='https://wandb.ai/max-deep/titanic_survived/runs/ifn962jr' target=\"_blank\">https://wandb.ai/max-deep/titanic_survived/runs/ifn962jr</a>"
            ],
            "text/plain": [
              "<IPython.core.display.HTML object>"
            ]
          },
          "metadata": {},
          "output_type": "display_data"
        },
        {
          "data": {
            "text/html": [
              "Waiting for W&B process to finish... <strong style=\"color:green\">(success).</strong>"
            ],
            "text/plain": [
              "<IPython.core.display.HTML object>"
            ]
          },
          "metadata": {},
          "output_type": "display_data"
        },
        {
          "data": {
            "text/html": [
              "<style>\n",
              "    table.wandb td:nth-child(1) { padding: 0 10px; text-align: left ; width: auto;} td:nth-child(2) {text-align: left ; width: 100%}\n",
              "    .wandb-row { display: flex; flex-direction: row; flex-wrap: wrap; justify-content: flex-start; width: 100% }\n",
              "    .wandb-col { display: flex; flex-direction: column; flex-basis: 100%; flex: 1; padding: 10px; }\n",
              "    </style>\n",
              "<div class=\"wandb-row\"><div class=\"wandb-col\"><h3>Run history:</h3><br/><table class=\"wandb\"><tr><td>epoch</td><td>▁▂▃▄▅▇▇▁▃▃▅▆▇█▁▃▄▅▇▇▁▂▃▅▅▇█▁▃▄▅▆▇▁▂▃▅▅▇█</td></tr></table><br/></div><div class=\"wandb-col\"><h3>Run summary:</h3><br/><table class=\"wandb\"><tr><td>epoch</td><td>119</td></tr><tr><td>mean_cv_accuracy</td><td>0.82873</td></tr><tr><td>train_auc</td><td>0.95393</td></tr><tr><td>train_ks_stat</td><td>0.79305</td></tr><tr><td>train_log_loss</td><td>0.26945</td></tr><tr><td>val_acc_0.5</td><td>0.8324</td></tr><tr><td>val_acc_best_trh</td><td>0.8324</td></tr><tr><td>val_auc</td><td>0.85224</td></tr><tr><td>val_ks_2samp</td><td>0.63544</td></tr><tr><td>val_ks_pval</td><td>0.0</td></tr><tr><td>val_log_loss</td><td>0.44379</td></tr></table><br/></div></div>"
            ],
            "text/plain": [
              "<IPython.core.display.HTML object>"
            ]
          },
          "metadata": {},
          "output_type": "display_data"
        },
        {
          "data": {
            "text/html": [
              " View run <strong style=\"color:#cdcd00\">legendary-sweep-93</strong> at: <a href='https://wandb.ai/max-deep/titanic_survived/runs/ifn962jr' target=\"_blank\">https://wandb.ai/max-deep/titanic_survived/runs/ifn962jr</a><br/>Synced 4 W&B file(s), 6 media file(s), 12 artifact file(s) and 1 other file(s)"
            ],
            "text/plain": [
              "<IPython.core.display.HTML object>"
            ]
          },
          "metadata": {},
          "output_type": "display_data"
        },
        {
          "data": {
            "text/html": [
              "Find logs at: <code>.\\wandb\\run-20231005_145141-ifn962jr\\logs</code>"
            ],
            "text/plain": [
              "<IPython.core.display.HTML object>"
            ]
          },
          "metadata": {},
          "output_type": "display_data"
        },
        {
          "name": "stderr",
          "output_type": "stream",
          "text": [
            "\u001b[34m\u001b[1mwandb\u001b[0m: Agent Starting Run: h2vly6pu with config:\n",
            "\u001b[34m\u001b[1mwandb\u001b[0m: \tcolsample_bytree: 0.8082496894216145\n",
            "\u001b[34m\u001b[1mwandb\u001b[0m: \tlearning_rate: 0.5326192104202423\n",
            "\u001b[34m\u001b[1mwandb\u001b[0m: \tmax_depth: 10\n",
            "\u001b[34m\u001b[1mwandb\u001b[0m: \tmin_child_weight: 9\n",
            "\u001b[34m\u001b[1mwandb\u001b[0m: \tn_estimators: 150\n",
            "\u001b[34m\u001b[1mwandb\u001b[0m: \tsubsample: 0.8276764680046305\n"
          ]
        },
        {
          "data": {
            "text/html": [
              "wandb version 0.15.12 is available!  To upgrade, please run:\n",
              " $ pip install wandb --upgrade"
            ],
            "text/plain": [
              "<IPython.core.display.HTML object>"
            ]
          },
          "metadata": {},
          "output_type": "display_data"
        },
        {
          "data": {
            "text/html": [
              "Tracking run with wandb version 0.15.11"
            ],
            "text/plain": [
              "<IPython.core.display.HTML object>"
            ]
          },
          "metadata": {},
          "output_type": "display_data"
        },
        {
          "data": {
            "text/html": [
              "Run data is saved locally in <code>c:\\Users\\Maxpo\\Documents\\GitHub\\tabular-data-prediction-pipeline\\wandb\\run-20231005_145223-h2vly6pu</code>"
            ],
            "text/plain": [
              "<IPython.core.display.HTML object>"
            ]
          },
          "metadata": {},
          "output_type": "display_data"
        },
        {
          "data": {
            "text/html": [
              "Syncing run <strong><a href='https://wandb.ai/max-deep/titanic_survived/runs/h2vly6pu' target=\"_blank\">splendid-sweep-94</a></strong> to <a href='https://wandb.ai/max-deep/titanic_survived' target=\"_blank\">Weights & Biases</a> (<a href='https://wandb.me/run' target=\"_blank\">docs</a>)<br/>Sweep page: <a href='https://wandb.ai/max-deep/titanic_survived/sweeps/6zycoh6c' target=\"_blank\">https://wandb.ai/max-deep/titanic_survived/sweeps/6zycoh6c</a>"
            ],
            "text/plain": [
              "<IPython.core.display.HTML object>"
            ]
          },
          "metadata": {},
          "output_type": "display_data"
        },
        {
          "data": {
            "text/html": [
              " View project at <a href='https://wandb.ai/max-deep/titanic_survived' target=\"_blank\">https://wandb.ai/max-deep/titanic_survived</a>"
            ],
            "text/plain": [
              "<IPython.core.display.HTML object>"
            ]
          },
          "metadata": {},
          "output_type": "display_data"
        },
        {
          "data": {
            "text/html": [
              " View sweep at <a href='https://wandb.ai/max-deep/titanic_survived/sweeps/6zycoh6c' target=\"_blank\">https://wandb.ai/max-deep/titanic_survived/sweeps/6zycoh6c</a>"
            ],
            "text/plain": [
              "<IPython.core.display.HTML object>"
            ]
          },
          "metadata": {},
          "output_type": "display_data"
        },
        {
          "data": {
            "text/html": [
              " View run at <a href='https://wandb.ai/max-deep/titanic_survived/runs/h2vly6pu' target=\"_blank\">https://wandb.ai/max-deep/titanic_survived/runs/h2vly6pu</a>"
            ],
            "text/plain": [
              "<IPython.core.display.HTML object>"
            ]
          },
          "metadata": {},
          "output_type": "display_data"
        },
        {
          "data": {
            "text/html": [
              "Waiting for W&B process to finish... <strong style=\"color:green\">(success).</strong>"
            ],
            "text/plain": [
              "<IPython.core.display.HTML object>"
            ]
          },
          "metadata": {},
          "output_type": "display_data"
        },
        {
          "data": {
            "text/html": [
              "<style>\n",
              "    table.wandb td:nth-child(1) { padding: 0 10px; text-align: left ; width: auto;} td:nth-child(2) {text-align: left ; width: 100%}\n",
              "    .wandb-row { display: flex; flex-direction: row; flex-wrap: wrap; justify-content: flex-start; width: 100% }\n",
              "    .wandb-col { display: flex; flex-direction: column; flex-basis: 100%; flex: 1; padding: 10px; }\n",
              "    </style>\n",
              "<div class=\"wandb-row\"><div class=\"wandb-col\"><h3>Run history:</h3><br/><table class=\"wandb\"><tr><td>epoch</td><td>▁▂▃▄▅▇█▁▃▄▅▆▇▁▂▃▄▅▆█▁▂▃▅▆▇█▂▃▄▅▆▇▁▂▃▄▆▇█</td></tr></table><br/></div><div class=\"wandb-col\"><h3>Run summary:</h3><br/><table class=\"wandb\"><tr><td>epoch</td><td>149</td></tr><tr><td>mean_cv_accuracy</td><td>0.82877</td></tr><tr><td>train_auc</td><td>0.96105</td></tr><tr><td>train_ks_stat</td><td>0.81137</td></tr><tr><td>train_log_loss</td><td>0.2525</td></tr><tr><td>val_acc_0.5</td><td>0.81006</td></tr><tr><td>val_acc_best_trh</td><td>0.81564</td></tr><tr><td>val_auc</td><td>0.83511</td></tr><tr><td>val_ks_2samp</td><td>0.58656</td></tr><tr><td>val_ks_pval</td><td>0.0</td></tr><tr><td>val_log_loss</td><td>0.48287</td></tr></table><br/></div></div>"
            ],
            "text/plain": [
              "<IPython.core.display.HTML object>"
            ]
          },
          "metadata": {},
          "output_type": "display_data"
        },
        {
          "data": {
            "text/html": [
              " View run <strong style=\"color:#cdcd00\">splendid-sweep-94</strong> at: <a href='https://wandb.ai/max-deep/titanic_survived/runs/h2vly6pu' target=\"_blank\">https://wandb.ai/max-deep/titanic_survived/runs/h2vly6pu</a><br/>Synced 4 W&B file(s), 6 media file(s), 12 artifact file(s) and 1 other file(s)"
            ],
            "text/plain": [
              "<IPython.core.display.HTML object>"
            ]
          },
          "metadata": {},
          "output_type": "display_data"
        },
        {
          "data": {
            "text/html": [
              "Find logs at: <code>.\\wandb\\run-20231005_145223-h2vly6pu\\logs</code>"
            ],
            "text/plain": [
              "<IPython.core.display.HTML object>"
            ]
          },
          "metadata": {},
          "output_type": "display_data"
        },
        {
          "name": "stderr",
          "output_type": "stream",
          "text": [
            "\u001b[34m\u001b[1mwandb\u001b[0m: Agent Starting Run: 7h0mbd8n with config:\n",
            "\u001b[34m\u001b[1mwandb\u001b[0m: \tcolsample_bytree: 0.7877749696736004\n",
            "\u001b[34m\u001b[1mwandb\u001b[0m: \tlearning_rate: 0.768822588906534\n",
            "\u001b[34m\u001b[1mwandb\u001b[0m: \tmax_depth: 10\n",
            "\u001b[34m\u001b[1mwandb\u001b[0m: \tmin_child_weight: 9\n",
            "\u001b[34m\u001b[1mwandb\u001b[0m: \tn_estimators: 90\n",
            "\u001b[34m\u001b[1mwandb\u001b[0m: \tsubsample: 0.7834136649438557\n"
          ]
        },
        {
          "data": {
            "text/html": [
              "wandb version 0.15.12 is available!  To upgrade, please run:\n",
              " $ pip install wandb --upgrade"
            ],
            "text/plain": [
              "<IPython.core.display.HTML object>"
            ]
          },
          "metadata": {},
          "output_type": "display_data"
        },
        {
          "data": {
            "text/html": [
              "Tracking run with wandb version 0.15.11"
            ],
            "text/plain": [
              "<IPython.core.display.HTML object>"
            ]
          },
          "metadata": {},
          "output_type": "display_data"
        },
        {
          "data": {
            "text/html": [
              "Run data is saved locally in <code>c:\\Users\\Maxpo\\Documents\\GitHub\\tabular-data-prediction-pipeline\\wandb\\run-20231005_145300-7h0mbd8n</code>"
            ],
            "text/plain": [
              "<IPython.core.display.HTML object>"
            ]
          },
          "metadata": {},
          "output_type": "display_data"
        },
        {
          "data": {
            "text/html": [
              "Syncing run <strong><a href='https://wandb.ai/max-deep/titanic_survived/runs/7h0mbd8n' target=\"_blank\">revived-sweep-95</a></strong> to <a href='https://wandb.ai/max-deep/titanic_survived' target=\"_blank\">Weights & Biases</a> (<a href='https://wandb.me/run' target=\"_blank\">docs</a>)<br/>Sweep page: <a href='https://wandb.ai/max-deep/titanic_survived/sweeps/6zycoh6c' target=\"_blank\">https://wandb.ai/max-deep/titanic_survived/sweeps/6zycoh6c</a>"
            ],
            "text/plain": [
              "<IPython.core.display.HTML object>"
            ]
          },
          "metadata": {},
          "output_type": "display_data"
        },
        {
          "data": {
            "text/html": [
              " View project at <a href='https://wandb.ai/max-deep/titanic_survived' target=\"_blank\">https://wandb.ai/max-deep/titanic_survived</a>"
            ],
            "text/plain": [
              "<IPython.core.display.HTML object>"
            ]
          },
          "metadata": {},
          "output_type": "display_data"
        },
        {
          "data": {
            "text/html": [
              " View sweep at <a href='https://wandb.ai/max-deep/titanic_survived/sweeps/6zycoh6c' target=\"_blank\">https://wandb.ai/max-deep/titanic_survived/sweeps/6zycoh6c</a>"
            ],
            "text/plain": [
              "<IPython.core.display.HTML object>"
            ]
          },
          "metadata": {},
          "output_type": "display_data"
        },
        {
          "data": {
            "text/html": [
              " View run at <a href='https://wandb.ai/max-deep/titanic_survived/runs/7h0mbd8n' target=\"_blank\">https://wandb.ai/max-deep/titanic_survived/runs/7h0mbd8n</a>"
            ],
            "text/plain": [
              "<IPython.core.display.HTML object>"
            ]
          },
          "metadata": {},
          "output_type": "display_data"
        },
        {
          "data": {
            "text/html": [
              "Waiting for W&B process to finish... <strong style=\"color:green\">(success).</strong>"
            ],
            "text/plain": [
              "<IPython.core.display.HTML object>"
            ]
          },
          "metadata": {},
          "output_type": "display_data"
        },
        {
          "data": {
            "text/html": [
              "<style>\n",
              "    table.wandb td:nth-child(1) { padding: 0 10px; text-align: left ; width: auto;} td:nth-child(2) {text-align: left ; width: 100%}\n",
              "    .wandb-row { display: flex; flex-direction: row; flex-wrap: wrap; justify-content: flex-start; width: 100% }\n",
              "    .wandb-col { display: flex; flex-direction: column; flex-basis: 100%; flex: 1; padding: 10px; }\n",
              "    </style>\n",
              "<div class=\"wandb-row\"><div class=\"wandb-col\"><h3>Run history:</h3><br/><table class=\"wandb\"><tr><td>epoch</td><td>▁▂▃▅▅▇█▁▃▄▅▆▇▁▂▃▄▅▆█▁▂▄▄▅▇█▁▃▄▅▆▇█▂▃▄▅▆█</td></tr></table><br/></div><div class=\"wandb-col\"><h3>Run summary:</h3><br/><table class=\"wandb\"><tr><td>epoch</td><td>89</td></tr><tr><td>mean_cv_accuracy</td><td>0.83016</td></tr><tr><td>train_auc</td><td>0.95365</td></tr><tr><td>train_ks_stat</td><td>0.79564</td></tr><tr><td>train_log_loss</td><td>0.26691</td></tr><tr><td>val_acc_0.5</td><td>0.82682</td></tr><tr><td>val_acc_best_trh</td><td>0.8324</td></tr><tr><td>val_auc</td><td>0.83445</td></tr><tr><td>val_ks_2samp</td><td>0.62464</td></tr><tr><td>val_ks_pval</td><td>0.0</td></tr><tr><td>val_log_loss</td><td>0.47403</td></tr></table><br/></div></div>"
            ],
            "text/plain": [
              "<IPython.core.display.HTML object>"
            ]
          },
          "metadata": {},
          "output_type": "display_data"
        },
        {
          "data": {
            "text/html": [
              " View run <strong style=\"color:#cdcd00\">revived-sweep-95</strong> at: <a href='https://wandb.ai/max-deep/titanic_survived/runs/7h0mbd8n' target=\"_blank\">https://wandb.ai/max-deep/titanic_survived/runs/7h0mbd8n</a><br/>Synced 4 W&B file(s), 6 media file(s), 12 artifact file(s) and 1 other file(s)"
            ],
            "text/plain": [
              "<IPython.core.display.HTML object>"
            ]
          },
          "metadata": {},
          "output_type": "display_data"
        },
        {
          "data": {
            "text/html": [
              "Find logs at: <code>.\\wandb\\run-20231005_145300-7h0mbd8n\\logs</code>"
            ],
            "text/plain": [
              "<IPython.core.display.HTML object>"
            ]
          },
          "metadata": {},
          "output_type": "display_data"
        },
        {
          "name": "stderr",
          "output_type": "stream",
          "text": [
            "\u001b[34m\u001b[1mwandb\u001b[0m: Agent Starting Run: 2l3ibjby with config:\n",
            "\u001b[34m\u001b[1mwandb\u001b[0m: \tcolsample_bytree: 0.7135624039299635\n",
            "\u001b[34m\u001b[1mwandb\u001b[0m: \tlearning_rate: 0.4463236494305408\n",
            "\u001b[34m\u001b[1mwandb\u001b[0m: \tmax_depth: 8\n",
            "\u001b[34m\u001b[1mwandb\u001b[0m: \tmin_child_weight: 10\n",
            "\u001b[34m\u001b[1mwandb\u001b[0m: \tn_estimators: 120\n",
            "\u001b[34m\u001b[1mwandb\u001b[0m: \tsubsample: 0.7965077735390756\n"
          ]
        },
        {
          "data": {
            "text/html": [
              "wandb version 0.15.12 is available!  To upgrade, please run:\n",
              " $ pip install wandb --upgrade"
            ],
            "text/plain": [
              "<IPython.core.display.HTML object>"
            ]
          },
          "metadata": {},
          "output_type": "display_data"
        },
        {
          "data": {
            "text/html": [
              "Tracking run with wandb version 0.15.11"
            ],
            "text/plain": [
              "<IPython.core.display.HTML object>"
            ]
          },
          "metadata": {},
          "output_type": "display_data"
        },
        {
          "data": {
            "text/html": [
              "Run data is saved locally in <code>c:\\Users\\Maxpo\\Documents\\GitHub\\tabular-data-prediction-pipeline\\wandb\\run-20231005_145336-2l3ibjby</code>"
            ],
            "text/plain": [
              "<IPython.core.display.HTML object>"
            ]
          },
          "metadata": {},
          "output_type": "display_data"
        },
        {
          "data": {
            "text/html": [
              "Syncing run <strong><a href='https://wandb.ai/max-deep/titanic_survived/runs/2l3ibjby' target=\"_blank\">scarlet-sweep-96</a></strong> to <a href='https://wandb.ai/max-deep/titanic_survived' target=\"_blank\">Weights & Biases</a> (<a href='https://wandb.me/run' target=\"_blank\">docs</a>)<br/>Sweep page: <a href='https://wandb.ai/max-deep/titanic_survived/sweeps/6zycoh6c' target=\"_blank\">https://wandb.ai/max-deep/titanic_survived/sweeps/6zycoh6c</a>"
            ],
            "text/plain": [
              "<IPython.core.display.HTML object>"
            ]
          },
          "metadata": {},
          "output_type": "display_data"
        },
        {
          "data": {
            "text/html": [
              " View project at <a href='https://wandb.ai/max-deep/titanic_survived' target=\"_blank\">https://wandb.ai/max-deep/titanic_survived</a>"
            ],
            "text/plain": [
              "<IPython.core.display.HTML object>"
            ]
          },
          "metadata": {},
          "output_type": "display_data"
        },
        {
          "data": {
            "text/html": [
              " View sweep at <a href='https://wandb.ai/max-deep/titanic_survived/sweeps/6zycoh6c' target=\"_blank\">https://wandb.ai/max-deep/titanic_survived/sweeps/6zycoh6c</a>"
            ],
            "text/plain": [
              "<IPython.core.display.HTML object>"
            ]
          },
          "metadata": {},
          "output_type": "display_data"
        },
        {
          "data": {
            "text/html": [
              " View run at <a href='https://wandb.ai/max-deep/titanic_survived/runs/2l3ibjby' target=\"_blank\">https://wandb.ai/max-deep/titanic_survived/runs/2l3ibjby</a>"
            ],
            "text/plain": [
              "<IPython.core.display.HTML object>"
            ]
          },
          "metadata": {},
          "output_type": "display_data"
        },
        {
          "data": {
            "text/html": [
              "Waiting for W&B process to finish... <strong style=\"color:green\">(success).</strong>"
            ],
            "text/plain": [
              "<IPython.core.display.HTML object>"
            ]
          },
          "metadata": {},
          "output_type": "display_data"
        },
        {
          "data": {
            "text/html": [
              "<style>\n",
              "    table.wandb td:nth-child(1) { padding: 0 10px; text-align: left ; width: auto;} td:nth-child(2) {text-align: left ; width: 100%}\n",
              "    .wandb-row { display: flex; flex-direction: row; flex-wrap: wrap; justify-content: flex-start; width: 100% }\n",
              "    .wandb-col { display: flex; flex-direction: column; flex-basis: 100%; flex: 1; padding: 10px; }\n",
              "    </style>\n",
              "<div class=\"wandb-row\"><div class=\"wandb-col\"><h3>Run history:</h3><br/><table class=\"wandb\"><tr><td>epoch</td><td>▁▂▃▄▅▇▇▁▃▃▅▆▇█▁▃▄▅▇▇▁▂▃▅▅▇█▁▃▄▅▆▇▁▂▃▅▅▇█</td></tr></table><br/></div><div class=\"wandb-col\"><h3>Run summary:</h3><br/><table class=\"wandb\"><tr><td>epoch</td><td>119</td></tr><tr><td>mean_cv_accuracy</td><td>0.82594</td></tr><tr><td>train_auc</td><td>0.9411</td></tr><tr><td>train_ks_stat</td><td>0.75535</td></tr><tr><td>train_log_loss</td><td>0.29831</td></tr><tr><td>val_acc_0.5</td><td>0.81564</td></tr><tr><td>val_acc_best_trh</td><td>0.8324</td></tr><tr><td>val_auc</td><td>0.86337</td></tr><tr><td>val_ks_2samp</td><td>0.61924</td></tr><tr><td>val_ks_pval</td><td>0.0</td></tr><tr><td>val_log_loss</td><td>0.44171</td></tr></table><br/></div></div>"
            ],
            "text/plain": [
              "<IPython.core.display.HTML object>"
            ]
          },
          "metadata": {},
          "output_type": "display_data"
        },
        {
          "data": {
            "text/html": [
              " View run <strong style=\"color:#cdcd00\">scarlet-sweep-96</strong> at: <a href='https://wandb.ai/max-deep/titanic_survived/runs/2l3ibjby' target=\"_blank\">https://wandb.ai/max-deep/titanic_survived/runs/2l3ibjby</a><br/>Synced 4 W&B file(s), 6 media file(s), 12 artifact file(s) and 1 other file(s)"
            ],
            "text/plain": [
              "<IPython.core.display.HTML object>"
            ]
          },
          "metadata": {},
          "output_type": "display_data"
        },
        {
          "data": {
            "text/html": [
              "Find logs at: <code>.\\wandb\\run-20231005_145336-2l3ibjby\\logs</code>"
            ],
            "text/plain": [
              "<IPython.core.display.HTML object>"
            ]
          },
          "metadata": {},
          "output_type": "display_data"
        },
        {
          "name": "stderr",
          "output_type": "stream",
          "text": [
            "\u001b[34m\u001b[1mwandb\u001b[0m: Agent Starting Run: dni0p8dl with config:\n",
            "\u001b[34m\u001b[1mwandb\u001b[0m: \tcolsample_bytree: 0.6728132323526625\n",
            "\u001b[34m\u001b[1mwandb\u001b[0m: \tlearning_rate: 0.4609565842794117\n",
            "\u001b[34m\u001b[1mwandb\u001b[0m: \tmax_depth: 7\n",
            "\u001b[34m\u001b[1mwandb\u001b[0m: \tmin_child_weight: 10\n",
            "\u001b[34m\u001b[1mwandb\u001b[0m: \tn_estimators: 60\n",
            "\u001b[34m\u001b[1mwandb\u001b[0m: \tsubsample: 0.837506479732844\n"
          ]
        },
        {
          "data": {
            "text/html": [
              "wandb version 0.15.12 is available!  To upgrade, please run:\n",
              " $ pip install wandb --upgrade"
            ],
            "text/plain": [
              "<IPython.core.display.HTML object>"
            ]
          },
          "metadata": {},
          "output_type": "display_data"
        },
        {
          "data": {
            "text/html": [
              "Tracking run with wandb version 0.15.11"
            ],
            "text/plain": [
              "<IPython.core.display.HTML object>"
            ]
          },
          "metadata": {},
          "output_type": "display_data"
        },
        {
          "data": {
            "text/html": [
              "Run data is saved locally in <code>c:\\Users\\Maxpo\\Documents\\GitHub\\tabular-data-prediction-pipeline\\wandb\\run-20231005_145412-dni0p8dl</code>"
            ],
            "text/plain": [
              "<IPython.core.display.HTML object>"
            ]
          },
          "metadata": {},
          "output_type": "display_data"
        },
        {
          "data": {
            "text/html": [
              "Syncing run <strong><a href='https://wandb.ai/max-deep/titanic_survived/runs/dni0p8dl' target=\"_blank\">eternal-sweep-97</a></strong> to <a href='https://wandb.ai/max-deep/titanic_survived' target=\"_blank\">Weights & Biases</a> (<a href='https://wandb.me/run' target=\"_blank\">docs</a>)<br/>Sweep page: <a href='https://wandb.ai/max-deep/titanic_survived/sweeps/6zycoh6c' target=\"_blank\">https://wandb.ai/max-deep/titanic_survived/sweeps/6zycoh6c</a>"
            ],
            "text/plain": [
              "<IPython.core.display.HTML object>"
            ]
          },
          "metadata": {},
          "output_type": "display_data"
        },
        {
          "data": {
            "text/html": [
              " View project at <a href='https://wandb.ai/max-deep/titanic_survived' target=\"_blank\">https://wandb.ai/max-deep/titanic_survived</a>"
            ],
            "text/plain": [
              "<IPython.core.display.HTML object>"
            ]
          },
          "metadata": {},
          "output_type": "display_data"
        },
        {
          "data": {
            "text/html": [
              " View sweep at <a href='https://wandb.ai/max-deep/titanic_survived/sweeps/6zycoh6c' target=\"_blank\">https://wandb.ai/max-deep/titanic_survived/sweeps/6zycoh6c</a>"
            ],
            "text/plain": [
              "<IPython.core.display.HTML object>"
            ]
          },
          "metadata": {},
          "output_type": "display_data"
        },
        {
          "data": {
            "text/html": [
              " View run at <a href='https://wandb.ai/max-deep/titanic_survived/runs/dni0p8dl' target=\"_blank\">https://wandb.ai/max-deep/titanic_survived/runs/dni0p8dl</a>"
            ],
            "text/plain": [
              "<IPython.core.display.HTML object>"
            ]
          },
          "metadata": {},
          "output_type": "display_data"
        },
        {
          "data": {
            "text/html": [
              "Waiting for W&B process to finish... <strong style=\"color:green\">(success).</strong>"
            ],
            "text/plain": [
              "<IPython.core.display.HTML object>"
            ]
          },
          "metadata": {},
          "output_type": "display_data"
        },
        {
          "data": {
            "text/html": [
              "<style>\n",
              "    table.wandb td:nth-child(1) { padding: 0 10px; text-align: left ; width: auto;} td:nth-child(2) {text-align: left ; width: 100%}\n",
              "    .wandb-row { display: flex; flex-direction: row; flex-wrap: wrap; justify-content: flex-start; width: 100% }\n",
              "    .wandb-col { display: flex; flex-direction: column; flex-basis: 100%; flex: 1; padding: 10px; }\n",
              "    </style>\n",
              "<div class=\"wandb-row\"><div class=\"wandb-col\"><h3>Run history:</h3><br/><table class=\"wandb\"><tr><td>epoch</td><td>▁▂▃▄▅▇▇▁▃▃▅▆▇█▁▃▄▅▇▇▁▂▃▅▅▇█▁▃▄▅▆▇▁▂▃▅▅▇█</td></tr></table><br/></div><div class=\"wandb-col\"><h3>Run summary:</h3><br/><table class=\"wandb\"><tr><td>epoch</td><td>59</td></tr><tr><td>mean_cv_accuracy</td><td>0.80487</td></tr><tr><td>train_auc</td><td>0.93155</td></tr><tr><td>train_ks_stat</td><td>0.74445</td></tr><tr><td>train_log_loss</td><td>0.32133</td></tr><tr><td>val_acc_0.5</td><td>0.81006</td></tr><tr><td>val_acc_best_trh</td><td>0.83799</td></tr><tr><td>val_auc</td><td>0.85296</td></tr><tr><td>val_ks_2samp</td><td>0.60672</td></tr><tr><td>val_ks_pval</td><td>0.0</td></tr><tr><td>val_log_loss</td><td>0.44555</td></tr></table><br/></div></div>"
            ],
            "text/plain": [
              "<IPython.core.display.HTML object>"
            ]
          },
          "metadata": {},
          "output_type": "display_data"
        },
        {
          "data": {
            "text/html": [
              " View run <strong style=\"color:#cdcd00\">eternal-sweep-97</strong> at: <a href='https://wandb.ai/max-deep/titanic_survived/runs/dni0p8dl' target=\"_blank\">https://wandb.ai/max-deep/titanic_survived/runs/dni0p8dl</a><br/>Synced 4 W&B file(s), 6 media file(s), 12 artifact file(s) and 1 other file(s)"
            ],
            "text/plain": [
              "<IPython.core.display.HTML object>"
            ]
          },
          "metadata": {},
          "output_type": "display_data"
        },
        {
          "data": {
            "text/html": [
              "Find logs at: <code>.\\wandb\\run-20231005_145412-dni0p8dl\\logs</code>"
            ],
            "text/plain": [
              "<IPython.core.display.HTML object>"
            ]
          },
          "metadata": {},
          "output_type": "display_data"
        },
        {
          "name": "stderr",
          "output_type": "stream",
          "text": [
            "\u001b[34m\u001b[1mwandb\u001b[0m: Agent Starting Run: 2ipu4lo2 with config:\n",
            "\u001b[34m\u001b[1mwandb\u001b[0m: \tcolsample_bytree: 0.8868652081810273\n",
            "\u001b[34m\u001b[1mwandb\u001b[0m: \tlearning_rate: 0.665816808280413\n",
            "\u001b[34m\u001b[1mwandb\u001b[0m: \tmax_depth: 10\n",
            "\u001b[34m\u001b[1mwandb\u001b[0m: \tmin_child_weight: 9\n",
            "\u001b[34m\u001b[1mwandb\u001b[0m: \tn_estimators: 60\n",
            "\u001b[34m\u001b[1mwandb\u001b[0m: \tsubsample: 0.7881637502413787\n"
          ]
        },
        {
          "data": {
            "text/html": [
              "wandb version 0.15.12 is available!  To upgrade, please run:\n",
              " $ pip install wandb --upgrade"
            ],
            "text/plain": [
              "<IPython.core.display.HTML object>"
            ]
          },
          "metadata": {},
          "output_type": "display_data"
        },
        {
          "data": {
            "text/html": [
              "Tracking run with wandb version 0.15.11"
            ],
            "text/plain": [
              "<IPython.core.display.HTML object>"
            ]
          },
          "metadata": {},
          "output_type": "display_data"
        },
        {
          "data": {
            "text/html": [
              "Run data is saved locally in <code>c:\\Users\\Maxpo\\Documents\\GitHub\\tabular-data-prediction-pipeline\\wandb\\run-20231005_145455-2ipu4lo2</code>"
            ],
            "text/plain": [
              "<IPython.core.display.HTML object>"
            ]
          },
          "metadata": {},
          "output_type": "display_data"
        },
        {
          "data": {
            "text/html": [
              "Syncing run <strong><a href='https://wandb.ai/max-deep/titanic_survived/runs/2ipu4lo2' target=\"_blank\">blooming-sweep-98</a></strong> to <a href='https://wandb.ai/max-deep/titanic_survived' target=\"_blank\">Weights & Biases</a> (<a href='https://wandb.me/run' target=\"_blank\">docs</a>)<br/>Sweep page: <a href='https://wandb.ai/max-deep/titanic_survived/sweeps/6zycoh6c' target=\"_blank\">https://wandb.ai/max-deep/titanic_survived/sweeps/6zycoh6c</a>"
            ],
            "text/plain": [
              "<IPython.core.display.HTML object>"
            ]
          },
          "metadata": {},
          "output_type": "display_data"
        },
        {
          "data": {
            "text/html": [
              " View project at <a href='https://wandb.ai/max-deep/titanic_survived' target=\"_blank\">https://wandb.ai/max-deep/titanic_survived</a>"
            ],
            "text/plain": [
              "<IPython.core.display.HTML object>"
            ]
          },
          "metadata": {},
          "output_type": "display_data"
        },
        {
          "data": {
            "text/html": [
              " View sweep at <a href='https://wandb.ai/max-deep/titanic_survived/sweeps/6zycoh6c' target=\"_blank\">https://wandb.ai/max-deep/titanic_survived/sweeps/6zycoh6c</a>"
            ],
            "text/plain": [
              "<IPython.core.display.HTML object>"
            ]
          },
          "metadata": {},
          "output_type": "display_data"
        },
        {
          "data": {
            "text/html": [
              " View run at <a href='https://wandb.ai/max-deep/titanic_survived/runs/2ipu4lo2' target=\"_blank\">https://wandb.ai/max-deep/titanic_survived/runs/2ipu4lo2</a>"
            ],
            "text/plain": [
              "<IPython.core.display.HTML object>"
            ]
          },
          "metadata": {},
          "output_type": "display_data"
        },
        {
          "data": {
            "text/html": [
              "Waiting for W&B process to finish... <strong style=\"color:green\">(success).</strong>"
            ],
            "text/plain": [
              "<IPython.core.display.HTML object>"
            ]
          },
          "metadata": {},
          "output_type": "display_data"
        },
        {
          "data": {
            "text/html": [
              "<style>\n",
              "    table.wandb td:nth-child(1) { padding: 0 10px; text-align: left ; width: auto;} td:nth-child(2) {text-align: left ; width: 100%}\n",
              "    .wandb-row { display: flex; flex-direction: row; flex-wrap: wrap; justify-content: flex-start; width: 100% }\n",
              "    .wandb-col { display: flex; flex-direction: column; flex-basis: 100%; flex: 1; padding: 10px; }\n",
              "    </style>\n",
              "<div class=\"wandb-row\"><div class=\"wandb-col\"><h3>Run history:</h3><br/><table class=\"wandb\"><tr><td>epoch</td><td>▁▂▃▄▅▇▇▁▃▃▅▆▇█▁▃▄▅▇▇▁▂▃▅▅▇█▁▃▄▅▆▇▁▂▃▅▅▇█</td></tr></table><br/></div><div class=\"wandb-col\"><h3>Run summary:</h3><br/><table class=\"wandb\"><tr><td>epoch</td><td>59</td></tr><tr><td>mean_cv_accuracy</td><td>0.8133</td></tr><tr><td>train_auc</td><td>0.9442</td></tr><tr><td>train_ks_stat</td><td>0.7788</td></tr><tr><td>train_log_loss</td><td>0.29113</td></tr><tr><td>val_acc_0.5</td><td>0.82682</td></tr><tr><td>val_acc_best_trh</td><td>0.8324</td></tr><tr><td>val_auc</td><td>0.8552</td></tr><tr><td>val_ks_2samp</td><td>0.62464</td></tr><tr><td>val_ks_pval</td><td>0.0</td></tr><tr><td>val_log_loss</td><td>0.45081</td></tr></table><br/></div></div>"
            ],
            "text/plain": [
              "<IPython.core.display.HTML object>"
            ]
          },
          "metadata": {},
          "output_type": "display_data"
        },
        {
          "data": {
            "text/html": [
              " View run <strong style=\"color:#cdcd00\">blooming-sweep-98</strong> at: <a href='https://wandb.ai/max-deep/titanic_survived/runs/2ipu4lo2' target=\"_blank\">https://wandb.ai/max-deep/titanic_survived/runs/2ipu4lo2</a><br/>Synced 4 W&B file(s), 6 media file(s), 12 artifact file(s) and 1 other file(s)"
            ],
            "text/plain": [
              "<IPython.core.display.HTML object>"
            ]
          },
          "metadata": {},
          "output_type": "display_data"
        },
        {
          "data": {
            "text/html": [
              "Find logs at: <code>.\\wandb\\run-20231005_145455-2ipu4lo2\\logs</code>"
            ],
            "text/plain": [
              "<IPython.core.display.HTML object>"
            ]
          },
          "metadata": {},
          "output_type": "display_data"
        },
        {
          "name": "stderr",
          "output_type": "stream",
          "text": [
            "\u001b[34m\u001b[1mwandb\u001b[0m: Agent Starting Run: x9d43tnr with config:\n",
            "\u001b[34m\u001b[1mwandb\u001b[0m: \tcolsample_bytree: 0.9372488599535576\n",
            "\u001b[34m\u001b[1mwandb\u001b[0m: \tlearning_rate: 0.7615852672710105\n",
            "\u001b[34m\u001b[1mwandb\u001b[0m: \tmax_depth: 10\n",
            "\u001b[34m\u001b[1mwandb\u001b[0m: \tmin_child_weight: 10\n",
            "\u001b[34m\u001b[1mwandb\u001b[0m: \tn_estimators: 150\n",
            "\u001b[34m\u001b[1mwandb\u001b[0m: \tsubsample: 0.7598445841841153\n"
          ]
        },
        {
          "data": {
            "text/html": [
              "wandb version 0.15.12 is available!  To upgrade, please run:\n",
              " $ pip install wandb --upgrade"
            ],
            "text/plain": [
              "<IPython.core.display.HTML object>"
            ]
          },
          "metadata": {},
          "output_type": "display_data"
        },
        {
          "data": {
            "text/html": [
              "Tracking run with wandb version 0.15.11"
            ],
            "text/plain": [
              "<IPython.core.display.HTML object>"
            ]
          },
          "metadata": {},
          "output_type": "display_data"
        },
        {
          "data": {
            "text/html": [
              "Run data is saved locally in <code>c:\\Users\\Maxpo\\Documents\\GitHub\\tabular-data-prediction-pipeline\\wandb\\run-20231005_145532-x9d43tnr</code>"
            ],
            "text/plain": [
              "<IPython.core.display.HTML object>"
            ]
          },
          "metadata": {},
          "output_type": "display_data"
        },
        {
          "data": {
            "text/html": [
              "Syncing run <strong><a href='https://wandb.ai/max-deep/titanic_survived/runs/x9d43tnr' target=\"_blank\">electric-sweep-99</a></strong> to <a href='https://wandb.ai/max-deep/titanic_survived' target=\"_blank\">Weights & Biases</a> (<a href='https://wandb.me/run' target=\"_blank\">docs</a>)<br/>Sweep page: <a href='https://wandb.ai/max-deep/titanic_survived/sweeps/6zycoh6c' target=\"_blank\">https://wandb.ai/max-deep/titanic_survived/sweeps/6zycoh6c</a>"
            ],
            "text/plain": [
              "<IPython.core.display.HTML object>"
            ]
          },
          "metadata": {},
          "output_type": "display_data"
        },
        {
          "data": {
            "text/html": [
              " View project at <a href='https://wandb.ai/max-deep/titanic_survived' target=\"_blank\">https://wandb.ai/max-deep/titanic_survived</a>"
            ],
            "text/plain": [
              "<IPython.core.display.HTML object>"
            ]
          },
          "metadata": {},
          "output_type": "display_data"
        },
        {
          "data": {
            "text/html": [
              " View sweep at <a href='https://wandb.ai/max-deep/titanic_survived/sweeps/6zycoh6c' target=\"_blank\">https://wandb.ai/max-deep/titanic_survived/sweeps/6zycoh6c</a>"
            ],
            "text/plain": [
              "<IPython.core.display.HTML object>"
            ]
          },
          "metadata": {},
          "output_type": "display_data"
        },
        {
          "data": {
            "text/html": [
              " View run at <a href='https://wandb.ai/max-deep/titanic_survived/runs/x9d43tnr' target=\"_blank\">https://wandb.ai/max-deep/titanic_survived/runs/x9d43tnr</a>"
            ],
            "text/plain": [
              "<IPython.core.display.HTML object>"
            ]
          },
          "metadata": {},
          "output_type": "display_data"
        },
        {
          "data": {
            "text/html": [
              "Waiting for W&B process to finish... <strong style=\"color:green\">(success).</strong>"
            ],
            "text/plain": [
              "<IPython.core.display.HTML object>"
            ]
          },
          "metadata": {},
          "output_type": "display_data"
        },
        {
          "data": {
            "text/html": [
              "<style>\n",
              "    table.wandb td:nth-child(1) { padding: 0 10px; text-align: left ; width: auto;} td:nth-child(2) {text-align: left ; width: 100%}\n",
              "    .wandb-row { display: flex; flex-direction: row; flex-wrap: wrap; justify-content: flex-start; width: 100% }\n",
              "    .wandb-col { display: flex; flex-direction: column; flex-basis: 100%; flex: 1; padding: 10px; }\n",
              "    </style>\n",
              "<div class=\"wandb-row\"><div class=\"wandb-col\"><h3>Run history:</h3><br/><table class=\"wandb\"><tr><td>epoch</td><td>▁▂▃▄▅▇█▁▃▄▅▆▇▁▂▃▄▅▆█▁▂▃▅▆▇█▂▃▄▅▆▇▁▂▃▄▆▇█</td></tr></table><br/></div><div class=\"wandb-col\"><h3>Run summary:</h3><br/><table class=\"wandb\"><tr><td>epoch</td><td>149</td></tr><tr><td>mean_cv_accuracy</td><td>0.82175</td></tr><tr><td>train_auc</td><td>0.95871</td></tr><tr><td>train_ks_stat</td><td>0.79515</td></tr><tr><td>train_log_loss</td><td>0.25505</td></tr><tr><td>val_acc_0.5</td><td>0.82123</td></tr><tr><td>val_acc_best_trh</td><td>0.82123</td></tr><tr><td>val_auc</td><td>0.84657</td></tr><tr><td>val_ks_2samp</td><td>0.60105</td></tr><tr><td>val_ks_pval</td><td>0.0</td></tr><tr><td>val_log_loss</td><td>0.48252</td></tr></table><br/></div></div>"
            ],
            "text/plain": [
              "<IPython.core.display.HTML object>"
            ]
          },
          "metadata": {},
          "output_type": "display_data"
        },
        {
          "data": {
            "text/html": [
              " View run <strong style=\"color:#cdcd00\">electric-sweep-99</strong> at: <a href='https://wandb.ai/max-deep/titanic_survived/runs/x9d43tnr' target=\"_blank\">https://wandb.ai/max-deep/titanic_survived/runs/x9d43tnr</a><br/>Synced 4 W&B file(s), 6 media file(s), 12 artifact file(s) and 1 other file(s)"
            ],
            "text/plain": [
              "<IPython.core.display.HTML object>"
            ]
          },
          "metadata": {},
          "output_type": "display_data"
        },
        {
          "data": {
            "text/html": [
              "Find logs at: <code>.\\wandb\\run-20231005_145532-x9d43tnr\\logs</code>"
            ],
            "text/plain": [
              "<IPython.core.display.HTML object>"
            ]
          },
          "metadata": {},
          "output_type": "display_data"
        }
      ],
      "source": [
        "count = 100 # number of runs to execute\n",
        "wandb.agent(sweep_id, function=train, count=count)"
      ]
    },
    {
      "cell_type": "code",
      "execution_count": 21,
      "metadata": {},
      "outputs": [],
      "source": [
        "run.finish()"
      ]
    },
    {
      "cell_type": "markdown",
      "metadata": {
        "id": "75ir4giz4Vfe"
      },
      "source": [
        "## W&B already in your favorite ML library\n",
        "\n",
        "Weights and Biases has integrations in all of your favourite ML and Deep Learning libraries such as:\n",
        "\n",
        "- Pytorch Lightning\n",
        "- Keras\n",
        "- Hugging Face\n",
        "- JAX\n",
        "- Fastai\n",
        "- XGBoost\n",
        "- Sci-Kit Learn\n",
        "- LightGBM\n",
        "\n",
        "**See [W&B integrations for details](https://docs.wandb.ai/guides/integrations)**"
      ]
    }
  ],
  "metadata": {
    "accelerator": "GPU",
    "colab": {
      "provenance": []
    },
    "kernelspec": {
      "display_name": "Python 3",
      "name": "python3"
    },
    "language_info": {
      "codemirror_mode": {
        "name": "ipython",
        "version": 3
      },
      "file_extension": ".py",
      "mimetype": "text/x-python",
      "name": "python",
      "nbconvert_exporter": "python",
      "pygments_lexer": "ipython3",
      "version": "3.10.7"
    }
  },
  "nbformat": 4,
  "nbformat_minor": 0
}
